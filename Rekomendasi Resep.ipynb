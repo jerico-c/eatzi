import pandas as pd
import numpy as np

# Muat dataset resep dengan penanganan error
recipes_df = pd.read_csv('/content/dataset-with-calories.csv')

# Validasi kolom dataset
required_columns = ['Title', 'Kalori', 'Ingredients', 'Steps', 'Loves']
missing_columns = [col for col in required_columns if col not in recipes_df.columns]
if missing_columns:
    raise KeyError(f"Kolom berikut tidak ditemukan di dataset: {missing_columns}")

# Pastikan kolom 'Ingredients' berisi string
recipes_df['Ingredients'] = recipes_df['Ingredients'].astype(str)

# Pastikan kolom 'Loves' berisi numerik, isi NaN dengan 0
recipes_df['Loves'] = pd.to_numeric(recipes_df['Loves'], errors='coerce').fillna(0)

# Fungsi rekomendasi resep
def recommend_recipes(ingredient, recipes_df):
    # Validasi input
    if not isinstance(ingredient, str) or not ingredient.strip():
        return "Input bahan tidak valid atau kosong."

    # Bersihkan input: hapus spasi berlebih dan ubah ke huruf kecil
    ingredient = ingredient.strip().lower()

    # Filter resep yang mengandung bahan (case-insensitive)
    filtered_recipes = recipes_df[recipes_df['Ingredients'].str.contains(ingredient, case=False, na=False)]
    if filtered_recipes.empty:
        return f"Tidak ada resep ditemukan untuk bahan '{ingredient}'."

    # Tambahkan kolom acak untuk mengatasi nilai 'Loves' yang sama
    filtered_recipes = filtered_recipes.copy()
    filtered_recipes['random_order'] = np.random.rand(len(filtered_recipes))

    # Urutkan berdasarkan 'Loves' dan 'random_order'
    top_3 = filtered_recipes.sort_values(by=['Loves', 'random_order'], ascending=[False, False]).head(3)

    # Kembalikan kolom yang diminta
    return top_3[['Title', 'Kalori', 'Ingredients', 'Steps']].to_dict('records')

# Fungsi untuk memecah Ingredients dan Steps menjadi daftar
def format_recipe_details(recipe):
    # Pecah Ingredients menjadi daftar
    ingredients_list = recipe['Ingredients'].split(', ')
    # Pecah Steps menjadi daftar
    steps_list = recipe['Steps'].split(', ')
    return ingredients_list, steps_list

# Inputan manual
manual_input = "telur"
top_recipes_from_image = recommend_recipes(manual_input, recipes_df)
print(f"Top 3 resep {manual_input.capitalize()}:")
for recipe in top_recipes_from_image:
    print(recipe['Title'])
    print(f"Kalori: {recipe['Kalori']}")
    print("**Ingredients**:")
    ingredients_list, _ = format_recipe_details(recipe)
    for item in ingredients_list:
        print(item)
    print("**Steps**:")
    _, steps_list = format_recipe_details(recipe)
    for step in steps_list:
        print(step)
    print()  # Baris kosong untuk pemisah antar resep

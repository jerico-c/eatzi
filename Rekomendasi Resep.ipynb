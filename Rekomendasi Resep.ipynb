import pandas as pd
import numpy as np
import re
from itertools import combinations

# Muat dataset resep dengan penanganan error
recipes_df = pd.read_csv('/content/dataset_gento.csv')

# Validasi kolom dataset
required_columns = ['Title', 'Kalori', 'Ingredients', 'Steps', 'Loves']
missing_columns = [col for col in required_columns if col not in recipes_df.columns]
if missing_columns:
    raise KeyError(f"Kolom berikut tidak ditemukan di dataset: {missing_columns}")

# Pastikan kolom 'Ingredients' berisi string
recipes_df['Ingredients'] = recipes_df['Ingredients'].astype(str)

# Pastikan kolom 'Loves' berisi numerik, isi NaN dengan 0
recipes_df['Loves'] = pd.to_numeric(recipes_df['Loves'], errors='coerce').fillna(0)

# Fungsi untuk memeriksa apakah resep mengandung semua bahan yang diberikan
def contains_all_ingredients(recipe_ingredients, required_ingredients):
    recipe_items = [item.lower() for item in recipe_ingredients.split(', ')]
    return all(any(req_ing in item for item in recipe_items) for req_ing in required_ingredients)

# Fungsi untuk memeriksa apakah resep mengandung setidaknya dua bahan
def contains_at_least_two_ingredients(recipe_ingredients, ingredients):
    recipe_items = [item.lower() for item in recipe_ingredients.split(', ')]
    matching_count = sum(any(ing in item for item in recipe_items) for ing in ingredients)
    return matching_count >= 2

# Fungsi rekomendasi resep
def recommend_recipes(ingredients, recipes_df):
    if not ingredients or not all(isinstance(ing, str) and ing.strip() for ing in ingredients):
        return "Input bahan tidak valid atau kosong."
    
    ingredients = [ing.strip().lower() for ing in ingredients]
    result = []

    # Langkah 1: Cari resep yang mengandung semua bahan
    all_match_recipes = recipes_df[recipes_df['Ingredients'].apply(lambda x: contains_all_ingredients(x, ingredients))]
    if not all_match_recipes.empty:
        top_3_all = all_match_recipes.sort_values(by='Loves', ascending=False).head(3)
        result.extend(top_3_all[['Title', 'Kalori', 'Ingredients', 'Steps']].to_dict('records'))
    else:
        # Perbaikan: Gunakan format string yang aman tanpa backslash
        ingredient_list = [f"'{ing}'" for ing in ingredients]
        result.append(f"Tidak ada resep yang menggunakan kombinasi bahan {', '.join(ingredient_list)}.")

    # Langkah 2: Jika tidak ada yang cocok semua, cari kombinasi 2 bahan
    if all_match_recipes.empty:
        two_combinations = list(combinations(ingredients, 2))
        two_match_recipes = pd.DataFrame()
        for comb in two_combinations:
            comb_list = list(comb)
            comb_matches = recipes_df[recipes_df['Ingredients'].apply(lambda x: contains_all_ingredients(x, comb_list))]
            two_match_recipes = pd.concat([two_match_recipes, comb_matches]).drop_duplicates()
        
        if not two_match_recipes.empty:
            top_3_two = two_match_recipes.sort_values(by='Loves', ascending=False).head(3)
            result.extend(top_3_two[['Title', 'Kalori', 'Ingredients', 'Steps']].to_dict('records'))
        else:
            result.append("Tidak ada resep yang menggunakan kombinasi dua dari tiga bahan tersebut.")
    
    return result

# Fungsi untuk memecah Ingredients dan Steps menjadi daftar
def format_recipe_details(recipe):
    ingredients_list = [item.strip() for item in recipe['Ingredients'].split(', ')]
    steps_text = recipe['Steps']
    # Pisahkan langkah berdasarkan pola angka dan titik
    steps_list = [step.strip() for step in re.split(r'(?=\d+\.)', steps_text) if step.strip()]
    return ingredients_list, steps_list

# Inputan manual
manual_input = "ayam telur sawi"
ingredients = manual_input.split()
result = recommend_recipes(ingredients, recipes_df)

if isinstance(result, str):
    print(result)
else:
    print(f"Hasil pencarian untuk bahan {', '.join(ingredients)}:")
    for item in result:
        if isinstance(item, str):
            print(item)
        else:
            print(f"\n{item['Title']}")
            print(f"Kalori: {item['Kalori']}")
            print("**Ingredients**:")
            ingredients_list, steps_list = format_recipe_details(item)
            for ing in ingredients_list:
                print(ing)
            print("**Steps**:")
            for step in steps_list:
                # Tambahkan \n setelah langkah yang dimulai dengan angka dan titik
                if re.match(r'^\d+\.', step):
                    print(f"{step}\n")
                else:
                    print(step)
        print()

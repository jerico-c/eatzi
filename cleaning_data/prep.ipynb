{
 "cells": [
  {
   "cell_type": "code",
   "execution_count": 1,
   "id": "af6d4602",
   "metadata": {},
   "outputs": [],
   "source": [
    "import pandas as pd"
   ]
  },
  {
   "cell_type": "code",
   "execution_count": 5,
   "id": "7ac4ac37",
   "metadata": {},
   "outputs": [
    {
     "data": {
      "application/vnd.microsoft.datawrangler.viewer.v0+json": {
       "columns": [
        {
         "name": "index",
         "rawType": "int64",
         "type": "integer"
        },
        {
         "name": "Title",
         "rawType": "object",
         "type": "string"
        },
        {
         "name": "Ingredients",
         "rawType": "object",
         "type": "string"
        },
        {
         "name": "Steps",
         "rawType": "object",
         "type": "string"
        },
        {
         "name": "Loves",
         "rawType": "int64",
         "type": "integer"
        },
        {
         "name": "URL",
         "rawType": "object",
         "type": "string"
        },
        {
         "name": "Kalori",
         "rawType": "float64",
         "type": "float"
        }
       ],
       "ref": "5c5a5e23-71e9-43cc-8ad9-737aa34633dc",
       "rows": [
        [
         "0",
         "Ayam Woku Manado",
         "1 Ekor Ayam Kampung (potong 12)--2 Buah Jeruk Nipis--2 Sdm Garam--3 Ruas Kunyit--7 Bawang Merah--7 Bawang Putih--10 Cabe Merah--10 Cabe Rawit Merah (sesuai selera)--3 Butir Kemiri--2 Batang Sereh--2 Lembar Daun Salam--2 Ikat Daun Kemangi--Penyedap Rasa--1 1/2 Gelas Air--",
         "Cuci bersih ayam dan tiriskan. Lalu peras jeruk nipis (kalo gak ada jeruk nipis bisa pake cuka) dan beri garam. Aduk hingga merata dan diamkan selama 5 menit, biar ayam gak bau amis.--Goreng ayam tersebut setengah matang, lalu tiriskan--Haluskan bumbu menggunakan blender. Bawang merah, bawang putih, cabe merah, cabe rawit, kemiri dan kunyit. Oh iya kasih minyak sedikit yaa biar bisa di blender. Untuk sereh nya di geprek aja terus di buat simpul.--Setelah bumbu di haluskan barulah di tumis. Jangan lupa sereh dan daun salamnya juga ikut di tumis. Di tumis sampai berubah warna ya 👌--Masukan ayam yang sudah di goreng setengah matang ke dalam bumbu yang sudah di tumis, dan diamkan 5 menit dulu. Biar bumbu meresap. Lalu tuangkan 1 1/2 Gelas air. Lalu tambahkan penyedap rasa (saya 3 Sdt, tapi sesuai selera ya) koreksi rasa dan Biar kan sampai mendidih--Setelah masakan mendidih, lalu masukan daun kemangi yang sudah di potong potong. Masak lagi sekitar 10 menit. And taraaaaaaaaaaaaaa..... jadi deh Ayam Woku Manadonya.--Oh iyaa kalo mau di tambahkan potongan tomat merah juga bisa ko. Sesuai selera aja yaa buibuuuu 👌👌👌--",
         "1",
         "/id/resep/4473027-ayam-woku-manado",
         "720.65"
        ],
        [
         "1",
         "Ayam goreng tulang lunak",
         "1 kg ayam (dipotong sesuai selera jangan kecil2 ya)--2 batang serai (memarkan)--4 lembar daun jeruk--7 butir bawang putih (haluskan)--1 sdm ketumbar (haluskan)--3 ruas jari Laos (haluskan)--3 ruas jari kunyit (haluskan)--2 butir kemiri (haluskan)--secukupnya Garam--Secukupnya Air (tuk ukep ayam)--Secukupnya Minyak goreng--",
         "Haluskan bumbu2nya (BaPut, ketumbar, kemiri, kunyit, Laos, garam) hingga halus, sisihkan--Campur kan bumbu halus tadi dengan ayam yg sudah dicuci bersih dan sudah dipotong didalam panci presto. Uleni sampai tercampur rata.--Tambahkan air hingga ayam tenggelam semua. Masukkan serai dan daun jeruk nya kedalam rendaman ayam. Tutup panci presto rebus/ ukep presto sampai kurleb 45 menit. Dengan api sedang.--Setelah proses ukep presto selesai, tunggu suhu dingin ruang. Lalu goreng ayam dengan minyak goreng api sedang sampai ayam berwarna kecoklatan.--Matang dan sajikan ayam selagi hangat bersama nasi putih, sambal dgn perasan jeruk nipis, lalapan.--",
         "1",
         "/id/resep/4471956-ayam-goreng-tulang-lunak",
         "5863.95"
        ],
        [
         "2",
         "Ayam cabai kawin",
         "1/4 kg ayam--3 buah cabai hijau besar--7 buah cabai merah rawit--3 siung bawang putih--2 siung bawang merah--secukupnya Gula--secukupnya Garam--1/4 buah tomat merah--secukupnya Air--secukupnya Minyak goreng--",
         "Panaskan minyak di dalam wajan. Setelah minyak panas masukkan ayam yang sudah dipotong dadu. Goreng hingga matang. Lalu tiriskan.--Haluskan bawang putih, bawang merah, cabai hijau dan merah, tomat.--Panaskan minyak didalam wajan. Setelah minyak panas, masukkan bumbu yang sudah halus. Tunggu sampai wangi. Masukkan ayam yang sudah di goreng. Tambahkan air, gula dan garam. Tunggu sampai bumbu meresap di ayam. Sajikan.--",
         "2",
         "/id/resep/4473057-ayam-cabai-kawin",
         "1095.945"
        ],
        [
         "3",
         "Ayam Geprek",
         "250 gr daging ayam (saya pakai fillet)--Secukupnya gula dan garam--50-100 gr tepung ayam serbaguna--Secukupnya lalapan (kemangi,kol,timun)--Secukupnya minyak panas--❤sambal korek--Secukupnya cabe rawit merah dan bwg putih--",
         "Goreng ayam seperti ayam krispi--Ulek semua bahan sambal kemudian campur dengan minyak panas bekas goreng ayam--Geprek ayam kemudian campur dengan sambal,sajikan dengan lalapan ❤--",
         "10",
         "/id/resep/4473023-ayam-geprek",
         "953.1"
        ],
        [
         "4",
         "Minyak Ayam",
         "400 gr kulit ayam & lemaknya--8 siung bawang putih kating, cincang kasar--1 ruas jahe, geprek--350 ml minyak goreng--1 sdm ketumbar bubuk--",
         "Cuci bersih kulit ayam. Sisihkan--Ambil 50 ml minyak goreng satu bahan yg sudah disiapkan tadi. Tumis jahe hingga harum.--Masukkan kulit ayam, ketumbar dan bawang. Biarkan hingga keluar minyak alaminya sambil diaduk-aduk.--Tambahkan sisa minyak goreng. Masak hingga kulit ayam mengering. Angkat dan saring.--Setelah cukup dingin minyak ayam tadi dapat disimpan dalam wadah kering seperti mason jar/botol. Kalo saya, saya masukkan juga sedikit bawang putih goreng.--Kulit ayam yg sudah digoreng kering tadi bisa dinikmati begitu saja sebagai camilan dengan ditaburi sejumput garam lalu aduk rata.--",
         "4",
         "/id/resep/4427438-minyak-ayam",
         "4143.4"
        ]
       ],
       "shape": {
        "columns": 6,
        "rows": 5
       }
      },
      "text/html": [
       "<div>\n",
       "<style scoped>\n",
       "    .dataframe tbody tr th:only-of-type {\n",
       "        vertical-align: middle;\n",
       "    }\n",
       "\n",
       "    .dataframe tbody tr th {\n",
       "        vertical-align: top;\n",
       "    }\n",
       "\n",
       "    .dataframe thead th {\n",
       "        text-align: right;\n",
       "    }\n",
       "</style>\n",
       "<table border=\"1\" class=\"dataframe\">\n",
       "  <thead>\n",
       "    <tr style=\"text-align: right;\">\n",
       "      <th></th>\n",
       "      <th>Title</th>\n",
       "      <th>Ingredients</th>\n",
       "      <th>Steps</th>\n",
       "      <th>Loves</th>\n",
       "      <th>URL</th>\n",
       "      <th>Kalori</th>\n",
       "    </tr>\n",
       "  </thead>\n",
       "  <tbody>\n",
       "    <tr>\n",
       "      <th>0</th>\n",
       "      <td>Ayam Woku Manado</td>\n",
       "      <td>1 Ekor Ayam Kampung (potong 12)--2 Buah Jeruk ...</td>\n",
       "      <td>Cuci bersih ayam dan tiriskan. Lalu peras jeru...</td>\n",
       "      <td>1</td>\n",
       "      <td>/id/resep/4473027-ayam-woku-manado</td>\n",
       "      <td>720.650</td>\n",
       "    </tr>\n",
       "    <tr>\n",
       "      <th>1</th>\n",
       "      <td>Ayam goreng tulang lunak</td>\n",
       "      <td>1 kg ayam (dipotong sesuai selera jangan kecil...</td>\n",
       "      <td>Haluskan bumbu2nya (BaPut, ketumbar, kemiri, k...</td>\n",
       "      <td>1</td>\n",
       "      <td>/id/resep/4471956-ayam-goreng-tulang-lunak</td>\n",
       "      <td>5863.950</td>\n",
       "    </tr>\n",
       "    <tr>\n",
       "      <th>2</th>\n",
       "      <td>Ayam cabai kawin</td>\n",
       "      <td>1/4 kg ayam--3 buah cabai hijau besar--7 buah ...</td>\n",
       "      <td>Panaskan minyak di dalam wajan. Setelah minyak...</td>\n",
       "      <td>2</td>\n",
       "      <td>/id/resep/4473057-ayam-cabai-kawin</td>\n",
       "      <td>1095.945</td>\n",
       "    </tr>\n",
       "    <tr>\n",
       "      <th>3</th>\n",
       "      <td>Ayam Geprek</td>\n",
       "      <td>250 gr daging ayam (saya pakai fillet)--Secuku...</td>\n",
       "      <td>Goreng ayam seperti ayam krispi--Ulek semua ba...</td>\n",
       "      <td>10</td>\n",
       "      <td>/id/resep/4473023-ayam-geprek</td>\n",
       "      <td>953.100</td>\n",
       "    </tr>\n",
       "    <tr>\n",
       "      <th>4</th>\n",
       "      <td>Minyak Ayam</td>\n",
       "      <td>400 gr kulit ayam &amp; lemaknya--8 siung bawang p...</td>\n",
       "      <td>Cuci bersih kulit ayam. Sisihkan--Ambil 50 ml ...</td>\n",
       "      <td>4</td>\n",
       "      <td>/id/resep/4427438-minyak-ayam</td>\n",
       "      <td>4143.400</td>\n",
       "    </tr>\n",
       "  </tbody>\n",
       "</table>\n",
       "</div>"
      ],
      "text/plain": [
       "                      Title  \\\n",
       "0          Ayam Woku Manado   \n",
       "1  Ayam goreng tulang lunak   \n",
       "2          Ayam cabai kawin   \n",
       "3               Ayam Geprek   \n",
       "4               Minyak Ayam   \n",
       "\n",
       "                                         Ingredients  \\\n",
       "0  1 Ekor Ayam Kampung (potong 12)--2 Buah Jeruk ...   \n",
       "1  1 kg ayam (dipotong sesuai selera jangan kecil...   \n",
       "2  1/4 kg ayam--3 buah cabai hijau besar--7 buah ...   \n",
       "3  250 gr daging ayam (saya pakai fillet)--Secuku...   \n",
       "4  400 gr kulit ayam & lemaknya--8 siung bawang p...   \n",
       "\n",
       "                                               Steps  Loves  \\\n",
       "0  Cuci bersih ayam dan tiriskan. Lalu peras jeru...      1   \n",
       "1  Haluskan bumbu2nya (BaPut, ketumbar, kemiri, k...      1   \n",
       "2  Panaskan minyak di dalam wajan. Setelah minyak...      2   \n",
       "3  Goreng ayam seperti ayam krispi--Ulek semua ba...     10   \n",
       "4  Cuci bersih kulit ayam. Sisihkan--Ambil 50 ml ...      4   \n",
       "\n",
       "                                          URL    Kalori  \n",
       "0          /id/resep/4473027-ayam-woku-manado   720.650  \n",
       "1  /id/resep/4471956-ayam-goreng-tulang-lunak  5863.950  \n",
       "2          /id/resep/4473057-ayam-cabai-kawin  1095.945  \n",
       "3               /id/resep/4473023-ayam-geprek   953.100  \n",
       "4               /id/resep/4427438-minyak-ayam  4143.400  "
      ]
     },
     "execution_count": 5,
     "metadata": {},
     "output_type": "execute_result"
    }
   ],
   "source": [
    "df = pd.read_csv('data/dataset-with-calories.csv')\n",
    "df.head()"
   ]
  },
  {
   "cell_type": "code",
   "execution_count": null,
   "id": "7fb81c6a",
   "metadata": {},
   "outputs": [
    {
     "data": {
      "application/vnd.microsoft.datawrangler.viewer.v0+json": {
       "columns": [
        {
         "name": "index",
         "rawType": "int64",
         "type": "integer"
        },
        {
         "name": "stepbaru",
         "rawType": "object",
         "type": "string"
        }
       ],
       "ref": "47e3ae6d-2431-4cf5-9c12-550946d2a21b",
       "rows": [
        [
         "0",
         "1. Cuci bersih ayam dan tiriskan. Lalu peras jeruk nipis (kalo gak ada jeruk nipis bisa pake cuka) dan beri garam. Aduk hingga merata dan diamkan selama 5 menit, biar ayam gak bau amis.\n2. Goreng ayam tersebut setengah matang, lalu tiriskan\n3. Haluskan bumbu menggunakan blender. Bawang merah, bawang putih, cabe merah, cabe rawit, kemiri dan kunyit. Oh iya kasih minyak sedikit yaa biar bisa di blender. Untuk sereh nya di geprek aja terus di buat simpul.\n4. Setelah bumbu di haluskan barulah di tumis. Jangan lupa sereh dan daun salamnya juga ikut di tumis. Di tumis sampai berubah warna ya 👌\n5. Masukan ayam yang sudah di goreng setengah matang ke dalam bumbu yang sudah di tumis, dan diamkan 5 menit dulu. Biar bumbu meresap. Lalu tuangkan 1 1/2 Gelas air. Lalu tambahkan penyedap rasa (saya 3 Sdt, tapi sesuai selera ya) koreksi rasa dan Biar kan sampai mendidih\n6. Setelah masakan mendidih, lalu masukan daun kemangi yang sudah di potong potong. Masak lagi sekitar 10 menit. And taraaaaaaaaaaaaaa..... jadi deh Ayam Woku Manadonya.\n7. Oh iyaa kalo mau di tambahkan potongan tomat merah juga bisa ko. Sesuai selera aja yaa buibuuuu 👌👌👌"
        ],
        [
         "1",
         "1. Haluskan bumbu2nya (BaPut, ketumbar, kemiri, kunyit, Laos, garam) hingga halus, sisihkan\n2. Campur kan bumbu halus tadi dengan ayam yg sudah dicuci bersih dan sudah dipotong didalam panci presto. Uleni sampai tercampur rata.\n3. Tambahkan air hingga ayam tenggelam semua. Masukkan serai dan daun jeruk nya kedalam rendaman ayam. Tutup panci presto rebus/ ukep presto sampai kurleb 45 menit. Dengan api sedang.\n4. Setelah proses ukep presto selesai, tunggu suhu dingin ruang. Lalu goreng ayam dengan minyak goreng api sedang sampai ayam berwarna kecoklatan.\n5. Matang dan sajikan ayam selagi hangat bersama nasi putih, sambal dgn perasan jeruk nipis, lalapan."
        ],
        [
         "2",
         "1. Panaskan minyak di dalam wajan. Setelah minyak panas masukkan ayam yang sudah dipotong dadu. Goreng hingga matang. Lalu tiriskan.\n2. Haluskan bawang putih, bawang merah, cabai hijau dan merah, tomat.\n3. Panaskan minyak didalam wajan. Setelah minyak panas, masukkan bumbu yang sudah halus. Tunggu sampai wangi. Masukkan ayam yang sudah di goreng. Tambahkan air, gula dan garam. Tunggu sampai bumbu meresap di ayam. Sajikan."
        ],
        [
         "3",
         "1. Goreng ayam seperti ayam krispi\n2. Ulek semua bahan sambal kemudian campur dengan minyak panas bekas goreng ayam\n3. Geprek ayam kemudian campur dengan sambal,sajikan dengan lalapan ❤"
        ],
        [
         "4",
         "1. Cuci bersih kulit ayam. Sisihkan\n2. Ambil 50 ml minyak goreng satu bahan yg sudah disiapkan tadi. Tumis jahe hingga harum.\n3. Masukkan kulit ayam, ketumbar dan bawang. Biarkan hingga keluar minyak alaminya sambil diaduk-aduk.\n4. Tambahkan sisa minyak goreng. Masak hingga kulit ayam mengering. Angkat dan saring.\n5. Setelah cukup dingin minyak ayam tadi dapat disimpan dalam wadah kering seperti mason jar/botol. Kalo saya, saya masukkan juga sedikit bawang putih goreng.\n6. Kulit ayam yg sudah digoreng kering tadi bisa dinikmati begitu saja sebagai camilan dengan ditaburi sejumput garam lalu aduk rata."
        ],
        [
         "5",
         "1. Tumis bumbu halus, masukkan daun salam, serai\n2. Masukkan potongan ayam, kecap dan air, masak hingga air menyusut dan koreksi rasa\n3. Masukkan irisan cabe merah dan daun kemangi, aduk sebentar dan matikan api\n4. Tata daun pisang, tata nasi di atas daun, beri isian ayam atau bisa juga nasi di campur dan diaduk dulu dengan ayam baru di tata di daun Pisang, bunbu ayam akan lebih meresap k nasi\n5. Setelah nasi di bungkus, barulah nasi di bakar, aku bakar pake teflon z br cepet 😀😀\n6. Sajikan selagi hangat 👍👍endeusss\n7. Note: Jangan membakar terlalu lama biar nasi ga kotor dari daun yg di bakar kering"
        ],
        [
         "6",
         "1. Potong ayam menjadi kotak-kotak ukuran sedang cuci bersih kemudian lumuri perasan jeruk nipis, garam dan merica\n2. Buat adonan tepung untuk melapisi ayam. Adonan A (Tepung terigu, garam, merica, penyedap dan air es) dan adonan B (Tepung terigu, garam, merica dan penyedap)\n3. Masukan daging ayam kedalam adonan A kemudian lapisi dengan adonan B, setelah itu goreng daging kedalam minyak panas sampai berwarna kuning keemasan. Angkat tiriskan\n4. Cincang bawang putih,iris seron cabe merah dan cabe hijau. Lumatkan kuning hintalu jaruk aka telur asin dengan air dingin sampai berbentuk pasta\n5. Tumis bawang putih dan cabe sampai harum, kemudian tuangkan ayam dan pasta kuning telur.\n6. Tambahkan gula, garam, penyedap dan merica secukupnya. Tes rasa dan masal hingga mengental\n7. Angkat dan sajikan bersama nasi putih panas. Selamat mencoba"
        ],
        [
         "7",
         "1. Cara Buat :\n1. Sediakan teplon or wajan beri sedikit minyak dan masukan bawang putih dan bawang bombay yang sudah di potong potong tumis sampai harum. Bisa juga sebelum dimasak ayamnya dibalurkan ke saos teriyaki dan diamkan selama 15 menit agar meresap\n2. 2. Masukan ayam oseng sampai agak mateng, baru masukan cabe ijo dan merah.\nBeri sedikit air\n3. 3. Masukan bumbu royco ayan saos teriyaki, gula, dan bubuk lada hitam. Cicipin\n4. 4. Setelah mulai mateng masukan daun bawang jika ingin kental bisa masukan larutan meizena yak. Saya tadi gak pake karena tiba tiba amnesia kirain punya tepungnya ternyata udah habis 😭..\nSetelah masak siap disajikan dengan nasi angat."
        ],
        [
         "8",
         "1. Cuci bersih ayam, iris tipis melebar, rendam dgn garam dan air jeruk nipis 10 menit, cuci\n2. Campur adonan kering, sisihkan\n3. Campur adonan basah, sisihkan\n4. Panaskan minyak goreng dgn api sedang, gulingkan ayam pada adonan kering, lalu celup ke adonan basah, gulingkan lg pada adonan kering, jgn di remas2, kibas2 daging ayam pada adonan kering, lalu goreng di minyak yg banyak dan panas, biarkan krispinya terbentuk dl, jgn di balik2 dl, setelah cukup kering br di balik, goreng smpe matang, tiriskan\n5. Blender jamur tiram kasih air sedikit. tumis bawang putih yg di cincang halus, masukkan jamur yg di blender, masukkan bumbu2 yg lain sampai meresap, lalu tuang maizena yg sdh di cairkan dgn setengah gelas air, aduk2, masukkan keju parut, aduk sampai meletup2, tes rasa, klo sdh sesuai, angkat\n6. Tata dlm piring, ayam goreng tepung dan sayur kukus, siram dgn saus jamur, taburi daun bawang atau parsley jk ada."
        ],
        [
         "9",
         "1. Lumuri ayam yg sdh dipotong dadu dgn garam & perasan jeruk nipis (diamkan sebentar)\n2. Baluri ayam dengan tepung basah, lanjutkan ke tepung kering, diamkan sebentar\n3. Goreng ayam yg sdh dbaluri tepung sampai kering & matang, angkat tiriskan.\n4. Membuat Saos Asam Manis : -Tumis b.merah & putih (sy suka klo bawang y agak kering)\n5. Masukkan bawang bombay, tumis sebentar.\n6. Masukkan tomat buah yg sdh dihaluskan tdi, tumis lagi pakai api sedang, tambahkan air secukupnya\n7. Masukkan saos sambal, saos tiram, sedikit perasan jeruk nipis, gula, garam & merica (koreksi sampai rasanya terasa asam manis gurih segar)\n8. Masukkan ayam yg sdh digoreng tdi kedalam saos asam manis, diamkan sebentar\n9. Setelah ayam sdh cukup merasap dengan saos asam manisnya matikan api dan siap disajikan dengan nasi putih hangat"
        ],
        [
         "10",
         "1. Kocok telur masukan garam n minyak goreng,aduk rata.masukan tepung terigu uleni pakai tangan sampai kalis(tidak menempel di tangan)diamkan 5 menit.\n2. Bagi adonan menjadi beberapa untuk memudahkan menggilasnya nanti,pipihkn pakai tangan lalu giling pakai ketebalan 4 setalah itu giling lg pakai ketebalan 1(ketebelan selera ya kalau saya suka yg tipis),sebelum di giling ke cetakan mie beri taburan terigu di atas adonannya agar tidak menempel,lakukan sampai adonan habis.\n3. Bagi mie menjadi beberapa porsi jngn lupa di beri taburan terigu ya agar tidak menempel.\n4. Haluskan semua bumbu halus kecuali daun jeruk&salam.\n5. Siapkan penggorengan beri minyak untuk menumis bumbu halus,masukan daun jeruk(sobek2)&daun salam,sereh geprek aja,tunggu sampai harum,lalu masukan ayam beri air(banyak boleh karna untuk kuahnya nanti)masukan kecap n gula merah,garam&penyedap test rasa.\n6. Untuk sambal rebus cabai merah rawit kira2 5menit.\n7. Siapkan panci beri air untuk merebus mie, masukan minyak goreng ke dalam air tujuaan untuk tidak menyatu.setelah mendidih masukan mie tunggu sampai mie naik ke atas barubdi angkat.\n8. Siapkan mangkok beri garam n kuah ayam aduk2 mie baru di berikan bahan pelengkap.\n9. Mie ayam homemade by suami siap di sajikan 😉😉😉😉"
        ],
        [
         "11",
         "1. Iris tipis bawang merah dan daun jeruk.\n2. Haluskan cabe, bawang putih, lada, ketumbar, jahe dan kunyit.\n3. Tumis bawang merah hingga wangi.\n4. Masukan bumbu yang telah dihaluskan ke dalam tumisan bawang tumis semua hingga harum.\n5. Masukan serai, daun jeruk dan daun salam masak sedikit tuang santan kara dan tambahkan air.\n6. Kemudian masukan ayam taburi royco, lada dan garam aduk aduk tutup dan tunggu ayam empuk dan air mulai susut tes rasa.\n7. Bakar ayam bisa menggunakan arang, teflon, atau batu bakar (saya memakai grill lebih praktis).\n8. Selamat Mencoba."
        ],
        [
         "12",
         "1. Cuci bersih ayam lalu baluri dengan perasan jeruk nipis\n2. Cuci lagi ayam dan baluri dengan garam lalu rebus sebentar lalu di goreng\n3. Kentang saya goreng bisa di sesuaikan sesuai selera masing²\n4. Tips goreng ayam agar hasil nya tdk keras : di goreng hanya sebentar\n5. Tumis bawang bombay lalu masukan bumbu halus dan masukkan semua rempah + irisan tomat + kecap manis\n6. Setelah bumbu harum masukkan air tunggu gingga mendidih\n7. Tambahkan garam + penyedap rasa apabila kurang manis bisa ditambahkan kecap lagi\n8. Setelah semua sudah sesuai dgn rasa masukkan kentang goreng + ayam goreng\n9. Tunggu kuah hingga menyusut dan kiraa² 5 mnt angkat. Dan terakhir saya taburin bawang goreng bisa disesuaikan jg dgn selera masing². Selesai"
        ],
        [
         "13",
         "1. Haluskan semua bumbu kecuali tomat, lengkuas, Dan daun salam\n2. Siapkan wajan untuk menumis Bumbu, kemudian tuang sedikit minyak Goreng Dan tumis Bumbu yang sudah dihaluskan ditambah daun Salam Dan lengkuas\n3. Setelah tercium bau Bumbu yang ditumis kemudian masukkan tomat yang sudah dipotong potong\n4. Kemudian setelab tomat layu masukkan air secukupnya Dan rasakan kuahnya kalau belum pas bisa ditambahkan penyedap rasa (Royco)\n5. Masukkan ayam yang sudah disuwir Dan aduk\n6. Tunggu sampai meresap Dan air berkurang\n7. Dan sajikan"
        ],
        [
         "14",
         "1. Cuci ayam, tiriskan beri perasan jeruk lemon (skip boleh) Potong ayam bentuk dadu.\n2. Koco telur beri secukupnya garam. Masukkan ayam yg telah dipotong dadu.\n3. Balurkan ke dalam tepung serbaguna.\n4. Goreng pada minyak yg panas.\n5. Siap disantap😘😘😘😘"
        ],
        [
         "15",
         "1. Setelah tulang ayam di bersihkan dan di potong potong lumuri tulang dengan perasan jeruk nipis lalu biarkan\n2. Siapkan bumbu yg akan di haluskan bwg merah, bwg putih, cabe, dan kunyit blender hingga halus\n3. Siapkan air untuk merebus tulang tambahkan jahe yg sudah di geprek dan daun jeruk ungkep tulang hingga air menyusut\n4. Tumis bumbu yg sudah di halus kan tambahkan air secukupnya dan daun salam juga sereh geprek, masukan tulang ayam, beri kaldu bubuk, gula pasir dan kecap manis secukupnya jgn lupa test rasanya dan biarkan tulang ayam hingga meresap\n5. Setelah tulang ayam kuahnya agak sedikit meresap angkat lalu sajikan\n6. Bisa untuk teman makan mie ayam lohh moms 😃"
        ],
        [
         "16",
         "1. Ungkep ayam bersama bumbu jadi, daun salam, daun jeruk, sere,dan garam,tambah sedikit penyedap apinya kecil ajah ya. Lalu tutup\n2. Apabila sudah empuk dan matang goreng dalam minyak panas dan banyak sampe warna kuning kecoklatan, angkat\n3. Sementara lagi goreng ayam, kita siapkan sambel dulu, uleg semua cabe, dan bawang merah garam,sedikit gula dan penyedap, setelah agak halus kumpulin sambalnya di tengah cobek lalu siram dengan minyak panas bekas goreng ayam tadi lalu uleg lagi supaya rata\n4. Masukan ayam goreng ke dalam cobek lalu penyet pake ulegan, siap di hidangkan\n5. Selamat mencoba"
        ],
        [
         "17",
         "1. Tumis bawang merah dan bawang putih hingga harum\n2. Masukkan potongan ayam dan ceker ke tumisan bumbu aduk rata\n3. Pindahkan ke panci besar tanbahkan air secukupkan\n4. Didihkan sampai ayam dan ceker cukup matang\n5. Masukkan kentang dan wortel yang diiris tadi, tunggu sampai lembut\n6. Masukkan macaroni yg sudah direbus\n7. Taburkan lada bubuk dan garam, tes rasa\n8. Terakhir masukkan daun bawang dan daun seledri\n9. Siap dihidangkan, taburkan bawang goreng biar tambah maknyuss"
        ],
        [
         "18",
         "1. Rebus ayam sampai matang dan di suir suir.\n2. Haluskan bawang putih, bawang merah, jahe, dan kunyit.\n3. Panaskan minyak tumis bumbu halus, masukkan daun jeruk masak hingga harum tambahkan air secukupnya.\n4. Masukkan ayam masak hingga matang."
        ],
        [
         "19",
         "1. Cuci bersih ayam. Setelah itu potong kecil2. Masukkan dlm blender. Tambahkan 1 telur ayam, bwg pth, bwg merah, merica. Air sdkt. Lalu blender.\n2. Setelah itu parut wortel, ptong kecil2 daun bawang prei\n3. Taruh adonan ayam dalam wadah\n4. Masukkan wortel, daun prei, tepung tapioka 10 sdm. Kalau pengen lebih padet bisa tambahkan lagi. Sesuai selera\n5. Aduk2 ya sampai tercampur rata. Tambah i garam, penyedap.\n6. Siapkan wadah. Tuang adonan ke dalam wadah yg sebelumnya d olesi mentega\n7. Kukus d panci pengukusan. Kukus 30 - 40 mnt.\n8. Setelah matang, keluarkan dr panci. Biarkan dingin. Lalu keluarkan.\n9. Siapkan 1 telur (dikocok), tepung panir. Potong2 adonan jd kecil2, celupkan ke telur, lalu baluri dg tepung panir.\n10. Setelah itu goreng.Nugget siap d hidangkan. Nugget juga bisa d simpan d dalam freezer ya moms 😊. Jadi sewaktu2 bisa langsung goreng."
        ],
        [
         "20",
         "1. Marinade ayam dgn tepung bumbu serbaguna yg sudah dilarutkan, aduk & disisihkan.\n2. Siapkan bahan pelapis. Ambil potongan ayam & balur ke dalam bahan pelapis. Goreng dalam minyak panas sampai matang. Lakukan sampai habis.\n3. Bahan saus: lelehkan butter, tumis duo bawang sampai harum. Masukkan wortel dan timun, tambahkan air, lalu masak sampai air mendidih. Masukkan duo cabe, saus tomat, saus tiram, minyak wijen, garam, gula, lada, air lemon, aduk rata. Masukkan larutan maizena, aduk sampai mengental. Terakhir masukkan daun bawang, matikan api supaya sayuran tidak over cook."
        ],
        [
         "21",
         "1. Cuci bersih lalu rebus tulang ayam kurleb 10 menit. Lalu tiriskan\n2. Rebus mie sampai setengah matang. Lalu tiriskan\n3. Haluskan bawang merah, bawang putih dan cabe rawit\n4. Tumis sampai harum bumbu halus dengan irisan seledri dan daun bawang. Lalu tambahkan merica bubuk, gula dan garam.\n5. Masukkan tulang ayam, tunggu sampai bumbu meresap.\n6. Masukkan mie, saos dan kecap. Lalu tumis sampai bumbu tercampur. Tambahkan gula dan garam jika diperlukan.\n7. Mie tulang ayam siap dihidangkan."
        ],
        [
         "22",
         "1. Rebus ayam terlebih dahulu. Lalu, di suwir-suwir. (saya rebus karna kalau goreng, ayamny akan terasa keras dan kering)\n2. Ulek halus bumbu, lalu icip2 rasa agar pas\n3. Siapkan wajan, masukkan minyak goreng. Tunggu sampai panas, tuangkan bumbu\n4. Stelah stengah matang, lalu masukan ayam yang sudah disuir.\n5. Tunggu sampai agak meresap bumbuny. Masukkan perasan limo dan daun jeruk\n6. Makanan siap dihidangkan. Simple dan enak"
        ],
        [
         "23",
         "1. Tumis semua bumbu kecuali tomat dengan 2 sdm minyak,oseng sampai harum,tambahkan 1 liter air didihkan,kalau sudah mendidih masukkan ayam,tutup, masak sampai ayam matang, setelah ayam matang koreksi rasa,beri taburan tomat dan daun kemangi, sajikan hangat, segerrr abis\n2. Selamat mencoba\nSemoga bermanfaat untuk semua"
        ],
        [
         "24",
         "1. Marinade daging dengan bahannya 30mnt.\n2. Sebelum di tumis beri 1sdm minyak di daging ayam, aduk rata, lalu tumis agar tidak lengket di wajan. Matang, lalu angkat.\n3. Tumis jahe 10detik, masukkan baput lalu tumis sampai wangi.\n4. Masukkan kacang panjang, tumis sebentar lalu masukkan air, saos hoisin, kecap asin, micin. Tutup wajan, kecil kan api.\n5. Tunggu 1-2menit, buka tinder tutup wajan, aduk sebentar lalu tutup lg 1-2menit.\n6. Masukkan daging, aduk rata.\n7. Masukan larutan tapioka agar saos mengental. Aduk rata lalu sajikan"
        ],
        [
         "25",
         "1. Siapkan semua bahannya.. panaskan minyak, masukkan bumbu halus.. masak hingga keluar aroma wangi,masukkan daun salam, daun jeruk, serai dan lengkuas.. kemudian masukkan potongan daging ayamnya.\n2. Tuangkan santan encer, tunggu hingga daging ayam setengah matang.\n3. Masukkan kentang, garam, gula, kaldu bubuk, dan kecap.\n4. Masak hingga matang... Masukkan potongan kol dan juga cabai hijau.. lalu d susul dgn memasukkan santan kental, aduk2.. jgn sampai pecah santannya, tes rasa..\n5. Setelah mendidih matikan api, masukkan potongan daun bawang dan tomat, lalu beri taburan bawang goreng."
        ],
        [
         "26",
         "1. Potong ayam sesuai selera,cuxi bersih lalu ungkep dengan sesikit air dan campur dengan bumbu racik tempe,matang angkat\n2. Panas kan minyak lalu goreng ayam hingga matang kecoklatan\n3. Goreng sebentar semua bahan sambel nya,,uleg jadi satu tambahkan garam gula...tes rasa...kalo sudah oke..masukkan beberapa lmbar daun kemangi..giling agak kasar aja\n4. Geprek ayam di atas ulek an,,susun di piring lalu letakkan sambel di atas ayam..susun irisan timun,dan juga kemangi. siap di santap dwngan nasi panas"
        ],
        [
         "27",
         "1. Potong-potong bawang bombay dan bawang putih. Tumis dengan sedikit minyak hingga harum. Angkat\n2. Campurkan tumisan bawang dengan daging ayam giling dengan menggunakan blender atau food processor. Campur hingga bawang halus & tercampur rata. Tuang pada wadah yg telah disediakan untuk dicampur dengan bahan lain\n3. Potong wortel jadi bagian yg kecil. Masukkan pada campuran daging giling sebelumnya\n4. Potong daun bawang jadi bagian yg kecil. Masukkan pada adonan. Campur hingga rata\n5. Masukkan 1 butir telur ayam. Campurkan\n6. Masukkan tepung terigu perlahan-lahan dan campur hingga rata. Masukkan garam,lada dan penyedap rasa secukupnya.\n7. Panaskan kukusan\n8. Letakkan adonan pada cetakan yg telah disediakan. Masukkan pada kukusan yg telah dipanaskan sebelumnya. Tutup kukusan diberi kain agar air tidak menetes diadonan. Kukus kurang lebih 25-30 menit\n9. Angkat adonan yg sudah matang dari kukusan. Biarkan agar sedikit dingin.\n10. Setelah dingin potong-potong sesuai ukuran yg diinginkan.\n11. Kocok lepas 1 butir telur ayam. Celupkan adonan nugget yg telah dipotong tadi kedalam telur. Kemudian gulingkan di tepung roti.\n12. Ulangi langkah 11 hingga adonan nugget habis\n13. Dinginkan pada freezer kurang lebih 1 jam agar tepung roti menempel dengan sempurna\n14. Goreng nugget dengan minyak panas. Nugget ayam wortel siap disajikan.\n15. Nugget yg masuk ke dalam freezer dapat bertahan maksimal 3-4 minggu"
        ],
        [
         "28",
         "1. Potong\" ayam, lalu cuci sampai bersih.\n2. Siapkan 2 mgkok. 1 untuk adonan tepung yang basah yg 1 nya lagi untuk tepung kering.\n3. Tuangkan kira\" 2 sdm tepung bumbu lalu tambahkan secukupnya air es kocok pakai garpu sampai adonannya encer.\n4. Celupkakan ayam ke dalam adonan basah lalu gulingkan ke dalam tepung kering sambil di remas\" hingga terbentuk kulit tepung yang keriting. Ulangi sampai selesai\n5. Panaskan minyak, lalu goreng sampai kecoklatan. Angkat, tiriskan.\n6. Ayam goreng siap untuk dinikmati.\n7. NB: kalau gk suka terlalu pedas tepung bumbunya bisa di mix sama yang original ya jd yg pedas bisa pke 1 bungkus aj yg 2 bungkus yg original."
        ],
        [
         "29",
         "1. Campur daging  ayam dengan bumbu perendam,gula dan garam,diamkan dikulkas 1-2jam agar bumbu meresap.\n2. Panaskan minyak tumis daging sampai matang tuangi air,masukan bawang bombay,masak sampai air agak menyusut,kentalkan dengan larutan maizena."
        ],
        [
         "30",
         "1. Cuci ayam, lalu lumuri dgn perasan air jeruk nipis & garam, diamkan sebentar -+ 10 mnt, lalu bilas sampai bersih\n2. Goreng ayam sebentar, tidak usah sampai garing, sisihkan\n3. Panaskan minyak, tumis bumbu halus, daun salam, daun jeruk, jahe, sampai harum\n4. Masukkan bawang Bombay, masak sebentar\n5. Tambahkan air, beri garam, merica, gula pasir, kecap, & masukkan ayam, aduk rata, koreksi rasa\n6. Biarkan air surut & bumbu meresap, setelah matang, matikan api, beri perasan jeruk limao, aduk rata, sajikan\n7. Enakk 👌 pedes seger 😍"
        ],
        [
         "31",
         "1. Rebus air sampai mendidih lalu masukan ayam dan ungkep sampai empuk\n2. Haluskan semua bumbu\n3. Panaskan minyak lalu tumis bumbu halus sampai wangi\n4. Masukan daun salam 3 lembar dan sereh 2 di geprek\n5. Setelah bumbu sudah matang masukkan 1 gelas air\n6. Tambahkan garam,micin,royko,asem\n7. Setelah di rasa sudah cukup masukan ayam\n8. Kecilkan api biar bumbunya meresap.\n9. Masak sampai bumbu menyusut (jadi agak kental gitu)\n10. Lalu hidangkan"
        ],
        [
         "32",
         "1. Potong dan bersihkan ayam sesuai selera (kalo aku ku beri perasan jeruk nipis lalu diamkan dulu)\n2. Bawang2an diiris kasar, serai dan jahe di geprek, cabe aku hanya iris 6pc sisanya aku biarkan utuh, tomat kupotong memanjang begitu juga daun bawang.\n3. Panaskan minyak sedikit saja, masukkan bawang serai daun jeruk dan juga cabe diamkan hingga harum lalu masukkan air dan tunggu hingga mendidih. aetelah mendidih masukkan ayam\n4. Tunggu ayam hingga setengah empuk bumbui dengan penyedap garam dan juga gula, masukkan perasan jeruk nipis dan tomat aduk hingga merata\n5. Setelah koreksi rasa dan dirasa sudah pas dan ayam matang masukkan daun bawang. setelah itu selesai"
        ],
        [
         "33",
         "1. Campur tepung terigu(kurang lebih 1/2 mangkuk kecil) dengan garam,gula/penyedap dan garam secukupnya. Tambahkan air matang sedikit demi sedikit hingga agak mengental. Koreksi rasa\n2. Balur ayam yg telah direbus sebelumnya dengan 1 butir telur (yg sudah dikocok lepas), kemudian gulingkan dalam adonan tepung, sisihkan\n3. Panaskan minyak goreng dengan api sedang, jika sudah panas masukan ayam yg sudah diberi adonan tepung, kecilkan api lalu masak hingga berwarna kecoklatan dan garing, angkat dan tiriskan.\n4. Selamat menikmati 😀"
        ],
        [
         "34",
         "1. Cuci bersih ayam dan tiriskan,campur dibumbu yang sudah dihaluskan,aduk rata,diamkan selama 15 menit,lalu kukus selama 20 menit/ sampai mateng\n2. Sementara menunggu ayam dikukus,siapkan pemanggangan arangnya dulu untuk memanggang ayam\n3. Keluarkan ayam yang sudah dikukus dan siap dipanggang diatas pemanggangan arang\n4. Panggang ayam sambil diolesi dengan olesan, campuran kecap manis,saos tomat dan minyak,bolak balik ayam agar tidak gosong sambil diolesi sampai matang,angkat dan taroh dipiring saji\n5. Campurkan semua bahan saos kecap/ cocolan nya diwadah(mangkok),tambahkan kecap manis secukupnya,aduk agar tercampur rata,dan beri perasan jeruk nipis\n6. Ayam panggang dan saos kecap sudah siap dihidangkan bersama nasi hangat dan irisan timun sebagai pelengkap"
        ],
        [
         "35",
         "1. Panaskan air rebus ayam hingga matang lalu tiriskan (air rebusan ayam bisa untuk kuah soto),lalu goreng ayam hingga matang\n2. Haluskan bumbu bawang merah,putih,kunyit,jahe,lada,lengkuas sereh cukup digeprek dan tumis hingga matang\n3. Masukan tumisan bumbu kedalam rebusan air,masukan daun salam,sereh dan daun jeruk\n4. Berikan bumbu garam,gula penyedap rasa, daun bawang dan santan kara masak hingga matang\n5. Sajikan soto selagi hangat bersama bihun dan pelengkap lainya"
        ],
        [
         "36",
         "1. Cuci bersih ayam,masukkan dalam panci,tambahkan bumbu halus dan air. Masak hingga empuk,matang dan bumbu meresap,tiriskan.\n2. Goreng dalam minyak panas dan api sedang hingga kuning keemasan,angkat,tiriskan\n3. Sajikan👌"
        ],
        [
         "37",
         "1. Rebus mie burung dara, tiriskan\n2. Geprek bawang putih 2 siung, tumis sampai harum\n3. Masukkan minyak wijen 1 sendok teh. Tumis tumis sebentar bersama bawang\n4. Masukkan air 1 gelas belimbing\n5. Tambahkan kecap, ebi, garam, saus tiram, royco sapi, lada bubuk sesuai selera. Didihkan\n6. Masukkan mie yang telah direbus. Masak sampai air menyusut\n7. Tambahkan irisan kubis/kol. Aduk-aduk sebentar sampai air habis. Angkat\n8. Cuci bersih ayam, potong jadi 2 bagian atau iris sesuai selera\n9. Siapkan tepung kering. Caranya tambahkan garam dan royco sapi pada tepung. Takarannya sesuaikan dengan jumlah tepung\n10. Siapkan celupan tepung basah. Caranya campurkan tepung dengan air sampai teksturnya cair tapi cukup kental\n11. Masukkan ayam pada tepung kering. Lalu celupkan pada tepung basah. Masukkan ke tepung kering lagi. Remas-remas sampai tepung yang menempel ditangan terlepas dan menempel pada ayam\n12. Goreng ayam pada minyak panas dengan api besar, agar teksturnya crispy. Masak sampai kecoklatan lalu angkat.\n13. Sekarang membuat sambel bawang. Caranya bawang putih setengah siung + bawang merah 2 siung + cabe rawit sesuai selera diulek bersama garam dan gula. Tambahkan 1 sendok minyak lalu campur rata\n14. Geprek ayam crispy tadi kedalam sambel bawang\n15. Sajikan mie goreng dengan topping ayam geprek dan lalapan mentimun\n16. Selamat mencoba"
        ],
        [
         "38",
         "1. Haluskan seluruh bumbu halus (saya pake blender)\n2. Tumis bumbu halus sampai wangi, masukan tulang ayam, tambahkan air, tunggu smpai ayam matang\n3. Setelah ayam matang masukan mie, gula, dan garam kemudian koreksi rasa..\n4. Setelah rasa pas masukan sayur2n sampai agak layu, jangan terlalu lama..\n5. Seblak mie siap dinikmati😋"
        ],
        [
         "39",
         "1. Cuci dan keringkan ayam (sampai kering).\n2. Lumuri ayam dengan garam, lada hitam, dan paprika bubuk.\n3. Baluri dengan tepung terigu. Diamkan 30 menit (saya 60 menit)\n4. Goreng ayam dengan minyak cukup banyak sampai matang +- 10 menit. Kemudian angkat dan tiriskan.\n5. Panaskan margarin, tambahkan bawang putih bubuk, gula merah bubuk, saus tomat, saus sambal dengan api sedang.\n6. Aduk rata dan biarkan sampai mengental. Pastikan api tidakterlalu besar karena ada gula merah yang rawan gosong.\n7. Masukan ayam dan baluri dengan bumbu sampai rata. Diamkan 5 menit sampai bumbu menyatu pada ayam.\n8. Angkat. Hidangkan sweet buffalo chicken dan taburi dengan wijen."
        ],
        [
         "40",
         "1. Potong2 ayam kecil2 lalu cuci dan beri perasan jeruk nipis diamkan sebentar dan cuci lgi.\n2. Tumis bumbu rajang beserta laos, daun jeruk, jahe, daun salam dan serai.\n3. Masukkan ayam dan air secukupnya. Tanbahkan garam dan gulpas. Masak setengah mateng\n4. Lalu masukkan santan kara aduh2 sampai mendidih matikan kompor\n5. Bungkus ayam dengan daun pisang lalu kukus kira2 15 menit\n6. Siap dihidangkan"
        ],
        [
         "41",
         "1. Letakkan sedikit tepung bumbu dalam wadah lalu beri air untuk bumbu rendaman ayam. Buat sedikit kental, lalu diamkan dalam freezer 10 menit\n2. Ambil ayam dari bumbu rendaman, lalu baluri dengan tepung kering dan goreng hingga kecoklatan\n3. Untuk sambalnya ulek semua bahan jadi 1 lalu tuangkan minyak panas.\n4. Setelah itu masukan ayam yang sudah di goreng ke dalam cobek sambal dan ulek bersama."
        ],
        [
         "42",
         "1. Marinasi ayam dengan bumbu marinasi, diamkan selama 10 menit\n2. Tumis bawang bombay, bawang putih, paprika\n3. Masukkan daging ayam yg telah dimarinasi\n4. Masukkan saos asam manis\n5. Masukkan campuran air dan tepung sagu\n6. Aduk hingga mengental\n7. Test rasa, tambahkan garam dan gula sesuai selera"
        ],
        [
         "43",
         "1. Potong ayam sesuai selera, aku pake ayam dada utuh karna yg ada stok di kulkas itu hehehhehe\n2. Campur ayam dengan bawang putih yg sudah di haluskan, garam, lada, kaldu bubuk, aduk rata.\n3. Simpan di kulkas minimal 2 jam. (Semakin lama dibumbui ayamnya semakin enak, aku bumbui malam karna untuk di goreng pagi)\n4. Keluarkan ayam dari kulkas masukkan telur ke ayam aduk rata.\n5. Siapkan tepung pelapis diaduk rata lalu gulingkan potongan ayam ke dalam tepung remas sedikit.\n6. Goreng ayam ke dalam minyak panad sampai kecoklatan.\n7. Angkat sajikan, happy cooking moms. 😊😊😊😊😊"
        ],
        [
         "44",
         "1. Cuci bersih tulang ayam, rebus dg api kecil hingga keluar kaldu bening, buang kotoran yang mengapung, setelah itu masukkan bumbu ulek. Biarkan mendidih.\n2. Kemudian masukkan wortel, tunggu 3 menit masukkan kentang, tunggu 5 menit lalu cek rasa dan kematangan sayur, setelah pas baru masukkan sawi sendok, seledri, dan daun bawang. Aduk sebentar lalu matikan kompor.\n3. Sajikan dengan taburan bawang merah goreng dan sambal kecap."
        ],
        [
         "45",
         "1. Masukkan ayam dalam magic com. \nBawang putih, jahe, laos, jahe blender sampai lembut.\nMasukkan bumbu yang sudah dihaluskan tadi dalam magic com\nTuang air bioglass dalam magic com sampai ayam terendam air bioglass.\nCetrek cook. Tunggu kira kira 45 menit. \nAmbil ayam dari magic com\nTaburi garam secukupnya\nGoreng\nJadii deh ayam empuk lezatnya. Biar ayamnya dingin juga masih empuk😊😊\nCara bikin sambel nya\nCabe, bawang merah trasi, goreng di sisa minyak ayam goreng tadi. Minyak nya dikit aja."
        ],
        [
         "46",
         "1. Cuci sayap ayam, lalu dalam satu wadah masukkan sayap ayam beserta seluruh bumbu diatas, remas2\n2. Simpan dalam kulkas semalaman hingga bumbu meresap\n3. Goreng sayap ayam dengan minyak panas dan banyak hingga matang, sajikan"
        ],
        [
         "47",
         "1. Potong ayam cuci lalu rebus sampai empuk. Haluskan bawang, kemiri, jahe.\n2. Tumis bumbu halus sampai harum masukan serai, daun jeruk, daun salam, lengkuas. Masukan air kaldu, ayam, merica, garam, kunyit, ketumbar, kecap, royco. Masak hingga bumbu meresap dan empuk banget, cek rasa ya bun..\n3. Semur ayam kampung udah matang...\n4. Ini aku masaknya sampai empuk banget... gak alot ya.. gigitnya gak pakai gigi, pakai bibir aja udah bisa, hhheee... krn sebelum dibumbuin direbus dulu sampai empuk, setelah itu baru dibumbuin.\n5. Selamat mencoba.."
        ],
        [
         "48",
         "1. Marinade Ayam dengan air lemon, black papper Dan garam, diamkan kurleb 1 jam atau lebih\n2. Campur semua bahan pelapis\n3. Campur semua bahan pencelup\n4. Lumuri Ayam dengan bahan pelapis, celupkan ke dalam bahan pencelup dan lumuri dengan bahan pelapis lagi. Lakukan 2-3 kali. Cubit cubit Bagian Luarnya agar hasilnya keriting\n5. Panaskan minyak goreng\n6. Goreng Ayam sampai matang, apinya Jangan terlalu besar agar matangnya merata hingga kebagian dalam\n7. Sajikan bersama kentang, selada atau asparagus sesuai selera\n8. Selamat mencoba"
        ],
        [
         "49",
         "1. Haluskan semua bumbu kecuali lengkuas & Sereh\n2. Tumis bumbu yg dihaluskan tadi hingga harum\n3. Rebus ayam hingga terlihat kaldunya kemudian masukkan bumbu yg telah ditumis tadi\n4. Icip & sajikan dengan kentang goreng, bihun, tauge & irisan tomat"
        ]
       ],
       "shape": {
        "columns": 1,
        "rows": 15641
       }
      },
      "text/plain": [
       "0        1. Cuci bersih ayam dan tiriskan. Lalu peras j...\n",
       "1        1. Haluskan bumbu2nya (BaPut, ketumbar, kemiri...\n",
       "2        1. Panaskan minyak di dalam wajan. Setelah min...\n",
       "3        1. Goreng ayam seperti ayam krispi\\n2. Ulek se...\n",
       "4        1. Cuci bersih kulit ayam. Sisihkan\\n2. Ambil ...\n",
       "                               ...                        \n",
       "15636    1. Bersihkan udang, siapkan bahan bahan\\n2. Tu...\n",
       "15637    1. Tumis bawang merah bawang putih hingga haru...\n",
       "15638    1. Tiriskan bawang putih, bawang merah dan cab...\n",
       "15639    1. Potong2 kacang panjang,terong cuci bersih s...\n",
       "15640    1. Giling ayam dan udang serta haluskan bawang...\n",
       "Name: stepbaru, Length: 15641, dtype: object"
      ]
     },
     "execution_count": 3,
     "metadata": {},
     "output_type": "execute_result"
    }
   ],
   "source": [
    "def format_steps(text):\n",
    "    if pd.isna(text):\n",
    "        return \"\"\n",
    "    steps = [step.strip() for step in text.split('--') if step.strip()]\n",
    "    return '\\n'.join([f\"{i+1}. {step}\" for i, step in enumerate(steps)])\n",
    "\n",
    "df['stepbaru'] = df['Steps'].apply(format_steps)\n",
    "\n",
    "df['stepbaru']"
   ]
  },
  {
   "cell_type": "code",
   "execution_count": null,
   "id": "81515d40",
   "metadata": {},
   "outputs": [],
   "source": [
    "# Hapus kolom Steps lama\n",
    "df.drop(columns=['Steps'], inplace=True)\n",
    "\n",
    "# Ganti nama kolom Formatted_Steps menjadi Steps\n",
    "df.rename(columns={'stepbaru': 'Steps'}, inplace=True)\n"
   ]
  },
  {
   "cell_type": "code",
   "execution_count": null,
   "id": "7009852f",
   "metadata": {},
   "outputs": [],
   "source": [
    "df.to_csv(\"dataset_caloriesNew.csv\", index=False)\n"
   ]
  },
  {
   "cell_type": "code",
   "execution_count": null,
   "id": "84a5ada0",
   "metadata": {},
   "outputs": [
    {
     "data": {
      "application/vnd.microsoft.datawrangler.viewer.v0+json": {
       "columns": [
        {
         "name": "index",
         "rawType": "int64",
         "type": "integer"
        },
        {
         "name": "Title",
         "rawType": "object",
         "type": "string"
        },
        {
         "name": "Ingredients",
         "rawType": "object",
         "type": "string"
        },
        {
         "name": "Loves",
         "rawType": "int64",
         "type": "integer"
        },
        {
         "name": "URL",
         "rawType": "object",
         "type": "string"
        },
        {
         "name": "Kalori",
         "rawType": "float64",
         "type": "float"
        },
        {
         "name": "Steps",
         "rawType": "object",
         "type": "string"
        }
       ],
       "ref": "7e08450e-e4ce-40ae-84ab-90da7401ece5",
       "rows": [
        [
         "0",
         "Ayam Woku Manado",
         "1 Ekor Ayam Kampung (potong 12)--2 Buah Jeruk Nipis--2 Sdm Garam--3 Ruas Kunyit--7 Bawang Merah--7 Bawang Putih--10 Cabe Merah--10 Cabe Rawit Merah (sesuai selera)--3 Butir Kemiri--2 Batang Sereh--2 Lembar Daun Salam--2 Ikat Daun Kemangi--Penyedap Rasa--1 1/2 Gelas Air--",
         "1",
         "/id/resep/4473027-ayam-woku-manado",
         "720.65",
         "1. Cuci bersih ayam dan tiriskan. Lalu peras jeruk nipis (kalo gak ada jeruk nipis bisa pake cuka) dan beri garam. Aduk hingga merata dan diamkan selama 5 menit, biar ayam gak bau amis.\n2. Goreng ayam tersebut setengah matang, lalu tiriskan\n3. Haluskan bumbu menggunakan blender. Bawang merah, bawang putih, cabe merah, cabe rawit, kemiri dan kunyit. Oh iya kasih minyak sedikit yaa biar bisa di blender. Untuk sereh nya di geprek aja terus di buat simpul.\n4. Setelah bumbu di haluskan barulah di tumis. Jangan lupa sereh dan daun salamnya juga ikut di tumis. Di tumis sampai berubah warna ya 👌\n5. Masukan ayam yang sudah di goreng setengah matang ke dalam bumbu yang sudah di tumis, dan diamkan 5 menit dulu. Biar bumbu meresap. Lalu tuangkan 1 1/2 Gelas air. Lalu tambahkan penyedap rasa (saya 3 Sdt, tapi sesuai selera ya) koreksi rasa dan Biar kan sampai mendidih\n6. Setelah masakan mendidih, lalu masukan daun kemangi yang sudah di potong potong. Masak lagi sekitar 10 menit. And taraaaaaaaaaaaaaa..... jadi deh Ayam Woku Manadonya.\n7. Oh iyaa kalo mau di tambahkan potongan tomat merah juga bisa ko. Sesuai selera aja yaa buibuuuu 👌👌👌"
        ],
        [
         "1",
         "Ayam goreng tulang lunak",
         "1 kg ayam (dipotong sesuai selera jangan kecil2 ya)--2 batang serai (memarkan)--4 lembar daun jeruk--7 butir bawang putih (haluskan)--1 sdm ketumbar (haluskan)--3 ruas jari Laos (haluskan)--3 ruas jari kunyit (haluskan)--2 butir kemiri (haluskan)--secukupnya Garam--Secukupnya Air (tuk ukep ayam)--Secukupnya Minyak goreng--",
         "1",
         "/id/resep/4471956-ayam-goreng-tulang-lunak",
         "5863.95",
         "1. Haluskan bumbu2nya (BaPut, ketumbar, kemiri, kunyit, Laos, garam) hingga halus, sisihkan\n2. Campur kan bumbu halus tadi dengan ayam yg sudah dicuci bersih dan sudah dipotong didalam panci presto. Uleni sampai tercampur rata.\n3. Tambahkan air hingga ayam tenggelam semua. Masukkan serai dan daun jeruk nya kedalam rendaman ayam. Tutup panci presto rebus/ ukep presto sampai kurleb 45 menit. Dengan api sedang.\n4. Setelah proses ukep presto selesai, tunggu suhu dingin ruang. Lalu goreng ayam dengan minyak goreng api sedang sampai ayam berwarna kecoklatan.\n5. Matang dan sajikan ayam selagi hangat bersama nasi putih, sambal dgn perasan jeruk nipis, lalapan."
        ],
        [
         "2",
         "Ayam cabai kawin",
         "1/4 kg ayam--3 buah cabai hijau besar--7 buah cabai merah rawit--3 siung bawang putih--2 siung bawang merah--secukupnya Gula--secukupnya Garam--1/4 buah tomat merah--secukupnya Air--secukupnya Minyak goreng--",
         "2",
         "/id/resep/4473057-ayam-cabai-kawin",
         "1095.945",
         "1. Panaskan minyak di dalam wajan. Setelah minyak panas masukkan ayam yang sudah dipotong dadu. Goreng hingga matang. Lalu tiriskan.\n2. Haluskan bawang putih, bawang merah, cabai hijau dan merah, tomat.\n3. Panaskan minyak didalam wajan. Setelah minyak panas, masukkan bumbu yang sudah halus. Tunggu sampai wangi. Masukkan ayam yang sudah di goreng. Tambahkan air, gula dan garam. Tunggu sampai bumbu meresap di ayam. Sajikan."
        ],
        [
         "3",
         "Ayam Geprek",
         "250 gr daging ayam (saya pakai fillet)--Secukupnya gula dan garam--50-100 gr tepung ayam serbaguna--Secukupnya lalapan (kemangi,kol,timun)--Secukupnya minyak panas--❤sambal korek--Secukupnya cabe rawit merah dan bwg putih--",
         "10",
         "/id/resep/4473023-ayam-geprek",
         "953.1",
         "1. Goreng ayam seperti ayam krispi\n2. Ulek semua bahan sambal kemudian campur dengan minyak panas bekas goreng ayam\n3. Geprek ayam kemudian campur dengan sambal,sajikan dengan lalapan ❤"
        ],
        [
         "4",
         "Minyak Ayam",
         "400 gr kulit ayam & lemaknya--8 siung bawang putih kating, cincang kasar--1 ruas jahe, geprek--350 ml minyak goreng--1 sdm ketumbar bubuk--",
         "4",
         "/id/resep/4427438-minyak-ayam",
         "4143.4",
         "1. Cuci bersih kulit ayam. Sisihkan\n2. Ambil 50 ml minyak goreng satu bahan yg sudah disiapkan tadi. Tumis jahe hingga harum.\n3. Masukkan kulit ayam, ketumbar dan bawang. Biarkan hingga keluar minyak alaminya sambil diaduk-aduk.\n4. Tambahkan sisa minyak goreng. Masak hingga kulit ayam mengering. Angkat dan saring.\n5. Setelah cukup dingin minyak ayam tadi dapat disimpan dalam wadah kering seperti mason jar/botol. Kalo saya, saya masukkan juga sedikit bawang putih goreng.\n6. Kulit ayam yg sudah digoreng kering tadi bisa dinikmati begitu saja sebagai camilan dengan ditaburi sejumput garam lalu aduk rata."
        ]
       ],
       "shape": {
        "columns": 6,
        "rows": 5
       }
      },
      "text/html": [
       "<div>\n",
       "<style scoped>\n",
       "    .dataframe tbody tr th:only-of-type {\n",
       "        vertical-align: middle;\n",
       "    }\n",
       "\n",
       "    .dataframe tbody tr th {\n",
       "        vertical-align: top;\n",
       "    }\n",
       "\n",
       "    .dataframe thead th {\n",
       "        text-align: right;\n",
       "    }\n",
       "</style>\n",
       "<table border=\"1\" class=\"dataframe\">\n",
       "  <thead>\n",
       "    <tr style=\"text-align: right;\">\n",
       "      <th></th>\n",
       "      <th>Title</th>\n",
       "      <th>Ingredients</th>\n",
       "      <th>Loves</th>\n",
       "      <th>URL</th>\n",
       "      <th>Kalori</th>\n",
       "      <th>Steps</th>\n",
       "    </tr>\n",
       "  </thead>\n",
       "  <tbody>\n",
       "    <tr>\n",
       "      <th>0</th>\n",
       "      <td>Ayam Woku Manado</td>\n",
       "      <td>1 Ekor Ayam Kampung (potong 12)--2 Buah Jeruk ...</td>\n",
       "      <td>1</td>\n",
       "      <td>/id/resep/4473027-ayam-woku-manado</td>\n",
       "      <td>720.650</td>\n",
       "      <td>1. Cuci bersih ayam dan tiriskan. Lalu peras j...</td>\n",
       "    </tr>\n",
       "    <tr>\n",
       "      <th>1</th>\n",
       "      <td>Ayam goreng tulang lunak</td>\n",
       "      <td>1 kg ayam (dipotong sesuai selera jangan kecil...</td>\n",
       "      <td>1</td>\n",
       "      <td>/id/resep/4471956-ayam-goreng-tulang-lunak</td>\n",
       "      <td>5863.950</td>\n",
       "      <td>1. Haluskan bumbu2nya (BaPut, ketumbar, kemiri...</td>\n",
       "    </tr>\n",
       "    <tr>\n",
       "      <th>2</th>\n",
       "      <td>Ayam cabai kawin</td>\n",
       "      <td>1/4 kg ayam--3 buah cabai hijau besar--7 buah ...</td>\n",
       "      <td>2</td>\n",
       "      <td>/id/resep/4473057-ayam-cabai-kawin</td>\n",
       "      <td>1095.945</td>\n",
       "      <td>1. Panaskan minyak di dalam wajan. Setelah min...</td>\n",
       "    </tr>\n",
       "    <tr>\n",
       "      <th>3</th>\n",
       "      <td>Ayam Geprek</td>\n",
       "      <td>250 gr daging ayam (saya pakai fillet)--Secuku...</td>\n",
       "      <td>10</td>\n",
       "      <td>/id/resep/4473023-ayam-geprek</td>\n",
       "      <td>953.100</td>\n",
       "      <td>1. Goreng ayam seperti ayam krispi\\n2. Ulek se...</td>\n",
       "    </tr>\n",
       "    <tr>\n",
       "      <th>4</th>\n",
       "      <td>Minyak Ayam</td>\n",
       "      <td>400 gr kulit ayam &amp; lemaknya--8 siung bawang p...</td>\n",
       "      <td>4</td>\n",
       "      <td>/id/resep/4427438-minyak-ayam</td>\n",
       "      <td>4143.400</td>\n",
       "      <td>1. Cuci bersih kulit ayam. Sisihkan\\n2. Ambil ...</td>\n",
       "    </tr>\n",
       "  </tbody>\n",
       "</table>\n",
       "</div>"
      ],
      "text/plain": [
       "                      Title  \\\n",
       "0          Ayam Woku Manado   \n",
       "1  Ayam goreng tulang lunak   \n",
       "2          Ayam cabai kawin   \n",
       "3               Ayam Geprek   \n",
       "4               Minyak Ayam   \n",
       "\n",
       "                                         Ingredients  Loves  \\\n",
       "0  1 Ekor Ayam Kampung (potong 12)--2 Buah Jeruk ...      1   \n",
       "1  1 kg ayam (dipotong sesuai selera jangan kecil...      1   \n",
       "2  1/4 kg ayam--3 buah cabai hijau besar--7 buah ...      2   \n",
       "3  250 gr daging ayam (saya pakai fillet)--Secuku...     10   \n",
       "4  400 gr kulit ayam & lemaknya--8 siung bawang p...      4   \n",
       "\n",
       "                                          URL    Kalori  \\\n",
       "0          /id/resep/4473027-ayam-woku-manado   720.650   \n",
       "1  /id/resep/4471956-ayam-goreng-tulang-lunak  5863.950   \n",
       "2          /id/resep/4473057-ayam-cabai-kawin  1095.945   \n",
       "3               /id/resep/4473023-ayam-geprek   953.100   \n",
       "4               /id/resep/4427438-minyak-ayam  4143.400   \n",
       "\n",
       "                                               Steps  \n",
       "0  1. Cuci bersih ayam dan tiriskan. Lalu peras j...  \n",
       "1  1. Haluskan bumbu2nya (BaPut, ketumbar, kemiri...  \n",
       "2  1. Panaskan minyak di dalam wajan. Setelah min...  \n",
       "3  1. Goreng ayam seperti ayam krispi\\n2. Ulek se...  \n",
       "4  1. Cuci bersih kulit ayam. Sisihkan\\n2. Ambil ...  "
      ]
     },
     "execution_count": 6,
     "metadata": {},
     "output_type": "execute_result"
    }
   ],
   "source": [
    "dfNew = pd.read_csv(\"dataset_caloriesNew.csv\")\n",
    "dfNew.head()"
   ]
  },
  {
   "cell_type": "code",
   "execution_count": null,
   "id": "675ba270",
   "metadata": {},
   "outputs": [],
   "source": [
    "dfNew.drop(columns=['URL'], inplace=True)"
   ]
  },
  {
   "cell_type": "code",
   "execution_count": null,
   "id": "cf1f3274",
   "metadata": {},
   "outputs": [
    {
     "data": {
      "application/vnd.microsoft.datawrangler.viewer.v0+json": {
       "columns": [
        {
         "name": "index",
         "rawType": "int64",
         "type": "integer"
        },
        {
         "name": "Title",
         "rawType": "object",
         "type": "string"
        },
        {
         "name": "Ingredients",
         "rawType": "object",
         "type": "unknown"
        },
        {
         "name": "Loves",
         "rawType": "int64",
         "type": "integer"
        },
        {
         "name": "Kalori",
         "rawType": "float64",
         "type": "float"
        },
        {
         "name": "Steps",
         "rawType": "object",
         "type": "unknown"
        }
       ],
       "ref": "2561df9c-8401-46dc-bd20-35eebe11d7df",
       "rows": [
        [
         "0",
         "Ayam Woku Manado",
         "1 Ekor Ayam Kampung (potong 12)--2 Buah Jeruk Nipis--2 Sdm Garam--3 Ruas Kunyit--7 Bawang Merah--7 Bawang Putih--10 Cabe Merah--10 Cabe Rawit Merah (sesuai selera)--3 Butir Kemiri--2 Batang Sereh--2 Lembar Daun Salam--2 Ikat Daun Kemangi--Penyedap Rasa--1 1/2 Gelas Air--",
         "1",
         "720.65",
         "1. Cuci bersih ayam dan tiriskan. Lalu peras jeruk nipis (kalo gak ada jeruk nipis bisa pake cuka) dan beri garam. Aduk hingga merata dan diamkan selama 5 menit, biar ayam gak bau amis.\n2. Goreng ayam tersebut setengah matang, lalu tiriskan\n3. Haluskan bumbu menggunakan blender. Bawang merah, bawang putih, cabe merah, cabe rawit, kemiri dan kunyit. Oh iya kasih minyak sedikit yaa biar bisa di blender. Untuk sereh nya di geprek aja terus di buat simpul.\n4. Setelah bumbu di haluskan barulah di tumis. Jangan lupa sereh dan daun salamnya juga ikut di tumis. Di tumis sampai berubah warna ya 👌\n5. Masukan ayam yang sudah di goreng setengah matang ke dalam bumbu yang sudah di tumis, dan diamkan 5 menit dulu. Biar bumbu meresap. Lalu tuangkan 1 1/2 Gelas air. Lalu tambahkan penyedap rasa (saya 3 Sdt, tapi sesuai selera ya) koreksi rasa dan Biar kan sampai mendidih\n6. Setelah masakan mendidih, lalu masukan daun kemangi yang sudah di potong potong. Masak lagi sekitar 10 menit. And taraaaaaaaaaaaaaa..... jadi deh Ayam Woku Manadonya.\n7. Oh iyaa kalo mau di tambahkan potongan tomat merah juga bisa ko. Sesuai selera aja yaa buibuuuu 👌👌👌"
        ],
        [
         "1",
         "Ayam goreng tulang lunak",
         "1 kg ayam (dipotong sesuai selera jangan kecil2 ya)--2 batang serai (memarkan)--4 lembar daun jeruk--7 butir bawang putih (haluskan)--1 sdm ketumbar (haluskan)--3 ruas jari Laos (haluskan)--3 ruas jari kunyit (haluskan)--2 butir kemiri (haluskan)--secukupnya Garam--Secukupnya Air (tuk ukep ayam)--Secukupnya Minyak goreng--",
         "1",
         "5863.95",
         "1. Haluskan bumbu2nya (BaPut, ketumbar, kemiri, kunyit, Laos, garam) hingga halus, sisihkan\n2. Campur kan bumbu halus tadi dengan ayam yg sudah dicuci bersih dan sudah dipotong didalam panci presto. Uleni sampai tercampur rata.\n3. Tambahkan air hingga ayam tenggelam semua. Masukkan serai dan daun jeruk nya kedalam rendaman ayam. Tutup panci presto rebus/ ukep presto sampai kurleb 45 menit. Dengan api sedang.\n4. Setelah proses ukep presto selesai, tunggu suhu dingin ruang. Lalu goreng ayam dengan minyak goreng api sedang sampai ayam berwarna kecoklatan.\n5. Matang dan sajikan ayam selagi hangat bersama nasi putih, sambal dgn perasan jeruk nipis, lalapan."
        ],
        [
         "2",
         "Ayam cabai kawin",
         "1/4 kg ayam--3 buah cabai hijau besar--7 buah cabai merah rawit--3 siung bawang putih--2 siung bawang merah--secukupnya Gula--secukupnya Garam--1/4 buah tomat merah--secukupnya Air--secukupnya Minyak goreng--",
         "2",
         "1095.945",
         "1. Panaskan minyak di dalam wajan. Setelah minyak panas masukkan ayam yang sudah dipotong dadu. Goreng hingga matang. Lalu tiriskan.\n2. Haluskan bawang putih, bawang merah, cabai hijau dan merah, tomat.\n3. Panaskan minyak didalam wajan. Setelah minyak panas, masukkan bumbu yang sudah halus. Tunggu sampai wangi. Masukkan ayam yang sudah di goreng. Tambahkan air, gula dan garam. Tunggu sampai bumbu meresap di ayam. Sajikan."
        ],
        [
         "3",
         "Ayam Geprek",
         "250 gr daging ayam (saya pakai fillet)--Secukupnya gula dan garam--50-100 gr tepung ayam serbaguna--Secukupnya lalapan (kemangi,kol,timun)--Secukupnya minyak panas--❤sambal korek--Secukupnya cabe rawit merah dan bwg putih--",
         "10",
         "953.1",
         "1. Goreng ayam seperti ayam krispi\n2. Ulek semua bahan sambal kemudian campur dengan minyak panas bekas goreng ayam\n3. Geprek ayam kemudian campur dengan sambal,sajikan dengan lalapan ❤"
        ],
        [
         "4",
         "Minyak Ayam",
         "400 gr kulit ayam & lemaknya--8 siung bawang putih kating, cincang kasar--1 ruas jahe, geprek--350 ml minyak goreng--1 sdm ketumbar bubuk--",
         "4",
         "4143.4",
         "1. Cuci bersih kulit ayam. Sisihkan\n2. Ambil 50 ml minyak goreng satu bahan yg sudah disiapkan tadi. Tumis jahe hingga harum.\n3. Masukkan kulit ayam, ketumbar dan bawang. Biarkan hingga keluar minyak alaminya sambil diaduk-aduk.\n4. Tambahkan sisa minyak goreng. Masak hingga kulit ayam mengering. Angkat dan saring.\n5. Setelah cukup dingin minyak ayam tadi dapat disimpan dalam wadah kering seperti mason jar/botol. Kalo saya, saya masukkan juga sedikit bawang putih goreng.\n6. Kulit ayam yg sudah digoreng kering tadi bisa dinikmati begitu saja sebagai camilan dengan ditaburi sejumput garam lalu aduk rata."
        ],
        [
         "5",
         "Nasi Bakar Ayam",
         "1 piring nasi--¹/⁴ fillet ayam, potong kotak, cuci bersih--Daun pisang yang sudah dibersihkan--Lidi/tusuk gigi untuk mengapit daun--1 lbr daun salam--3 cm serai, memarkan--1 ikat daun kemangi, opsional--1 cabe merah besar, iris tipis--1 sdt kecap manis--Minyak untuk menumis--100 ml air--Bumbu Halus:--1 cabe merah besar--3 cabe kecil--2 siung bawang merah--1 siung bawang putih--1 kemiri--1 cm kunyit--¹/² ruas jahe--¹/⁴ tomat--1 sdt gula pasir--1 blok kaldu ayam (aku biasa pake maggy) pake royco, masako--Merica (dikira2 z takar nya, aku sdkit z sih)--",
         "1",
         "4064.05",
         "1. Tumis bumbu halus, masukkan daun salam, serai\n2. Masukkan potongan ayam, kecap dan air, masak hingga air menyusut dan koreksi rasa\n3. Masukkan irisan cabe merah dan daun kemangi, aduk sebentar dan matikan api\n4. Tata daun pisang, tata nasi di atas daun, beri isian ayam atau bisa juga nasi di campur dan diaduk dulu dengan ayam baru di tata di daun Pisang, bunbu ayam akan lebih meresap k nasi\n5. Setelah nasi di bungkus, barulah nasi di bakar, aku bakar pake teflon z br cepet 😀😀\n6. Sajikan selagi hangat 👍👍endeusss\n7. Note: Jangan membakar terlalu lama biar nasi ga kotor dari daun yg di bakar kering"
        ],
        [
         "6",
         "Ayam Saus Hintalu Jaruk",
         "1/2 Ekor ayam--2 Butir Hintalu Jaruk--1 Buah Cabe merah--1 Buah Cabe hijau--300 gr Tepung terigu--1 bks Merica bubuk--2 Siung Bawang putih--1 Buah jeruk nipis--secukupnya Minyak goreng untuk menumis dan menggoreng--secukupnya Gula, garam dan penyedap rasa--",
         "0",
         "1966.65",
         "1. Potong ayam menjadi kotak-kotak ukuran sedang cuci bersih kemudian lumuri perasan jeruk nipis, garam dan merica\n2. Buat adonan tepung untuk melapisi ayam. Adonan A (Tepung terigu, garam, merica, penyedap dan air es) dan adonan B (Tepung terigu, garam, merica dan penyedap)\n3. Masukan daging ayam kedalam adonan A kemudian lapisi dengan adonan B, setelah itu goreng daging kedalam minyak panas sampai berwarna kuning keemasan. Angkat tiriskan\n4. Cincang bawang putih,iris seron cabe merah dan cabe hijau. Lumatkan kuning hintalu jaruk aka telur asin dengan air dingin sampai berbentuk pasta\n5. Tumis bawang putih dan cabe sampai harum, kemudian tuangkan ayam dan pasta kuning telur.\n6. Tambahkan gula, garam, penyedap dan merica secukupnya. Tes rasa dan masal hingga mengental\n7. Angkat dan sajikan bersama nasi putih panas. Selamat mencoba"
        ],
        [
         "7",
         "Ayam saos teriyaki Lada Hitam",
         "Ayam bagian dada dan tulang--1 buah bawang bombay--2 siung bawang daun--4 siung bawang putih--1 buah cabe merah besar--1 buah cabe ijo besar--Bahan bumbu :--secukupnya Air--Mentega untuk menumis--1 bungkus saos teriyaki (2 sdm)--1 sdm gula pasir--1 bungkus royco ayam--Larutan meizena--",
         "0",
         "712.45",
         "1. Cara Buat :\n1. Sediakan teplon or wajan beri sedikit minyak dan masukan bawang putih dan bawang bombay yang sudah di potong potong tumis sampai harum. Bisa juga sebelum dimasak ayamnya dibalurkan ke saos teriyaki dan diamkan selama 15 menit agar meresap\n2. 2. Masukan ayam oseng sampai agak mateng, baru masukan cabe ijo dan merah.\nBeri sedikit air\n3. 3. Masukan bumbu royco ayan saos teriyaki, gula, dan bubuk lada hitam. Cicipin\n4. 4. Setelah mulai mateng masukan daun bawang jika ingin kental bisa masukan larutan meizena yak. Saya tadi gak pake karena tiba tiba amnesia kirain punya tepungnya ternyata udah habis 😭..\nSetelah masak siap disajikan dengan nasi angat."
        ],
        [
         "8",
         "Steak ayam",
         "300 gr dada ayam fillet--1 sdm air jeruk nipis--secukupnya garam--adonan basah--50 gr terigu--10 gr maizena--1/4 sdt merica--garam--secukupnya air--adonan kering--150 gr terigu--30 gr maizena--1/2 sdt merica bubuk--1/4 sdt kaldu jamur--secukupnya garam--secukupnya minyak goreng--bahan saus jamur--50 gr jamur tiram blender--3 bawang putih cincang halus--20 gr keju parut--1 sdm maizena cairkan dgn air--2 sdm saus tiram--1 sdm kecap manis--1/2 sdt merica halus--secukupnya garam & kaldu jamur--air--bahan pelengkap--buncis dan wortel di kukus--",
         "6",
         "1395.1625",
         "1. Cuci bersih ayam, iris tipis melebar, rendam dgn garam dan air jeruk nipis 10 menit, cuci\n2. Campur adonan kering, sisihkan\n3. Campur adonan basah, sisihkan\n4. Panaskan minyak goreng dgn api sedang, gulingkan ayam pada adonan kering, lalu celup ke adonan basah, gulingkan lg pada adonan kering, jgn di remas2, kibas2 daging ayam pada adonan kering, lalu goreng di minyak yg banyak dan panas, biarkan krispinya terbentuk dl, jgn di balik2 dl, setelah cukup kering br di balik, goreng smpe matang, tiriskan\n5. Blender jamur tiram kasih air sedikit. tumis bawang putih yg di cincang halus, masukkan jamur yg di blender, masukkan bumbu2 yg lain sampai meresap, lalu tuang maizena yg sdh di cairkan dgn setengah gelas air, aduk2, masukkan keju parut, aduk sampai meletup2, tes rasa, klo sdh sesuai, angkat\n6. Tata dlm piring, ayam goreng tepung dan sayur kukus, siram dgn saus jamur, taburi daun bawang atau parsley jk ada."
        ],
        [
         "9",
         "Ayam Saos Asam Manis Simple",
         "1/4 kg Ayam bagian dada fillet (Potong dadu)--Secukupnya air jeruk nipis utk baluran--1 Bungkus tepung bumbu ayam instan uk besar + campur sedikit tepung terigu--3 Siung b.putih (iris tipis)--3 Siung b.merah (Iris tipis)--1 Buah b.bombay (Iris tipis)--1 Buah tomat uk besar (Haluskan)--3 sdm saos sambal--1 Sdm Saos tiram--Secukupnya Gula & garam--Secukupnya merica bubuk--",
         "6",
         "965.85",
         "1. Lumuri ayam yg sdh dipotong dadu dgn garam & perasan jeruk nipis (diamkan sebentar)\n2. Baluri ayam dengan tepung basah, lanjutkan ke tepung kering, diamkan sebentar\n3. Goreng ayam yg sdh dbaluri tepung sampai kering & matang, angkat tiriskan.\n4. Membuat Saos Asam Manis : -Tumis b.merah & putih (sy suka klo bawang y agak kering)\n5. Masukkan bawang bombay, tumis sebentar.\n6. Masukkan tomat buah yg sdh dihaluskan tdi, tumis lagi pakai api sedang, tambahkan air secukupnya\n7. Masukkan saos sambal, saos tiram, sedikit perasan jeruk nipis, gula, garam & merica (koreksi sampai rasanya terasa asam manis gurih segar)\n8. Masukkan ayam yg sdh digoreng tdi kedalam saos asam manis, diamkan sebentar\n9. Setelah ayam sdh cukup merasap dengan saos asam manisnya matikan api dan siap disajikan dengan nasi putih hangat"
        ],
        [
         "10",
         "Mie Ayam Homemade by suami😂😂😂",
         "Bahan mie ayam :--1 kg tepung terigu proteiin tinggi--4 butir telur--3 sendok minyak goreng--Air--Secukupnyaa garam--Air untuk merebus mie :--secukupnya Air--Minyak goreng--Bumbu halus kuah ayam untuk mie ayam :--3 Dada ayam(potong kotak2 jngn terlalu besar)--5 siung bawang merah--5 siung bawang putih--4 buah kemiri--secukupnya Lada--Secukupnya ketumbar--Jahe--Lengkuas--2 lembar sereh--5 lembar daun jeruk--2 lembar daun salam--Kecap--Gula merah--Minyak untuk menumis--Bahan pelengkap :--Daun bawang--Sawi hijau--Bawang goreng(me gak pakai lupa)--Bahan sambal :--20 buah cabai rawit merah--Garam(agar tidak cepat bau asam)--Air untuk merebus--",
         "0",
         "15506.2",
         "1. Kocok telur masukan garam n minyak goreng,aduk rata.masukan tepung terigu uleni pakai tangan sampai kalis(tidak menempel di tangan)diamkan 5 menit.\n2. Bagi adonan menjadi beberapa untuk memudahkan menggilasnya nanti,pipihkn pakai tangan lalu giling pakai ketebalan 4 setalah itu giling lg pakai ketebalan 1(ketebelan selera ya kalau saya suka yg tipis),sebelum di giling ke cetakan mie beri taburan terigu di atas adonannya agar tidak menempel,lakukan sampai adonan habis.\n3. Bagi mie menjadi beberapa porsi jngn lupa di beri taburan terigu ya agar tidak menempel.\n4. Haluskan semua bumbu halus kecuali daun jeruk&salam.\n5. Siapkan penggorengan beri minyak untuk menumis bumbu halus,masukan daun jeruk(sobek2)&daun salam,sereh geprek aja,tunggu sampai harum,lalu masukan ayam beri air(banyak boleh karna untuk kuahnya nanti)masukan kecap n gula merah,garam&penyedap test rasa.\n6. Untuk sambal rebus cabai merah rawit kira2 5menit.\n7. Siapkan panci beri air untuk merebus mie, masukan minyak goreng ke dalam air tujuaan untuk tidak menyatu.setelah mendidih masukan mie tunggu sampai mie naik ke atas barubdi angkat.\n8. Siapkan mangkok beri garam n kuah ayam aduk2 mie baru di berikan bahan pelengkap.\n9. Mie ayam homemade by suami siap di sajikan 😉😉😉😉"
        ],
        [
         "11",
         "Ayam Bakar Pedas Manis Resep :Nila Sari",
         "1 Ekor Ayam Broiler Ukuran Jumbo--Bumbu :--5 Siung Bawang Merah--10 Buah Cabe (Optional)--1 Ruas Jahe--1 Ruas Kunyit--Secukupnya Lada Bubuk--Secukupnya Ketumbar--2 Lembar Daun Jeruk--3 Lembar Daun Salam--1 Batang Serai--4 Siung Bawah Putih--Secukupnya Kecap--Secukupnya Gula Merah--Secukupnya Minyak Goreng--Secukupnya Royco--Secukupnya Garam--1 Bungkus Santan Kara--",
         "8",
         "931.85",
         "1. Iris tipis bawang merah dan daun jeruk.\n2. Haluskan cabe, bawang putih, lada, ketumbar, jahe dan kunyit.\n3. Tumis bawang merah hingga wangi.\n4. Masukan bumbu yang telah dihaluskan ke dalam tumisan bawang tumis semua hingga harum.\n5. Masukan serai, daun jeruk dan daun salam masak sedikit tuang santan kara dan tambahkan air.\n6. Kemudian masukan ayam taburi royco, lada dan garam aduk aduk tutup dan tunggu ayam empuk dan air mulai susut tes rasa.\n7. Bakar ayam bisa menggunakan arang, teflon, atau batu bakar (saya memakai grill lebih praktis).\n8. Selamat Mencoba."
        ],
        [
         "12",
         "Semur Ayam Kentang Ala Mama Kirana",
         "1/2 Ekor ayam--Kentang--Bumbu Halus :--Bawang putih - bisa di sesuaikan sesuaikan--Bawang merah--Merica--Kemiri--Sedikit biji Pala--Cabai Merah kriting, bila suka pedas--Sedikit jahe--Rempah:--Daun salam--Lengkuas--Sereh--Kapulaga--Kulit manis--Irisan bawang bombay--Irisan tomat--Garam--Kecap manis--Sedikit penyedap rasa--Jeruk nipis untuk ayam--",
         "2",
         "953.0",
         "1. Cuci bersih ayam lalu baluri dengan perasan jeruk nipis\n2. Cuci lagi ayam dan baluri dengan garam lalu rebus sebentar lalu di goreng\n3. Kentang saya goreng bisa di sesuaikan sesuai selera masing²\n4. Tips goreng ayam agar hasil nya tdk keras : di goreng hanya sebentar\n5. Tumis bawang bombay lalu masukan bumbu halus dan masukkan semua rempah + irisan tomat + kecap manis\n6. Setelah bumbu harum masukkan air tunggu gingga mendidih\n7. Tambahkan garam + penyedap rasa apabila kurang manis bisa ditambahkan kecap lagi\n8. Setelah semua sudah sesuai dgn rasa masukkan kentang goreng + ayam goreng\n9. Tunggu kuah hingga menyusut dan kiraa² 5 mnt angkat. Dan terakhir saya taburin bawang goreng bisa disesuaikan jg dgn selera masing². Selesai"
        ],
        [
         "13",
         "Ayam suwir",
         "300 gram Ayam suwir (sudah direbus/Goreng)--5 siung bawang merah--3 siung bawang putih--1/2 buah tomat--1/2 sdt merica--1/2 sdt terasi--2 buah cabe rawit--2 buah cabe kriting--Secukupnya gula--Secukupnya garam--Secukupnya air--Secukupnya penyedap rasa (Royco)--2 lembar daun salam--1 jari Lengkuas geprek--",
         "0",
         "7179.665",
         "1. Haluskan semua bumbu kecuali tomat, lengkuas, Dan daun salam\n2. Siapkan wajan untuk menumis Bumbu, kemudian tuang sedikit minyak Goreng Dan tumis Bumbu yang sudah dihaluskan ditambah daun Salam Dan lengkuas\n3. Setelah tercium bau Bumbu yang ditumis kemudian masukkan tomat yang sudah dipotong potong\n4. Kemudian setelab tomat layu masukkan air secukupnya Dan rasakan kuahnya kalau belum pas bisa ditambahkan penyedap rasa (Royco)\n5. Masukkan ayam yang sudah disuwir Dan aduk\n6. Tunggu sampai meresap Dan air berkurang\n7. Dan sajikan"
        ],
        [
         "14",
         "Ayam goreng tepung",
         "150 gr fillet ayam--5 sdm tepung bumbu serbaguna--1 butir telur ayam (kocok lepas)--Garam sck--Minya goreng secukupnya untuk menggoreng--",
         "1",
         "652.5",
         "1. Cuci ayam, tiriskan beri perasan jeruk lemon (skip boleh) Potong ayam bentuk dadu.\n2. Koco telur beri secukupnya garam. Masukkan ayam yg telah dipotong dadu.\n3. Balurkan ke dalam tepung serbaguna.\n4. Goreng pada minyak yg panas.\n5. Siap disantap😘😘😘😘"
        ],
        [
         "15",
         "Tulang Ayam Pedas Manis",
         "1/2 kg tulang ayam bersihkan lalu potong--5 bh cabe merah keriting--5 bh cabe rawit (tambah jika suka pedas)--4 butir bawang merah--2 butir bawang putih--1 ruas kunyit--2 lbr daun salam--1 lbr daun jeruk--1 btg sereh geprek--1 ruas jahe geprek--1 btr jeruk nipis--secukupnya kaldu bubuk--secukupnya gula pasir--secukupnya kecap manis--500 ml air untuk merebus tulang--minyak untuk menumis--",
         "3",
         "8396.1",
         "1. Setelah tulang ayam di bersihkan dan di potong potong lumuri tulang dengan perasan jeruk nipis lalu biarkan\n2. Siapkan bumbu yg akan di haluskan bwg merah, bwg putih, cabe, dan kunyit blender hingga halus\n3. Siapkan air untuk merebus tulang tambahkan jahe yg sudah di geprek dan daun jeruk ungkep tulang hingga air menyusut\n4. Tumis bumbu yg sudah di halus kan tambahkan air secukupnya dan daun salam juga sereh geprek, masukan tulang ayam, beri kaldu bubuk, gula pasir dan kecap manis secukupnya jgn lupa test rasanya dan biarkan tulang ayam hingga meresap\n5. Setelah tulang ayam kuahnya agak sedikit meresap angkat lalu sajikan\n6. Bisa untuk teman makan mie ayam lohh moms 😃"
        ],
        [
         "16",
         "Ayam penyet rumahan",
         "1 ekr ayam negri cuci bersih ptng beri air jeruk nipis cuci lagi--1 buah jeruk nipis--Bumbu ayam goreng jd,yg bsah. bisa beli di pasar,aku beli 3rb--2 lmbr daun salam--2 lmbr daun jeruk--1 btng sere geprek--Garam secukupnya dan penyedap--secukupnya Minyak goreng--Sambel penyet:--20 buah cabe rawit merah--5 buah cabe merah--2 siung bawang p kating--5 buah bawang merah goreng sebentr--Penyedap dan sedikit gula--",
         "3",
         "8848.67",
         "1. Ungkep ayam bersama bumbu jadi, daun salam, daun jeruk, sere,dan garam,tambah sedikit penyedap apinya kecil ajah ya. Lalu tutup\n2. Apabila sudah empuk dan matang goreng dalam minyak panas dan banyak sampe warna kuning kecoklatan, angkat\n3. Sementara lagi goreng ayam, kita siapkan sambel dulu, uleg semua cabe, dan bawang merah garam,sedikit gula dan penyedap, setelah agak halus kumpulin sambalnya di tengah cobek lalu siram dengan minyak panas bekas goreng ayam tadi lalu uleg lagi supaya rata\n4. Masukan ayam goreng ke dalam cobek lalu penyet pake ulegan, siap di hidangkan\n5. Selamat mencoba"
        ],
        [
         "17",
         "Sop ayam",
         "1 kg ayam potong kecil kecil--1/2 kg ceker ayam bersihkan--1/2 kg kentang iris--1/2 kg wortel iris--1 mangkok makaroni (rebus)--2 batang daun bawang (sesuai selera)--4 batang daun seledri (sesuai selera)--Bumbu dihaluskan :--8 siung bawang merah--5 siung bawang putih--Tambahan :--1 sendok teh lada halus--secukupnya Garam--Penyedap rasa (bila Sun's saya pake gula aja)--",
         "3",
         "3492.5",
         "1. Tumis bawang merah dan bawang putih hingga harum\n2. Masukkan potongan ayam dan ceker ke tumisan bumbu aduk rata\n3. Pindahkan ke panci besar tanbahkan air secukupkan\n4. Didihkan sampai ayam dan ceker cukup matang\n5. Masukkan kentang dan wortel yang diiris tadi, tunggu sampai lembut\n6. Masukkan macaroni yg sudah direbus\n7. Taburkan lada bubuk dan garam, tes rasa\n8. Terakhir masukkan daun bawang dan daun seledri\n9. Siap dihidangkan, taburkan bawang goreng biar tambah maknyuss"
        ],
        [
         "18",
         "Ayam suwir",
         "400 grm dada ayam--3 lembar daun jeruk--4 siung bawang putih--6 siung bawang merah--1 cm jahe--1 cm kunyit--secukupnya Garam dan gula--Minyak untuk menumis--",
         "0",
         "3523.0",
         "1. Rebus ayam sampai matang dan di suir suir.\n2. Haluskan bawang putih, bawang merah, jahe, dan kunyit.\n3. Panaskan minyak tumis bumbu halus, masukkan daun jeruk masak hingga harum tambahkan air secukupnya.\n4. Masukkan ayam masak hingga matang."
        ],
        [
         "19",
         "Nugget Ayam Home Made",
         "1/4 kg ayam d fillet ambil dagingnya aja--1 buah wortel--1 buah daun bawang prei--4 siung bawang putih--8 siung bawang merah--1 sdt merica--1/2 kg tepung tapioka--2 telur ayam--Garam, penyedap rasa--Tepung roti/ tepung panir--",
         "6",
         "888.27",
         "1. Cuci bersih ayam. Setelah itu potong kecil2. Masukkan dlm blender. Tambahkan 1 telur ayam, bwg pth, bwg merah, merica. Air sdkt. Lalu blender.\n2. Setelah itu parut wortel, ptong kecil2 daun bawang prei\n3. Taruh adonan ayam dalam wadah\n4. Masukkan wortel, daun prei, tepung tapioka 10 sdm. Kalau pengen lebih padet bisa tambahkan lagi. Sesuai selera\n5. Aduk2 ya sampai tercampur rata. Tambah i garam, penyedap.\n6. Siapkan wadah. Tuang adonan ke dalam wadah yg sebelumnya d olesi mentega\n7. Kukus d panci pengukusan. Kukus 30 - 40 mnt.\n8. Setelah matang, keluarkan dr panci. Biarkan dingin. Lalu keluarkan.\n9. Siapkan 1 telur (dikocok), tepung panir. Potong2 adonan jd kecil2, celupkan ke telur, lalu baluri dg tepung panir.\n10. Setelah itu goreng.Nugget siap d hidangkan. Nugget juga bisa d simpan d dalam freezer ya moms 😊. Jadi sewaktu2 bisa langsung goreng."
        ],
        [
         "20",
         "Ayam Koloke",
         "250 gr ayam fillet, potong-potong--2 sdm tepung bumbu serbaguna (larutkan dgn 75 ml air)--Pelapis:--4 sdm tepung terigu--1 sdm maizena--Bahan Saus--1 sdm butter / margarin--2 siung bawang putih, cincang halus--1 siung bawang bombai uk. Kecil (iris halus)--1/2 bh wortel (potong korek api)--1/2 bh timun (buang biji dan iris korek api)--1 btg daun bawang (potong2)--2 bh cabe merah (iris serong)--3 bh cabe rawit (iris serong)--3 sdm saus tomat--1 sdm saus tiram--1 sdt minyak wijen--1 sdt air lemon / jeruk nipis / cuka masak--250 ml air--Garam, lada, gula--1 sdt maizena (larutlan dgn 1 sdm air)--",
         "3",
         "1095.4",
         "1. Marinade ayam dgn tepung bumbu serbaguna yg sudah dilarutkan, aduk & disisihkan.\n2. Siapkan bahan pelapis. Ambil potongan ayam & balur ke dalam bahan pelapis. Goreng dalam minyak panas sampai matang. Lakukan sampai habis.\n3. Bahan saus: lelehkan butter, tumis duo bawang sampai harum. Masukkan wortel dan timun, tambahkan air, lalu masak sampai air mendidih. Masukkan duo cabe, saus tomat, saus tiram, minyak wijen, garam, gula, lada, air lemon, aduk rata. Masukkan larutan maizena, aduk sampai mengental. Terakhir masukkan daun bawang, matikan api supaya sayuran tidak over cook."
        ],
        [
         "21",
         "Mie tulang ayam",
         "1/4 kg tulang ayam--1 bungkus kecil mie burung dara--5 siung bawang putih--3 siung bawang merah--7 cabe rawit--1 tangkai daun bawang--2 tangkai seledri--1 1/2 sdm merica bubuk--2 sdm saos cabe--3 sdm kecap manis--secukupnya Gula dan garam--Minyak untuk menumis--",
         "1",
         "916.125",
         "1. Cuci bersih lalu rebus tulang ayam kurleb 10 menit. Lalu tiriskan\n2. Rebus mie sampai setengah matang. Lalu tiriskan\n3. Haluskan bawang merah, bawang putih dan cabe rawit\n4. Tumis sampai harum bumbu halus dengan irisan seledri dan daun bawang. Lalu tambahkan merica bubuk, gula dan garam.\n5. Masukkan tulang ayam, tunggu sampai bumbu meresap.\n6. Masukkan mie, saos dan kecap. Lalu tumis sampai bumbu tercampur. Tambahkan gula dan garam jika diperlukan.\n7. Mie tulang ayam siap dihidangkan."
        ],
        [
         "22",
         "Ayam Suir Bali (bemesere bali)",
         "1/2 kg dada ayam (rebus dahulu)--50 ml minyak goreng--Bumbu :--1/4 kg cabai merah--1/2 buah tomat--5 buah Cabe rawit--secukupnya Garam--secukupnya Gula jawa--1 sdt terasi bakar--1/2 perasan jeruk limo--3 buah daun jeruk purut--",
         "0",
         "1649.72",
         "1. Rebus ayam terlebih dahulu. Lalu, di suwir-suwir. (saya rebus karna kalau goreng, ayamny akan terasa keras dan kering)\n2. Ulek halus bumbu, lalu icip2 rasa agar pas\n3. Siapkan wajan, masukkan minyak goreng. Tunggu sampai panas, tuangkan bumbu\n4. Stelah stengah matang, lalu masukan ayam yang sudah disuir.\n5. Tunggu sampai agak meresap bumbuny. Masukkan perasan limo dan daun jeruk\n6. Makanan siap dihidangkan. Simple dan enak"
        ],
        [
         "23",
         "Pindang ayam jadul",
         "1/2 kg ayam--5 btr bawang merah iris halus--10 buah cabe rawit iris halus--2 cm jahe iris halus--1 cm lengkuas iris halus--1/2 sdt kunyit halus--1 sdt asam jawa--1 sdt terasi bangka panggang--1 bh tomat potong 4--Secukupnya daun kemangi (me:gak ada)--",
         "0",
         "1102.8",
         "1. Tumis semua bumbu kecuali tomat dengan 2 sdm minyak,oseng sampai harum,tambahkan 1 liter air didihkan,kalau sudah mendidih masukkan ayam,tutup, masak sampai ayam matang, setelah ayam matang koreksi rasa,beri taburan tomat dan daun kemangi, sajikan hangat, segerrr abis\n2. Selamat mencoba\nSemoga bermanfaat untuk semua"
        ],
        [
         "24",
         "Ayam Kacang Panjang Saos Hoisin",
         "Bahan Daging--1 lembar paha atas/dada ayam--1 sdm kecap asin, arak beras, tapioka--Bahan saos--1 ikat Kacang panjang--2 siung baput cincang halus--3 cm jahe cincang halus--1 sdm saos hoisin--1 sdt kecap asin--0.5 sdt micin--100 ml air--Larutan tapioka--",
         "2",
         "1913.5",
         "1. Marinade daging dengan bahannya 30mnt.\n2. Sebelum di tumis beri 1sdm minyak di daging ayam, aduk rata, lalu tumis agar tidak lengket di wajan. Matang, lalu angkat.\n3. Tumis jahe 10detik, masukkan baput lalu tumis sampai wangi.\n4. Masukkan kacang panjang, tumis sebentar lalu masukkan air, saos hoisin, kecap asin, micin. Tutup wajan, kecil kan api.\n5. Tunggu 1-2menit, buka tinder tutup wajan, aduk sebentar lalu tutup lg 1-2menit.\n6. Masukkan daging, aduk rata.\n7. Masukan larutan tapioka agar saos mengental. Aduk rata lalu sajikan"
        ],
        [
         "25",
         "Tongseng ayam",
         "500 g daging ayam (potong2)--1250 CC santan dr 1 butir kelapa (pisahkan bagian yg kental)--3 lembar daun jeruk--3 lembar daun salam--1 ruas lengkuas (geprek)--1 batang serai (geprek)--20 buah cabe rawit hijau--1 batang daun bawang (potong serong)--1 buah tomat (potong2)--3 sdm kecap manis--1 buah kentang ukuran sedang (potong2)--Secukupnya kol (iris2 tebal)--Secukupnya garam,kaldu bubuk, gula pasir (sesuai selera masing2)--Bawang goreng untuk taburan--Secukupnya minyak untuk menumis--Bumbu halus ;--8 siung bawang merah--4 siung bawang putih--1 ruas jahe--1/2 ruas kunyit--1 sdt ketumbar--1/2 sdt merica--3 butir kemiri sangrai--3 buah cabai merah besar--",
         "1",
         "13436.975",
         "1. Siapkan semua bahannya.. panaskan minyak, masukkan bumbu halus.. masak hingga keluar aroma wangi,masukkan daun salam, daun jeruk, serai dan lengkuas.. kemudian masukkan potongan daging ayamnya.\n2. Tuangkan santan encer, tunggu hingga daging ayam setengah matang.\n3. Masukkan kentang, garam, gula, kaldu bubuk, dan kecap.\n4. Masak hingga matang... Masukkan potongan kol dan juga cabai hijau.. lalu d susul dgn memasukkan santan kental, aduk2.. jgn sampai pecah santannya, tes rasa..\n5. Setelah mendidih matikan api, masukkan potongan daun bawang dan tomat, lalu beri taburan bawang goreng."
        ],
        [
         "26",
         "Ayam penyet sambel kemangi",
         "400 gr dada ayam--1 ikat daun kemangi--1 buah timun uk sedang--1 bungkus bumbu racik tempe--bahan sambel--10 buah cabe merah--10 buah cabe rawit--3 siung bamer--2 siung baput--gula--garam--1/2 buah tomat merah--secukupnya terasi--secukupnya minyak utk menggoreng--air utk mengungkep ayam--",
         "0",
         "1247.09",
         "1. Potong ayam sesuai selera,cuxi bersih lalu ungkep dengan sesikit air dan campur dengan bumbu racik tempe,matang angkat\n2. Panas kan minyak lalu goreng ayam hingga matang kecoklatan\n3. Goreng sebentar semua bahan sambel nya,,uleg jadi satu tambahkan garam gula...tes rasa...kalo sudah oke..masukkan beberapa lmbar daun kemangi..giling agak kasar aja\n4. Geprek ayam di atas ulek an,,susun di piring lalu letakkan sambel di atas ayam..susun irisan timun,dan juga kemangi. siap di santap dwngan nasi panas"
        ],
        [
         "27",
         "Nugget Ayam Wortel",
         "250 gram daging ayam giling--1 buah wortel ukuran sedang--1/2 buah bawang bombay--2-3 siung bawang putih--3 batang daun bawang--2 butir telur ayam--100 gram tepung terigu (kurang lebih)--secukupnya Tepung roti--secukupnya Garam--secukupnya Lada--secukupnya Penyedap rasa ayam--Minyak goreng--",
         "4",
         "1670.91",
         "1. Potong-potong bawang bombay dan bawang putih. Tumis dengan sedikit minyak hingga harum. Angkat\n2. Campurkan tumisan bawang dengan daging ayam giling dengan menggunakan blender atau food processor. Campur hingga bawang halus & tercampur rata. Tuang pada wadah yg telah disediakan untuk dicampur dengan bahan lain\n3. Potong wortel jadi bagian yg kecil. Masukkan pada campuran daging giling sebelumnya\n4. Potong daun bawang jadi bagian yg kecil. Masukkan pada adonan. Campur hingga rata\n5. Masukkan 1 butir telur ayam. Campurkan\n6. Masukkan tepung terigu perlahan-lahan dan campur hingga rata. Masukkan garam,lada dan penyedap rasa secukupnya.\n7. Panaskan kukusan\n8. Letakkan adonan pada cetakan yg telah disediakan. Masukkan pada kukusan yg telah dipanaskan sebelumnya. Tutup kukusan diberi kain agar air tidak menetes diadonan. Kukus kurang lebih 25-30 menit\n9. Angkat adonan yg sudah matang dari kukusan. Biarkan agar sedikit dingin.\n10. Setelah dingin potong-potong sesuai ukuran yg diinginkan.\n11. Kocok lepas 1 butir telur ayam. Celupkan adonan nugget yg telah dipotong tadi kedalam telur. Kemudian gulingkan di tepung roti.\n12. Ulangi langkah 11 hingga adonan nugget habis\n13. Dinginkan pada freezer kurang lebih 1 jam agar tepung roti menempel dengan sempurna\n14. Goreng nugget dengan minyak panas. Nugget ayam wortel siap disajikan.\n15. Nugget yg masuk ke dalam freezer dapat bertahan maksimal 3-4 minggu"
        ],
        [
         "28",
         "Ayam goreng pedas gila ala Kfc",
         "1/2 kg ayam--3 bungkus tepung bumbu uk 80 g yg pedas (aku pke sajiku)--Secukupnya air es--Minyak goreng--",
         "2",
         "1335.0",
         "1. Potong\" ayam, lalu cuci sampai bersih.\n2. Siapkan 2 mgkok. 1 untuk adonan tepung yang basah yg 1 nya lagi untuk tepung kering.\n3. Tuangkan kira\" 2 sdm tepung bumbu lalu tambahkan secukupnya air es kocok pakai garpu sampai adonannya encer.\n4. Celupkakan ayam ke dalam adonan basah lalu gulingkan ke dalam tepung kering sambil di remas\" hingga terbentuk kulit tepung yang keriting. Ulangi sampai selesai\n5. Panaskan minyak, lalu goreng sampai kecoklatan. Angkat, tiriskan.\n6. Ayam goreng siap untuk dinikmati.\n7. NB: kalau gk suka terlalu pedas tepung bumbunya bisa di mix sama yang original ya jd yg pedas bisa pke 1 bungkus aj yg 2 bungkus yg original."
        ],
        [
         "29",
         "Chicken Teriyaki",
         "500 gr Daging ayam iris memanjang--1 bh Bawang bombay, iris memanjang--1/2 sdt Gula--1/4 sdt Garan--150 ml Air--Minyak untuk menumis--Bumbu perendam :--3 sdm Saus teriyaki--2 sdm Saus tiram--1 sdm Kecap manis--1 sdt Minyak wijen--3 siung bawang putih, haluskan--2 cm Jahe, haluskan--1/4 sdt Merica--1/2 sdt Kaldu bubuk--",
         "1",
         "1215.8125",
         "1. Campur daging  ayam dengan bumbu perendam,gula dan garam,diamkan dikulkas 1-2jam agar bumbu meresap.\n2. Panaskan minyak tumis daging sampai matang tuangi air,masukan bawang bombay,masak sampai air agak menyusut,kentalkan dengan larutan maizena."
        ],
        [
         "30",
         "Ayam Kecap Pedas Jeruk Limao",
         "1/2 kg ayam potong2--2 lbr daun salam--1 ruas jahe geprek--4 lbr daun jeruk, buang tulangnya--3 buah jeruk limao--Secukupnya air perasn jeruk nipis--Secukupnya garam, merica, gula pasir, kaldu bubuk--Secukupnya kecap manis--250 ml air--1 siung bawang Bombay, iris2--🌀 Bumbu Halus 🌀--3 siung bawang putih--5 siung bawang merah--10 buah cabe keriting merah--5 buah cabe rawit merah--",
         "46",
         "10789.91",
         "1. Cuci ayam, lalu lumuri dgn perasan air jeruk nipis & garam, diamkan sebentar -+ 10 mnt, lalu bilas sampai bersih\n2. Goreng ayam sebentar, tidak usah sampai garing, sisihkan\n3. Panaskan minyak, tumis bumbu halus, daun salam, daun jeruk, jahe, sampai harum\n4. Masukkan bawang Bombay, masak sebentar\n5. Tambahkan air, beri garam, merica, gula pasir, kecap, & masukkan ayam, aduk rata, koreksi rasa\n6. Biarkan air surut & bumbu meresap, setelah matang, matikan api, beri perasan jeruk limao, aduk rata, sajikan\n7. Enakk 👌 pedes seger 😍"
        ],
        [
         "31",
         "Resep Ayam Kecap Rumahan",
         "1/2 Kg ayam--Bumbu yg di haluskan :--3 Bawang Putih--7 Bawang Merah--sesuai selera Cabe rawit dan cabe merah besar--2 cm Jahe--secukupnya Lada dan Pala--Lengkuas se jempol kaki😂--4 biji Kemiri--",
         "0",
         "697.55",
         "1. Rebus air sampai mendidih lalu masukan ayam dan ungkep sampai empuk\n2. Haluskan semua bumbu\n3. Panaskan minyak lalu tumis bumbu halus sampai wangi\n4. Masukan daun salam 3 lembar dan sereh 2 di geprek\n5. Setelah bumbu sudah matang masukkan 1 gelas air\n6. Tambahkan garam,micin,royko,asem\n7. Setelah di rasa sudah cukup masukan ayam\n8. Kecilkan api biar bumbunya meresap.\n9. Masak sampai bumbu menyusut (jadi agak kental gitu)\n10. Lalu hidangkan"
        ],
        [
         "32",
         "Sop Ayam Garang Asam",
         "1/2 ayam--3 serai--3 cm jahe--20 cabe rawit merah--8 bawang putih--4 bawang merah--2 tomat hijau--2 jeruk nipis (boleh lebih)--4 daun jeruk--secukupnya daun bawang--secukupnya garam--secukupnya penyedap--secukupnya air matang--",
         "2",
         "276.1",
         "1. Potong dan bersihkan ayam sesuai selera (kalo aku ku beri perasan jeruk nipis lalu diamkan dulu)\n2. Bawang2an diiris kasar, serai dan jahe di geprek, cabe aku hanya iris 6pc sisanya aku biarkan utuh, tomat kupotong memanjang begitu juga daun bawang.\n3. Panaskan minyak sedikit saja, masukkan bawang serai daun jeruk dan juga cabe diamkan hingga harum lalu masukkan air dan tunggu hingga mendidih. aetelah mendidih masukkan ayam\n4. Tunggu ayam hingga setengah empuk bumbui dengan penyedap garam dan juga gula, masukkan perasan jeruk nipis dan tomat aduk hingga merata\n5. Setelah koreksi rasa dan dirasa sudah pas dan ayam matang masukkan daun bawang. setelah itu selesai"
        ],
        [
         "33",
         "Ayam goreng krutuk",
         "tepung terigu--Air matang--ayam (yg sudah direbus sebelumnya)--Garam--Gula/penyedap--Lada bubuk--1 butir telur ayam--Minyak goreng--",
         "4",
         "1065.3",
         "1. Campur tepung terigu(kurang lebih 1/2 mangkuk kecil) dengan garam,gula/penyedap dan garam secukupnya. Tambahkan air matang sedikit demi sedikit hingga agak mengental. Koreksi rasa\n2. Balur ayam yg telah direbus sebelumnya dengan 1 butir telur (yg sudah dikocok lepas), kemudian gulingkan dalam adonan tepung, sisihkan\n3. Panaskan minyak goreng dengan api sedang, jika sudah panas masukan ayam yg sudah diberi adonan tepung, kecilkan api lalu masak hingga berwarna kecoklatan dan garing, angkat dan tiriskan.\n4. Selamat menikmati 😀"
        ],
        [
         "34",
         "Ayam panggang saos kecap",
         "Bumbu ayam panggang ;--1 kg ayam potong sesuai selera--3 siung bawang merah,ulek halus--3 siung bawang putih,ulek halus--Sedikit kunyit,dan garam,ulek halus--Untuk olesan ayam ;--Kecap manis,saus tomat,sedikit minyak,dicampur--Saos kecap/cocolan ;--sesuai selera Kecap manis--5 siung bawang merah,iris melintang agak tebal--3 siung bawang putih,ulek halus--5 buah cabe rawit,ulek halus--2 buah tomat potong sesuai selera--Jeruk nipis (skip)--Arang untuk memanggang ayam--",
         "0",
         "2327.06",
         "1. Cuci bersih ayam dan tiriskan,campur dibumbu yang sudah dihaluskan,aduk rata,diamkan selama 15 menit,lalu kukus selama 20 menit/ sampai mateng\n2. Sementara menunggu ayam dikukus,siapkan pemanggangan arangnya dulu untuk memanggang ayam\n3. Keluarkan ayam yang sudah dikukus dan siap dipanggang diatas pemanggangan arang\n4. Panggang ayam sambil diolesi dengan olesan, campuran kecap manis,saos tomat dan minyak,bolak balik ayam agar tidak gosong sambil diolesi sampai matang,angkat dan taroh dipiring saji\n5. Campurkan semua bahan saos kecap/ cocolan nya diwadah(mangkok),tambahkan kecap manis secukupnya,aduk agar tercampur rata,dan beri perasan jeruk nipis\n6. Ayam panggang dan saos kecap sudah siap dihidangkan bersama nasi hangat dan irisan timun sebagai pelengkap"
        ],
        [
         "35",
         "Soto ayam kuah santan",
         "1/5 kg ayam (diungkep dulu,lalu digoreng)--2 bungkus santan kara--2 cm kunyit--1 cm jahe--secukupnya Lada--secukupnya Daun salam,lengkuas,daun jeruk dan sereh--5 siung bawang merah--5 siung bawang putih--Penyedap : gula,garam royko ayam--Bahan pelengkap:--iris Tomat--Daun bawang dan seledri--Bihun (rebus dulu)--Bawang goreng--Kol di potong tipis--Tahu goreng--Kerupuk--Bawang goreng--Jeruk nipis--Sambal (cabe rawit,bawang putih/merah di rebus dulu, diulek)--",
         "3",
         "988.7",
         "1. Panaskan air rebus ayam hingga matang lalu tiriskan (air rebusan ayam bisa untuk kuah soto),lalu goreng ayam hingga matang\n2. Haluskan bumbu bawang merah,putih,kunyit,jahe,lada,lengkuas sereh cukup digeprek dan tumis hingga matang\n3. Masukan tumisan bumbu kedalam rebusan air,masukan daun salam,sereh dan daun jeruk\n4. Berikan bumbu garam,gula penyedap rasa, daun bawang dan santan kara masak hingga matang\n5. Sajikan soto selagi hangat bersama bihun dan pelengkap lainya"
        ],
        [
         "36",
         "Ayam Goreng Bumbu Kuning",
         "5 potong ayam--Secukupnya air--Secukupnya minyak goreng--🐓 Bumbu Halus 🐓--1 siung bawang putih--1 ruas jari kunyit--1/2 ruas jari jahe--1/2 sdt ketumbar--Secukupnya garam--",
         "15",
         "590.0",
         "1. Cuci bersih ayam,masukkan dalam panci,tambahkan bumbu halus dan air. Masak hingga empuk,matang dan bumbu meresap,tiriskan.\n2. Goreng dalam minyak panas dan api sedang hingga kuning keemasan,angkat,tiriskan\n3. Sajikan👌"
        ],
        [
         "37",
         "Mie Geprek (Mie + ayam geprek)",
         "1 bungkus mie burung dara--1 ons dada ayam--tepung terigu--kubis--bawang putih--kecap--royco sapi--secukupnya garam--ebi--minyak wijen--saus tiram--lada bubuk--minyak goreng--air--cabe rawit--bawang merah--",
         "2",
         "868.8",
         "1. Rebus mie burung dara, tiriskan\n2. Geprek bawang putih 2 siung, tumis sampai harum\n3. Masukkan minyak wijen 1 sendok teh. Tumis tumis sebentar bersama bawang\n4. Masukkan air 1 gelas belimbing\n5. Tambahkan kecap, ebi, garam, saus tiram, royco sapi, lada bubuk sesuai selera. Didihkan\n6. Masukkan mie yang telah direbus. Masak sampai air menyusut\n7. Tambahkan irisan kubis/kol. Aduk-aduk sebentar sampai air habis. Angkat\n8. Cuci bersih ayam, potong jadi 2 bagian atau iris sesuai selera\n9. Siapkan tepung kering. Caranya tambahkan garam dan royco sapi pada tepung. Takarannya sesuaikan dengan jumlah tepung\n10. Siapkan celupan tepung basah. Caranya campurkan tepung dengan air sampai teksturnya cair tapi cukup kental\n11. Masukkan ayam pada tepung kering. Lalu celupkan pada tepung basah. Masukkan ke tepung kering lagi. Remas-remas sampai tepung yang menempel ditangan terlepas dan menempel pada ayam\n12. Goreng ayam pada minyak panas dengan api besar, agar teksturnya crispy. Masak sampai kecoklatan lalu angkat.\n13. Sekarang membuat sambel bawang. Caranya bawang putih setengah siung + bawang merah 2 siung + cabe rawit sesuai selera diulek bersama garam dan gula. Tambahkan 1 sendok minyak lalu campur rata\n14. Geprek ayam crispy tadi kedalam sambel bawang\n15. Sajikan mie goreng dengan topping ayam geprek dan lalapan mentimun\n16. Selamat mencoba"
        ],
        [
         "38",
         "Seblak Mie Tulang Ayam",
         "1 bungkus mie burung dara--1/4 tulang ayam sisa filet (jadi masih ada daging2ny😁)--Sawi hijau--Sawi putih--Garam--Gula--Bahan halus :--5 siung bawang merah--3 siung bawang putih--3 buah cabe keritinh--15 buah cabe rawit (sesuai selera)--1 ruas jari kencur--",
         "0",
         "592.2",
         "1. Haluskan seluruh bumbu halus (saya pake blender)\n2. Tumis bumbu halus sampai wangi, masukan tulang ayam, tambahkan air, tunggu smpai ayam matang\n3. Setelah ayam matang masukan mie, gula, dan garam kemudian koreksi rasa..\n4. Setelah rasa pas masukan sayur2n sampai agak layu, jangan terlalu lama..\n5. Seblak mie siap dinikmati😋"
        ],
        [
         "39",
         "Sweet Buffalo Chicken 🐔",
         "🐔 Bahan Utama:--1 kg Paha ayam (10 potong)--🐔 Bumbu Pelapis Ayam :--Secukupnya Garam--1 sdt Lada hitam bubuk--1 sdt Paprika bubuk--2 sdm Tepung terigu--🐔 Bumbu Saus:--6 sdm Margarin unsalted--2 sdt Bawang putih bubuk--4 sdm Gula merah bubuk--4 sdm Saus tomat--4 sdm Saus sambal--secukupnya Garam--Secukupnya Wijen--",
         "0",
         "2440.1",
         "1. Cuci dan keringkan ayam (sampai kering).\n2. Lumuri ayam dengan garam, lada hitam, dan paprika bubuk.\n3. Baluri dengan tepung terigu. Diamkan 30 menit (saya 60 menit)\n4. Goreng ayam dengan minyak cukup banyak sampai matang +- 10 menit. Kemudian angkat dan tiriskan.\n5. Panaskan margarin, tambahkan bawang putih bubuk, gula merah bubuk, saus tomat, saus sambal dengan api sedang.\n6. Aduk rata dan biarkan sampai mengental. Pastikan api tidakterlalu besar karena ada gula merah yang rawan gosong.\n7. Masukan ayam dan baluri dengan bumbu sampai rata. Diamkan 5 menit sampai bumbu menyatu pada ayam.\n8. Angkat. Hidangkan sweet buffalo chicken dan taburi dengan wijen."
        ],
        [
         "40",
         "Ayam Garang Asem",
         "1/2 ekor ayam--Secukupnya daun pisang--1 santan kara kecil--1 jeruk nipis--👉bumbu rajang--5 cabai rawit--5 cabai merah--4 tomat hijau kecil--6 bawang merah--4 bawanh putih--👉tambahan--1 ruas laos--2 ruas jahe--4 daun jeruk--2 daun salam--2 batang serai--👉garam gulpas air minyak goreng--",
         "3",
         "667.275",
         "1. Potong2 ayam kecil2 lalu cuci dan beri perasan jeruk nipis diamkan sebentar dan cuci lgi.\n2. Tumis bumbu rajang beserta laos, daun jeruk, jahe, daun salam dan serai.\n3. Masukkan ayam dan air secukupnya. Tanbahkan garam dan gulpas. Masak setengah mateng\n4. Lalu masukkan santan kara aduh2 sampai mendidih matikan kompor\n5. Bungkus ayam dengan daun pisang lalu kukus kira2 15 menit\n6. Siap dihidangkan"
        ],
        [
         "41",
         "Ayam Geprek",
         "Fillet dada ayam khas dalam--Tepung bumbu kriuk--Baham Sambal:--7 buah rawit merah--10 buah cabai merah keriting--5 siung bawang putih--secukupnya garam--secukupnya kaldu jamur--",
         "1",
         "456.3",
         "1. Letakkan sedikit tepung bumbu dalam wadah lalu beri air untuk bumbu rendaman ayam. Buat sedikit kental, lalu diamkan dalam freezer 10 menit\n2. Ambil ayam dari bumbu rendaman, lalu baluri dengan tepung kering dan goreng hingga kecoklatan\n3. Untuk sambalnya ulek semua bahan jadi 1 lalu tuangkan minyak panas.\n4. Setelah itu masukan ayam yang sudah di goreng ke dalam cobek sambal dan ulek bersama."
        ],
        [
         "42",
         "Ayam Asam Manis Rumahan citarasa Resto",
         "Bahan--250 gram dada ayam, potong dadu--1 buah paprika merah/hijau--Sedikit nanas, potong dadu--1 bawang bombay--2 siung bawang putih, geprek--1 sdm minyak bawang utk menumis--Air dan tepung sagu, perbandingan 2:1--Saos asam manis:--4 sdm saos tomat--1 sdm saos sambal--1/2 sdt saos lea perrins--3 sdm gula pasir--1 sdt kaldu ayam--secukupnya garam--3 sdm kecap Inggris--1 sdt minyak wijen--1 sdm maggie seasoning--1 sdm saos raja rasa--Bumbu marinasi ayam:--1 sdt gula pasir--1 sdt garam--1 sdt kaldu ayam--1/2 sdt merica--",
         "6",
         "1104.375",
         "1. Marinasi ayam dengan bumbu marinasi, diamkan selama 10 menit\n2. Tumis bawang bombay, bawang putih, paprika\n3. Masukkan daging ayam yg telah dimarinasi\n4. Masukkan saos asam manis\n5. Masukkan campuran air dan tepung sagu\n6. Aduk hingga mengental\n7. Test rasa, tambahkan garam dan gula sesuai selera"
        ],
        [
         "43",
         "Ayam goreng tepung simple",
         "500 gram ayam dada potong2--6 siung bawang putih haluskan--1/2 sdt lada bubuk--secukupnya Kaldu bubuk--secukupnya Garam--1 butir telur--Tepung pelapis :--100 gram tepung terigu--20 gram tepung meizena--",
         "7",
         "1520.2",
         "1. Potong ayam sesuai selera, aku pake ayam dada utuh karna yg ada stok di kulkas itu hehehhehe\n2. Campur ayam dengan bawang putih yg sudah di haluskan, garam, lada, kaldu bubuk, aduk rata.\n3. Simpan di kulkas minimal 2 jam. (Semakin lama dibumbui ayamnya semakin enak, aku bumbui malam karna untuk di goreng pagi)\n4. Keluarkan ayam dari kulkas masukkan telur ke ayam aduk rata.\n5. Siapkan tepung pelapis diaduk rata lalu gulingkan potongan ayam ke dalam tepung remas sedikit.\n6. Goreng ayam ke dalam minyak panad sampai kecoklatan.\n7. Angkat sajikan, happy cooking moms. 😊😊😊😊😊"
        ],
        [
         "44",
         "Sop Balungan Ayam",
         "Tulang dari 1 ekor ayam jowo, rebus dg api kecil--Bumbu ulek :--4 siung bawang putih--1/4 sdt merica bubuk--1/2 sdt pala bubuk--2 cengkeh--1 sdm garam(sesuaikan dg penggunaan air)--1/2 sdt kaldu jamur--1 sdt gula--Bahan sayur :--2 buah wortel, iris tipis--1 kentang ukuran kecil, potong dadu--1 bonggol sawi sendok--Secukupnya seledri dan daun bawang--Pelengkap : bawang merah goreng--",
         "2",
         "385.9825",
         "1. Cuci bersih tulang ayam, rebus dg api kecil hingga keluar kaldu bening, buang kotoran yang mengapung, setelah itu masukkan bumbu ulek. Biarkan mendidih.\n2. Kemudian masukkan wortel, tunggu 3 menit masukkan kentang, tunggu 5 menit lalu cek rasa dan kematangan sayur, setelah pas baru masukkan sawi sendok, seledri, dan daun bawang. Aduk sebentar lalu matikan kompor.\n3. Sajikan dengan taburan bawang merah goreng dan sambal kecap."
        ],
        [
         "45",
         "Ayam goreng lepas tulang lembut",
         "1 kg ayam--4 bawang putih--3 ruas laos--1 ruas jahe--Daun salam, serai 2 ruas, daun jeruk,--",
         "3",
         "1943.65",
         "1. Masukkan ayam dalam magic com. \nBawang putih, jahe, laos, jahe blender sampai lembut.\nMasukkan bumbu yang sudah dihaluskan tadi dalam magic com\nTuang air bioglass dalam magic com sampai ayam terendam air bioglass.\nCetrek cook. Tunggu kira kira 45 menit. \nAmbil ayam dari magic com\nTaburi garam secukupnya\nGoreng\nJadii deh ayam empuk lezatnya. Biar ayamnya dingin juga masih empuk😊😊\nCara bikin sambel nya\nCabe, bawang merah trasi, goreng di sisa minyak ayam goreng tadi. Minyak nya dikit aja."
        ],
        [
         "46",
         "Sayap Goreng Bumbu Ngo Hiang",
         "1 kg sayap ayam bagian drum stick--2 sdm air jeruk nipis / lemon--1 sdt garam--1 sdm bumbu ngo hiang--3 tetes suclarose/stevia drop (boleh skip)--",
         "35",
         "1904.1",
         "1. Cuci sayap ayam, lalu dalam satu wadah masukkan sayap ayam beserta seluruh bumbu diatas, remas2\n2. Simpan dalam kulkas semalaman hingga bumbu meresap\n3. Goreng sayap ayam dengan minyak panas dan banyak hingga matang, sajikan"
        ],
        [
         "47",
         "Semur ayam kampung",
         "1/2 kg ayam kampung--3 siung bawang putih--5 siung bawang merah--3 butir kemiri--1 ruas jahe--4 lembar daun jeruk--1 lembar daun salam--1 batang serai (digeprek)--Lengkuas--1/4 sdt kunyit bubuk--1/2 sdt ketumbar bubuk--1/4 sdt merica bubuk--3/4 sdt garam--1/2 sdt gula pasir--Sedikit royco--Secukupnya kecap manis--Secukupnya air kaldu ayam kampung--Secukupnya minyak goreng--",
         "4",
         "8183.4625",
         "1. Potong ayam cuci lalu rebus sampai empuk. Haluskan bawang, kemiri, jahe.\n2. Tumis bumbu halus sampai harum masukan serai, daun jeruk, daun salam, lengkuas. Masukan air kaldu, ayam, merica, garam, kunyit, ketumbar, kecap, royco. Masak hingga bumbu meresap dan empuk banget, cek rasa ya bun..\n3. Semur ayam kampung udah matang...\n4. Ini aku masaknya sampai empuk banget... gak alot ya.. gigitnya gak pakai gigi, pakai bibir aja udah bisa, hhheee... krn sebelum dibumbuin direbus dulu sampai empuk, setelah itu baru dibumbuin.\n5. Selamat mencoba.."
        ],
        [
         "48",
         "Ayam Tepung KFC super gurih",
         "4 potong ayam (paha atas atau paha bawah)--1 Sdt air lemon--Secukupnya black papper--Secukupnya garam--Bahan pelapis :--200 gr tepung terigu serba guna--30 gr tepung maizena--1 Sdt oregano--1 Sdt garam--1 Sdt masako ayam--1 Sdt bubuk cabai--Bahan pencelup :--2 sdm tepung terigu--1 Sdt bubuk cabai--1 Sdt garam--Secukupnya lada putih--Air es--",
         "0",
         "1248.8",
         "1. Marinade Ayam dengan air lemon, black papper Dan garam, diamkan kurleb 1 jam atau lebih\n2. Campur semua bahan pelapis\n3. Campur semua bahan pencelup\n4. Lumuri Ayam dengan bahan pelapis, celupkan ke dalam bahan pencelup dan lumuri dengan bahan pelapis lagi. Lakukan 2-3 kali. Cubit cubit Bagian Luarnya agar hasilnya keriting\n5. Panaskan minyak goreng\n6. Goreng Ayam sampai matang, apinya Jangan terlalu besar agar matangnya merata hingga kebagian dalam\n7. Sajikan bersama kentang, selada atau asparagus sesuai selera\n8. Selamat mencoba"
        ],
        [
         "49",
         "Soto Ayam Surabaya",
         "1/2 Ekor Ayam--6 Siung Bawang Merah--4 Siung Bawang Putih--Secukupnya Ketumbar--Secukupnya Lada--1 Ruas Kunyit--1 Ruas Lengkuas--1 Ruas Jahe--1 Butir Kemiri--Daun Salam--Daun Jeruk--Gula--Garam--Penyedap Rasa (boleh pakai boleh tidak)--Daun Bawang--Kol--Tauge--Kentang--Telur Rebus--Sambal Rebus--",
         "4",
         "912.0",
         "1. Haluskan semua bumbu kecuali lengkuas & Sereh\n2. Tumis bumbu yg dihaluskan tadi hingga harum\n3. Rebus ayam hingga terlihat kaldunya kemudian masukkan bumbu yg telah ditumis tadi\n4. Icip & sajikan dengan kentang goreng, bihun, tauge & irisan tomat"
        ]
       ],
       "shape": {
        "columns": 5,
        "rows": 15641
       }
      },
      "text/html": [
       "<div>\n",
       "<style scoped>\n",
       "    .dataframe tbody tr th:only-of-type {\n",
       "        vertical-align: middle;\n",
       "    }\n",
       "\n",
       "    .dataframe tbody tr th {\n",
       "        vertical-align: top;\n",
       "    }\n",
       "\n",
       "    .dataframe thead th {\n",
       "        text-align: right;\n",
       "    }\n",
       "</style>\n",
       "<table border=\"1\" class=\"dataframe\">\n",
       "  <thead>\n",
       "    <tr style=\"text-align: right;\">\n",
       "      <th></th>\n",
       "      <th>Title</th>\n",
       "      <th>Ingredients</th>\n",
       "      <th>Loves</th>\n",
       "      <th>Kalori</th>\n",
       "      <th>Steps</th>\n",
       "    </tr>\n",
       "  </thead>\n",
       "  <tbody>\n",
       "    <tr>\n",
       "      <th>0</th>\n",
       "      <td>Ayam Woku Manado</td>\n",
       "      <td>1 Ekor Ayam Kampung (potong 12)--2 Buah Jeruk ...</td>\n",
       "      <td>1</td>\n",
       "      <td>720.650</td>\n",
       "      <td>1. Cuci bersih ayam dan tiriskan. Lalu peras j...</td>\n",
       "    </tr>\n",
       "    <tr>\n",
       "      <th>1</th>\n",
       "      <td>Ayam goreng tulang lunak</td>\n",
       "      <td>1 kg ayam (dipotong sesuai selera jangan kecil...</td>\n",
       "      <td>1</td>\n",
       "      <td>5863.950</td>\n",
       "      <td>1. Haluskan bumbu2nya (BaPut, ketumbar, kemiri...</td>\n",
       "    </tr>\n",
       "    <tr>\n",
       "      <th>2</th>\n",
       "      <td>Ayam cabai kawin</td>\n",
       "      <td>1/4 kg ayam--3 buah cabai hijau besar--7 buah ...</td>\n",
       "      <td>2</td>\n",
       "      <td>1095.945</td>\n",
       "      <td>1. Panaskan minyak di dalam wajan. Setelah min...</td>\n",
       "    </tr>\n",
       "    <tr>\n",
       "      <th>3</th>\n",
       "      <td>Ayam Geprek</td>\n",
       "      <td>250 gr daging ayam (saya pakai fillet)--Secuku...</td>\n",
       "      <td>10</td>\n",
       "      <td>953.100</td>\n",
       "      <td>1. Goreng ayam seperti ayam krispi\\n2. Ulek se...</td>\n",
       "    </tr>\n",
       "    <tr>\n",
       "      <th>4</th>\n",
       "      <td>Minyak Ayam</td>\n",
       "      <td>400 gr kulit ayam &amp; lemaknya--8 siung bawang p...</td>\n",
       "      <td>4</td>\n",
       "      <td>4143.400</td>\n",
       "      <td>1. Cuci bersih kulit ayam. Sisihkan\\n2. Ambil ...</td>\n",
       "    </tr>\n",
       "    <tr>\n",
       "      <th>...</th>\n",
       "      <td>...</td>\n",
       "      <td>...</td>\n",
       "      <td>...</td>\n",
       "      <td>...</td>\n",
       "      <td>...</td>\n",
       "    </tr>\n",
       "    <tr>\n",
       "      <th>15636</th>\n",
       "      <td>Udang saus mentega</td>\n",
       "      <td>1 kg udang segar--1 buah bawang bombay kecil--...</td>\n",
       "      <td>46</td>\n",
       "      <td>1339.650</td>\n",
       "      <td>1. Bersihkan udang, siapkan bahan bahan\\n2. Tu...</td>\n",
       "    </tr>\n",
       "    <tr>\n",
       "      <th>15637</th>\n",
       "      <td>Jipang tumis udang</td>\n",
       "      <td>500 gr jipang(saya pk 6bh jipang muda yg kecil...</td>\n",
       "      <td>6</td>\n",
       "      <td>335.700</td>\n",
       "      <td>1. Tumis bawang merah bawang putih hingga haru...</td>\n",
       "    </tr>\n",
       "    <tr>\n",
       "      <th>15638</th>\n",
       "      <td>Tumis Udang Tempe</td>\n",
       "      <td>3 siung bawang merah--3 siung bawang putih--2 ...</td>\n",
       "      <td>3</td>\n",
       "      <td>501.980</td>\n",
       "      <td>1. Tiriskan bawang putih, bawang merah dan cab...</td>\n",
       "    </tr>\n",
       "    <tr>\n",
       "      <th>15639</th>\n",
       "      <td>Tumis kacang panjang terong udang</td>\n",
       "      <td>Stgah ikat kacang panjang,ku bli 3ribu d psr--...</td>\n",
       "      <td>12</td>\n",
       "      <td>401.160</td>\n",
       "      <td>1. Potong2 kacang panjang,terong cuci bersih s...</td>\n",
       "    </tr>\n",
       "    <tr>\n",
       "      <th>15640</th>\n",
       "      <td>Siomay Udang Ayam</td>\n",
       "      <td>3 bh dada ayam--1/2 kg udang bersih--6 bh bawa...</td>\n",
       "      <td>28</td>\n",
       "      <td>951.600</td>\n",
       "      <td>1. Giling ayam dan udang serta haluskan bawang...</td>\n",
       "    </tr>\n",
       "  </tbody>\n",
       "</table>\n",
       "<p>15641 rows × 5 columns</p>\n",
       "</div>"
      ],
      "text/plain": [
       "                                   Title  \\\n",
       "0                       Ayam Woku Manado   \n",
       "1               Ayam goreng tulang lunak   \n",
       "2                       Ayam cabai kawin   \n",
       "3                            Ayam Geprek   \n",
       "4                            Minyak Ayam   \n",
       "...                                  ...   \n",
       "15636                 Udang saus mentega   \n",
       "15637                 Jipang tumis udang   \n",
       "15638                  Tumis Udang Tempe   \n",
       "15639  Tumis kacang panjang terong udang   \n",
       "15640                  Siomay Udang Ayam   \n",
       "\n",
       "                                             Ingredients  Loves    Kalori  \\\n",
       "0      1 Ekor Ayam Kampung (potong 12)--2 Buah Jeruk ...      1   720.650   \n",
       "1      1 kg ayam (dipotong sesuai selera jangan kecil...      1  5863.950   \n",
       "2      1/4 kg ayam--3 buah cabai hijau besar--7 buah ...      2  1095.945   \n",
       "3      250 gr daging ayam (saya pakai fillet)--Secuku...     10   953.100   \n",
       "4      400 gr kulit ayam & lemaknya--8 siung bawang p...      4  4143.400   \n",
       "...                                                  ...    ...       ...   \n",
       "15636  1 kg udang segar--1 buah bawang bombay kecil--...     46  1339.650   \n",
       "15637  500 gr jipang(saya pk 6bh jipang muda yg kecil...      6   335.700   \n",
       "15638  3 siung bawang merah--3 siung bawang putih--2 ...      3   501.980   \n",
       "15639  Stgah ikat kacang panjang,ku bli 3ribu d psr--...     12   401.160   \n",
       "15640  3 bh dada ayam--1/2 kg udang bersih--6 bh bawa...     28   951.600   \n",
       "\n",
       "                                                   Steps  \n",
       "0      1. Cuci bersih ayam dan tiriskan. Lalu peras j...  \n",
       "1      1. Haluskan bumbu2nya (BaPut, ketumbar, kemiri...  \n",
       "2      1. Panaskan minyak di dalam wajan. Setelah min...  \n",
       "3      1. Goreng ayam seperti ayam krispi\\n2. Ulek se...  \n",
       "4      1. Cuci bersih kulit ayam. Sisihkan\\n2. Ambil ...  \n",
       "...                                                  ...  \n",
       "15636  1. Bersihkan udang, siapkan bahan bahan\\n2. Tu...  \n",
       "15637  1. Tumis bawang merah bawang putih hingga haru...  \n",
       "15638  1. Tiriskan bawang putih, bawang merah dan cab...  \n",
       "15639  1. Potong2 kacang panjang,terong cuci bersih s...  \n",
       "15640  1. Giling ayam dan udang serta haluskan bawang...  \n",
       "\n",
       "[15641 rows x 5 columns]"
      ]
     },
     "execution_count": 8,
     "metadata": {},
     "output_type": "execute_result"
    }
   ],
   "source": [
    "dfNew"
   ]
  },
  {
   "cell_type": "code",
   "execution_count": null,
   "id": "94efd0a6",
   "metadata": {},
   "outputs": [],
   "source": [
    "dfNew['Kalori'] = dfNew['Kalori'].clip(upper=3250)"
   ]
  },
  {
   "cell_type": "code",
   "execution_count": null,
   "id": "f0d860b8",
   "metadata": {},
   "outputs": [
    {
     "data": {
      "application/vnd.microsoft.datawrangler.viewer.v0+json": {
       "columns": [
        {
         "name": "index",
         "rawType": "object",
         "type": "string"
        },
        {
         "name": "Loves",
         "rawType": "float64",
         "type": "float"
        },
        {
         "name": "Kalori",
         "rawType": "float64",
         "type": "float"
        }
       ],
       "ref": "6850d2aa-3a1b-410c-b193-7cbeb2498ab3",
       "rows": [
        [
         "count",
         "15641.0",
         "15641.0"
        ],
        [
         "mean",
         "11.745796304584106",
         "1295.0612819672656"
        ],
        [
         "std",
         "21.526043356593966",
         "1128.7439142315802"
        ],
        [
         "min",
         "0.0",
         "0.0"
        ],
        [
         "25%",
         "3.0",
         "450.85"
        ],
        [
         "50%",
         "6.0",
         "735.24"
        ],
        [
         "75%",
         "11.0",
         "2086.33"
        ],
        [
         "max",
         "939.0",
         "3250.0"
        ]
       ],
       "shape": {
        "columns": 2,
        "rows": 8
       }
      },
      "text/html": [
       "<div>\n",
       "<style scoped>\n",
       "    .dataframe tbody tr th:only-of-type {\n",
       "        vertical-align: middle;\n",
       "    }\n",
       "\n",
       "    .dataframe tbody tr th {\n",
       "        vertical-align: top;\n",
       "    }\n",
       "\n",
       "    .dataframe thead th {\n",
       "        text-align: right;\n",
       "    }\n",
       "</style>\n",
       "<table border=\"1\" class=\"dataframe\">\n",
       "  <thead>\n",
       "    <tr style=\"text-align: right;\">\n",
       "      <th></th>\n",
       "      <th>Loves</th>\n",
       "      <th>Kalori</th>\n",
       "    </tr>\n",
       "  </thead>\n",
       "  <tbody>\n",
       "    <tr>\n",
       "      <th>count</th>\n",
       "      <td>15641.000000</td>\n",
       "      <td>15641.000000</td>\n",
       "    </tr>\n",
       "    <tr>\n",
       "      <th>mean</th>\n",
       "      <td>11.745796</td>\n",
       "      <td>1295.061282</td>\n",
       "    </tr>\n",
       "    <tr>\n",
       "      <th>std</th>\n",
       "      <td>21.526043</td>\n",
       "      <td>1128.743914</td>\n",
       "    </tr>\n",
       "    <tr>\n",
       "      <th>min</th>\n",
       "      <td>0.000000</td>\n",
       "      <td>0.000000</td>\n",
       "    </tr>\n",
       "    <tr>\n",
       "      <th>25%</th>\n",
       "      <td>3.000000</td>\n",
       "      <td>450.850000</td>\n",
       "    </tr>\n",
       "    <tr>\n",
       "      <th>50%</th>\n",
       "      <td>6.000000</td>\n",
       "      <td>735.240000</td>\n",
       "    </tr>\n",
       "    <tr>\n",
       "      <th>75%</th>\n",
       "      <td>11.000000</td>\n",
       "      <td>2086.330000</td>\n",
       "    </tr>\n",
       "    <tr>\n",
       "      <th>max</th>\n",
       "      <td>939.000000</td>\n",
       "      <td>3250.000000</td>\n",
       "    </tr>\n",
       "  </tbody>\n",
       "</table>\n",
       "</div>"
      ],
      "text/plain": [
       "              Loves        Kalori\n",
       "count  15641.000000  15641.000000\n",
       "mean      11.745796   1295.061282\n",
       "std       21.526043   1128.743914\n",
       "min        0.000000      0.000000\n",
       "25%        3.000000    450.850000\n",
       "50%        6.000000    735.240000\n",
       "75%       11.000000   2086.330000\n",
       "max      939.000000   3250.000000"
      ]
     },
     "execution_count": 10,
     "metadata": {},
     "output_type": "execute_result"
    }
   ],
   "source": [
    "dfNew.describe()"
   ]
  },
  {
   "cell_type": "code",
   "execution_count": null,
   "id": "6e7f7cec",
   "metadata": {},
   "outputs": [
    {
     "data": {
      "application/vnd.microsoft.datawrangler.viewer.v0+json": {
       "columns": [
        {
         "name": "index",
         "rawType": "int64",
         "type": "integer"
        },
        {
         "name": "Title",
         "rawType": "object",
         "type": "string"
        },
        {
         "name": "Ingredients",
         "rawType": "object",
         "type": "unknown"
        },
        {
         "name": "Loves",
         "rawType": "int64",
         "type": "integer"
        },
        {
         "name": "Kalori",
         "rawType": "float64",
         "type": "float"
        },
        {
         "name": "Steps",
         "rawType": "object",
         "type": "unknown"
        }
       ],
       "ref": "f78681e7-53cf-4644-9bdb-82902ea3f8b7",
       "rows": [
        [
         "0",
         "Ayam Woku Manado",
         "1 Ekor Ayam Kampung (potong 12)--2 Buah Jeruk Nipis--2 Sdm Garam--3 Ruas Kunyit--7 Bawang Merah--7 Bawang Putih--10 Cabe Merah--10 Cabe Rawit Merah (sesuai selera)--3 Butir Kemiri--2 Batang Sereh--2 Lembar Daun Salam--2 Ikat Daun Kemangi--Penyedap Rasa--1 1/2 Gelas Air--",
         "1",
         "720.65",
         "1. Cuci bersih ayam dan tiriskan. Lalu peras jeruk nipis (kalo gak ada jeruk nipis bisa pake cuka) dan beri garam. Aduk hingga merata dan diamkan selama 5 menit, biar ayam gak bau amis.\n2. Goreng ayam tersebut setengah matang, lalu tiriskan\n3. Haluskan bumbu menggunakan blender. Bawang merah, bawang putih, cabe merah, cabe rawit, kemiri dan kunyit. Oh iya kasih minyak sedikit yaa biar bisa di blender. Untuk sereh nya di geprek aja terus di buat simpul.\n4. Setelah bumbu di haluskan barulah di tumis. Jangan lupa sereh dan daun salamnya juga ikut di tumis. Di tumis sampai berubah warna ya 👌\n5. Masukan ayam yang sudah di goreng setengah matang ke dalam bumbu yang sudah di tumis, dan diamkan 5 menit dulu. Biar bumbu meresap. Lalu tuangkan 1 1/2 Gelas air. Lalu tambahkan penyedap rasa (saya 3 Sdt, tapi sesuai selera ya) koreksi rasa dan Biar kan sampai mendidih\n6. Setelah masakan mendidih, lalu masukan daun kemangi yang sudah di potong potong. Masak lagi sekitar 10 menit. And taraaaaaaaaaaaaaa..... jadi deh Ayam Woku Manadonya.\n7. Oh iyaa kalo mau di tambahkan potongan tomat merah juga bisa ko. Sesuai selera aja yaa buibuuuu 👌👌👌"
        ],
        [
         "1",
         "Ayam goreng tulang lunak",
         "1 kg ayam (dipotong sesuai selera jangan kecil2 ya)--2 batang serai (memarkan)--4 lembar daun jeruk--7 butir bawang putih (haluskan)--1 sdm ketumbar (haluskan)--3 ruas jari Laos (haluskan)--3 ruas jari kunyit (haluskan)--2 butir kemiri (haluskan)--secukupnya Garam--Secukupnya Air (tuk ukep ayam)--Secukupnya Minyak goreng--",
         "1",
         "3250.0",
         "1. Haluskan bumbu2nya (BaPut, ketumbar, kemiri, kunyit, Laos, garam) hingga halus, sisihkan\n2. Campur kan bumbu halus tadi dengan ayam yg sudah dicuci bersih dan sudah dipotong didalam panci presto. Uleni sampai tercampur rata.\n3. Tambahkan air hingga ayam tenggelam semua. Masukkan serai dan daun jeruk nya kedalam rendaman ayam. Tutup panci presto rebus/ ukep presto sampai kurleb 45 menit. Dengan api sedang.\n4. Setelah proses ukep presto selesai, tunggu suhu dingin ruang. Lalu goreng ayam dengan minyak goreng api sedang sampai ayam berwarna kecoklatan.\n5. Matang dan sajikan ayam selagi hangat bersama nasi putih, sambal dgn perasan jeruk nipis, lalapan."
        ],
        [
         "2",
         "Ayam cabai kawin",
         "1/4 kg ayam--3 buah cabai hijau besar--7 buah cabai merah rawit--3 siung bawang putih--2 siung bawang merah--secukupnya Gula--secukupnya Garam--1/4 buah tomat merah--secukupnya Air--secukupnya Minyak goreng--",
         "2",
         "1095.945",
         "1. Panaskan minyak di dalam wajan. Setelah minyak panas masukkan ayam yang sudah dipotong dadu. Goreng hingga matang. Lalu tiriskan.\n2. Haluskan bawang putih, bawang merah, cabai hijau dan merah, tomat.\n3. Panaskan minyak didalam wajan. Setelah minyak panas, masukkan bumbu yang sudah halus. Tunggu sampai wangi. Masukkan ayam yang sudah di goreng. Tambahkan air, gula dan garam. Tunggu sampai bumbu meresap di ayam. Sajikan."
        ],
        [
         "3",
         "Ayam Geprek",
         "250 gr daging ayam (saya pakai fillet)--Secukupnya gula dan garam--50-100 gr tepung ayam serbaguna--Secukupnya lalapan (kemangi,kol,timun)--Secukupnya minyak panas--❤sambal korek--Secukupnya cabe rawit merah dan bwg putih--",
         "10",
         "953.1",
         "1. Goreng ayam seperti ayam krispi\n2. Ulek semua bahan sambal kemudian campur dengan minyak panas bekas goreng ayam\n3. Geprek ayam kemudian campur dengan sambal,sajikan dengan lalapan ❤"
        ],
        [
         "4",
         "Minyak Ayam",
         "400 gr kulit ayam & lemaknya--8 siung bawang putih kating, cincang kasar--1 ruas jahe, geprek--350 ml minyak goreng--1 sdm ketumbar bubuk--",
         "4",
         "3250.0",
         "1. Cuci bersih kulit ayam. Sisihkan\n2. Ambil 50 ml minyak goreng satu bahan yg sudah disiapkan tadi. Tumis jahe hingga harum.\n3. Masukkan kulit ayam, ketumbar dan bawang. Biarkan hingga keluar minyak alaminya sambil diaduk-aduk.\n4. Tambahkan sisa minyak goreng. Masak hingga kulit ayam mengering. Angkat dan saring.\n5. Setelah cukup dingin minyak ayam tadi dapat disimpan dalam wadah kering seperti mason jar/botol. Kalo saya, saya masukkan juga sedikit bawang putih goreng.\n6. Kulit ayam yg sudah digoreng kering tadi bisa dinikmati begitu saja sebagai camilan dengan ditaburi sejumput garam lalu aduk rata."
        ],
        [
         "5",
         "Nasi Bakar Ayam",
         "1 piring nasi--¹/⁴ fillet ayam, potong kotak, cuci bersih--Daun pisang yang sudah dibersihkan--Lidi/tusuk gigi untuk mengapit daun--1 lbr daun salam--3 cm serai, memarkan--1 ikat daun kemangi, opsional--1 cabe merah besar, iris tipis--1 sdt kecap manis--Minyak untuk menumis--100 ml air--Bumbu Halus:--1 cabe merah besar--3 cabe kecil--2 siung bawang merah--1 siung bawang putih--1 kemiri--1 cm kunyit--¹/² ruas jahe--¹/⁴ tomat--1 sdt gula pasir--1 blok kaldu ayam (aku biasa pake maggy) pake royco, masako--Merica (dikira2 z takar nya, aku sdkit z sih)--",
         "1",
         "3250.0",
         "1. Tumis bumbu halus, masukkan daun salam, serai\n2. Masukkan potongan ayam, kecap dan air, masak hingga air menyusut dan koreksi rasa\n3. Masukkan irisan cabe merah dan daun kemangi, aduk sebentar dan matikan api\n4. Tata daun pisang, tata nasi di atas daun, beri isian ayam atau bisa juga nasi di campur dan diaduk dulu dengan ayam baru di tata di daun Pisang, bunbu ayam akan lebih meresap k nasi\n5. Setelah nasi di bungkus, barulah nasi di bakar, aku bakar pake teflon z br cepet 😀😀\n6. Sajikan selagi hangat 👍👍endeusss\n7. Note: Jangan membakar terlalu lama biar nasi ga kotor dari daun yg di bakar kering"
        ],
        [
         "6",
         "Ayam Saus Hintalu Jaruk",
         "1/2 Ekor ayam--2 Butir Hintalu Jaruk--1 Buah Cabe merah--1 Buah Cabe hijau--300 gr Tepung terigu--1 bks Merica bubuk--2 Siung Bawang putih--1 Buah jeruk nipis--secukupnya Minyak goreng untuk menumis dan menggoreng--secukupnya Gula, garam dan penyedap rasa--",
         "0",
         "1966.65",
         "1. Potong ayam menjadi kotak-kotak ukuran sedang cuci bersih kemudian lumuri perasan jeruk nipis, garam dan merica\n2. Buat adonan tepung untuk melapisi ayam. Adonan A (Tepung terigu, garam, merica, penyedap dan air es) dan adonan B (Tepung terigu, garam, merica dan penyedap)\n3. Masukan daging ayam kedalam adonan A kemudian lapisi dengan adonan B, setelah itu goreng daging kedalam minyak panas sampai berwarna kuning keemasan. Angkat tiriskan\n4. Cincang bawang putih,iris seron cabe merah dan cabe hijau. Lumatkan kuning hintalu jaruk aka telur asin dengan air dingin sampai berbentuk pasta\n5. Tumis bawang putih dan cabe sampai harum, kemudian tuangkan ayam dan pasta kuning telur.\n6. Tambahkan gula, garam, penyedap dan merica secukupnya. Tes rasa dan masal hingga mengental\n7. Angkat dan sajikan bersama nasi putih panas. Selamat mencoba"
        ],
        [
         "7",
         "Ayam saos teriyaki Lada Hitam",
         "Ayam bagian dada dan tulang--1 buah bawang bombay--2 siung bawang daun--4 siung bawang putih--1 buah cabe merah besar--1 buah cabe ijo besar--Bahan bumbu :--secukupnya Air--Mentega untuk menumis--1 bungkus saos teriyaki (2 sdm)--1 sdm gula pasir--1 bungkus royco ayam--Larutan meizena--",
         "0",
         "712.45",
         "1. Cara Buat :\n1. Sediakan teplon or wajan beri sedikit minyak dan masukan bawang putih dan bawang bombay yang sudah di potong potong tumis sampai harum. Bisa juga sebelum dimasak ayamnya dibalurkan ke saos teriyaki dan diamkan selama 15 menit agar meresap\n2. 2. Masukan ayam oseng sampai agak mateng, baru masukan cabe ijo dan merah.\nBeri sedikit air\n3. 3. Masukan bumbu royco ayan saos teriyaki, gula, dan bubuk lada hitam. Cicipin\n4. 4. Setelah mulai mateng masukan daun bawang jika ingin kental bisa masukan larutan meizena yak. Saya tadi gak pake karena tiba tiba amnesia kirain punya tepungnya ternyata udah habis 😭..\nSetelah masak siap disajikan dengan nasi angat."
        ],
        [
         "8",
         "Steak ayam",
         "300 gr dada ayam fillet--1 sdm air jeruk nipis--secukupnya garam--adonan basah--50 gr terigu--10 gr maizena--1/4 sdt merica--garam--secukupnya air--adonan kering--150 gr terigu--30 gr maizena--1/2 sdt merica bubuk--1/4 sdt kaldu jamur--secukupnya garam--secukupnya minyak goreng--bahan saus jamur--50 gr jamur tiram blender--3 bawang putih cincang halus--20 gr keju parut--1 sdm maizena cairkan dgn air--2 sdm saus tiram--1 sdm kecap manis--1/2 sdt merica halus--secukupnya garam & kaldu jamur--air--bahan pelengkap--buncis dan wortel di kukus--",
         "6",
         "1395.1625",
         "1. Cuci bersih ayam, iris tipis melebar, rendam dgn garam dan air jeruk nipis 10 menit, cuci\n2. Campur adonan kering, sisihkan\n3. Campur adonan basah, sisihkan\n4. Panaskan minyak goreng dgn api sedang, gulingkan ayam pada adonan kering, lalu celup ke adonan basah, gulingkan lg pada adonan kering, jgn di remas2, kibas2 daging ayam pada adonan kering, lalu goreng di minyak yg banyak dan panas, biarkan krispinya terbentuk dl, jgn di balik2 dl, setelah cukup kering br di balik, goreng smpe matang, tiriskan\n5. Blender jamur tiram kasih air sedikit. tumis bawang putih yg di cincang halus, masukkan jamur yg di blender, masukkan bumbu2 yg lain sampai meresap, lalu tuang maizena yg sdh di cairkan dgn setengah gelas air, aduk2, masukkan keju parut, aduk sampai meletup2, tes rasa, klo sdh sesuai, angkat\n6. Tata dlm piring, ayam goreng tepung dan sayur kukus, siram dgn saus jamur, taburi daun bawang atau parsley jk ada."
        ],
        [
         "9",
         "Ayam Saos Asam Manis Simple",
         "1/4 kg Ayam bagian dada fillet (Potong dadu)--Secukupnya air jeruk nipis utk baluran--1 Bungkus tepung bumbu ayam instan uk besar + campur sedikit tepung terigu--3 Siung b.putih (iris tipis)--3 Siung b.merah (Iris tipis)--1 Buah b.bombay (Iris tipis)--1 Buah tomat uk besar (Haluskan)--3 sdm saos sambal--1 Sdm Saos tiram--Secukupnya Gula & garam--Secukupnya merica bubuk--",
         "6",
         "965.85",
         "1. Lumuri ayam yg sdh dipotong dadu dgn garam & perasan jeruk nipis (diamkan sebentar)\n2. Baluri ayam dengan tepung basah, lanjutkan ke tepung kering, diamkan sebentar\n3. Goreng ayam yg sdh dbaluri tepung sampai kering & matang, angkat tiriskan.\n4. Membuat Saos Asam Manis : -Tumis b.merah & putih (sy suka klo bawang y agak kering)\n5. Masukkan bawang bombay, tumis sebentar.\n6. Masukkan tomat buah yg sdh dihaluskan tdi, tumis lagi pakai api sedang, tambahkan air secukupnya\n7. Masukkan saos sambal, saos tiram, sedikit perasan jeruk nipis, gula, garam & merica (koreksi sampai rasanya terasa asam manis gurih segar)\n8. Masukkan ayam yg sdh digoreng tdi kedalam saos asam manis, diamkan sebentar\n9. Setelah ayam sdh cukup merasap dengan saos asam manisnya matikan api dan siap disajikan dengan nasi putih hangat"
        ],
        [
         "10",
         "Mie Ayam Homemade by suami😂😂😂",
         "Bahan mie ayam :--1 kg tepung terigu proteiin tinggi--4 butir telur--3 sendok minyak goreng--Air--Secukupnyaa garam--Air untuk merebus mie :--secukupnya Air--Minyak goreng--Bumbu halus kuah ayam untuk mie ayam :--3 Dada ayam(potong kotak2 jngn terlalu besar)--5 siung bawang merah--5 siung bawang putih--4 buah kemiri--secukupnya Lada--Secukupnya ketumbar--Jahe--Lengkuas--2 lembar sereh--5 lembar daun jeruk--2 lembar daun salam--Kecap--Gula merah--Minyak untuk menumis--Bahan pelengkap :--Daun bawang--Sawi hijau--Bawang goreng(me gak pakai lupa)--Bahan sambal :--20 buah cabai rawit merah--Garam(agar tidak cepat bau asam)--Air untuk merebus--",
         "0",
         "3250.0",
         "1. Kocok telur masukan garam n minyak goreng,aduk rata.masukan tepung terigu uleni pakai tangan sampai kalis(tidak menempel di tangan)diamkan 5 menit.\n2. Bagi adonan menjadi beberapa untuk memudahkan menggilasnya nanti,pipihkn pakai tangan lalu giling pakai ketebalan 4 setalah itu giling lg pakai ketebalan 1(ketebelan selera ya kalau saya suka yg tipis),sebelum di giling ke cetakan mie beri taburan terigu di atas adonannya agar tidak menempel,lakukan sampai adonan habis.\n3. Bagi mie menjadi beberapa porsi jngn lupa di beri taburan terigu ya agar tidak menempel.\n4. Haluskan semua bumbu halus kecuali daun jeruk&salam.\n5. Siapkan penggorengan beri minyak untuk menumis bumbu halus,masukan daun jeruk(sobek2)&daun salam,sereh geprek aja,tunggu sampai harum,lalu masukan ayam beri air(banyak boleh karna untuk kuahnya nanti)masukan kecap n gula merah,garam&penyedap test rasa.\n6. Untuk sambal rebus cabai merah rawit kira2 5menit.\n7. Siapkan panci beri air untuk merebus mie, masukan minyak goreng ke dalam air tujuaan untuk tidak menyatu.setelah mendidih masukan mie tunggu sampai mie naik ke atas barubdi angkat.\n8. Siapkan mangkok beri garam n kuah ayam aduk2 mie baru di berikan bahan pelengkap.\n9. Mie ayam homemade by suami siap di sajikan 😉😉😉😉"
        ],
        [
         "11",
         "Ayam Bakar Pedas Manis Resep :Nila Sari",
         "1 Ekor Ayam Broiler Ukuran Jumbo--Bumbu :--5 Siung Bawang Merah--10 Buah Cabe (Optional)--1 Ruas Jahe--1 Ruas Kunyit--Secukupnya Lada Bubuk--Secukupnya Ketumbar--2 Lembar Daun Jeruk--3 Lembar Daun Salam--1 Batang Serai--4 Siung Bawah Putih--Secukupnya Kecap--Secukupnya Gula Merah--Secukupnya Minyak Goreng--Secukupnya Royco--Secukupnya Garam--1 Bungkus Santan Kara--",
         "8",
         "931.85",
         "1. Iris tipis bawang merah dan daun jeruk.\n2. Haluskan cabe, bawang putih, lada, ketumbar, jahe dan kunyit.\n3. Tumis bawang merah hingga wangi.\n4. Masukan bumbu yang telah dihaluskan ke dalam tumisan bawang tumis semua hingga harum.\n5. Masukan serai, daun jeruk dan daun salam masak sedikit tuang santan kara dan tambahkan air.\n6. Kemudian masukan ayam taburi royco, lada dan garam aduk aduk tutup dan tunggu ayam empuk dan air mulai susut tes rasa.\n7. Bakar ayam bisa menggunakan arang, teflon, atau batu bakar (saya memakai grill lebih praktis).\n8. Selamat Mencoba."
        ],
        [
         "12",
         "Semur Ayam Kentang Ala Mama Kirana",
         "1/2 Ekor ayam--Kentang--Bumbu Halus :--Bawang putih - bisa di sesuaikan sesuaikan--Bawang merah--Merica--Kemiri--Sedikit biji Pala--Cabai Merah kriting, bila suka pedas--Sedikit jahe--Rempah:--Daun salam--Lengkuas--Sereh--Kapulaga--Kulit manis--Irisan bawang bombay--Irisan tomat--Garam--Kecap manis--Sedikit penyedap rasa--Jeruk nipis untuk ayam--",
         "2",
         "953.0",
         "1. Cuci bersih ayam lalu baluri dengan perasan jeruk nipis\n2. Cuci lagi ayam dan baluri dengan garam lalu rebus sebentar lalu di goreng\n3. Kentang saya goreng bisa di sesuaikan sesuai selera masing²\n4. Tips goreng ayam agar hasil nya tdk keras : di goreng hanya sebentar\n5. Tumis bawang bombay lalu masukan bumbu halus dan masukkan semua rempah + irisan tomat + kecap manis\n6. Setelah bumbu harum masukkan air tunggu gingga mendidih\n7. Tambahkan garam + penyedap rasa apabila kurang manis bisa ditambahkan kecap lagi\n8. Setelah semua sudah sesuai dgn rasa masukkan kentang goreng + ayam goreng\n9. Tunggu kuah hingga menyusut dan kiraa² 5 mnt angkat. Dan terakhir saya taburin bawang goreng bisa disesuaikan jg dgn selera masing². Selesai"
        ],
        [
         "13",
         "Ayam suwir",
         "300 gram Ayam suwir (sudah direbus/Goreng)--5 siung bawang merah--3 siung bawang putih--1/2 buah tomat--1/2 sdt merica--1/2 sdt terasi--2 buah cabe rawit--2 buah cabe kriting--Secukupnya gula--Secukupnya garam--Secukupnya air--Secukupnya penyedap rasa (Royco)--2 lembar daun salam--1 jari Lengkuas geprek--",
         "0",
         "3250.0",
         "1. Haluskan semua bumbu kecuali tomat, lengkuas, Dan daun salam\n2. Siapkan wajan untuk menumis Bumbu, kemudian tuang sedikit minyak Goreng Dan tumis Bumbu yang sudah dihaluskan ditambah daun Salam Dan lengkuas\n3. Setelah tercium bau Bumbu yang ditumis kemudian masukkan tomat yang sudah dipotong potong\n4. Kemudian setelab tomat layu masukkan air secukupnya Dan rasakan kuahnya kalau belum pas bisa ditambahkan penyedap rasa (Royco)\n5. Masukkan ayam yang sudah disuwir Dan aduk\n6. Tunggu sampai meresap Dan air berkurang\n7. Dan sajikan"
        ],
        [
         "14",
         "Ayam goreng tepung",
         "150 gr fillet ayam--5 sdm tepung bumbu serbaguna--1 butir telur ayam (kocok lepas)--Garam sck--Minya goreng secukupnya untuk menggoreng--",
         "1",
         "652.5",
         "1. Cuci ayam, tiriskan beri perasan jeruk lemon (skip boleh) Potong ayam bentuk dadu.\n2. Koco telur beri secukupnya garam. Masukkan ayam yg telah dipotong dadu.\n3. Balurkan ke dalam tepung serbaguna.\n4. Goreng pada minyak yg panas.\n5. Siap disantap😘😘😘😘"
        ],
        [
         "15",
         "Tulang Ayam Pedas Manis",
         "1/2 kg tulang ayam bersihkan lalu potong--5 bh cabe merah keriting--5 bh cabe rawit (tambah jika suka pedas)--4 butir bawang merah--2 butir bawang putih--1 ruas kunyit--2 lbr daun salam--1 lbr daun jeruk--1 btg sereh geprek--1 ruas jahe geprek--1 btr jeruk nipis--secukupnya kaldu bubuk--secukupnya gula pasir--secukupnya kecap manis--500 ml air untuk merebus tulang--minyak untuk menumis--",
         "3",
         "3250.0",
         "1. Setelah tulang ayam di bersihkan dan di potong potong lumuri tulang dengan perasan jeruk nipis lalu biarkan\n2. Siapkan bumbu yg akan di haluskan bwg merah, bwg putih, cabe, dan kunyit blender hingga halus\n3. Siapkan air untuk merebus tulang tambahkan jahe yg sudah di geprek dan daun jeruk ungkep tulang hingga air menyusut\n4. Tumis bumbu yg sudah di halus kan tambahkan air secukupnya dan daun salam juga sereh geprek, masukan tulang ayam, beri kaldu bubuk, gula pasir dan kecap manis secukupnya jgn lupa test rasanya dan biarkan tulang ayam hingga meresap\n5. Setelah tulang ayam kuahnya agak sedikit meresap angkat lalu sajikan\n6. Bisa untuk teman makan mie ayam lohh moms 😃"
        ],
        [
         "16",
         "Ayam penyet rumahan",
         "1 ekr ayam negri cuci bersih ptng beri air jeruk nipis cuci lagi--1 buah jeruk nipis--Bumbu ayam goreng jd,yg bsah. bisa beli di pasar,aku beli 3rb--2 lmbr daun salam--2 lmbr daun jeruk--1 btng sere geprek--Garam secukupnya dan penyedap--secukupnya Minyak goreng--Sambel penyet:--20 buah cabe rawit merah--5 buah cabe merah--2 siung bawang p kating--5 buah bawang merah goreng sebentr--Penyedap dan sedikit gula--",
         "3",
         "3250.0",
         "1. Ungkep ayam bersama bumbu jadi, daun salam, daun jeruk, sere,dan garam,tambah sedikit penyedap apinya kecil ajah ya. Lalu tutup\n2. Apabila sudah empuk dan matang goreng dalam minyak panas dan banyak sampe warna kuning kecoklatan, angkat\n3. Sementara lagi goreng ayam, kita siapkan sambel dulu, uleg semua cabe, dan bawang merah garam,sedikit gula dan penyedap, setelah agak halus kumpulin sambalnya di tengah cobek lalu siram dengan minyak panas bekas goreng ayam tadi lalu uleg lagi supaya rata\n4. Masukan ayam goreng ke dalam cobek lalu penyet pake ulegan, siap di hidangkan\n5. Selamat mencoba"
        ],
        [
         "17",
         "Sop ayam",
         "1 kg ayam potong kecil kecil--1/2 kg ceker ayam bersihkan--1/2 kg kentang iris--1/2 kg wortel iris--1 mangkok makaroni (rebus)--2 batang daun bawang (sesuai selera)--4 batang daun seledri (sesuai selera)--Bumbu dihaluskan :--8 siung bawang merah--5 siung bawang putih--Tambahan :--1 sendok teh lada halus--secukupnya Garam--Penyedap rasa (bila Sun's saya pake gula aja)--",
         "3",
         "3250.0",
         "1. Tumis bawang merah dan bawang putih hingga harum\n2. Masukkan potongan ayam dan ceker ke tumisan bumbu aduk rata\n3. Pindahkan ke panci besar tanbahkan air secukupkan\n4. Didihkan sampai ayam dan ceker cukup matang\n5. Masukkan kentang dan wortel yang diiris tadi, tunggu sampai lembut\n6. Masukkan macaroni yg sudah direbus\n7. Taburkan lada bubuk dan garam, tes rasa\n8. Terakhir masukkan daun bawang dan daun seledri\n9. Siap dihidangkan, taburkan bawang goreng biar tambah maknyuss"
        ],
        [
         "18",
         "Ayam suwir",
         "400 grm dada ayam--3 lembar daun jeruk--4 siung bawang putih--6 siung bawang merah--1 cm jahe--1 cm kunyit--secukupnya Garam dan gula--Minyak untuk menumis--",
         "0",
         "3250.0",
         "1. Rebus ayam sampai matang dan di suir suir.\n2. Haluskan bawang putih, bawang merah, jahe, dan kunyit.\n3. Panaskan minyak tumis bumbu halus, masukkan daun jeruk masak hingga harum tambahkan air secukupnya.\n4. Masukkan ayam masak hingga matang."
        ],
        [
         "19",
         "Nugget Ayam Home Made",
         "1/4 kg ayam d fillet ambil dagingnya aja--1 buah wortel--1 buah daun bawang prei--4 siung bawang putih--8 siung bawang merah--1 sdt merica--1/2 kg tepung tapioka--2 telur ayam--Garam, penyedap rasa--Tepung roti/ tepung panir--",
         "6",
         "888.27",
         "1. Cuci bersih ayam. Setelah itu potong kecil2. Masukkan dlm blender. Tambahkan 1 telur ayam, bwg pth, bwg merah, merica. Air sdkt. Lalu blender.\n2. Setelah itu parut wortel, ptong kecil2 daun bawang prei\n3. Taruh adonan ayam dalam wadah\n4. Masukkan wortel, daun prei, tepung tapioka 10 sdm. Kalau pengen lebih padet bisa tambahkan lagi. Sesuai selera\n5. Aduk2 ya sampai tercampur rata. Tambah i garam, penyedap.\n6. Siapkan wadah. Tuang adonan ke dalam wadah yg sebelumnya d olesi mentega\n7. Kukus d panci pengukusan. Kukus 30 - 40 mnt.\n8. Setelah matang, keluarkan dr panci. Biarkan dingin. Lalu keluarkan.\n9. Siapkan 1 telur (dikocok), tepung panir. Potong2 adonan jd kecil2, celupkan ke telur, lalu baluri dg tepung panir.\n10. Setelah itu goreng.Nugget siap d hidangkan. Nugget juga bisa d simpan d dalam freezer ya moms 😊. Jadi sewaktu2 bisa langsung goreng."
        ],
        [
         "20",
         "Ayam Koloke",
         "250 gr ayam fillet, potong-potong--2 sdm tepung bumbu serbaguna (larutkan dgn 75 ml air)--Pelapis:--4 sdm tepung terigu--1 sdm maizena--Bahan Saus--1 sdm butter / margarin--2 siung bawang putih, cincang halus--1 siung bawang bombai uk. Kecil (iris halus)--1/2 bh wortel (potong korek api)--1/2 bh timun (buang biji dan iris korek api)--1 btg daun bawang (potong2)--2 bh cabe merah (iris serong)--3 bh cabe rawit (iris serong)--3 sdm saus tomat--1 sdm saus tiram--1 sdt minyak wijen--1 sdt air lemon / jeruk nipis / cuka masak--250 ml air--Garam, lada, gula--1 sdt maizena (larutlan dgn 1 sdm air)--",
         "3",
         "1095.4",
         "1. Marinade ayam dgn tepung bumbu serbaguna yg sudah dilarutkan, aduk & disisihkan.\n2. Siapkan bahan pelapis. Ambil potongan ayam & balur ke dalam bahan pelapis. Goreng dalam minyak panas sampai matang. Lakukan sampai habis.\n3. Bahan saus: lelehkan butter, tumis duo bawang sampai harum. Masukkan wortel dan timun, tambahkan air, lalu masak sampai air mendidih. Masukkan duo cabe, saus tomat, saus tiram, minyak wijen, garam, gula, lada, air lemon, aduk rata. Masukkan larutan maizena, aduk sampai mengental. Terakhir masukkan daun bawang, matikan api supaya sayuran tidak over cook."
        ],
        [
         "21",
         "Mie tulang ayam",
         "1/4 kg tulang ayam--1 bungkus kecil mie burung dara--5 siung bawang putih--3 siung bawang merah--7 cabe rawit--1 tangkai daun bawang--2 tangkai seledri--1 1/2 sdm merica bubuk--2 sdm saos cabe--3 sdm kecap manis--secukupnya Gula dan garam--Minyak untuk menumis--",
         "1",
         "916.125",
         "1. Cuci bersih lalu rebus tulang ayam kurleb 10 menit. Lalu tiriskan\n2. Rebus mie sampai setengah matang. Lalu tiriskan\n3. Haluskan bawang merah, bawang putih dan cabe rawit\n4. Tumis sampai harum bumbu halus dengan irisan seledri dan daun bawang. Lalu tambahkan merica bubuk, gula dan garam.\n5. Masukkan tulang ayam, tunggu sampai bumbu meresap.\n6. Masukkan mie, saos dan kecap. Lalu tumis sampai bumbu tercampur. Tambahkan gula dan garam jika diperlukan.\n7. Mie tulang ayam siap dihidangkan."
        ],
        [
         "22",
         "Ayam Suir Bali (bemesere bali)",
         "1/2 kg dada ayam (rebus dahulu)--50 ml minyak goreng--Bumbu :--1/4 kg cabai merah--1/2 buah tomat--5 buah Cabe rawit--secukupnya Garam--secukupnya Gula jawa--1 sdt terasi bakar--1/2 perasan jeruk limo--3 buah daun jeruk purut--",
         "0",
         "1649.72",
         "1. Rebus ayam terlebih dahulu. Lalu, di suwir-suwir. (saya rebus karna kalau goreng, ayamny akan terasa keras dan kering)\n2. Ulek halus bumbu, lalu icip2 rasa agar pas\n3. Siapkan wajan, masukkan minyak goreng. Tunggu sampai panas, tuangkan bumbu\n4. Stelah stengah matang, lalu masukan ayam yang sudah disuir.\n5. Tunggu sampai agak meresap bumbuny. Masukkan perasan limo dan daun jeruk\n6. Makanan siap dihidangkan. Simple dan enak"
        ],
        [
         "23",
         "Pindang ayam jadul",
         "1/2 kg ayam--5 btr bawang merah iris halus--10 buah cabe rawit iris halus--2 cm jahe iris halus--1 cm lengkuas iris halus--1/2 sdt kunyit halus--1 sdt asam jawa--1 sdt terasi bangka panggang--1 bh tomat potong 4--Secukupnya daun kemangi (me:gak ada)--",
         "0",
         "1102.8",
         "1. Tumis semua bumbu kecuali tomat dengan 2 sdm minyak,oseng sampai harum,tambahkan 1 liter air didihkan,kalau sudah mendidih masukkan ayam,tutup, masak sampai ayam matang, setelah ayam matang koreksi rasa,beri taburan tomat dan daun kemangi, sajikan hangat, segerrr abis\n2. Selamat mencoba\nSemoga bermanfaat untuk semua"
        ],
        [
         "24",
         "Ayam Kacang Panjang Saos Hoisin",
         "Bahan Daging--1 lembar paha atas/dada ayam--1 sdm kecap asin, arak beras, tapioka--Bahan saos--1 ikat Kacang panjang--2 siung baput cincang halus--3 cm jahe cincang halus--1 sdm saos hoisin--1 sdt kecap asin--0.5 sdt micin--100 ml air--Larutan tapioka--",
         "2",
         "1913.5",
         "1. Marinade daging dengan bahannya 30mnt.\n2. Sebelum di tumis beri 1sdm minyak di daging ayam, aduk rata, lalu tumis agar tidak lengket di wajan. Matang, lalu angkat.\n3. Tumis jahe 10detik, masukkan baput lalu tumis sampai wangi.\n4. Masukkan kacang panjang, tumis sebentar lalu masukkan air, saos hoisin, kecap asin, micin. Tutup wajan, kecil kan api.\n5. Tunggu 1-2menit, buka tinder tutup wajan, aduk sebentar lalu tutup lg 1-2menit.\n6. Masukkan daging, aduk rata.\n7. Masukan larutan tapioka agar saos mengental. Aduk rata lalu sajikan"
        ],
        [
         "25",
         "Tongseng ayam",
         "500 g daging ayam (potong2)--1250 CC santan dr 1 butir kelapa (pisahkan bagian yg kental)--3 lembar daun jeruk--3 lembar daun salam--1 ruas lengkuas (geprek)--1 batang serai (geprek)--20 buah cabe rawit hijau--1 batang daun bawang (potong serong)--1 buah tomat (potong2)--3 sdm kecap manis--1 buah kentang ukuran sedang (potong2)--Secukupnya kol (iris2 tebal)--Secukupnya garam,kaldu bubuk, gula pasir (sesuai selera masing2)--Bawang goreng untuk taburan--Secukupnya minyak untuk menumis--Bumbu halus ;--8 siung bawang merah--4 siung bawang putih--1 ruas jahe--1/2 ruas kunyit--1 sdt ketumbar--1/2 sdt merica--3 butir kemiri sangrai--3 buah cabai merah besar--",
         "1",
         "3250.0",
         "1. Siapkan semua bahannya.. panaskan minyak, masukkan bumbu halus.. masak hingga keluar aroma wangi,masukkan daun salam, daun jeruk, serai dan lengkuas.. kemudian masukkan potongan daging ayamnya.\n2. Tuangkan santan encer, tunggu hingga daging ayam setengah matang.\n3. Masukkan kentang, garam, gula, kaldu bubuk, dan kecap.\n4. Masak hingga matang... Masukkan potongan kol dan juga cabai hijau.. lalu d susul dgn memasukkan santan kental, aduk2.. jgn sampai pecah santannya, tes rasa..\n5. Setelah mendidih matikan api, masukkan potongan daun bawang dan tomat, lalu beri taburan bawang goreng."
        ],
        [
         "26",
         "Ayam penyet sambel kemangi",
         "400 gr dada ayam--1 ikat daun kemangi--1 buah timun uk sedang--1 bungkus bumbu racik tempe--bahan sambel--10 buah cabe merah--10 buah cabe rawit--3 siung bamer--2 siung baput--gula--garam--1/2 buah tomat merah--secukupnya terasi--secukupnya minyak utk menggoreng--air utk mengungkep ayam--",
         "0",
         "1247.09",
         "1. Potong ayam sesuai selera,cuxi bersih lalu ungkep dengan sesikit air dan campur dengan bumbu racik tempe,matang angkat\n2. Panas kan minyak lalu goreng ayam hingga matang kecoklatan\n3. Goreng sebentar semua bahan sambel nya,,uleg jadi satu tambahkan garam gula...tes rasa...kalo sudah oke..masukkan beberapa lmbar daun kemangi..giling agak kasar aja\n4. Geprek ayam di atas ulek an,,susun di piring lalu letakkan sambel di atas ayam..susun irisan timun,dan juga kemangi. siap di santap dwngan nasi panas"
        ],
        [
         "27",
         "Nugget Ayam Wortel",
         "250 gram daging ayam giling--1 buah wortel ukuran sedang--1/2 buah bawang bombay--2-3 siung bawang putih--3 batang daun bawang--2 butir telur ayam--100 gram tepung terigu (kurang lebih)--secukupnya Tepung roti--secukupnya Garam--secukupnya Lada--secukupnya Penyedap rasa ayam--Minyak goreng--",
         "4",
         "1670.91",
         "1. Potong-potong bawang bombay dan bawang putih. Tumis dengan sedikit minyak hingga harum. Angkat\n2. Campurkan tumisan bawang dengan daging ayam giling dengan menggunakan blender atau food processor. Campur hingga bawang halus & tercampur rata. Tuang pada wadah yg telah disediakan untuk dicampur dengan bahan lain\n3. Potong wortel jadi bagian yg kecil. Masukkan pada campuran daging giling sebelumnya\n4. Potong daun bawang jadi bagian yg kecil. Masukkan pada adonan. Campur hingga rata\n5. Masukkan 1 butir telur ayam. Campurkan\n6. Masukkan tepung terigu perlahan-lahan dan campur hingga rata. Masukkan garam,lada dan penyedap rasa secukupnya.\n7. Panaskan kukusan\n8. Letakkan adonan pada cetakan yg telah disediakan. Masukkan pada kukusan yg telah dipanaskan sebelumnya. Tutup kukusan diberi kain agar air tidak menetes diadonan. Kukus kurang lebih 25-30 menit\n9. Angkat adonan yg sudah matang dari kukusan. Biarkan agar sedikit dingin.\n10. Setelah dingin potong-potong sesuai ukuran yg diinginkan.\n11. Kocok lepas 1 butir telur ayam. Celupkan adonan nugget yg telah dipotong tadi kedalam telur. Kemudian gulingkan di tepung roti.\n12. Ulangi langkah 11 hingga adonan nugget habis\n13. Dinginkan pada freezer kurang lebih 1 jam agar tepung roti menempel dengan sempurna\n14. Goreng nugget dengan minyak panas. Nugget ayam wortel siap disajikan.\n15. Nugget yg masuk ke dalam freezer dapat bertahan maksimal 3-4 minggu"
        ],
        [
         "28",
         "Ayam goreng pedas gila ala Kfc",
         "1/2 kg ayam--3 bungkus tepung bumbu uk 80 g yg pedas (aku pke sajiku)--Secukupnya air es--Minyak goreng--",
         "2",
         "1335.0",
         "1. Potong\" ayam, lalu cuci sampai bersih.\n2. Siapkan 2 mgkok. 1 untuk adonan tepung yang basah yg 1 nya lagi untuk tepung kering.\n3. Tuangkan kira\" 2 sdm tepung bumbu lalu tambahkan secukupnya air es kocok pakai garpu sampai adonannya encer.\n4. Celupkakan ayam ke dalam adonan basah lalu gulingkan ke dalam tepung kering sambil di remas\" hingga terbentuk kulit tepung yang keriting. Ulangi sampai selesai\n5. Panaskan minyak, lalu goreng sampai kecoklatan. Angkat, tiriskan.\n6. Ayam goreng siap untuk dinikmati.\n7. NB: kalau gk suka terlalu pedas tepung bumbunya bisa di mix sama yang original ya jd yg pedas bisa pke 1 bungkus aj yg 2 bungkus yg original."
        ],
        [
         "29",
         "Chicken Teriyaki",
         "500 gr Daging ayam iris memanjang--1 bh Bawang bombay, iris memanjang--1/2 sdt Gula--1/4 sdt Garan--150 ml Air--Minyak untuk menumis--Bumbu perendam :--3 sdm Saus teriyaki--2 sdm Saus tiram--1 sdm Kecap manis--1 sdt Minyak wijen--3 siung bawang putih, haluskan--2 cm Jahe, haluskan--1/4 sdt Merica--1/2 sdt Kaldu bubuk--",
         "1",
         "1215.8125",
         "1. Campur daging  ayam dengan bumbu perendam,gula dan garam,diamkan dikulkas 1-2jam agar bumbu meresap.\n2. Panaskan minyak tumis daging sampai matang tuangi air,masukan bawang bombay,masak sampai air agak menyusut,kentalkan dengan larutan maizena."
        ],
        [
         "30",
         "Ayam Kecap Pedas Jeruk Limao",
         "1/2 kg ayam potong2--2 lbr daun salam--1 ruas jahe geprek--4 lbr daun jeruk, buang tulangnya--3 buah jeruk limao--Secukupnya air perasn jeruk nipis--Secukupnya garam, merica, gula pasir, kaldu bubuk--Secukupnya kecap manis--250 ml air--1 siung bawang Bombay, iris2--🌀 Bumbu Halus 🌀--3 siung bawang putih--5 siung bawang merah--10 buah cabe keriting merah--5 buah cabe rawit merah--",
         "46",
         "3250.0",
         "1. Cuci ayam, lalu lumuri dgn perasan air jeruk nipis & garam, diamkan sebentar -+ 10 mnt, lalu bilas sampai bersih\n2. Goreng ayam sebentar, tidak usah sampai garing, sisihkan\n3. Panaskan minyak, tumis bumbu halus, daun salam, daun jeruk, jahe, sampai harum\n4. Masukkan bawang Bombay, masak sebentar\n5. Tambahkan air, beri garam, merica, gula pasir, kecap, & masukkan ayam, aduk rata, koreksi rasa\n6. Biarkan air surut & bumbu meresap, setelah matang, matikan api, beri perasan jeruk limao, aduk rata, sajikan\n7. Enakk 👌 pedes seger 😍"
        ],
        [
         "31",
         "Resep Ayam Kecap Rumahan",
         "1/2 Kg ayam--Bumbu yg di haluskan :--3 Bawang Putih--7 Bawang Merah--sesuai selera Cabe rawit dan cabe merah besar--2 cm Jahe--secukupnya Lada dan Pala--Lengkuas se jempol kaki😂--4 biji Kemiri--",
         "0",
         "697.55",
         "1. Rebus air sampai mendidih lalu masukan ayam dan ungkep sampai empuk\n2. Haluskan semua bumbu\n3. Panaskan minyak lalu tumis bumbu halus sampai wangi\n4. Masukan daun salam 3 lembar dan sereh 2 di geprek\n5. Setelah bumbu sudah matang masukkan 1 gelas air\n6. Tambahkan garam,micin,royko,asem\n7. Setelah di rasa sudah cukup masukan ayam\n8. Kecilkan api biar bumbunya meresap.\n9. Masak sampai bumbu menyusut (jadi agak kental gitu)\n10. Lalu hidangkan"
        ],
        [
         "32",
         "Sop Ayam Garang Asam",
         "1/2 ayam--3 serai--3 cm jahe--20 cabe rawit merah--8 bawang putih--4 bawang merah--2 tomat hijau--2 jeruk nipis (boleh lebih)--4 daun jeruk--secukupnya daun bawang--secukupnya garam--secukupnya penyedap--secukupnya air matang--",
         "2",
         "276.1",
         "1. Potong dan bersihkan ayam sesuai selera (kalo aku ku beri perasan jeruk nipis lalu diamkan dulu)\n2. Bawang2an diiris kasar, serai dan jahe di geprek, cabe aku hanya iris 6pc sisanya aku biarkan utuh, tomat kupotong memanjang begitu juga daun bawang.\n3. Panaskan minyak sedikit saja, masukkan bawang serai daun jeruk dan juga cabe diamkan hingga harum lalu masukkan air dan tunggu hingga mendidih. aetelah mendidih masukkan ayam\n4. Tunggu ayam hingga setengah empuk bumbui dengan penyedap garam dan juga gula, masukkan perasan jeruk nipis dan tomat aduk hingga merata\n5. Setelah koreksi rasa dan dirasa sudah pas dan ayam matang masukkan daun bawang. setelah itu selesai"
        ],
        [
         "33",
         "Ayam goreng krutuk",
         "tepung terigu--Air matang--ayam (yg sudah direbus sebelumnya)--Garam--Gula/penyedap--Lada bubuk--1 butir telur ayam--Minyak goreng--",
         "4",
         "1065.3",
         "1. Campur tepung terigu(kurang lebih 1/2 mangkuk kecil) dengan garam,gula/penyedap dan garam secukupnya. Tambahkan air matang sedikit demi sedikit hingga agak mengental. Koreksi rasa\n2. Balur ayam yg telah direbus sebelumnya dengan 1 butir telur (yg sudah dikocok lepas), kemudian gulingkan dalam adonan tepung, sisihkan\n3. Panaskan minyak goreng dengan api sedang, jika sudah panas masukan ayam yg sudah diberi adonan tepung, kecilkan api lalu masak hingga berwarna kecoklatan dan garing, angkat dan tiriskan.\n4. Selamat menikmati 😀"
        ],
        [
         "34",
         "Ayam panggang saos kecap",
         "Bumbu ayam panggang ;--1 kg ayam potong sesuai selera--3 siung bawang merah,ulek halus--3 siung bawang putih,ulek halus--Sedikit kunyit,dan garam,ulek halus--Untuk olesan ayam ;--Kecap manis,saus tomat,sedikit minyak,dicampur--Saos kecap/cocolan ;--sesuai selera Kecap manis--5 siung bawang merah,iris melintang agak tebal--3 siung bawang putih,ulek halus--5 buah cabe rawit,ulek halus--2 buah tomat potong sesuai selera--Jeruk nipis (skip)--Arang untuk memanggang ayam--",
         "0",
         "2327.06",
         "1. Cuci bersih ayam dan tiriskan,campur dibumbu yang sudah dihaluskan,aduk rata,diamkan selama 15 menit,lalu kukus selama 20 menit/ sampai mateng\n2. Sementara menunggu ayam dikukus,siapkan pemanggangan arangnya dulu untuk memanggang ayam\n3. Keluarkan ayam yang sudah dikukus dan siap dipanggang diatas pemanggangan arang\n4. Panggang ayam sambil diolesi dengan olesan, campuran kecap manis,saos tomat dan minyak,bolak balik ayam agar tidak gosong sambil diolesi sampai matang,angkat dan taroh dipiring saji\n5. Campurkan semua bahan saos kecap/ cocolan nya diwadah(mangkok),tambahkan kecap manis secukupnya,aduk agar tercampur rata,dan beri perasan jeruk nipis\n6. Ayam panggang dan saos kecap sudah siap dihidangkan bersama nasi hangat dan irisan timun sebagai pelengkap"
        ],
        [
         "35",
         "Soto ayam kuah santan",
         "1/5 kg ayam (diungkep dulu,lalu digoreng)--2 bungkus santan kara--2 cm kunyit--1 cm jahe--secukupnya Lada--secukupnya Daun salam,lengkuas,daun jeruk dan sereh--5 siung bawang merah--5 siung bawang putih--Penyedap : gula,garam royko ayam--Bahan pelengkap:--iris Tomat--Daun bawang dan seledri--Bihun (rebus dulu)--Bawang goreng--Kol di potong tipis--Tahu goreng--Kerupuk--Bawang goreng--Jeruk nipis--Sambal (cabe rawit,bawang putih/merah di rebus dulu, diulek)--",
         "3",
         "988.7",
         "1. Panaskan air rebus ayam hingga matang lalu tiriskan (air rebusan ayam bisa untuk kuah soto),lalu goreng ayam hingga matang\n2. Haluskan bumbu bawang merah,putih,kunyit,jahe,lada,lengkuas sereh cukup digeprek dan tumis hingga matang\n3. Masukan tumisan bumbu kedalam rebusan air,masukan daun salam,sereh dan daun jeruk\n4. Berikan bumbu garam,gula penyedap rasa, daun bawang dan santan kara masak hingga matang\n5. Sajikan soto selagi hangat bersama bihun dan pelengkap lainya"
        ],
        [
         "36",
         "Ayam Goreng Bumbu Kuning",
         "5 potong ayam--Secukupnya air--Secukupnya minyak goreng--🐓 Bumbu Halus 🐓--1 siung bawang putih--1 ruas jari kunyit--1/2 ruas jari jahe--1/2 sdt ketumbar--Secukupnya garam--",
         "15",
         "590.0",
         "1. Cuci bersih ayam,masukkan dalam panci,tambahkan bumbu halus dan air. Masak hingga empuk,matang dan bumbu meresap,tiriskan.\n2. Goreng dalam minyak panas dan api sedang hingga kuning keemasan,angkat,tiriskan\n3. Sajikan👌"
        ],
        [
         "37",
         "Mie Geprek (Mie + ayam geprek)",
         "1 bungkus mie burung dara--1 ons dada ayam--tepung terigu--kubis--bawang putih--kecap--royco sapi--secukupnya garam--ebi--minyak wijen--saus tiram--lada bubuk--minyak goreng--air--cabe rawit--bawang merah--",
         "2",
         "868.8",
         "1. Rebus mie burung dara, tiriskan\n2. Geprek bawang putih 2 siung, tumis sampai harum\n3. Masukkan minyak wijen 1 sendok teh. Tumis tumis sebentar bersama bawang\n4. Masukkan air 1 gelas belimbing\n5. Tambahkan kecap, ebi, garam, saus tiram, royco sapi, lada bubuk sesuai selera. Didihkan\n6. Masukkan mie yang telah direbus. Masak sampai air menyusut\n7. Tambahkan irisan kubis/kol. Aduk-aduk sebentar sampai air habis. Angkat\n8. Cuci bersih ayam, potong jadi 2 bagian atau iris sesuai selera\n9. Siapkan tepung kering. Caranya tambahkan garam dan royco sapi pada tepung. Takarannya sesuaikan dengan jumlah tepung\n10. Siapkan celupan tepung basah. Caranya campurkan tepung dengan air sampai teksturnya cair tapi cukup kental\n11. Masukkan ayam pada tepung kering. Lalu celupkan pada tepung basah. Masukkan ke tepung kering lagi. Remas-remas sampai tepung yang menempel ditangan terlepas dan menempel pada ayam\n12. Goreng ayam pada minyak panas dengan api besar, agar teksturnya crispy. Masak sampai kecoklatan lalu angkat.\n13. Sekarang membuat sambel bawang. Caranya bawang putih setengah siung + bawang merah 2 siung + cabe rawit sesuai selera diulek bersama garam dan gula. Tambahkan 1 sendok minyak lalu campur rata\n14. Geprek ayam crispy tadi kedalam sambel bawang\n15. Sajikan mie goreng dengan topping ayam geprek dan lalapan mentimun\n16. Selamat mencoba"
        ],
        [
         "38",
         "Seblak Mie Tulang Ayam",
         "1 bungkus mie burung dara--1/4 tulang ayam sisa filet (jadi masih ada daging2ny😁)--Sawi hijau--Sawi putih--Garam--Gula--Bahan halus :--5 siung bawang merah--3 siung bawang putih--3 buah cabe keritinh--15 buah cabe rawit (sesuai selera)--1 ruas jari kencur--",
         "0",
         "592.2",
         "1. Haluskan seluruh bumbu halus (saya pake blender)\n2. Tumis bumbu halus sampai wangi, masukan tulang ayam, tambahkan air, tunggu smpai ayam matang\n3. Setelah ayam matang masukan mie, gula, dan garam kemudian koreksi rasa..\n4. Setelah rasa pas masukan sayur2n sampai agak layu, jangan terlalu lama..\n5. Seblak mie siap dinikmati😋"
        ],
        [
         "39",
         "Sweet Buffalo Chicken 🐔",
         "🐔 Bahan Utama:--1 kg Paha ayam (10 potong)--🐔 Bumbu Pelapis Ayam :--Secukupnya Garam--1 sdt Lada hitam bubuk--1 sdt Paprika bubuk--2 sdm Tepung terigu--🐔 Bumbu Saus:--6 sdm Margarin unsalted--2 sdt Bawang putih bubuk--4 sdm Gula merah bubuk--4 sdm Saus tomat--4 sdm Saus sambal--secukupnya Garam--Secukupnya Wijen--",
         "0",
         "2440.1",
         "1. Cuci dan keringkan ayam (sampai kering).\n2. Lumuri ayam dengan garam, lada hitam, dan paprika bubuk.\n3. Baluri dengan tepung terigu. Diamkan 30 menit (saya 60 menit)\n4. Goreng ayam dengan minyak cukup banyak sampai matang +- 10 menit. Kemudian angkat dan tiriskan.\n5. Panaskan margarin, tambahkan bawang putih bubuk, gula merah bubuk, saus tomat, saus sambal dengan api sedang.\n6. Aduk rata dan biarkan sampai mengental. Pastikan api tidakterlalu besar karena ada gula merah yang rawan gosong.\n7. Masukan ayam dan baluri dengan bumbu sampai rata. Diamkan 5 menit sampai bumbu menyatu pada ayam.\n8. Angkat. Hidangkan sweet buffalo chicken dan taburi dengan wijen."
        ],
        [
         "40",
         "Ayam Garang Asem",
         "1/2 ekor ayam--Secukupnya daun pisang--1 santan kara kecil--1 jeruk nipis--👉bumbu rajang--5 cabai rawit--5 cabai merah--4 tomat hijau kecil--6 bawang merah--4 bawanh putih--👉tambahan--1 ruas laos--2 ruas jahe--4 daun jeruk--2 daun salam--2 batang serai--👉garam gulpas air minyak goreng--",
         "3",
         "667.275",
         "1. Potong2 ayam kecil2 lalu cuci dan beri perasan jeruk nipis diamkan sebentar dan cuci lgi.\n2. Tumis bumbu rajang beserta laos, daun jeruk, jahe, daun salam dan serai.\n3. Masukkan ayam dan air secukupnya. Tanbahkan garam dan gulpas. Masak setengah mateng\n4. Lalu masukkan santan kara aduh2 sampai mendidih matikan kompor\n5. Bungkus ayam dengan daun pisang lalu kukus kira2 15 menit\n6. Siap dihidangkan"
        ],
        [
         "41",
         "Ayam Geprek",
         "Fillet dada ayam khas dalam--Tepung bumbu kriuk--Baham Sambal:--7 buah rawit merah--10 buah cabai merah keriting--5 siung bawang putih--secukupnya garam--secukupnya kaldu jamur--",
         "1",
         "456.3",
         "1. Letakkan sedikit tepung bumbu dalam wadah lalu beri air untuk bumbu rendaman ayam. Buat sedikit kental, lalu diamkan dalam freezer 10 menit\n2. Ambil ayam dari bumbu rendaman, lalu baluri dengan tepung kering dan goreng hingga kecoklatan\n3. Untuk sambalnya ulek semua bahan jadi 1 lalu tuangkan minyak panas.\n4. Setelah itu masukan ayam yang sudah di goreng ke dalam cobek sambal dan ulek bersama."
        ],
        [
         "42",
         "Ayam Asam Manis Rumahan citarasa Resto",
         "Bahan--250 gram dada ayam, potong dadu--1 buah paprika merah/hijau--Sedikit nanas, potong dadu--1 bawang bombay--2 siung bawang putih, geprek--1 sdm minyak bawang utk menumis--Air dan tepung sagu, perbandingan 2:1--Saos asam manis:--4 sdm saos tomat--1 sdm saos sambal--1/2 sdt saos lea perrins--3 sdm gula pasir--1 sdt kaldu ayam--secukupnya garam--3 sdm kecap Inggris--1 sdt minyak wijen--1 sdm maggie seasoning--1 sdm saos raja rasa--Bumbu marinasi ayam:--1 sdt gula pasir--1 sdt garam--1 sdt kaldu ayam--1/2 sdt merica--",
         "6",
         "1104.375",
         "1. Marinasi ayam dengan bumbu marinasi, diamkan selama 10 menit\n2. Tumis bawang bombay, bawang putih, paprika\n3. Masukkan daging ayam yg telah dimarinasi\n4. Masukkan saos asam manis\n5. Masukkan campuran air dan tepung sagu\n6. Aduk hingga mengental\n7. Test rasa, tambahkan garam dan gula sesuai selera"
        ],
        [
         "43",
         "Ayam goreng tepung simple",
         "500 gram ayam dada potong2--6 siung bawang putih haluskan--1/2 sdt lada bubuk--secukupnya Kaldu bubuk--secukupnya Garam--1 butir telur--Tepung pelapis :--100 gram tepung terigu--20 gram tepung meizena--",
         "7",
         "1520.2",
         "1. Potong ayam sesuai selera, aku pake ayam dada utuh karna yg ada stok di kulkas itu hehehhehe\n2. Campur ayam dengan bawang putih yg sudah di haluskan, garam, lada, kaldu bubuk, aduk rata.\n3. Simpan di kulkas minimal 2 jam. (Semakin lama dibumbui ayamnya semakin enak, aku bumbui malam karna untuk di goreng pagi)\n4. Keluarkan ayam dari kulkas masukkan telur ke ayam aduk rata.\n5. Siapkan tepung pelapis diaduk rata lalu gulingkan potongan ayam ke dalam tepung remas sedikit.\n6. Goreng ayam ke dalam minyak panad sampai kecoklatan.\n7. Angkat sajikan, happy cooking moms. 😊😊😊😊😊"
        ],
        [
         "44",
         "Sop Balungan Ayam",
         "Tulang dari 1 ekor ayam jowo, rebus dg api kecil--Bumbu ulek :--4 siung bawang putih--1/4 sdt merica bubuk--1/2 sdt pala bubuk--2 cengkeh--1 sdm garam(sesuaikan dg penggunaan air)--1/2 sdt kaldu jamur--1 sdt gula--Bahan sayur :--2 buah wortel, iris tipis--1 kentang ukuran kecil, potong dadu--1 bonggol sawi sendok--Secukupnya seledri dan daun bawang--Pelengkap : bawang merah goreng--",
         "2",
         "385.9825",
         "1. Cuci bersih tulang ayam, rebus dg api kecil hingga keluar kaldu bening, buang kotoran yang mengapung, setelah itu masukkan bumbu ulek. Biarkan mendidih.\n2. Kemudian masukkan wortel, tunggu 3 menit masukkan kentang, tunggu 5 menit lalu cek rasa dan kematangan sayur, setelah pas baru masukkan sawi sendok, seledri, dan daun bawang. Aduk sebentar lalu matikan kompor.\n3. Sajikan dengan taburan bawang merah goreng dan sambal kecap."
        ],
        [
         "45",
         "Ayam goreng lepas tulang lembut",
         "1 kg ayam--4 bawang putih--3 ruas laos--1 ruas jahe--Daun salam, serai 2 ruas, daun jeruk,--",
         "3",
         "1943.65",
         "1. Masukkan ayam dalam magic com. \nBawang putih, jahe, laos, jahe blender sampai lembut.\nMasukkan bumbu yang sudah dihaluskan tadi dalam magic com\nTuang air bioglass dalam magic com sampai ayam terendam air bioglass.\nCetrek cook. Tunggu kira kira 45 menit. \nAmbil ayam dari magic com\nTaburi garam secukupnya\nGoreng\nJadii deh ayam empuk lezatnya. Biar ayamnya dingin juga masih empuk😊😊\nCara bikin sambel nya\nCabe, bawang merah trasi, goreng di sisa minyak ayam goreng tadi. Minyak nya dikit aja."
        ],
        [
         "46",
         "Sayap Goreng Bumbu Ngo Hiang",
         "1 kg sayap ayam bagian drum stick--2 sdm air jeruk nipis / lemon--1 sdt garam--1 sdm bumbu ngo hiang--3 tetes suclarose/stevia drop (boleh skip)--",
         "35",
         "1904.1",
         "1. Cuci sayap ayam, lalu dalam satu wadah masukkan sayap ayam beserta seluruh bumbu diatas, remas2\n2. Simpan dalam kulkas semalaman hingga bumbu meresap\n3. Goreng sayap ayam dengan minyak panas dan banyak hingga matang, sajikan"
        ],
        [
         "47",
         "Semur ayam kampung",
         "1/2 kg ayam kampung--3 siung bawang putih--5 siung bawang merah--3 butir kemiri--1 ruas jahe--4 lembar daun jeruk--1 lembar daun salam--1 batang serai (digeprek)--Lengkuas--1/4 sdt kunyit bubuk--1/2 sdt ketumbar bubuk--1/4 sdt merica bubuk--3/4 sdt garam--1/2 sdt gula pasir--Sedikit royco--Secukupnya kecap manis--Secukupnya air kaldu ayam kampung--Secukupnya minyak goreng--",
         "4",
         "3250.0",
         "1. Potong ayam cuci lalu rebus sampai empuk. Haluskan bawang, kemiri, jahe.\n2. Tumis bumbu halus sampai harum masukan serai, daun jeruk, daun salam, lengkuas. Masukan air kaldu, ayam, merica, garam, kunyit, ketumbar, kecap, royco. Masak hingga bumbu meresap dan empuk banget, cek rasa ya bun..\n3. Semur ayam kampung udah matang...\n4. Ini aku masaknya sampai empuk banget... gak alot ya.. gigitnya gak pakai gigi, pakai bibir aja udah bisa, hhheee... krn sebelum dibumbuin direbus dulu sampai empuk, setelah itu baru dibumbuin.\n5. Selamat mencoba.."
        ],
        [
         "48",
         "Ayam Tepung KFC super gurih",
         "4 potong ayam (paha atas atau paha bawah)--1 Sdt air lemon--Secukupnya black papper--Secukupnya garam--Bahan pelapis :--200 gr tepung terigu serba guna--30 gr tepung maizena--1 Sdt oregano--1 Sdt garam--1 Sdt masako ayam--1 Sdt bubuk cabai--Bahan pencelup :--2 sdm tepung terigu--1 Sdt bubuk cabai--1 Sdt garam--Secukupnya lada putih--Air es--",
         "0",
         "1248.8",
         "1. Marinade Ayam dengan air lemon, black papper Dan garam, diamkan kurleb 1 jam atau lebih\n2. Campur semua bahan pelapis\n3. Campur semua bahan pencelup\n4. Lumuri Ayam dengan bahan pelapis, celupkan ke dalam bahan pencelup dan lumuri dengan bahan pelapis lagi. Lakukan 2-3 kali. Cubit cubit Bagian Luarnya agar hasilnya keriting\n5. Panaskan minyak goreng\n6. Goreng Ayam sampai matang, apinya Jangan terlalu besar agar matangnya merata hingga kebagian dalam\n7. Sajikan bersama kentang, selada atau asparagus sesuai selera\n8. Selamat mencoba"
        ],
        [
         "49",
         "Soto Ayam Surabaya",
         "1/2 Ekor Ayam--6 Siung Bawang Merah--4 Siung Bawang Putih--Secukupnya Ketumbar--Secukupnya Lada--1 Ruas Kunyit--1 Ruas Lengkuas--1 Ruas Jahe--1 Butir Kemiri--Daun Salam--Daun Jeruk--Gula--Garam--Penyedap Rasa (boleh pakai boleh tidak)--Daun Bawang--Kol--Tauge--Kentang--Telur Rebus--Sambal Rebus--",
         "4",
         "912.0",
         "1. Haluskan semua bumbu kecuali lengkuas & Sereh\n2. Tumis bumbu yg dihaluskan tadi hingga harum\n3. Rebus ayam hingga terlihat kaldunya kemudian masukkan bumbu yg telah ditumis tadi\n4. Icip & sajikan dengan kentang goreng, bihun, tauge & irisan tomat"
        ]
       ],
       "shape": {
        "columns": 5,
        "rows": 15641
       }
      },
      "text/html": [
       "<div>\n",
       "<style scoped>\n",
       "    .dataframe tbody tr th:only-of-type {\n",
       "        vertical-align: middle;\n",
       "    }\n",
       "\n",
       "    .dataframe tbody tr th {\n",
       "        vertical-align: top;\n",
       "    }\n",
       "\n",
       "    .dataframe thead th {\n",
       "        text-align: right;\n",
       "    }\n",
       "</style>\n",
       "<table border=\"1\" class=\"dataframe\">\n",
       "  <thead>\n",
       "    <tr style=\"text-align: right;\">\n",
       "      <th></th>\n",
       "      <th>Title</th>\n",
       "      <th>Ingredients</th>\n",
       "      <th>Loves</th>\n",
       "      <th>Kalori</th>\n",
       "      <th>Steps</th>\n",
       "    </tr>\n",
       "  </thead>\n",
       "  <tbody>\n",
       "    <tr>\n",
       "      <th>0</th>\n",
       "      <td>Ayam Woku Manado</td>\n",
       "      <td>1 Ekor Ayam Kampung (potong 12)--2 Buah Jeruk ...</td>\n",
       "      <td>1</td>\n",
       "      <td>720.650</td>\n",
       "      <td>1. Cuci bersih ayam dan tiriskan. Lalu peras j...</td>\n",
       "    </tr>\n",
       "    <tr>\n",
       "      <th>1</th>\n",
       "      <td>Ayam goreng tulang lunak</td>\n",
       "      <td>1 kg ayam (dipotong sesuai selera jangan kecil...</td>\n",
       "      <td>1</td>\n",
       "      <td>3250.000</td>\n",
       "      <td>1. Haluskan bumbu2nya (BaPut, ketumbar, kemiri...</td>\n",
       "    </tr>\n",
       "    <tr>\n",
       "      <th>2</th>\n",
       "      <td>Ayam cabai kawin</td>\n",
       "      <td>1/4 kg ayam--3 buah cabai hijau besar--7 buah ...</td>\n",
       "      <td>2</td>\n",
       "      <td>1095.945</td>\n",
       "      <td>1. Panaskan minyak di dalam wajan. Setelah min...</td>\n",
       "    </tr>\n",
       "    <tr>\n",
       "      <th>3</th>\n",
       "      <td>Ayam Geprek</td>\n",
       "      <td>250 gr daging ayam (saya pakai fillet)--Secuku...</td>\n",
       "      <td>10</td>\n",
       "      <td>953.100</td>\n",
       "      <td>1. Goreng ayam seperti ayam krispi\\n2. Ulek se...</td>\n",
       "    </tr>\n",
       "    <tr>\n",
       "      <th>4</th>\n",
       "      <td>Minyak Ayam</td>\n",
       "      <td>400 gr kulit ayam &amp; lemaknya--8 siung bawang p...</td>\n",
       "      <td>4</td>\n",
       "      <td>3250.000</td>\n",
       "      <td>1. Cuci bersih kulit ayam. Sisihkan\\n2. Ambil ...</td>\n",
       "    </tr>\n",
       "    <tr>\n",
       "      <th>...</th>\n",
       "      <td>...</td>\n",
       "      <td>...</td>\n",
       "      <td>...</td>\n",
       "      <td>...</td>\n",
       "      <td>...</td>\n",
       "    </tr>\n",
       "    <tr>\n",
       "      <th>15636</th>\n",
       "      <td>Udang saus mentega</td>\n",
       "      <td>1 kg udang segar--1 buah bawang bombay kecil--...</td>\n",
       "      <td>46</td>\n",
       "      <td>1339.650</td>\n",
       "      <td>1. Bersihkan udang, siapkan bahan bahan\\n2. Tu...</td>\n",
       "    </tr>\n",
       "    <tr>\n",
       "      <th>15637</th>\n",
       "      <td>Jipang tumis udang</td>\n",
       "      <td>500 gr jipang(saya pk 6bh jipang muda yg kecil...</td>\n",
       "      <td>6</td>\n",
       "      <td>335.700</td>\n",
       "      <td>1. Tumis bawang merah bawang putih hingga haru...</td>\n",
       "    </tr>\n",
       "    <tr>\n",
       "      <th>15638</th>\n",
       "      <td>Tumis Udang Tempe</td>\n",
       "      <td>3 siung bawang merah--3 siung bawang putih--2 ...</td>\n",
       "      <td>3</td>\n",
       "      <td>501.980</td>\n",
       "      <td>1. Tiriskan bawang putih, bawang merah dan cab...</td>\n",
       "    </tr>\n",
       "    <tr>\n",
       "      <th>15639</th>\n",
       "      <td>Tumis kacang panjang terong udang</td>\n",
       "      <td>Stgah ikat kacang panjang,ku bli 3ribu d psr--...</td>\n",
       "      <td>12</td>\n",
       "      <td>401.160</td>\n",
       "      <td>1. Potong2 kacang panjang,terong cuci bersih s...</td>\n",
       "    </tr>\n",
       "    <tr>\n",
       "      <th>15640</th>\n",
       "      <td>Siomay Udang Ayam</td>\n",
       "      <td>3 bh dada ayam--1/2 kg udang bersih--6 bh bawa...</td>\n",
       "      <td>28</td>\n",
       "      <td>951.600</td>\n",
       "      <td>1. Giling ayam dan udang serta haluskan bawang...</td>\n",
       "    </tr>\n",
       "  </tbody>\n",
       "</table>\n",
       "<p>15641 rows × 5 columns</p>\n",
       "</div>"
      ],
      "text/plain": [
       "                                   Title  \\\n",
       "0                       Ayam Woku Manado   \n",
       "1               Ayam goreng tulang lunak   \n",
       "2                       Ayam cabai kawin   \n",
       "3                            Ayam Geprek   \n",
       "4                            Minyak Ayam   \n",
       "...                                  ...   \n",
       "15636                 Udang saus mentega   \n",
       "15637                 Jipang tumis udang   \n",
       "15638                  Tumis Udang Tempe   \n",
       "15639  Tumis kacang panjang terong udang   \n",
       "15640                  Siomay Udang Ayam   \n",
       "\n",
       "                                             Ingredients  Loves    Kalori  \\\n",
       "0      1 Ekor Ayam Kampung (potong 12)--2 Buah Jeruk ...      1   720.650   \n",
       "1      1 kg ayam (dipotong sesuai selera jangan kecil...      1  3250.000   \n",
       "2      1/4 kg ayam--3 buah cabai hijau besar--7 buah ...      2  1095.945   \n",
       "3      250 gr daging ayam (saya pakai fillet)--Secuku...     10   953.100   \n",
       "4      400 gr kulit ayam & lemaknya--8 siung bawang p...      4  3250.000   \n",
       "...                                                  ...    ...       ...   \n",
       "15636  1 kg udang segar--1 buah bawang bombay kecil--...     46  1339.650   \n",
       "15637  500 gr jipang(saya pk 6bh jipang muda yg kecil...      6   335.700   \n",
       "15638  3 siung bawang merah--3 siung bawang putih--2 ...      3   501.980   \n",
       "15639  Stgah ikat kacang panjang,ku bli 3ribu d psr--...     12   401.160   \n",
       "15640  3 bh dada ayam--1/2 kg udang bersih--6 bh bawa...     28   951.600   \n",
       "\n",
       "                                                   Steps  \n",
       "0      1. Cuci bersih ayam dan tiriskan. Lalu peras j...  \n",
       "1      1. Haluskan bumbu2nya (BaPut, ketumbar, kemiri...  \n",
       "2      1. Panaskan minyak di dalam wajan. Setelah min...  \n",
       "3      1. Goreng ayam seperti ayam krispi\\n2. Ulek se...  \n",
       "4      1. Cuci bersih kulit ayam. Sisihkan\\n2. Ambil ...  \n",
       "...                                                  ...  \n",
       "15636  1. Bersihkan udang, siapkan bahan bahan\\n2. Tu...  \n",
       "15637  1. Tumis bawang merah bawang putih hingga haru...  \n",
       "15638  1. Tiriskan bawang putih, bawang merah dan cab...  \n",
       "15639  1. Potong2 kacang panjang,terong cuci bersih s...  \n",
       "15640  1. Giling ayam dan udang serta haluskan bawang...  \n",
       "\n",
       "[15641 rows x 5 columns]"
      ]
     },
     "execution_count": 11,
     "metadata": {},
     "output_type": "execute_result"
    }
   ],
   "source": [
    "dfNew"
   ]
  },
  {
   "cell_type": "code",
   "execution_count": null,
   "id": "fda644c2",
   "metadata": {},
   "outputs": [],
   "source": [
    "dfNew.to_csv(\"dataset_fix.csv\", index=False)\n"
   ]
  },
  {
   "cell_type": "code",
   "execution_count": null,
   "id": "9c732d82",
   "metadata": {},
   "outputs": [
    {
     "data": {
      "application/vnd.microsoft.datawrangler.viewer.v0+json": {
       "columns": [
        {
         "name": "index",
         "rawType": "int64",
         "type": "integer"
        },
        {
         "name": "Title",
         "rawType": "object",
         "type": "string"
        },
        {
         "name": "Ingredients",
         "rawType": "object",
         "type": "string"
        },
        {
         "name": "Loves",
         "rawType": "int64",
         "type": "integer"
        },
        {
         "name": "Kalori",
         "rawType": "float64",
         "type": "float"
        },
        {
         "name": "Steps",
         "rawType": "object",
         "type": "string"
        }
       ],
       "ref": "53365043-370f-40a8-bb12-c248172249e1",
       "rows": [
        [
         "0",
         "Ayam Woku Manado",
         "1 Ekor Ayam Kampung (potong 12)--2 Buah Jeruk Nipis--2 Sdm Garam--3 Ruas Kunyit--7 Bawang Merah--7 Bawang Putih--10 Cabe Merah--10 Cabe Rawit Merah (sesuai selera)--3 Butir Kemiri--2 Batang Sereh--2 Lembar Daun Salam--2 Ikat Daun Kemangi--Penyedap Rasa--1 1/2 Gelas Air--",
         "1",
         "720.65",
         "1. Cuci bersih ayam dan tiriskan. Lalu peras jeruk nipis (kalo gak ada jeruk nipis bisa pake cuka) dan beri garam. Aduk hingga merata dan diamkan selama 5 menit, biar ayam gak bau amis.\n2. Goreng ayam tersebut setengah matang, lalu tiriskan\n3. Haluskan bumbu menggunakan blender. Bawang merah, bawang putih, cabe merah, cabe rawit, kemiri dan kunyit. Oh iya kasih minyak sedikit yaa biar bisa di blender. Untuk sereh nya di geprek aja terus di buat simpul.\n4. Setelah bumbu di haluskan barulah di tumis. Jangan lupa sereh dan daun salamnya juga ikut di tumis. Di tumis sampai berubah warna ya 👌\n5. Masukan ayam yang sudah di goreng setengah matang ke dalam bumbu yang sudah di tumis, dan diamkan 5 menit dulu. Biar bumbu meresap. Lalu tuangkan 1 1/2 Gelas air. Lalu tambahkan penyedap rasa (saya 3 Sdt, tapi sesuai selera ya) koreksi rasa dan Biar kan sampai mendidih\n6. Setelah masakan mendidih, lalu masukan daun kemangi yang sudah di potong potong. Masak lagi sekitar 10 menit. And taraaaaaaaaaaaaaa..... jadi deh Ayam Woku Manadonya.\n7. Oh iyaa kalo mau di tambahkan potongan tomat merah juga bisa ko. Sesuai selera aja yaa buibuuuu 👌👌👌"
        ],
        [
         "1",
         "Ayam goreng tulang lunak",
         "1 kg ayam (dipotong sesuai selera jangan kecil2 ya)--2 batang serai (memarkan)--4 lembar daun jeruk--7 butir bawang putih (haluskan)--1 sdm ketumbar (haluskan)--3 ruas jari Laos (haluskan)--3 ruas jari kunyit (haluskan)--2 butir kemiri (haluskan)--secukupnya Garam--Secukupnya Air (tuk ukep ayam)--Secukupnya Minyak goreng--",
         "1",
         "3250.0",
         "1. Haluskan bumbu2nya (BaPut, ketumbar, kemiri, kunyit, Laos, garam) hingga halus, sisihkan\n2. Campur kan bumbu halus tadi dengan ayam yg sudah dicuci bersih dan sudah dipotong didalam panci presto. Uleni sampai tercampur rata.\n3. Tambahkan air hingga ayam tenggelam semua. Masukkan serai dan daun jeruk nya kedalam rendaman ayam. Tutup panci presto rebus/ ukep presto sampai kurleb 45 menit. Dengan api sedang.\n4. Setelah proses ukep presto selesai, tunggu suhu dingin ruang. Lalu goreng ayam dengan minyak goreng api sedang sampai ayam berwarna kecoklatan.\n5. Matang dan sajikan ayam selagi hangat bersama nasi putih, sambal dgn perasan jeruk nipis, lalapan."
        ],
        [
         "2",
         "Ayam cabai kawin",
         "1/4 kg ayam--3 buah cabai hijau besar--7 buah cabai merah rawit--3 siung bawang putih--2 siung bawang merah--secukupnya Gula--secukupnya Garam--1/4 buah tomat merah--secukupnya Air--secukupnya Minyak goreng--",
         "2",
         "1095.945",
         "1. Panaskan minyak di dalam wajan. Setelah minyak panas masukkan ayam yang sudah dipotong dadu. Goreng hingga matang. Lalu tiriskan.\n2. Haluskan bawang putih, bawang merah, cabai hijau dan merah, tomat.\n3. Panaskan minyak didalam wajan. Setelah minyak panas, masukkan bumbu yang sudah halus. Tunggu sampai wangi. Masukkan ayam yang sudah di goreng. Tambahkan air, gula dan garam. Tunggu sampai bumbu meresap di ayam. Sajikan."
        ],
        [
         "3",
         "Ayam Geprek",
         "250 gr daging ayam (saya pakai fillet)--Secukupnya gula dan garam--50-100 gr tepung ayam serbaguna--Secukupnya lalapan (kemangi,kol,timun)--Secukupnya minyak panas--❤sambal korek--Secukupnya cabe rawit merah dan bwg putih--",
         "10",
         "953.1",
         "1. Goreng ayam seperti ayam krispi\n2. Ulek semua bahan sambal kemudian campur dengan minyak panas bekas goreng ayam\n3. Geprek ayam kemudian campur dengan sambal,sajikan dengan lalapan ❤"
        ],
        [
         "4",
         "Minyak Ayam",
         "400 gr kulit ayam & lemaknya--8 siung bawang putih kating, cincang kasar--1 ruas jahe, geprek--350 ml minyak goreng--1 sdm ketumbar bubuk--",
         "4",
         "3250.0",
         "1. Cuci bersih kulit ayam. Sisihkan\n2. Ambil 50 ml minyak goreng satu bahan yg sudah disiapkan tadi. Tumis jahe hingga harum.\n3. Masukkan kulit ayam, ketumbar dan bawang. Biarkan hingga keluar minyak alaminya sambil diaduk-aduk.\n4. Tambahkan sisa minyak goreng. Masak hingga kulit ayam mengering. Angkat dan saring.\n5. Setelah cukup dingin minyak ayam tadi dapat disimpan dalam wadah kering seperti mason jar/botol. Kalo saya, saya masukkan juga sedikit bawang putih goreng.\n6. Kulit ayam yg sudah digoreng kering tadi bisa dinikmati begitu saja sebagai camilan dengan ditaburi sejumput garam lalu aduk rata."
        ]
       ],
       "shape": {
        "columns": 5,
        "rows": 5
       }
      },
      "text/html": [
       "<div>\n",
       "<style scoped>\n",
       "    .dataframe tbody tr th:only-of-type {\n",
       "        vertical-align: middle;\n",
       "    }\n",
       "\n",
       "    .dataframe tbody tr th {\n",
       "        vertical-align: top;\n",
       "    }\n",
       "\n",
       "    .dataframe thead th {\n",
       "        text-align: right;\n",
       "    }\n",
       "</style>\n",
       "<table border=\"1\" class=\"dataframe\">\n",
       "  <thead>\n",
       "    <tr style=\"text-align: right;\">\n",
       "      <th></th>\n",
       "      <th>Title</th>\n",
       "      <th>Ingredients</th>\n",
       "      <th>Loves</th>\n",
       "      <th>Kalori</th>\n",
       "      <th>Steps</th>\n",
       "    </tr>\n",
       "  </thead>\n",
       "  <tbody>\n",
       "    <tr>\n",
       "      <th>0</th>\n",
       "      <td>Ayam Woku Manado</td>\n",
       "      <td>1 Ekor Ayam Kampung (potong 12)--2 Buah Jeruk ...</td>\n",
       "      <td>1</td>\n",
       "      <td>720.650</td>\n",
       "      <td>1. Cuci bersih ayam dan tiriskan. Lalu peras j...</td>\n",
       "    </tr>\n",
       "    <tr>\n",
       "      <th>1</th>\n",
       "      <td>Ayam goreng tulang lunak</td>\n",
       "      <td>1 kg ayam (dipotong sesuai selera jangan kecil...</td>\n",
       "      <td>1</td>\n",
       "      <td>3250.000</td>\n",
       "      <td>1. Haluskan bumbu2nya (BaPut, ketumbar, kemiri...</td>\n",
       "    </tr>\n",
       "    <tr>\n",
       "      <th>2</th>\n",
       "      <td>Ayam cabai kawin</td>\n",
       "      <td>1/4 kg ayam--3 buah cabai hijau besar--7 buah ...</td>\n",
       "      <td>2</td>\n",
       "      <td>1095.945</td>\n",
       "      <td>1. Panaskan minyak di dalam wajan. Setelah min...</td>\n",
       "    </tr>\n",
       "    <tr>\n",
       "      <th>3</th>\n",
       "      <td>Ayam Geprek</td>\n",
       "      <td>250 gr daging ayam (saya pakai fillet)--Secuku...</td>\n",
       "      <td>10</td>\n",
       "      <td>953.100</td>\n",
       "      <td>1. Goreng ayam seperti ayam krispi\\n2. Ulek se...</td>\n",
       "    </tr>\n",
       "    <tr>\n",
       "      <th>4</th>\n",
       "      <td>Minyak Ayam</td>\n",
       "      <td>400 gr kulit ayam &amp; lemaknya--8 siung bawang p...</td>\n",
       "      <td>4</td>\n",
       "      <td>3250.000</td>\n",
       "      <td>1. Cuci bersih kulit ayam. Sisihkan\\n2. Ambil ...</td>\n",
       "    </tr>\n",
       "  </tbody>\n",
       "</table>\n",
       "</div>"
      ],
      "text/plain": [
       "                      Title  \\\n",
       "0          Ayam Woku Manado   \n",
       "1  Ayam goreng tulang lunak   \n",
       "2          Ayam cabai kawin   \n",
       "3               Ayam Geprek   \n",
       "4               Minyak Ayam   \n",
       "\n",
       "                                         Ingredients  Loves    Kalori  \\\n",
       "0  1 Ekor Ayam Kampung (potong 12)--2 Buah Jeruk ...      1   720.650   \n",
       "1  1 kg ayam (dipotong sesuai selera jangan kecil...      1  3250.000   \n",
       "2  1/4 kg ayam--3 buah cabai hijau besar--7 buah ...      2  1095.945   \n",
       "3  250 gr daging ayam (saya pakai fillet)--Secuku...     10   953.100   \n",
       "4  400 gr kulit ayam & lemaknya--8 siung bawang p...      4  3250.000   \n",
       "\n",
       "                                               Steps  \n",
       "0  1. Cuci bersih ayam dan tiriskan. Lalu peras j...  \n",
       "1  1. Haluskan bumbu2nya (BaPut, ketumbar, kemiri...  \n",
       "2  1. Panaskan minyak di dalam wajan. Setelah min...  \n",
       "3  1. Goreng ayam seperti ayam krispi\\n2. Ulek se...  \n",
       "4  1. Cuci bersih kulit ayam. Sisihkan\\n2. Ambil ...  "
      ]
     },
     "execution_count": 13,
     "metadata": {},
     "output_type": "execute_result"
    }
   ],
   "source": [
    "dfoke = pd.read_csv(\"dataset_fix.csv\")\n",
    "dfoke.head()"
   ]
  },
  {
   "cell_type": "code",
   "execution_count": null,
   "id": "2163acaf",
   "metadata": {},
   "outputs": [
    {
     "data": {
      "text/plain": [
       "(15641, 5)"
      ]
     },
     "execution_count": 14,
     "metadata": {},
     "output_type": "execute_result"
    }
   ],
   "source": [
    "dfoke.shape"
   ]
  },
  {
   "cell_type": "code",
   "execution_count": null,
   "id": "7b5cb774",
   "metadata": {},
   "outputs": [],
   "source": [
    "import re\n",
    "# Fungsi untuk membersihkan teks dari emoji dan simbol \"......\"\n",
    "def clean_text(text):\n",
    "    if text is None:\n",
    "        return \"\"\n",
    "    text = re.sub(r'[^\\x00-\\x7F]+', '', text)  # Hapus emoji\n",
    "    text = text.replace(\"......\", \"\")          # Hapus simbol titik banyak\n",
    "    return text.strip()"
   ]
  },
  {
   "cell_type": "code",
   "execution_count": null,
   "id": "4fa3d53d",
   "metadata": {},
   "outputs": [
    {
     "ename": "TypeError",
     "evalue": "expected string or bytes-like object",
     "output_type": "error",
     "traceback": [
      "\u001b[1;31m---------------------------------------------------------------------------\u001b[0m",
      "\u001b[1;31mTypeError\u001b[0m                                 Traceback (most recent call last)",
      "Cell \u001b[1;32mIn[22], line 3\u001b[0m\n\u001b[0;32m      1\u001b[0m \u001b[38;5;66;03m# Terapkan pembersihan ke kolom Title, Ingredients, dan Steps\u001b[39;00m\n\u001b[0;32m      2\u001b[0m \u001b[38;5;28;01mfor\u001b[39;00m col \u001b[38;5;129;01min\u001b[39;00m [\u001b[38;5;124m'\u001b[39m\u001b[38;5;124mTitle\u001b[39m\u001b[38;5;124m'\u001b[39m, \u001b[38;5;124m'\u001b[39m\u001b[38;5;124mIngredients\u001b[39m\u001b[38;5;124m'\u001b[39m, \u001b[38;5;124m'\u001b[39m\u001b[38;5;124mSteps\u001b[39m\u001b[38;5;124m'\u001b[39m]:\n\u001b[1;32m----> 3\u001b[0m     dfoke[col] \u001b[38;5;241m=\u001b[39m \u001b[43mdfoke\u001b[49m\u001b[43m[\u001b[49m\u001b[43mcol\u001b[49m\u001b[43m]\u001b[49m\u001b[38;5;241;43m.\u001b[39;49m\u001b[43mapply\u001b[49m\u001b[43m(\u001b[49m\u001b[43mclean_text\u001b[49m\u001b[43m)\u001b[49m\n",
      "File \u001b[1;32mc:\\Users\\Asus\\AppData\\Local\\Programs\\Python\\Python310\\lib\\site-packages\\pandas\\core\\series.py:4924\u001b[0m, in \u001b[0;36mSeries.apply\u001b[1;34m(self, func, convert_dtype, args, by_row, **kwargs)\u001b[0m\n\u001b[0;32m   4789\u001b[0m \u001b[38;5;28;01mdef\u001b[39;00m\u001b[38;5;250m \u001b[39m\u001b[38;5;21mapply\u001b[39m(\n\u001b[0;32m   4790\u001b[0m     \u001b[38;5;28mself\u001b[39m,\n\u001b[0;32m   4791\u001b[0m     func: AggFuncType,\n\u001b[1;32m   (...)\u001b[0m\n\u001b[0;32m   4796\u001b[0m     \u001b[38;5;241m*\u001b[39m\u001b[38;5;241m*\u001b[39mkwargs,\n\u001b[0;32m   4797\u001b[0m ) \u001b[38;5;241m-\u001b[39m\u001b[38;5;241m>\u001b[39m DataFrame \u001b[38;5;241m|\u001b[39m Series:\n\u001b[0;32m   4798\u001b[0m \u001b[38;5;250m    \u001b[39m\u001b[38;5;124;03m\"\"\"\u001b[39;00m\n\u001b[0;32m   4799\u001b[0m \u001b[38;5;124;03m    Invoke function on values of Series.\u001b[39;00m\n\u001b[0;32m   4800\u001b[0m \n\u001b[1;32m   (...)\u001b[0m\n\u001b[0;32m   4915\u001b[0m \u001b[38;5;124;03m    dtype: float64\u001b[39;00m\n\u001b[0;32m   4916\u001b[0m \u001b[38;5;124;03m    \"\"\"\u001b[39;00m\n\u001b[0;32m   4917\u001b[0m     \u001b[38;5;28;01mreturn\u001b[39;00m \u001b[43mSeriesApply\u001b[49m\u001b[43m(\u001b[49m\n\u001b[0;32m   4918\u001b[0m \u001b[43m        \u001b[49m\u001b[38;5;28;43mself\u001b[39;49m\u001b[43m,\u001b[49m\n\u001b[0;32m   4919\u001b[0m \u001b[43m        \u001b[49m\u001b[43mfunc\u001b[49m\u001b[43m,\u001b[49m\n\u001b[0;32m   4920\u001b[0m \u001b[43m        \u001b[49m\u001b[43mconvert_dtype\u001b[49m\u001b[38;5;241;43m=\u001b[39;49m\u001b[43mconvert_dtype\u001b[49m\u001b[43m,\u001b[49m\n\u001b[0;32m   4921\u001b[0m \u001b[43m        \u001b[49m\u001b[43mby_row\u001b[49m\u001b[38;5;241;43m=\u001b[39;49m\u001b[43mby_row\u001b[49m\u001b[43m,\u001b[49m\n\u001b[0;32m   4922\u001b[0m \u001b[43m        \u001b[49m\u001b[43margs\u001b[49m\u001b[38;5;241;43m=\u001b[39;49m\u001b[43margs\u001b[49m\u001b[43m,\u001b[49m\n\u001b[0;32m   4923\u001b[0m \u001b[43m        \u001b[49m\u001b[43mkwargs\u001b[49m\u001b[38;5;241;43m=\u001b[39;49m\u001b[43mkwargs\u001b[49m\u001b[43m,\u001b[49m\n\u001b[1;32m-> 4924\u001b[0m \u001b[43m    \u001b[49m\u001b[43m)\u001b[49m\u001b[38;5;241;43m.\u001b[39;49m\u001b[43mapply\u001b[49m\u001b[43m(\u001b[49m\u001b[43m)\u001b[49m\n",
      "File \u001b[1;32mc:\\Users\\Asus\\AppData\\Local\\Programs\\Python\\Python310\\lib\\site-packages\\pandas\\core\\apply.py:1427\u001b[0m, in \u001b[0;36mSeriesApply.apply\u001b[1;34m(self)\u001b[0m\n\u001b[0;32m   1424\u001b[0m     \u001b[38;5;28;01mreturn\u001b[39;00m \u001b[38;5;28mself\u001b[39m\u001b[38;5;241m.\u001b[39mapply_compat()\n\u001b[0;32m   1426\u001b[0m \u001b[38;5;66;03m# self.func is Callable\u001b[39;00m\n\u001b[1;32m-> 1427\u001b[0m \u001b[38;5;28;01mreturn\u001b[39;00m \u001b[38;5;28;43mself\u001b[39;49m\u001b[38;5;241;43m.\u001b[39;49m\u001b[43mapply_standard\u001b[49m\u001b[43m(\u001b[49m\u001b[43m)\u001b[49m\n",
      "File \u001b[1;32mc:\\Users\\Asus\\AppData\\Local\\Programs\\Python\\Python310\\lib\\site-packages\\pandas\\core\\apply.py:1507\u001b[0m, in \u001b[0;36mSeriesApply.apply_standard\u001b[1;34m(self)\u001b[0m\n\u001b[0;32m   1501\u001b[0m \u001b[38;5;66;03m# row-wise access\u001b[39;00m\n\u001b[0;32m   1502\u001b[0m \u001b[38;5;66;03m# apply doesn't have a `na_action` keyword and for backward compat reasons\u001b[39;00m\n\u001b[0;32m   1503\u001b[0m \u001b[38;5;66;03m# we need to give `na_action=\"ignore\"` for categorical data.\u001b[39;00m\n\u001b[0;32m   1504\u001b[0m \u001b[38;5;66;03m# TODO: remove the `na_action=\"ignore\"` when that default has been changed in\u001b[39;00m\n\u001b[0;32m   1505\u001b[0m \u001b[38;5;66;03m#  Categorical (GH51645).\u001b[39;00m\n\u001b[0;32m   1506\u001b[0m action \u001b[38;5;241m=\u001b[39m \u001b[38;5;124m\"\u001b[39m\u001b[38;5;124mignore\u001b[39m\u001b[38;5;124m\"\u001b[39m \u001b[38;5;28;01mif\u001b[39;00m \u001b[38;5;28misinstance\u001b[39m(obj\u001b[38;5;241m.\u001b[39mdtype, CategoricalDtype) \u001b[38;5;28;01melse\u001b[39;00m \u001b[38;5;28;01mNone\u001b[39;00m\n\u001b[1;32m-> 1507\u001b[0m mapped \u001b[38;5;241m=\u001b[39m \u001b[43mobj\u001b[49m\u001b[38;5;241;43m.\u001b[39;49m\u001b[43m_map_values\u001b[49m\u001b[43m(\u001b[49m\n\u001b[0;32m   1508\u001b[0m \u001b[43m    \u001b[49m\u001b[43mmapper\u001b[49m\u001b[38;5;241;43m=\u001b[39;49m\u001b[43mcurried\u001b[49m\u001b[43m,\u001b[49m\u001b[43m \u001b[49m\u001b[43mna_action\u001b[49m\u001b[38;5;241;43m=\u001b[39;49m\u001b[43maction\u001b[49m\u001b[43m,\u001b[49m\u001b[43m \u001b[49m\u001b[43mconvert\u001b[49m\u001b[38;5;241;43m=\u001b[39;49m\u001b[38;5;28;43mself\u001b[39;49m\u001b[38;5;241;43m.\u001b[39;49m\u001b[43mconvert_dtype\u001b[49m\n\u001b[0;32m   1509\u001b[0m \u001b[43m\u001b[49m\u001b[43m)\u001b[49m\n\u001b[0;32m   1511\u001b[0m \u001b[38;5;28;01mif\u001b[39;00m \u001b[38;5;28mlen\u001b[39m(mapped) \u001b[38;5;129;01mand\u001b[39;00m \u001b[38;5;28misinstance\u001b[39m(mapped[\u001b[38;5;241m0\u001b[39m], ABCSeries):\n\u001b[0;32m   1512\u001b[0m     \u001b[38;5;66;03m# GH#43986 Need to do list(mapped) in order to get treated as nested\u001b[39;00m\n\u001b[0;32m   1513\u001b[0m     \u001b[38;5;66;03m#  See also GH#25959 regarding EA support\u001b[39;00m\n\u001b[0;32m   1514\u001b[0m     \u001b[38;5;28;01mreturn\u001b[39;00m obj\u001b[38;5;241m.\u001b[39m_constructor_expanddim(\u001b[38;5;28mlist\u001b[39m(mapped), index\u001b[38;5;241m=\u001b[39mobj\u001b[38;5;241m.\u001b[39mindex)\n",
      "File \u001b[1;32mc:\\Users\\Asus\\AppData\\Local\\Programs\\Python\\Python310\\lib\\site-packages\\pandas\\core\\base.py:921\u001b[0m, in \u001b[0;36mIndexOpsMixin._map_values\u001b[1;34m(self, mapper, na_action, convert)\u001b[0m\n\u001b[0;32m    918\u001b[0m \u001b[38;5;28;01mif\u001b[39;00m \u001b[38;5;28misinstance\u001b[39m(arr, ExtensionArray):\n\u001b[0;32m    919\u001b[0m     \u001b[38;5;28;01mreturn\u001b[39;00m arr\u001b[38;5;241m.\u001b[39mmap(mapper, na_action\u001b[38;5;241m=\u001b[39mna_action)\n\u001b[1;32m--> 921\u001b[0m \u001b[38;5;28;01mreturn\u001b[39;00m \u001b[43malgorithms\u001b[49m\u001b[38;5;241;43m.\u001b[39;49m\u001b[43mmap_array\u001b[49m\u001b[43m(\u001b[49m\u001b[43marr\u001b[49m\u001b[43m,\u001b[49m\u001b[43m \u001b[49m\u001b[43mmapper\u001b[49m\u001b[43m,\u001b[49m\u001b[43m \u001b[49m\u001b[43mna_action\u001b[49m\u001b[38;5;241;43m=\u001b[39;49m\u001b[43mna_action\u001b[49m\u001b[43m,\u001b[49m\u001b[43m \u001b[49m\u001b[43mconvert\u001b[49m\u001b[38;5;241;43m=\u001b[39;49m\u001b[43mconvert\u001b[49m\u001b[43m)\u001b[49m\n",
      "File \u001b[1;32mc:\\Users\\Asus\\AppData\\Local\\Programs\\Python\\Python310\\lib\\site-packages\\pandas\\core\\algorithms.py:1743\u001b[0m, in \u001b[0;36mmap_array\u001b[1;34m(arr, mapper, na_action, convert)\u001b[0m\n\u001b[0;32m   1741\u001b[0m values \u001b[38;5;241m=\u001b[39m arr\u001b[38;5;241m.\u001b[39mastype(\u001b[38;5;28mobject\u001b[39m, copy\u001b[38;5;241m=\u001b[39m\u001b[38;5;28;01mFalse\u001b[39;00m)\n\u001b[0;32m   1742\u001b[0m \u001b[38;5;28;01mif\u001b[39;00m na_action \u001b[38;5;129;01mis\u001b[39;00m \u001b[38;5;28;01mNone\u001b[39;00m:\n\u001b[1;32m-> 1743\u001b[0m     \u001b[38;5;28;01mreturn\u001b[39;00m \u001b[43mlib\u001b[49m\u001b[38;5;241;43m.\u001b[39;49m\u001b[43mmap_infer\u001b[49m\u001b[43m(\u001b[49m\u001b[43mvalues\u001b[49m\u001b[43m,\u001b[49m\u001b[43m \u001b[49m\u001b[43mmapper\u001b[49m\u001b[43m,\u001b[49m\u001b[43m \u001b[49m\u001b[43mconvert\u001b[49m\u001b[38;5;241;43m=\u001b[39;49m\u001b[43mconvert\u001b[49m\u001b[43m)\u001b[49m\n\u001b[0;32m   1744\u001b[0m \u001b[38;5;28;01melse\u001b[39;00m:\n\u001b[0;32m   1745\u001b[0m     \u001b[38;5;28;01mreturn\u001b[39;00m lib\u001b[38;5;241m.\u001b[39mmap_infer_mask(\n\u001b[0;32m   1746\u001b[0m         values, mapper, mask\u001b[38;5;241m=\u001b[39misna(values)\u001b[38;5;241m.\u001b[39mview(np\u001b[38;5;241m.\u001b[39muint8), convert\u001b[38;5;241m=\u001b[39mconvert\n\u001b[0;32m   1747\u001b[0m     )\n",
      "File \u001b[1;32mlib.pyx:2972\u001b[0m, in \u001b[0;36mpandas._libs.lib.map_infer\u001b[1;34m()\u001b[0m\n",
      "Cell \u001b[1;32mIn[21], line 6\u001b[0m, in \u001b[0;36mclean_text\u001b[1;34m(text)\u001b[0m\n\u001b[0;32m      4\u001b[0m \u001b[38;5;28;01mif\u001b[39;00m text \u001b[38;5;129;01mis\u001b[39;00m \u001b[38;5;28;01mNone\u001b[39;00m:\n\u001b[0;32m      5\u001b[0m     \u001b[38;5;28;01mreturn\u001b[39;00m \u001b[38;5;124m\"\u001b[39m\u001b[38;5;124m\"\u001b[39m\n\u001b[1;32m----> 6\u001b[0m text \u001b[38;5;241m=\u001b[39m \u001b[43mre\u001b[49m\u001b[38;5;241;43m.\u001b[39;49m\u001b[43msub\u001b[49m\u001b[43m(\u001b[49m\u001b[38;5;124;43mr\u001b[39;49m\u001b[38;5;124;43m'\u001b[39;49m\u001b[38;5;124;43m[^\u001b[39;49m\u001b[38;5;124;43m\\\u001b[39;49m\u001b[38;5;124;43mx00-\u001b[39;49m\u001b[38;5;124;43m\\\u001b[39;49m\u001b[38;5;124;43mx7F]+\u001b[39;49m\u001b[38;5;124;43m'\u001b[39;49m\u001b[43m,\u001b[49m\u001b[43m \u001b[49m\u001b[38;5;124;43m'\u001b[39;49m\u001b[38;5;124;43m'\u001b[39;49m\u001b[43m,\u001b[49m\u001b[43m \u001b[49m\u001b[43mtext\u001b[49m\u001b[43m)\u001b[49m  \u001b[38;5;66;03m# Hapus emoji\u001b[39;00m\n\u001b[0;32m      7\u001b[0m text \u001b[38;5;241m=\u001b[39m text\u001b[38;5;241m.\u001b[39mreplace(\u001b[38;5;124m\"\u001b[39m\u001b[38;5;124m......\u001b[39m\u001b[38;5;124m\"\u001b[39m, \u001b[38;5;124m\"\u001b[39m\u001b[38;5;124m\"\u001b[39m)          \u001b[38;5;66;03m# Hapus simbol titik banyak\u001b[39;00m\n\u001b[0;32m      8\u001b[0m \u001b[38;5;28;01mreturn\u001b[39;00m text\u001b[38;5;241m.\u001b[39mstrip()\n",
      "File \u001b[1;32mc:\\Users\\Asus\\AppData\\Local\\Programs\\Python\\Python310\\lib\\re.py:209\u001b[0m, in \u001b[0;36msub\u001b[1;34m(pattern, repl, string, count, flags)\u001b[0m\n\u001b[0;32m    202\u001b[0m \u001b[38;5;28;01mdef\u001b[39;00m\u001b[38;5;250m \u001b[39m\u001b[38;5;21msub\u001b[39m(pattern, repl, string, count\u001b[38;5;241m=\u001b[39m\u001b[38;5;241m0\u001b[39m, flags\u001b[38;5;241m=\u001b[39m\u001b[38;5;241m0\u001b[39m):\n\u001b[0;32m    203\u001b[0m \u001b[38;5;250m    \u001b[39m\u001b[38;5;124;03m\"\"\"Return the string obtained by replacing the leftmost\u001b[39;00m\n\u001b[0;32m    204\u001b[0m \u001b[38;5;124;03m    non-overlapping occurrences of the pattern in string by the\u001b[39;00m\n\u001b[0;32m    205\u001b[0m \u001b[38;5;124;03m    replacement repl.  repl can be either a string or a callable;\u001b[39;00m\n\u001b[0;32m    206\u001b[0m \u001b[38;5;124;03m    if a string, backslash escapes in it are processed.  If it is\u001b[39;00m\n\u001b[0;32m    207\u001b[0m \u001b[38;5;124;03m    a callable, it's passed the Match object and must return\u001b[39;00m\n\u001b[0;32m    208\u001b[0m \u001b[38;5;124;03m    a replacement string to be used.\"\"\"\u001b[39;00m\n\u001b[1;32m--> 209\u001b[0m     \u001b[38;5;28;01mreturn\u001b[39;00m \u001b[43m_compile\u001b[49m\u001b[43m(\u001b[49m\u001b[43mpattern\u001b[49m\u001b[43m,\u001b[49m\u001b[43m \u001b[49m\u001b[43mflags\u001b[49m\u001b[43m)\u001b[49m\u001b[38;5;241;43m.\u001b[39;49m\u001b[43msub\u001b[49m\u001b[43m(\u001b[49m\u001b[43mrepl\u001b[49m\u001b[43m,\u001b[49m\u001b[43m \u001b[49m\u001b[43mstring\u001b[49m\u001b[43m,\u001b[49m\u001b[43m \u001b[49m\u001b[43mcount\u001b[49m\u001b[43m)\u001b[49m\n",
      "\u001b[1;31mTypeError\u001b[0m: expected string or bytes-like object"
     ]
    }
   ],
   "source": [
    "# Terapkan pembersihan ke kolom Title, Ingredients, dan Steps\n",
    "for col in ['Title', 'Ingredients', 'Steps']:\n",
    "    dfoke[col] = dfoke[col].apply(clean_text)"
   ]
  },
  {
   "cell_type": "code",
   "execution_count": null,
   "id": "6f6f7d82",
   "metadata": {},
   "outputs": [],
   "source": [
    "dfoke.to_csv(\"dataset_cleaned_final.csv\", index=False)"
   ]
  },
  {
   "cell_type": "code",
   "execution_count": null,
   "id": "a702cf5c",
   "metadata": {},
   "outputs": [
    {
     "data": {
      "application/vnd.microsoft.datawrangler.viewer.v0+json": {
       "columns": [
        {
         "name": "index",
         "rawType": "int64",
         "type": "integer"
        },
        {
         "name": "Title",
         "rawType": "object",
         "type": "string"
        },
        {
         "name": "Ingredients",
         "rawType": "object",
         "type": "string"
        },
        {
         "name": "Loves",
         "rawType": "int64",
         "type": "integer"
        },
        {
         "name": "Kalori",
         "rawType": "float64",
         "type": "float"
        },
        {
         "name": "Steps",
         "rawType": "object",
         "type": "string"
        }
       ],
       "ref": "b7b418ae-f9a9-4b85-ae33-4af7e096d4c0",
       "rows": [
        [
         "0",
         "Ayam Woku Manado",
         "1 Ekor Ayam Kampung (potong 12)--2 Buah Jeruk Nipis--2 Sdm Garam--3 Ruas Kunyit--7 Bawang Merah--7 Bawang Putih--10 Cabe Merah--10 Cabe Rawit Merah (sesuai selera)--3 Butir Kemiri--2 Batang Sereh--2 Lembar Daun Salam--2 Ikat Daun Kemangi--Penyedap Rasa--1 1/2 Gelas Air--",
         "1",
         "720.65",
         "1. Cuci bersih ayam dan tiriskan. Lalu peras jeruk nipis (kalo gak ada jeruk nipis bisa pake cuka) dan beri garam. Aduk hingga merata dan diamkan selama 5 menit, biar ayam gak bau amis.\n2. Goreng ayam tersebut setengah matang, lalu tiriskan\n3. Haluskan bumbu menggunakan blender. Bawang merah, bawang putih, cabe merah, cabe rawit, kemiri dan kunyit. Oh iya kasih minyak sedikit yaa biar bisa di blender. Untuk sereh nya di geprek aja terus di buat simpul.\n4. Setelah bumbu di haluskan barulah di tumis. Jangan lupa sereh dan daun salamnya juga ikut di tumis. Di tumis sampai berubah warna ya \n5. Masukan ayam yang sudah di goreng setengah matang ke dalam bumbu yang sudah di tumis, dan diamkan 5 menit dulu. Biar bumbu meresap. Lalu tuangkan 1 1/2 Gelas air. Lalu tambahkan penyedap rasa (saya 3 Sdt, tapi sesuai selera ya) koreksi rasa dan Biar kan sampai mendidih\n6. Setelah masakan mendidih, lalu masukan daun kemangi yang sudah di potong potong. Masak lagi sekitar 10 menit. And taraaaaaaaaaaaaaa..... jadi deh Ayam Woku Manadonya.\n7. Oh iyaa kalo mau di tambahkan potongan tomat merah juga bisa ko. Sesuai selera aja yaa buibuuuu"
        ],
        [
         "1",
         "Ayam goreng tulang lunak",
         "1 kg ayam (dipotong sesuai selera jangan kecil2 ya)--2 batang serai (memarkan)--4 lembar daun jeruk--7 butir bawang putih (haluskan)--1 sdm ketumbar (haluskan)--3 ruas jari Laos (haluskan)--3 ruas jari kunyit (haluskan)--2 butir kemiri (haluskan)--secukupnya Garam--Secukupnya Air (tuk ukep ayam)--Secukupnya Minyak goreng--",
         "1",
         "3250.0",
         "1. Haluskan bumbu2nya (BaPut, ketumbar, kemiri, kunyit, Laos, garam) hingga halus, sisihkan\n2. Campur kan bumbu halus tadi dengan ayam yg sudah dicuci bersih dan sudah dipotong didalam panci presto. Uleni sampai tercampur rata.\n3. Tambahkan air hingga ayam tenggelam semua. Masukkan serai dan daun jeruk nya kedalam rendaman ayam. Tutup panci presto rebus/ ukep presto sampai kurleb 45 menit. Dengan api sedang.\n4. Setelah proses ukep presto selesai, tunggu suhu dingin ruang. Lalu goreng ayam dengan minyak goreng api sedang sampai ayam berwarna kecoklatan.\n5. Matang dan sajikan ayam selagi hangat bersama nasi putih, sambal dgn perasan jeruk nipis, lalapan."
        ],
        [
         "2",
         "Ayam cabai kawin",
         "1/4 kg ayam--3 buah cabai hijau besar--7 buah cabai merah rawit--3 siung bawang putih--2 siung bawang merah--secukupnya Gula--secukupnya Garam--1/4 buah tomat merah--secukupnya Air--secukupnya Minyak goreng--",
         "2",
         "1095.945",
         "1. Panaskan minyak di dalam wajan. Setelah minyak panas masukkan ayam yang sudah dipotong dadu. Goreng hingga matang. Lalu tiriskan.\n2. Haluskan bawang putih, bawang merah, cabai hijau dan merah, tomat.\n3. Panaskan minyak didalam wajan. Setelah minyak panas, masukkan bumbu yang sudah halus. Tunggu sampai wangi. Masukkan ayam yang sudah di goreng. Tambahkan air, gula dan garam. Tunggu sampai bumbu meresap di ayam. Sajikan."
        ],
        [
         "3",
         "Ayam Geprek",
         "250 gr daging ayam (saya pakai fillet)--Secukupnya gula dan garam--50-100 gr tepung ayam serbaguna--Secukupnya lalapan (kemangi,kol,timun)--Secukupnya minyak panas--❤sambal korek--Secukupnya cabe rawit merah dan bwg putih--",
         "10",
         "953.1",
         "1. Goreng ayam seperti ayam krispi\n2. Ulek semua bahan sambal kemudian campur dengan minyak panas bekas goreng ayam\n3. Geprek ayam kemudian campur dengan sambal,sajikan dengan lalapan"
        ],
        [
         "4",
         "Minyak Ayam",
         "400 gr kulit ayam & lemaknya--8 siung bawang putih kating, cincang kasar--1 ruas jahe, geprek--350 ml minyak goreng--1 sdm ketumbar bubuk--",
         "4",
         "3250.0",
         "1. Cuci bersih kulit ayam. Sisihkan\n2. Ambil 50 ml minyak goreng satu bahan yg sudah disiapkan tadi. Tumis jahe hingga harum.\n3. Masukkan kulit ayam, ketumbar dan bawang. Biarkan hingga keluar minyak alaminya sambil diaduk-aduk.\n4. Tambahkan sisa minyak goreng. Masak hingga kulit ayam mengering. Angkat dan saring.\n5. Setelah cukup dingin minyak ayam tadi dapat disimpan dalam wadah kering seperti mason jar/botol. Kalo saya, saya masukkan juga sedikit bawang putih goreng.\n6. Kulit ayam yg sudah digoreng kering tadi bisa dinikmati begitu saja sebagai camilan dengan ditaburi sejumput garam lalu aduk rata."
        ]
       ],
       "shape": {
        "columns": 5,
        "rows": 5
       }
      },
      "text/html": [
       "<div>\n",
       "<style scoped>\n",
       "    .dataframe tbody tr th:only-of-type {\n",
       "        vertical-align: middle;\n",
       "    }\n",
       "\n",
       "    .dataframe tbody tr th {\n",
       "        vertical-align: top;\n",
       "    }\n",
       "\n",
       "    .dataframe thead th {\n",
       "        text-align: right;\n",
       "    }\n",
       "</style>\n",
       "<table border=\"1\" class=\"dataframe\">\n",
       "  <thead>\n",
       "    <tr style=\"text-align: right;\">\n",
       "      <th></th>\n",
       "      <th>Title</th>\n",
       "      <th>Ingredients</th>\n",
       "      <th>Loves</th>\n",
       "      <th>Kalori</th>\n",
       "      <th>Steps</th>\n",
       "    </tr>\n",
       "  </thead>\n",
       "  <tbody>\n",
       "    <tr>\n",
       "      <th>0</th>\n",
       "      <td>Ayam Woku Manado</td>\n",
       "      <td>1 Ekor Ayam Kampung (potong 12)--2 Buah Jeruk ...</td>\n",
       "      <td>1</td>\n",
       "      <td>720.650</td>\n",
       "      <td>1. Cuci bersih ayam dan tiriskan. Lalu peras j...</td>\n",
       "    </tr>\n",
       "    <tr>\n",
       "      <th>1</th>\n",
       "      <td>Ayam goreng tulang lunak</td>\n",
       "      <td>1 kg ayam (dipotong sesuai selera jangan kecil...</td>\n",
       "      <td>1</td>\n",
       "      <td>3250.000</td>\n",
       "      <td>1. Haluskan bumbu2nya (BaPut, ketumbar, kemiri...</td>\n",
       "    </tr>\n",
       "    <tr>\n",
       "      <th>2</th>\n",
       "      <td>Ayam cabai kawin</td>\n",
       "      <td>1/4 kg ayam--3 buah cabai hijau besar--7 buah ...</td>\n",
       "      <td>2</td>\n",
       "      <td>1095.945</td>\n",
       "      <td>1. Panaskan minyak di dalam wajan. Setelah min...</td>\n",
       "    </tr>\n",
       "    <tr>\n",
       "      <th>3</th>\n",
       "      <td>Ayam Geprek</td>\n",
       "      <td>250 gr daging ayam (saya pakai fillet)--Secuku...</td>\n",
       "      <td>10</td>\n",
       "      <td>953.100</td>\n",
       "      <td>1. Goreng ayam seperti ayam krispi\\n2. Ulek se...</td>\n",
       "    </tr>\n",
       "    <tr>\n",
       "      <th>4</th>\n",
       "      <td>Minyak Ayam</td>\n",
       "      <td>400 gr kulit ayam &amp; lemaknya--8 siung bawang p...</td>\n",
       "      <td>4</td>\n",
       "      <td>3250.000</td>\n",
       "      <td>1. Cuci bersih kulit ayam. Sisihkan\\n2. Ambil ...</td>\n",
       "    </tr>\n",
       "  </tbody>\n",
       "</table>\n",
       "</div>"
      ],
      "text/plain": [
       "                      Title  \\\n",
       "0          Ayam Woku Manado   \n",
       "1  Ayam goreng tulang lunak   \n",
       "2          Ayam cabai kawin   \n",
       "3               Ayam Geprek   \n",
       "4               Minyak Ayam   \n",
       "\n",
       "                                         Ingredients  Loves    Kalori  \\\n",
       "0  1 Ekor Ayam Kampung (potong 12)--2 Buah Jeruk ...      1   720.650   \n",
       "1  1 kg ayam (dipotong sesuai selera jangan kecil...      1  3250.000   \n",
       "2  1/4 kg ayam--3 buah cabai hijau besar--7 buah ...      2  1095.945   \n",
       "3  250 gr daging ayam (saya pakai fillet)--Secuku...     10   953.100   \n",
       "4  400 gr kulit ayam & lemaknya--8 siung bawang p...      4  3250.000   \n",
       "\n",
       "                                               Steps  \n",
       "0  1. Cuci bersih ayam dan tiriskan. Lalu peras j...  \n",
       "1  1. Haluskan bumbu2nya (BaPut, ketumbar, kemiri...  \n",
       "2  1. Panaskan minyak di dalam wajan. Setelah min...  \n",
       "3  1. Goreng ayam seperti ayam krispi\\n2. Ulek se...  \n",
       "4  1. Cuci bersih kulit ayam. Sisihkan\\n2. Ambil ...  "
      ]
     },
     "execution_count": 6,
     "metadata": {},
     "output_type": "execute_result"
    }
   ],
   "source": [
    "import pandas as pd\n",
    "dfenj = pd.read_csv(\"data/dataset_enjoy.csv\")\n",
    "dfenj.head()\n"
   ]
  },
  {
   "cell_type": "code",
   "execution_count": null,
   "id": "e2392ea6",
   "metadata": {},
   "outputs": [
    {
     "data": {
      "application/vnd.microsoft.datawrangler.viewer.v0+json": {
       "columns": [
        {
         "name": "index",
         "rawType": "object",
         "type": "string"
        },
        {
         "name": "0",
         "rawType": "int64",
         "type": "integer"
        }
       ],
       "ref": "e986fcfe-8f5a-48cf-ab8f-c1415a207776",
       "rows": [
        [
         "Title",
         "0"
        ],
        [
         "Ingredients",
         "48"
        ],
        [
         "Loves",
         "0"
        ],
        [
         "Kalori",
         "0"
        ],
        [
         "Steps",
         "46"
        ]
       ],
       "shape": {
        "columns": 1,
        "rows": 5
       }
      },
      "text/plain": [
       "Title           0\n",
       "Ingredients    48\n",
       "Loves           0\n",
       "Kalori          0\n",
       "Steps          46\n",
       "dtype: int64"
      ]
     },
     "execution_count": 7,
     "metadata": {},
     "output_type": "execute_result"
    }
   ],
   "source": [
    "dfenj.isnull().sum()\n"
   ]
  },
  {
   "cell_type": "code",
   "execution_count": null,
   "id": "6d3c0dd9",
   "metadata": {},
   "outputs": [
    {
     "data": {
      "text/plain": [
       "np.int64(687)"
      ]
     },
     "execution_count": 8,
     "metadata": {},
     "output_type": "execute_result"
    }
   ],
   "source": [
    "dfenj.duplicated().sum()"
   ]
  },
  {
   "cell_type": "code",
   "execution_count": null,
   "id": "9976a06e",
   "metadata": {},
   "outputs": [],
   "source": [
    "def clean_text_emojis(text):\n",
    "    if pd.isna(text): # Tangani nilai NaN\n",
    "        return \"\"\n",
    "    \n",
    "    # Konversi ke string untuk memastikan operasi regex bekerja\n",
    "    text_str = str(text)\n",
    "\n",
    "    # Pola regex untuk menghapus karakter non-ASCII (yang mencakup sebagian besar emotikon)\n",
    "    # Ini akan menghapus karakter Unicode di luar rentang ASCII dasar\n",
    "    cleaned_text = re.sub(r'[^\\x00-\\x7F]+', '', text_str)\n",
    "    \n",
    "    # Menghapus simbol titik banyak (tiga titik atau lebih) jika ada\n",
    "    # Anda bisa menyesuaikan ini jika ada pola simbol lain yang ingin dihapus\n",
    "    cleaned_text = re.sub(r'\\.{3,}', '', cleaned_text)\n",
    "    \n",
    "    return cleaned_text.strip() # Hapus spasi di awal/akhir\n",
    "\n",
    "def check_for_emojis(text):\n",
    "    if pd.isna(text):\n",
    "        return []\n",
    "    text_str = str(text)\n",
    "    emoji_pattern = re.compile(\n",
    "        \"[\"\n",
    "        \"\\U0001F600-\\U0001F64F\"  # Emoticons\n",
    "        \"\\U0001F300-\\U0001F5FF\"  # Symbols & Pictographs\n",
    "        \"\\U0001F680-\\U0001F6FF\"  # Transport & Map Symbols\n",
    "        \"\\U0001F1E0-\\U0001F1FF\"  # Flags (iOS)\n",
    "        \"\\U00002702-\\U000027B0\"  # Dingbats\n",
    "        \"\\U000024C2-\\U0001F251\"\n",
    "        \"]+\"\n",
    "    )\n",
    "    return emoji_pattern.findall(text_str)\n",
    "\n",
    "def format_ingredients_vertical(text):\n",
    "    if pd.isna(text): # Tangani nilai NaN (missing values)\n",
    "        return \"\"\n",
    "    \n",
    "    # Pisahkan string bahan berdasarkan delimiter '--'\n",
    "    # Hapus spasi di awal/akhir setiap bahan dan filter string kosong\n",
    "    ingredients_list = [item.strip() for item in text.split('--') if item.strip()]\n",
    "    \n",
    "    # Gabungkan kembali dengan penomoran dan KARAKTER BARIS BARU (\\n)\n",
    "    # Ini akan membuat setiap bahan berada di baris terpisah saat dicetak\n",
    "    formatted_text = '\\n'.join([f\"{i+1}. {ingredient}\" for i, ingredient in enumerate(ingredients_list)])\n",
    "    \n",
    "    return formatted_text"
   ]
  },
  {
   "cell_type": "code",
   "execution_count": null,
   "id": "678db0a9",
   "metadata": {},
   "outputs": [
    {
     "name": "stdout",
     "output_type": "stream",
     "text": [
      "\n",
      "--- Menerapkan pembersihan emotikon ke kolom 'Title', 'Ingredients', dan 'Steps' ---\n",
      "Kolom 'Title' berhasil dibersihkan dari emotikon dan simbol.\n",
      "Kolom 'Ingredients' berhasil dibersihkan dari emotikon dan simbol.\n",
      "Kolom 'Steps' berhasil dibersihkan dari emotikon dan simbol.\n"
     ]
    }
   ],
   "source": [
    "import re\n",
    "print(\"\\n--- Menerapkan pembersihan emotikon ke kolom 'Title', 'Ingredients', dan 'Steps' ---\")\n",
    "\n",
    "text_columns = ['Title', 'Ingredients', 'Steps']\n",
    "\n",
    "for col in text_columns:\n",
    "    if col in dfenj.columns:\n",
    "        dfenj[col] = dfenj[col].apply(clean_text_emojis)\n",
    "        print(f\"Kolom '{col}' berhasil dibersihkan dari emotikon dan simbol.\")\n",
    "    else:\n",
    "        print(f\"Peringatan: Kolom '{col}' tidak ditemukan dalam dataset.\")"
   ]
  },
  {
   "cell_type": "code",
   "execution_count": null,
   "id": "a624d2b8",
   "metadata": {},
   "outputs": [
    {
     "name": "stdout",
     "output_type": "stream",
     "text": [
      "\n",
      "--- Memulai pengecekan emotikon pada dataset yang sudah dibersihkan ---\n",
      "\n",
      "Total resep yang MENGANDUNG emotikon SETELAH pembersihan: 0\n",
      "\n",
      "SELAMAT! Tidak ditemukan emotikon di kolom 'Title', 'Ingredients', atau 'Steps' setelah pembersihan.\n",
      "Ini menunjukkan bahwa proses pembersihan emotikon berhasil.\n"
     ]
    }
   ],
   "source": [
    "print(\"\\n--- Memulai pengecekan emotikon pada dataset yang sudah dibersihkan ---\")\n",
    "\n",
    "recipes_with_emojis_after_cleaning = []\n",
    "\n",
    "for index, row in dfenj.iterrows():\n",
    "    found_emojis_in_row = {}\n",
    "    for col in text_columns:\n",
    "        emojis_detected = check_for_emojis(row[col])\n",
    "        if emojis_detected:\n",
    "            found_emojis_in_row[col] = list(set(emojis_detected)) # Gunakan set untuk menghindari duplikasi\n",
    "\n",
    "    if found_emojis_in_row:\n",
    "        recipes_with_emojis_after_cleaning.append({\n",
    "            'Index': index,\n",
    "            'Title': row['Title'],\n",
    "            'Emoticons_Found_After_Cleaning': found_emojis_in_row\n",
    "        })\n",
    "\n",
    "print(f\"\\nTotal resep yang MENGANDUNG emotikon SETELAH pembersihan: {len(recipes_with_emojis_after_cleaning)}\")\n",
    "\n",
    "if recipes_with_emojis_after_cleaning:\n",
    "    print(\"\\nBeberapa contoh resep yang masih mengandung emotikon setelah pembersihan:\")\n",
    "    for i, recipe_info in enumerate(recipes_with_emojis_after_cleaning[:5]): # Tampilkan hingga 5 contoh\n",
    "        print(f\"\\n--- Resep {i+1} (Index: {recipe_info['Index']}) ---\")\n",
    "        print(f\"Judul: {recipe_info['Title']}\")\n",
    "        for col, emojis in recipe_info['Emoticons_Found_After_Cleaning'].items():\n",
    "            print(f\"  Ditemukan di kolom '{col}': {', '.join(emojis)}\")\n",
    "else:\n",
    "    print(\"\\nSELAMAT! Tidak ditemukan emotikon di kolom 'Title', 'Ingredients', atau 'Steps' setelah pembersihan.\")\n",
    "    print(\"Ini menunjukkan bahwa proses pembersihan emotikon berhasil.\")"
   ]
  },
  {
   "cell_type": "code",
   "execution_count": null,
   "id": "2b5f52bd",
   "metadata": {},
   "outputs": [
    {
     "name": "stdout",
     "output_type": "stream",
     "text": [
      "\n",
      "--- Menerapkan pemformatan dan mengganti kolom 'Ingredients' asli ---\n",
      "Kolom 'Ingredients' sekarang sudah diformat ulang dengan bahan per baris.\n"
     ]
    }
   ],
   "source": [
    "# --- 3. Terapkan Fungsi Pemformatan dan Ganti Kolom Asli ---\n",
    "print(\"\\n--- Menerapkan pemformatan dan mengganti kolom 'Ingredients' asli ---\")\n",
    "dfenj['Ingredients'] = dfenj['Ingredients'].apply(format_ingredients_vertical)\n",
    "print(\"Kolom 'Ingredients' sekarang sudah diformat ulang dengan bahan per baris.\")"
   ]
  },
  {
   "cell_type": "code",
   "execution_count": null,
   "id": "6d1c3a14",
   "metadata": {},
   "outputs": [
    {
     "name": "stdout",
     "output_type": "stream",
     "text": [
      "0    1. 1 Ekor Ayam Kampung (potong 12)\\n2. 2 Buah ...\n",
      "1    1. 1 kg ayam (dipotong sesuai selera jangan ke...\n",
      "2    1. 1/4 kg ayam\\n2. 3 buah cabai hijau besar\\n3...\n",
      "3    1. 250 gr daging ayam (saya pakai fillet)\\n2. ...\n",
      "4    1. 400 gr kulit ayam & lemaknya\\n2. 8 siung ba...\n"
     ]
    }
   ],
   "source": [
    "print(dfenj['Ingredients'].head().to_string())"
   ]
  },
  {
   "cell_type": "code",
   "execution_count": null,
   "id": "66f6e9e8",
   "metadata": {},
   "outputs": [],
   "source": [
    "dfenj.to_csv(\"dataset_joss.csv\", index=False)\n"
   ]
  },
  {
   "cell_type": "code",
   "execution_count": 4,
   "id": "c68256c3",
   "metadata": {},
   "outputs": [],
   "source": [
    "abbreviation_map = {\n",
    "    'smp': 'sampai',\n",
    "    'yg': 'yang',\n",
    "    'bh': 'buah',\n",
    "    'gr': 'gram',\n",
    "    'sct': 'sachet',\n",
    "    'btg': 'batang',\n",
    "    'lbr': 'lembar',\n",
    "    'btr': 'butir',\n",
    "    'pcs': 'pieces',\n",
    "    'bks': 'bungkus',\n",
    "    'uk': 'ukuran',\n",
    "    'sdm': 'sendok makan',\n",
    "    'sdt': 'sendok teh',\n",
    "    'bgt': 'banget',\n",
    "    'tdk': 'tidak',\n",
    "    'krn': 'karena',\n",
    "    'dg': 'dengan',\n",
    "    'utk': 'untuk',\n",
    "    'dlm': 'dalam',\n",
    "    'dr': 'dari',\n",
    "    'jg': 'juga',\n",
    "    'bkn': 'bukan',\n",
    "    'gmn': 'bagaimana',\n",
    "    'brp': 'berapa',\n",
    "    'dgn': 'dengan',\n",
    "    'sy': 'saya',\n",
    "    'km': 'kamu',\n",
    "    'ga': 'tidak', # contoh lain yang umum\n",
    "    'udah': 'sudah',\n",
    "    'bbrp': 'beberapa',\n",
    "    'klo': 'kalau',\n",
    "    'kalo': 'kalau',\n",
    "    'cm': 'cuma',\n",
    "    'sm': 'sama',\n",
    "    'sdh': 'sudah',\n",
    "    'yg': 'yang',\n",
    "    'dl': 'dulu',\n",
    "    'duo' : 'dua',\n",
    "    'trus': 'terus',\n",
    "    'bnyk': 'banyak',\n",
    "    'jd': 'jadi',\n",
    "    'aja': 'saja',\n",
    "    'kpn': 'kapan',\n",
    "    'udah': 'sudah',\n",
    "    'skrg': 'sekarang',\n",
    "    'bgtu': 'begitu',\n",
    "    'bsk': 'besok',\n",
    "    'hr': 'hari',\n",
    "    'msh': 'masih',\n",
    "    'mrk': 'mereka',\n",
    "    'kdg': 'kadang',\n",
    "    'ntar': 'nanti',\n",
    "    'pd': 'pada',\n",
    "    'ttp': 'tetap',\n",
    "    'tks': 'terima kasih',\n",
    "    'thn': 'tahun',\n",
    "    'hrg': 'harga',\n",
    "    'kt': 'kita',\n",
    "    'dlu': 'dulu',\n",
    "    'mls': 'malas',\n",
    "    'mkn': 'makan',\n",
    "    'bkin': 'bikin',\n",
    "    'bbrp': 'beberapa',\n",
    "    'kyk': 'kayak',\n",
    "    'gtu': 'gitu',\n",
    "    'bgmn': 'bagaimana',\n",
    "    'brng': 'bareng',\n",
    "    'sbnrnya': 'sebenarnya',\n",
    "    'bnr': 'benar',\n",
    "    'knp': 'kenapa',\n",
    "    'mksih': 'terima kasih',\n",
    "    'lgsg': 'langsung',\n",
    "    'bbrp': 'beberapa',\n",
    "    'btw': 'by the way', # meskipun bukan bahasa Indonesia\n",
    "    'jgk': 'juga',\n",
    "    'tp': 'tapi',\n",
    "    'hrs': 'harus',\n",
    "    'bnyk': 'banyak',\n",
    "    'krn': 'karena',\n",
    "    'msh': 'masih',\n",
    "    'kpn': 'kapan',\n",
    "    'brp': 'berapa',\n",
    "    'drpd': 'daripada',\n",
    "    'lgi': 'lagi',\n",
    "    'skrg': 'sekarang',\n",
    "    'bkin': 'bikin',\n",
    "    'kt': 'kita',\n",
    "    'dlu': 'dulu',\n",
    "    'sm': 'sama',\n",
    "    'ga': 'tidak',\n",
    "    'udah': 'sudah',\n",
    "    'brg': 'barang',\n",
    "    'yg': 'yang',\n",
    "    'dlm': 'dalam',\n",
    "    'utk': 'untuk',\n",
    "    'dgn': 'dengan',\n",
    "    'sll': 'selalu',\n",
    "    'srg': 'sering',\n",
    "    'bs': 'bisa',\n",
    "    'spt': 'seperti',\n",
    "    'dll': 'dan lain-lain',\n",
    "    'pake': 'pakai',\n",
    "    'kalo': 'kalau'\n",
    "}\n",
    "\n",
    "# --- 3. Definisikan Fungsi Normalisasi Singkatan untuk SATU BARIS TEKS ---\n",
    "# Fungsi ini sama persis dengan yang Anda berikan, hanya namanya saya ubah agar jelas\n",
    "def normalize_single_line_abbreviations(line_text):\n",
    "    if pd.isna(line_text):\n",
    "        return \"\"\n",
    "    \n",
    "    line_str = str(line_text)\n",
    "    words = line_str.split() # Pecah baris menjadi kata-kata\n",
    "    normalized_words = []\n",
    "\n",
    "    for word in words:\n",
    "        found_abbreviation = False\n",
    "        for abbr, full_form in abbreviation_map.items():\n",
    "            if re.fullmatch(re.escape(abbr), word, re.IGNORECASE):\n",
    "                normalized_words.append(full_form)\n",
    "                found_abbreviation = True\n",
    "                break\n",
    "        \n",
    "        if not found_abbreviation:\n",
    "            normalized_words.append(word)\n",
    "            \n",
    "    return ' '.join(normalized_words) # Gabungkan kembali kata-kata dalam baris ini dengan spasi\n",
    "\n",
    "# --- 4. Fungsi Pembungkus untuk Menerapkan Normalisasi pada Kolom Multi-Baris ---\n",
    "def normalize_column_preserving_newlines(text_with_newlines):\n",
    "    if pd.isna(text_with_newlines):\n",
    "        return \"\"\n",
    "    \n",
    "    # Pecah seluruh teks menjadi baris-baris individual berdasarkan '\\n'\n",
    "    lines = text_with_newlines.split('\\n')\n",
    "    normalized_lines = []\n",
    "    \n",
    "    for line in lines:\n",
    "        # Terapkan fungsi normalisasi ke SETIAP baris individu\n",
    "        normalized_line = normalize_single_line_abbreviations(line)\n",
    "        normalized_lines.append(normalized_line)\n",
    "        \n",
    "    # Gabungkan kembali baris-baris yang sudah dinormalisasi dengan '\\n'\n",
    "    return '\\n'.join(normalized_lines)"
   ]
  },
  {
   "cell_type": "code",
   "execution_count": null,
   "id": "4e33965a",
   "metadata": {},
   "outputs": [
    {
     "name": "stdout",
     "output_type": "stream",
     "text": [
      "Kolom 'Title' telah dinormalisasi dari singkatan.\n",
      "Kolom 'Ingredients' telah dinormalisasi dari singkatan.\n",
      "Kolom 'Steps' telah dinormalisasi dari singkatan.\n"
     ]
    }
   ],
   "source": [
    "text_columns_to_normalize = ['Title', 'Ingredients', 'Steps']\n",
    "\n",
    "for col in text_columns_to_normalize:\n",
    "    if col in dfenj.columns:\n",
    "        dfenj[col] = dfenj[col].apply(normalize_abbreviations)\n",
    "        print(f\"Kolom '{col}' telah dinormalisasi dari singkatan.\")\n",
    "    else:\n",
    "        print(f\"Peringatan: Kolom '{col}' tidak ditemukan dalam dataset.\")"
   ]
  },
  {
   "cell_type": "code",
   "execution_count": null,
   "id": "46fab593",
   "metadata": {},
   "outputs": [],
   "source": [
    "dfenj.to_csv(\"dataset_josfix.csv\", index=False)"
   ]
  },
  {
   "cell_type": "code",
   "execution_count": null,
   "id": "7cd67876",
   "metadata": {},
   "outputs": [],
   "source": [
    "dfnyot = pd.read_csv(\"dataset_joss.csv\")"
   ]
  },
  {
   "cell_type": "code",
   "execution_count": null,
   "id": "5a17285c",
   "metadata": {},
   "outputs": [],
   "source": [
    "abbreviation_map = {\n",
    "    'smp': 'sampai',\n",
    "    'yg': 'yang',\n",
    "    'bgt': 'banget',\n",
    "    'tdk': 'tidak',\n",
    "    'krn': 'karena',\n",
    "    'dg': 'dengan',\n",
    "    'utk': 'untuk',\n",
    "    'dlm': 'dalam',\n",
    "    'dr': 'dari',\n",
    "    'jg': 'juga',\n",
    "    'bkn': 'bukan',\n",
    "    'gmn': 'bagaimana',\n",
    "    'brp': 'berapa',\n",
    "    'dgn': 'dengan',\n",
    "    'sy': 'saya',\n",
    "    'km': 'kamu',\n",
    "    'ga': 'tidak', # contoh lain yang umum\n",
    "    'udah': 'sudah',\n",
    "    'bbrp': 'beberapa',\n",
    "    'klo': 'kalau',\n",
    "    'kalo': 'kalau',\n",
    "    'cm': 'cuma',\n",
    "    'sm': 'sama',\n",
    "    'sdh': 'sudah',\n",
    "    'yg': 'yang',\n",
    "    'dl': 'dulu',\n",
    "    'bnyk': 'banyak',\n",
    "    'jd': 'jadi',\n",
    "    'aja': 'saja',\n",
    "    'kpn': 'kapan',\n",
    "    'udah': 'sudah',\n",
    "    'skrg': 'sekarang',\n",
    "    'bgtu': 'begitu',\n",
    "    'bsk': 'besok',\n",
    "    'hr': 'hari',\n",
    "    'msh': 'masih',\n",
    "    'mrk': 'mereka',\n",
    "    'kdg': 'kadang',\n",
    "    'ntar': 'nanti',\n",
    "    'pd': 'pada',\n",
    "    'ttp': 'tetap',\n",
    "    'tks': 'terima kasih',\n",
    "    'thn': 'tahun',\n",
    "    'hrg': 'harga',\n",
    "    'kt': 'kita',\n",
    "    'dlu': 'dulu',\n",
    "    'mls': 'malas',\n",
    "    'mkn': 'makan',\n",
    "    'bkin': 'bikin',\n",
    "    'bbrp': 'beberapa',\n",
    "    'kyk': 'kayak',\n",
    "    'gtu': 'gitu',\n",
    "    'bgmn': 'bagaimana',\n",
    "    'brng': 'bareng',\n",
    "    'sbnrnya': 'sebenarnya',\n",
    "    'bnr': 'benar',\n",
    "    'knp': 'kenapa',\n",
    "    'mksih': 'terima kasih',\n",
    "    'lgsg': 'langsung',\n",
    "    'bbrp': 'beberapa',\n",
    "    'btw': 'by the way', # meskipun bukan bahasa Indonesia\n",
    "    'jgk': 'juga',\n",
    "    'tp': 'tapi',\n",
    "    'hrs': 'harus',\n",
    "    'bnyk': 'banyak',\n",
    "    'krn': 'karena',\n",
    "    'msh': 'masih',\n",
    "    'kpn': 'kapan',\n",
    "    'brp': 'berapa',\n",
    "    'drpd': 'daripada',\n",
    "    'lgi': 'lagi',\n",
    "    'skrg': 'sekarang',\n",
    "    'bkin': 'bikin',\n",
    "    'kt': 'kita',\n",
    "    'dlu': 'dulu',\n",
    "    'sm': 'sama',\n",
    "    'ga': 'tidak',\n",
    "    'udah': 'sudah',\n",
    "    'brg': 'barang',\n",
    "    'yg': 'yang',\n",
    "    'dlm': 'dalam',\n",
    "    'utk': 'untuk',\n",
    "    'dgn': 'dengan',\n",
    "    'sll': 'selalu',\n",
    "    'srg': 'sering',\n",
    "    'bs': 'bisa',\n",
    "    'spt': 'seperti',\n",
    "    'dll': 'dan lain-lain',\n",
    "    'pake': 'pakai',\n",
    "    'kalo': 'kalau'\n",
    "}\n",
    "\n",
    "\n",
    "# --- 3. Definisikan Fungsi Normalisasi Singkatan (baru) ---\n",
    "# Fungsi ini akan diterapkan pada setiap BARIS INDIVIDUAL dari bahan/langkah\n",
    "def normalize_single_phrase(phrase):\n",
    "    if pd.isna(phrase):\n",
    "        return \"\"\n",
    "    \n",
    "    phrase_str = str(phrase)\n",
    "    words = phrase_str.split()\n",
    "    normalized_words = []\n",
    "\n",
    "    for word in words:\n",
    "        found_abbreviation = False\n",
    "        for abbr, full_form in abbreviation_map.items():\n",
    "            # re.fullmatch memastikan seluruh kata cocok dengan singkatan\n",
    "            # re.IGNORECASE untuk pencocokan tidak peka huruf besar/kecil\n",
    "            if re.fullmatch(re.escape(abbr), word, re.IGNORECASE):\n",
    "                normalized_words.append(full_form)\n",
    "                found_abbreviation = True\n",
    "                break\n",
    "        \n",
    "        if not found_abbreviation:\n",
    "            normalized_words.append(word)\n",
    "            \n",
    "    return ' '.join(normalized_words)\n",
    "\n",
    "# --- 4. Modifikasi Fungsi Pemformatan Vertikal untuk Juga Menormalisasi ---\n",
    "def format_and_normalize_column(text, delimiter='--'):\n",
    "    if pd.isna(text):\n",
    "        return \"\"\n",
    "    \n",
    "    # Langkah 1: Pisahkan teks menjadi item individual berdasarkan delimiter\n",
    "    raw_items = [item.strip() for item in text.split(delimiter) if item.strip()]\n",
    "    \n",
    "    formatted_and_normalized_items = []\n",
    "    for i, item in enumerate(raw_items):\n",
    "        # Langkah 2: Normalisasi singkatan pada setiap item individual\n",
    "        normalized_item = normalize_single_phrase(item)\n",
    "        \n",
    "        # Langkah 3: Tambahkan penomoran dan siapkan untuk digabungkan dengan newline\n",
    "        formatted_and_normalized_items.append(f\"{i+1}. {normalized_item}\")\n",
    "    \n",
    "    # Langkah 4: Gabungkan kembali item-item dengan karakter baris baru (\\n)\n",
    "    return '\\n'.join(formatted_and_normalized_items)\n"
   ]
  },
  {
   "cell_type": "code",
   "execution_count": null,
   "id": "39da5f70",
   "metadata": {},
   "outputs": [],
   "source": []
  },
  {
   "cell_type": "code",
   "execution_count": null,
   "id": "04a11828",
   "metadata": {},
   "outputs": [
    {
     "name": "stdout",
     "output_type": "stream",
     "text": [
      "\n",
      "--- Menerapkan pemformatan vertikal dan normalisasi singkatan ---\n",
      "Kolom 'Ingredients' berhasil diformat vertikal dan dinormalisasi.\n",
      "Kolom 'Steps' berhasil diformat vertikal dan dinormalisasi.\n",
      "\n",
      "--- 5 baris pertama kolom 'Ingredients' setelah diformat & dinormalisasi ---\n",
      "0    1. 1. 1 Ekor Ayam Kampung (potong 12) 2. 2 Bua...\n",
      "1    1. 1. 1 kg ayam (dipotong sesuai selera jangan...\n",
      "2    1. 1. 1/4 kg ayam 2. 3 buah cabai hijau besar ...\n",
      "3    1. 1. 250 gr daging ayam (saya pakai fillet) 2...\n",
      "4    1. 1. 400 gr kulit ayam & lemaknya 2. 8 siung ...\n",
      "\n",
      "--- 5 baris pertama kolom 'Steps' setelah diformat & dinormalisasi ---\n",
      "0    1. 1. Cuci bersih ayam dan tiriskan. Lalu pera...\n",
      "1    1. 1. Haluskan bumbu2nya (BaPut, ketumbar, kem...\n",
      "2    1. 1. Panaskan minyak di dalam wajan. Setelah ...\n",
      "3    1. 1. Goreng ayam seperti ayam krispi 2. Ulek ...\n",
      "4    1. 1. Cuci bersih kulit ayam. Sisihkan 2. Ambi...\n"
     ]
    }
   ],
   "source": [
    "# --- 5. Terapkan Fungsi Gabungan ke Kolom 'Ingredients' dan 'Steps' ---\n",
    "print(\"\\n--- Menerapkan pemformatan vertikal dan normalisasi singkatan ---\")\n",
    "\n",
    "# Terapkan untuk Ingredients\n",
    "dfnyot['Ingredients'] = dfnyot['Ingredients'].apply(lambda x: format_and_normalize_column(x, delimiter='--'))\n",
    "print(\"Kolom 'Ingredients' berhasil diformat vertikal dan dinormalisasi.\")\n",
    "\n",
    "# Terapkan untuk Steps (jika formatnya juga 'teks--teks--teks')\n",
    "# Jika format Steps Anda adalah '1. teks\\n2. teks', Anda perlu menyesuaikan delimeter atau logikanya\n",
    "# Berdasarkan prep.ipynb sebelumnya, format steps juga menggunakan '--' sebelum diubah ke \\n\n",
    "dfnyot['Steps'] = dfnyot['Steps'].apply(lambda x: format_and_normalize_column(x, delimiter='--'))\n",
    "print(\"Kolom 'Steps' berhasil diformat vertikal dan dinormalisasi.\")\n",
    "\n",
    "\n",
    "# --- 6. Tampilkan Hasil Setelah Normalisasi dan Pemformatan ---\n",
    "print(\"\\n--- 5 baris pertama kolom 'Ingredients' setelah diformat & dinormalisasi ---\")\n",
    "print(dfnyot['Ingredients'].head().to_string())\n",
    "\n",
    "print(\"\\n--- 5 baris pertama kolom 'Steps' setelah diformat & dinormalisasi ---\")\n",
    "print(dfnyot['Steps'].head().to_string())"
   ]
  },
  {
   "cell_type": "code",
   "execution_count": null,
   "id": "c3f07130",
   "metadata": {},
   "outputs": [
    {
     "data": {
      "application/vnd.microsoft.datawrangler.viewer.v0+json": {
       "columns": [
        {
         "name": "index",
         "rawType": "int64",
         "type": "integer"
        },
        {
         "name": "Title",
         "rawType": "object",
         "type": "string"
        },
        {
         "name": "Ingredients",
         "rawType": "object",
         "type": "string"
        },
        {
         "name": "Loves",
         "rawType": "int64",
         "type": "integer"
        },
        {
         "name": "Kalori",
         "rawType": "float64",
         "type": "float"
        },
        {
         "name": "Steps",
         "rawType": "object",
         "type": "string"
        }
       ],
       "ref": "041fc236-4499-4343-86aa-581401612135",
       "rows": [
        [
         "0",
         "Ayam Woku Manado",
         "1. 1. 1 Ekor Ayam Kampung (potong 12) 2. 2 Buah Jeruk Nipis 3. 2 Sdm Garam 4. 3 Ruas Kunyit 5. 7 Bawang Merah 6. 7 Bawang Putih 7. 10 Cabe Merah 8. 10 Cabe Rawit Merah (sesuai selera) 9. 3 Butir Kemiri 10. 2 Batang Sereh 11. 2 Lembar Daun Salam 12. 2 Ikat Daun Kemangi 13. Penyedap Rasa 14. 1 1/2 Gelas Air",
         "1",
         "720.65",
         "1. 1. Cuci bersih ayam dan tiriskan. Lalu peras jeruk nipis (kalo gak ada jeruk nipis bisa pakai cuka) dan beri garam. Aduk hingga merata dan diamkan selama 5 menit, biar ayam gak bau amis. 2. Goreng ayam tersebut setengah matang, lalu tiriskan 3. Haluskan bumbu menggunakan blender. Bawang merah, bawang putih, cabe merah, cabe rawit, kemiri dan kunyit. Oh iya kasih minyak sedikit yaa biar bisa di blender. Untuk sereh nya di geprek saja terus di buat simpul. 4. Setelah bumbu di haluskan barulah di tumis. Jangan lupa sereh dan daun salamnya juga ikut di tumis. Di tumis sampai berubah warna ya 5. Masukan ayam yang sudah di goreng setengah matang ke dalam bumbu yang sudah di tumis, dan diamkan 5 menit dulu. Biar bumbu meresap. Lalu tuangkan 1 1/2 Gelas air. Lalu tambahkan penyedap rasa (saya 3 Sdt, tapi sesuai selera ya) koreksi rasa dan Biar kan sampai mendidih 6. Setelah masakan mendidih, lalu masukan daun kemangi yang sudah di potong potong. Masak lagi sekitar 10 menit. And taraaaaaaaaaaaaaa jadi deh Ayam Woku Manadonya. 7. Oh iyaa kalau mau di tambahkan potongan tomat merah juga bisa ko. Sesuai selera saja yaa buibuuuu"
        ],
        [
         "1",
         "Ayam goreng tulang lunak",
         "1. 1. 1 kg ayam (dipotong sesuai selera jangan kecil2 ya) 2. 2 batang serai (memarkan) 3. 4 lembar daun jeruk 4. 7 butir bawang putih (haluskan) 5. 1 sdm ketumbar (haluskan) 6. 3 ruas jari Laos (haluskan) 7. 3 ruas jari kunyit (haluskan) 8. 2 butir kemiri (haluskan) 9. secukupnya Garam 10. Secukupnya Air (tuk ukep ayam) 11. Secukupnya Minyak goreng",
         "1",
         "3250.0",
         "1. 1. Haluskan bumbu2nya (BaPut, ketumbar, kemiri, kunyit, Laos, garam) hingga halus, sisihkan 2. Campur kan bumbu halus tadi dengan ayam yang sudah dicuci bersih dan sudah dipotong didalam panci presto. Uleni sampai tercampur rata. 3. Tambahkan air hingga ayam tenggelam semua. Masukkan serai dan daun jeruk nya kedalam rendaman ayam. Tutup panci presto rebus/ ukep presto sampai kurleb 45 menit. Dengan api sedang. 4. Setelah proses ukep presto selesai, tunggu suhu dingin ruang. Lalu goreng ayam dengan minyak goreng api sedang sampai ayam berwarna kecoklatan. 5. Matang dan sajikan ayam selagi hangat bersama nasi putih, sambal dengan perasan jeruk nipis, lalapan."
        ],
        [
         "2",
         "Ayam cabai kawin",
         "1. 1. 1/4 kg ayam 2. 3 buah cabai hijau besar 3. 7 buah cabai merah rawit 4. 3 siung bawang putih 5. 2 siung bawang merah 6. secukupnya Gula 7. secukupnya Garam 8. 1/4 buah tomat merah 9. secukupnya Air 10. secukupnya Minyak goreng",
         "2",
         "1095.945",
         "1. 1. Panaskan minyak di dalam wajan. Setelah minyak panas masukkan ayam yang sudah dipotong dadu. Goreng hingga matang. Lalu tiriskan. 2. Haluskan bawang putih, bawang merah, cabai hijau dan merah, tomat. 3. Panaskan minyak didalam wajan. Setelah minyak panas, masukkan bumbu yang sudah halus. Tunggu sampai wangi. Masukkan ayam yang sudah di goreng. Tambahkan air, gula dan garam. Tunggu sampai bumbu meresap di ayam. Sajikan."
        ],
        [
         "3",
         "Ayam Geprek",
         "1. 1. 250 gr daging ayam (saya pakai fillet) 2. Secukupnya gula dan garam 3. 50-100 gr tepung ayam serbaguna 4. Secukupnya lalapan (kemangi,kol,timun) 5. Secukupnya minyak panas 6. sambal korek 7. Secukupnya cabe rawit merah dan bwg putih",
         "10",
         "953.1",
         "1. 1. Goreng ayam seperti ayam krispi 2. Ulek semua bahan sambal kemudian campur dengan minyak panas bekas goreng ayam 3. Geprek ayam kemudian campur dengan sambal,sajikan dengan lalapan"
        ],
        [
         "4",
         "Minyak Ayam",
         "1. 1. 400 gr kulit ayam & lemaknya 2. 8 siung bawang putih kating, cincang kasar 3. 1 ruas jahe, geprek 4. 350 ml minyak goreng 5. 1 sdm ketumbar bubuk",
         "4",
         "3250.0",
         "1. 1. Cuci bersih kulit ayam. Sisihkan 2. Ambil 50 ml minyak goreng satu bahan yang sudah disiapkan tadi. Tumis jahe hingga harum. 3. Masukkan kulit ayam, ketumbar dan bawang. Biarkan hingga keluar minyak alaminya sambil diaduk-aduk. 4. Tambahkan sisa minyak goreng. Masak hingga kulit ayam mengering. Angkat dan saring. 5. Setelah cukup dingin minyak ayam tadi dapat disimpan dalam wadah kering seperti mason jar/botol. kalau saya, saya masukkan juga sedikit bawang putih goreng. 6. Kulit ayam yang sudah digoreng kering tadi bisa dinikmati begitu saja sebagai camilan dengan ditaburi sejumput garam lalu aduk rata."
        ],
        [
         "5",
         "Nasi Bakar Ayam",
         "1. 1. 1 piring nasi 2. / fillet ayam, potong kotak, cuci bersih 3. Daun pisang yang sudah dibersihkan 4. Lidi/tusuk gigi untuk mengapit daun 5. 1 lbr daun salam 6. 3 cuma serai, memarkan 7. 1 ikat daun kemangi, opsional 8. 1 cabe merah besar, iris tipis 9. 1 sdt kecap manis 10. Minyak untuk menumis 11. 100 ml air 12. Bumbu Halus: 13. 1 cabe merah besar 14. 3 cabe kecil 15. 2 siung bawang merah 16. 1 siung bawang putih 17. 1 kemiri 18. 1 cuma kunyit 19. / ruas jahe 20. / tomat 21. 1 sdt gula pasir 22. 1 blok kaldu ayam (aku biasa pakai maggy) pakai royco, masako 23. Merica (dikira2 z takar nya, aku sdkit z sih)",
         "1",
         "3250.0",
         "1. 1. Tumis bumbu halus, masukkan daun salam, serai 2. Masukkan potongan ayam, kecap dan air, masak hingga air menyusut dan koreksi rasa 3. Masukkan irisan cabe merah dan daun kemangi, aduk sebentar dan matikan api 4. Tata daun pisang, tata nasi di atas daun, beri isian ayam atau bisa juga nasi di campur dan diaduk dulu dengan ayam baru di tata di daun Pisang, bunbu ayam akan lebih meresap k nasi 5. Setelah nasi di bungkus, barulah nasi di bakar, aku bakar pakai teflon z br cepet 6. Sajikan selagi hangat endeusss 7. Note: Jangan membakar terlalu lama biar nasi tidak kotor dari daun yang di bakar kering"
        ],
        [
         "6",
         "Ayam Saus Hintalu Jaruk",
         "1. 1. 1/2 Ekor ayam 2. 2 Butir Hintalu Jaruk 3. 1 Buah Cabe merah 4. 1 Buah Cabe hijau 5. 300 gr Tepung terigu 6. 1 bks Merica bubuk 7. 2 Siung Bawang putih 8. 1 Buah jeruk nipis 9. secukupnya Minyak goreng untuk menumis dan menggoreng 10. secukupnya Gula, garam dan penyedap rasa",
         "0",
         "1966.65",
         "1. 1. Potong ayam menjadi kotak-kotak ukuran sedang cuci bersih kemudian lumuri perasan jeruk nipis, garam dan merica 2. Buat adonan tepung untuk melapisi ayam. Adonan A (Tepung terigu, garam, merica, penyedap dan air es) dan adonan B (Tepung terigu, garam, merica dan penyedap) 3. Masukan daging ayam kedalam adonan A kemudian lapisi dengan adonan B, setelah itu goreng daging kedalam minyak panas sampai berwarna kuning keemasan. Angkat tiriskan 4. Cincang bawang putih,iris seron cabe merah dan cabe hijau. Lumatkan kuning hintalu jaruk aka telur asin dengan air dingin sampai berbentuk pasta 5. Tumis bawang putih dan cabe sampai harum, kemudian tuangkan ayam dan pasta kuning telur. 6. Tambahkan gula, garam, penyedap dan merica secukupnya. Tes rasa dan masal hingga mengental 7. Angkat dan sajikan bersama nasi putih panas. Selamat mencoba"
        ],
        [
         "7",
         "Ayam saos teriyaki Lada Hitam",
         "1. 1. Ayam bagian dada dan tulang 2. 1 buah bawang bombay 3. 2 siung bawang daun 4. 4 siung bawang putih 5. 1 buah cabe merah besar 6. 1 buah cabe ijo besar 7. Bahan bumbu : 8. secukupnya Air 9. Mentega untuk menumis 10. 1 bungkus saos teriyaki (2 sdm) 11. 1 sdm gula pasir 12. 1 bungkus royco ayam 13. Larutan meizena",
         "0",
         "712.45",
         "1. 1. Cara Buat : 1. Sediakan teplon or wajan beri sedikit minyak dan masukan bawang putih dan bawang bombay yang sudah di potong potong tumis sampai harum. Bisa juga sebelum dimasak ayamnya dibalurkan ke saos teriyaki dan diamkan selama 15 menit agar meresap 2. 2. Masukan ayam oseng sampai agak mateng, baru masukan cabe ijo dan merah. Beri sedikit air 3. 3. Masukan bumbu royco ayan saos teriyaki, gula, dan bubuk lada hitam. Cicipin 4. 4. Setelah mulai mateng masukan daun bawang jika ingin kental bisa masukan larutan meizena yak. Saya tadi gak pakai karena tiba tiba amnesia kirain punya tepungnya ternyata sudah habis .. Setelah masak siap disajikan dengan nasi angat."
        ],
        [
         "8",
         "Steak ayam",
         "1. 1. 300 gr dada ayam fillet 2. 1 sdm air jeruk nipis 3. secukupnya garam 4. adonan basah 5. 50 gr terigu 6. 10 gr maizena 7. 1/4 sdt merica 8. garam 9. secukupnya air 10. adonan kering 11. 150 gr terigu 12. 30 gr maizena 13. 1/2 sdt merica bubuk 14. 1/4 sdt kaldu jamur 15. secukupnya garam 16. secukupnya minyak goreng 17. bahan saus jamur 18. 50 gr jamur tiram blender 19. 3 bawang putih cincang halus 20. 20 gr keju parut 21. 1 sdm maizena cairkan dengan air 22. 2 sdm saus tiram 23. 1 sdm kecap manis 24. 1/2 sdt merica halus 25. secukupnya garam & kaldu jamur 26. air 27. bahan pelengkap 28. buncis dan wortel di kukus",
         "6",
         "1395.1625",
         "1. 1. Cuci bersih ayam, iris tipis melebar, rendam dengan garam dan air jeruk nipis 10 menit, cuci 2. Campur adonan kering, sisihkan 3. Campur adonan basah, sisihkan 4. Panaskan minyak goreng dengan api sedang, gulingkan ayam pada adonan kering, lalu celup ke adonan basah, gulingkan lg pada adonan kering, jgn di remas2, kibas2 daging ayam pada adonan kering, lalu goreng di minyak yang banyak dan panas, biarkan krispinya terbentuk dl, jgn di balik2 dl, setelah cukup kering br di balik, goreng smpe matang, tiriskan 5. Blender jamur tiram kasih air sedikit. tumis bawang putih yang di cincang halus, masukkan jamur yang di blender, masukkan bumbu2 yang lain sampai meresap, lalu tuang maizena yang sudah di cairkan dengan setengah gelas air, aduk2, masukkan keju parut, aduk sampai meletup2, tes rasa, kalau sudah sesuai, angkat 6. Tata dalam piring, ayam goreng tepung dan sayur kukus, siram dengan saus jamur, taburi daun bawang atau parsley jk ada."
        ],
        [
         "9",
         "Ayam Saos Asam Manis Simple",
         "1. 1. 1/4 kg Ayam bagian dada fillet (Potong dadu) 2. Secukupnya air jeruk nipis untuk baluran 3. 1 Bungkus tepung bumbu ayam instan uk besar + campur sedikit tepung terigu 4. 3 Siung b.putih (iris tipis) 5. 3 Siung b.merah (Iris tipis) 6. 1 Buah b.bombay (Iris tipis) 7. 1 Buah tomat uk besar (Haluskan) 8. 3 sdm saos sambal 9. 1 Sdm Saos tiram 10. Secukupnya Gula & garam 11. Secukupnya merica bubuk",
         "6",
         "965.85",
         "1. 1. Lumuri ayam yang sudah dipotong dadu dengan garam & perasan jeruk nipis (diamkan sebentar) 2. Baluri ayam dengan tepung basah, lanjutkan ke tepung kering, diamkan sebentar 3. Goreng ayam yang sudah dbaluri tepung sampai kering & matang, angkat tiriskan. 4. Membuat Saos Asam Manis : -Tumis b.merah & putih (sy suka kalau bawang y agak kering) 5. Masukkan bawang bombay, tumis sebentar. 6. Masukkan tomat buah yang sudah dihaluskan tdi, tumis lagi pakai api sedang, tambahkan air secukupnya 7. Masukkan saos sambal, saos tiram, sedikit perasan jeruk nipis, gula, garam & merica (koreksi sampai rasanya terasa asam manis gurih segar) 8. Masukkan ayam yang sudah digoreng tdi kedalam saos asam manis, diamkan sebentar 9. Setelah ayam sudah cukup merasap dengan saos asam manisnya matikan api dan siap disajikan dengan nasi putih hangat"
        ],
        [
         "10",
         "Mie Ayam Homemade by suami",
         "1. 1. Bahan mie ayam : 2. 1 kg tepung terigu proteiin tinggi 3. 4 butir telur 4. 3 sendok minyak goreng 5. Air 6. Secukupnyaa garam 7. Air untuk merebus mie : 8. secukupnya Air 9. Minyak goreng 10. Bumbu halus kuah ayam untuk mie ayam : 11. 3 Dada ayam(potong kotak2 jngn terlalu besar) 12. 5 siung bawang merah 13. 5 siung bawang putih 14. 4 buah kemiri 15. secukupnya Lada 16. Secukupnya ketumbar 17. Jahe 18. Lengkuas 19. 2 lembar sereh 20. 5 lembar daun jeruk 21. 2 lembar daun salam 22. Kecap 23. Gula merah 24. Minyak untuk menumis 25. Bahan pelengkap : 26. Daun bawang 27. Sawi hijau 28. Bawang goreng(me gak pakai lupa) 29. Bahan sambal : 30. 20 buah cabai rawit merah 31. Garam(agar tidak cepat bau asam) 32. Air untuk merebus",
         "0",
         "3250.0",
         "1. 1. Kocok telur masukan garam n minyak goreng,aduk rata.masukan tepung terigu uleni pakai tangan sampai kalis(tidak menempel di tangan)diamkan 5 menit. 2. Bagi adonan menjadi beberapa untuk memudahkan menggilasnya nanti,pipihkn pakai tangan lalu giling pakai ketebalan 4 setalah itu giling lg pakai ketebalan 1(ketebelan selera ya kalau saya suka yang tipis),sebelum di giling ke cetakan mie beri taburan terigu di atas adonannya agar tidak menempel,lakukan sampai adonan habis. 3. Bagi mie menjadi beberapa porsi jngn lupa di beri taburan terigu ya agar tidak menempel. 4. Haluskan semua bumbu halus kecuali daun jeruk&salam. 5. Siapkan penggorengan beri minyak untuk menumis bumbu halus,masukan daun jeruk(sobek2)&daun salam,sereh geprek aja,tunggu sampai harum,lalu masukan ayam beri air(banyak boleh karna untuk kuahnya nanti)masukan kecap n gula merah,garam&penyedap test rasa. 6. Untuk sambal rebus cabai merah rawit kira2 5menit. 7. Siapkan panci beri air untuk merebus mie, masukan minyak goreng ke dalam air tujuaan untuk tidak menyatu.setelah mendidih masukan mie tunggu sampai mie naik ke atas barubdi angkat. 8. Siapkan mangkok beri garam n kuah ayam aduk2 mie baru di berikan bahan pelengkap. 9. Mie ayam homemade by suami siap di sajikan"
        ],
        [
         "11",
         "Ayam Bakar Pedas Manis Resep :Nila Sari",
         "1. 1. 1 Ekor Ayam Broiler Ukuran Jumbo 2. Bumbu : 3. 5 Siung Bawang Merah 4. 10 Buah Cabe (Optional) 5. 1 Ruas Jahe 6. 1 Ruas Kunyit 7. Secukupnya Lada Bubuk 8. Secukupnya Ketumbar 9. 2 Lembar Daun Jeruk 10. 3 Lembar Daun Salam 11. 1 Batang Serai 12. 4 Siung Bawah Putih 13. Secukupnya Kecap 14. Secukupnya Gula Merah 15. Secukupnya Minyak Goreng 16. Secukupnya Royco 17. Secukupnya Garam 18. 1 Bungkus Santan Kara",
         "8",
         "931.85",
         "1. 1. Iris tipis bawang merah dan daun jeruk. 2. Haluskan cabe, bawang putih, lada, ketumbar, jahe dan kunyit. 3. Tumis bawang merah hingga wangi. 4. Masukan bumbu yang telah dihaluskan ke dalam tumisan bawang tumis semua hingga harum. 5. Masukan serai, daun jeruk dan daun salam masak sedikit tuang santan kara dan tambahkan air. 6. Kemudian masukan ayam taburi royco, lada dan garam aduk aduk tutup dan tunggu ayam empuk dan air mulai susut tes rasa. 7. Bakar ayam bisa menggunakan arang, teflon, atau batu bakar (saya memakai grill lebih praktis). 8. Selamat Mencoba."
        ],
        [
         "12",
         "Semur Ayam Kentang Ala Mama Kirana",
         "1. 1. 1/2 Ekor ayam 2. Kentang 3. Bumbu Halus : 4. Bawang putih - bisa di sesuaikan sesuaikan 5. Bawang merah 6. Merica 7. Kemiri 8. Sedikit biji Pala 9. Cabai Merah kriting, bila suka pedas 10. Sedikit jahe 11. Rempah: 12. Daun salam 13. Lengkuas 14. Sereh 15. Kapulaga 16. Kulit manis 17. Irisan bawang bombay 18. Irisan tomat 19. Garam 20. Kecap manis 21. Sedikit penyedap rasa 22. Jeruk nipis untuk ayam",
         "2",
         "953.0",
         "1. 1. Cuci bersih ayam lalu baluri dengan perasan jeruk nipis 2. Cuci lagi ayam dan baluri dengan garam lalu rebus sebentar lalu di goreng 3. Kentang saya goreng bisa di sesuaikan sesuai selera masing 4. Tips goreng ayam agar hasil nya tidak keras : di goreng hanya sebentar 5. Tumis bawang bombay lalu masukan bumbu halus dan masukkan semua rempah + irisan tomat + kecap manis 6. Setelah bumbu harum masukkan air tunggu gingga mendidih 7. Tambahkan garam + penyedap rasa apabila kurang manis bisa ditambahkan kecap lagi 8. Setelah semua sudah sesuai dengan rasa masukkan kentang goreng + ayam goreng 9. Tunggu kuah hingga menyusut dan kiraa 5 mnt angkat. Dan terakhir saya taburin bawang goreng bisa disesuaikan juga dengan selera masing. Selesai"
        ],
        [
         "13",
         "Ayam suwir",
         "1. 1. 300 gram Ayam suwir (sudah direbus/Goreng) 2. 5 siung bawang merah 3. 3 siung bawang putih 4. 1/2 buah tomat 5. 1/2 sdt merica 6. 1/2 sdt terasi 7. 2 buah cabe rawit 8. 2 buah cabe kriting 9. Secukupnya gula 10. Secukupnya garam 11. Secukupnya air 12. Secukupnya penyedap rasa (Royco) 13. 2 lembar daun salam 14. 1 jari Lengkuas geprek",
         "0",
         "3250.0",
         "1. 1. Haluskan semua bumbu kecuali tomat, lengkuas, Dan daun salam 2. Siapkan wajan untuk menumis Bumbu, kemudian tuang sedikit minyak Goreng Dan tumis Bumbu yang sudah dihaluskan ditambah daun Salam Dan lengkuas 3. Setelah tercium bau Bumbu yang ditumis kemudian masukkan tomat yang sudah dipotong potong 4. Kemudian setelab tomat layu masukkan air secukupnya Dan rasakan kuahnya kalau belum pas bisa ditambahkan penyedap rasa (Royco) 5. Masukkan ayam yang sudah disuwir Dan aduk 6. Tunggu sampai meresap Dan air berkurang 7. Dan sajikan"
        ],
        [
         "14",
         "Ayam goreng tepung",
         "1. 1. 150 gr fillet ayam 2. 5 sdm tepung bumbu serbaguna 3. 1 butir telur ayam (kocok lepas) 4. Garam sck 5. Minya goreng secukupnya untuk menggoreng",
         "1",
         "652.5",
         "1. 1. Cuci ayam, tiriskan beri perasan jeruk lemon (skip boleh) Potong ayam bentuk dadu. 2. Koco telur beri secukupnya garam. Masukkan ayam yang telah dipotong dadu. 3. Balurkan ke dalam tepung serbaguna. 4. Goreng pada minyak yang panas. 5. Siap disantap"
        ],
        [
         "15",
         "Tulang Ayam Pedas Manis",
         "1. 1. 1/2 kg tulang ayam bersihkan lalu potong 2. 5 bh cabe merah keriting 3. 5 bh cabe rawit (tambah jika suka pedas) 4. 4 butir bawang merah 5. 2 butir bawang putih 6. 1 ruas kunyit 7. 2 lbr daun salam 8. 1 lbr daun jeruk 9. 1 btg sereh geprek 10. 1 ruas jahe geprek 11. 1 btr jeruk nipis 12. secukupnya kaldu bubuk 13. secukupnya gula pasir 14. secukupnya kecap manis 15. 500 ml air untuk merebus tulang 16. minyak untuk menumis",
         "3",
         "3250.0",
         "1. 1. Setelah tulang ayam di bersihkan dan di potong potong lumuri tulang dengan perasan jeruk nipis lalu biarkan 2. Siapkan bumbu yang akan di haluskan bwg merah, bwg putih, cabe, dan kunyit blender hingga halus 3. Siapkan air untuk merebus tulang tambahkan jahe yang sudah di geprek dan daun jeruk ungkep tulang hingga air menyusut 4. Tumis bumbu yang sudah di halus kan tambahkan air secukupnya dan daun salam juga sereh geprek, masukan tulang ayam, beri kaldu bubuk, gula pasir dan kecap manis secukupnya jgn lupa test rasanya dan biarkan tulang ayam hingga meresap 5. Setelah tulang ayam kuahnya agak sedikit meresap angkat lalu sajikan 6. Bisa untuk teman makan mie ayam lohh moms"
        ],
        [
         "16",
         "Ayam penyet rumahan",
         "1. 1. 1 ekr ayam negri cuci bersih ptng beri air jeruk nipis cuci lagi 2. 1 buah jeruk nipis 3. Bumbu ayam goreng jd,yg bsah. bisa beli di pasar,aku beli 3rb 4. 2 lmbr daun salam 5. 2 lmbr daun jeruk 6. 1 btng sere geprek 7. Garam secukupnya dan penyedap 8. secukupnya Minyak goreng 9. Sambel penyet: 10. 20 buah cabe rawit merah 11. 5 buah cabe merah 12. 2 siung bawang p kating 13. 5 buah bawang merah goreng sebentr 14. Penyedap dan sedikit gula",
         "3",
         "3250.0",
         "1. 1. Ungkep ayam bersama bumbu jadi, daun salam, daun jeruk, sere,dan garam,tambah sedikit penyedap apinya kecil ajah ya. Lalu tutup 2. Apabila sudah empuk dan matang goreng dalam minyak panas dan banyak sampe warna kuning kecoklatan, angkat 3. Sementara lagi goreng ayam, kita siapkan sambel dulu, uleg semua cabe, dan bawang merah garam,sedikit gula dan penyedap, setelah agak halus kumpulin sambalnya di tengah cobek lalu siram dengan minyak panas bekas goreng ayam tadi lalu uleg lagi supaya rata 4. Masukan ayam goreng ke dalam cobek lalu penyet pakai ulegan, siap di hidangkan 5. Selamat mencoba"
        ],
        [
         "17",
         "Sop ayam",
         "1. 1. 1 kg ayam potong kecil kecil 2. 1/2 kg ceker ayam bersihkan 3. 1/2 kg kentang iris 4. 1/2 kg wortel iris 5. 1 mangkok makaroni (rebus) 6. 2 batang daun bawang (sesuai selera) 7. 4 batang daun seledri (sesuai selera) 8. Bumbu dihaluskan : 9. 8 siung bawang merah 10. 5 siung bawang putih 11. Tambahan : 12. 1 sendok teh lada halus 13. secukupnya Garam 14. Penyedap rasa (bila Sun's saya pakai gula aja)",
         "3",
         "3250.0",
         "1. 1. Tumis bawang merah dan bawang putih hingga harum 2. Masukkan potongan ayam dan ceker ke tumisan bumbu aduk rata 3. Pindahkan ke panci besar tanbahkan air secukupkan 4. Didihkan sampai ayam dan ceker cukup matang 5. Masukkan kentang dan wortel yang diiris tadi, tunggu sampai lembut 6. Masukkan macaroni yang sudah direbus 7. Taburkan lada bubuk dan garam, tes rasa 8. Terakhir masukkan daun bawang dan daun seledri 9. Siap dihidangkan, taburkan bawang goreng biar tambah maknyuss"
        ],
        [
         "18",
         "Ayam suwir",
         "1. 1. 400 grm dada ayam 2. 3 lembar daun jeruk 3. 4 siung bawang putih 4. 6 siung bawang merah 5. 1 cuma jahe 6. 1 cuma kunyit 7. secukupnya Garam dan gula 8. Minyak untuk menumis",
         "0",
         "3250.0",
         "1. 1. Rebus ayam sampai matang dan di suir suir. 2. Haluskan bawang putih, bawang merah, jahe, dan kunyit. 3. Panaskan minyak tumis bumbu halus, masukkan daun jeruk masak hingga harum tambahkan air secukupnya. 4. Masukkan ayam masak hingga matang."
        ],
        [
         "19",
         "Nugget Ayam Home Made",
         "1. 1. 1/4 kg ayam d fillet ambil dagingnya saja 2. 1 buah wortel 3. 1 buah daun bawang prei 4. 4 siung bawang putih 5. 8 siung bawang merah 6. 1 sdt merica 7. 1/2 kg tepung tapioka 8. 2 telur ayam 9. Garam, penyedap rasa 10. Tepung roti/ tepung panir",
         "6",
         "888.27",
         "1. 1. Cuci bersih ayam. Setelah itu potong kecil2. Masukkan dalam blender. Tambahkan 1 telur ayam, bwg pth, bwg merah, merica. Air sdkt. Lalu blender. 2. Setelah itu parut wortel, ptong kecil2 daun bawang prei 3. Taruh adonan ayam dalam wadah 4. Masukkan wortel, daun prei, tepung tapioka 10 sdm. Kalau pengen lebih padet bisa tambahkan lagi. Sesuai selera 5. Aduk2 ya sampai tercampur rata. Tambah i garam, penyedap. 6. Siapkan wadah. Tuang adonan ke dalam wadah yang sebelumnya d olesi mentega 7. Kukus d panci pengukusan. Kukus 30 - 40 mnt. 8. Setelah matang, keluarkan dari panci. Biarkan dingin. Lalu keluarkan. 9. Siapkan 1 telur (dikocok), tepung panir. Potong2 adonan jadi kecil2, celupkan ke telur, lalu baluri dengan tepung panir. 10. Setelah itu goreng.Nugget siap d hidangkan. Nugget juga bisa d simpan d dalam freezer ya moms . Jadi sewaktu2 bisa langsung goreng."
        ],
        [
         "20",
         "Ayam Koloke",
         "1. 1. 250 gr ayam fillet, potong-potong 2. 2 sdm tepung bumbu serbaguna (larutkan dengan 75 ml air) 3. Pelapis: 4. 4 sdm tepung terigu 5. 1 sdm maizena 6. Bahan Saus 7. 1 sdm butter / margarin 8. 2 siung bawang putih, cincang halus 9. 1 siung bawang bombai uk. Kecil (iris halus) 10. 1/2 bh wortel (potong korek api) 11. 1/2 bh timun (buang biji dan iris korek api) 12. 1 btg daun bawang (potong2) 13. 2 bh cabe merah (iris serong) 14. 3 bh cabe rawit (iris serong) 15. 3 sdm saus tomat 16. 1 sdm saus tiram 17. 1 sdt minyak wijen 18. 1 sdt air lemon / jeruk nipis / cuka masak 19. 250 ml air 20. Garam, lada, gula 21. 1 sdt maizena (larutlan dengan 1 sdm air)",
         "3",
         "1095.4",
         "1. 1. Marinade ayam dengan tepung bumbu serbaguna yang sudah dilarutkan, aduk & disisihkan. 2. Siapkan bahan pelapis. Ambil potongan ayam & balur ke dalam bahan pelapis. Goreng dalam minyak panas sampai matang. Lakukan sampai habis. 3. Bahan saus: lelehkan butter, tumis duo bawang sampai harum. Masukkan wortel dan timun, tambahkan air, lalu masak sampai air mendidih. Masukkan duo cabe, saus tomat, saus tiram, minyak wijen, garam, gula, lada, air lemon, aduk rata. Masukkan larutan maizena, aduk sampai mengental. Terakhir masukkan daun bawang, matikan api supaya sayuran tidak over cook."
        ],
        [
         "21",
         "Mie tulang ayam",
         "1. 1. 1/4 kg tulang ayam 2. 1 bungkus kecil mie burung dara 3. 5 siung bawang putih 4. 3 siung bawang merah 5. 7 cabe rawit 6. 1 tangkai daun bawang 7. 2 tangkai seledri 8. 1 1/2 sdm merica bubuk 9. 2 sdm saos cabe 10. 3 sdm kecap manis 11. secukupnya Gula dan garam 12. Minyak untuk menumis",
         "1",
         "916.125",
         "1. 1. Cuci bersih lalu rebus tulang ayam kurleb 10 menit. Lalu tiriskan 2. Rebus mie sampai setengah matang. Lalu tiriskan 3. Haluskan bawang merah, bawang putih dan cabe rawit 4. Tumis sampai harum bumbu halus dengan irisan seledri dan daun bawang. Lalu tambahkan merica bubuk, gula dan garam. 5. Masukkan tulang ayam, tunggu sampai bumbu meresap. 6. Masukkan mie, saos dan kecap. Lalu tumis sampai bumbu tercampur. Tambahkan gula dan garam jika diperlukan. 7. Mie tulang ayam siap dihidangkan."
        ],
        [
         "22",
         "Ayam Suir Bali (bemesere bali)",
         "1. 1. 1/2 kg dada ayam (rebus dahulu) 2. 50 ml minyak goreng 3. Bumbu : 4. 1/4 kg cabai merah 5. 1/2 buah tomat 6. 5 buah Cabe rawit 7. secukupnya Garam 8. secukupnya Gula jawa 9. 1 sdt terasi bakar 10. 1/2 perasan jeruk limo 11. 3 buah daun jeruk purut",
         "0",
         "1649.72",
         "1. 1. Rebus ayam terlebih dahulu. Lalu, di suwir-suwir. (saya rebus karna kalau goreng, ayamny akan terasa keras dan kering) 2. Ulek halus bumbu, lalu icip2 rasa agar pas 3. Siapkan wajan, masukkan minyak goreng. Tunggu sampai panas, tuangkan bumbu 4. Stelah stengah matang, lalu masukan ayam yang sudah disuir. 5. Tunggu sampai agak meresap bumbuny. Masukkan perasan limo dan daun jeruk 6. Makanan siap dihidangkan. Simple dan enak"
        ],
        [
         "23",
         "Pindang ayam jadul",
         "1. 1. 1/2 kg ayam 2. 5 btr bawang merah iris halus 3. 10 buah cabe rawit iris halus 4. 2 cuma jahe iris halus 5. 1 cuma lengkuas iris halus 6. 1/2 sdt kunyit halus 7. 1 sdt asam jawa 8. 1 sdt terasi bangka panggang 9. 1 bh tomat potong 4 10. Secukupnya daun kemangi (me:gak ada)",
         "0",
         "1102.8",
         "1. 1. Tumis semua bumbu kecuali tomat dengan 2 sdm minyak,oseng sampai harum,tambahkan 1 liter air didihkan,kalau sudah mendidih masukkan ayam,tutup, masak sampai ayam matang, setelah ayam matang koreksi rasa,beri taburan tomat dan daun kemangi, sajikan hangat, segerrr abis 2. Selamat mencoba Semoga bermanfaat untuk semua"
        ],
        [
         "24",
         "Ayam Kacang Panjang Saos Hoisin",
         "1. 1. Bahan Daging 2. 1 lembar paha atas/dada ayam 3. 1 sdm kecap asin, arak beras, tapioka 4. Bahan saos 5. 1 ikat Kacang panjang 6. 2 siung baput cincang halus 7. 3 cuma jahe cincang halus 8. 1 sdm saos hoisin 9. 1 sdt kecap asin 10. 0.5 sdt micin 11. 100 ml air 12. Larutan tapioka",
         "2",
         "1913.5",
         "1. 1. Marinade daging dengan bahannya 30mnt. 2. Sebelum di tumis beri 1sdm minyak di daging ayam, aduk rata, lalu tumis agar tidak lengket di wajan. Matang, lalu angkat. 3. Tumis jahe 10detik, masukkan baput lalu tumis sampai wangi. 4. Masukkan kacang panjang, tumis sebentar lalu masukkan air, saos hoisin, kecap asin, micin. Tutup wajan, kecil kan api. 5. Tunggu 1-2menit, buka tinder tutup wajan, aduk sebentar lalu tutup lg 1-2menit. 6. Masukkan daging, aduk rata. 7. Masukan larutan tapioka agar saos mengental. Aduk rata lalu sajikan"
        ],
        [
         "25",
         "Tongseng ayam",
         "1. 1. 500 g daging ayam (potong2) 2. 1250 CC santan dari 1 butir kelapa (pisahkan bagian yang kental) 3. 3 lembar daun jeruk 4. 3 lembar daun salam 5. 1 ruas lengkuas (geprek) 6. 1 batang serai (geprek) 7. 20 buah cabe rawit hijau 8. 1 batang daun bawang (potong serong) 9. 1 buah tomat (potong2) 10. 3 sdm kecap manis 11. 1 buah kentang ukuran sedang (potong2) 12. Secukupnya kol (iris2 tebal) 13. Secukupnya garam,kaldu bubuk, gula pasir (sesuai selera masing2) 14. Bawang goreng untuk taburan 15. Secukupnya minyak untuk menumis 16. Bumbu halus ; 17. 8 siung bawang merah 18. 4 siung bawang putih 19. 1 ruas jahe 20. 1/2 ruas kunyit 21. 1 sdt ketumbar 22. 1/2 sdt merica 23. 3 butir kemiri sangrai 24. 3 buah cabai merah besar",
         "1",
         "3250.0",
         "1. 1. Siapkan semua bahannya.. panaskan minyak, masukkan bumbu halus.. masak hingga keluar aroma wangi,masukkan daun salam, daun jeruk, serai dan lengkuas.. kemudian masukkan potongan daging ayamnya. 2. Tuangkan santan encer, tunggu hingga daging ayam setengah matang. 3. Masukkan kentang, garam, gula, kaldu bubuk, dan kecap. 4. Masak hingga matang Masukkan potongan kol dan juga cabai hijau.. lalu d susul dengan memasukkan santan kental, aduk2.. jgn sampai pecah santannya, tes rasa.. 5. Setelah mendidih matikan api, masukkan potongan daun bawang dan tomat, lalu beri taburan bawang goreng."
        ],
        [
         "26",
         "Ayam penyet sambel kemangi",
         "1. 1. 400 gr dada ayam 2. 1 ikat daun kemangi 3. 1 buah timun uk sedang 4. 1 bungkus bumbu racik tempe 5. bahan sambel 6. 10 buah cabe merah 7. 10 buah cabe rawit 8. 3 siung bamer 9. 2 siung baput 10. gula 11. garam 12. 1/2 buah tomat merah 13. secukupnya terasi 14. secukupnya minyak untuk menggoreng 15. air untuk mengungkep ayam",
         "0",
         "1247.09",
         "1. 1. Potong ayam sesuai selera,cuxi bersih lalu ungkep dengan sesikit air dan campur dengan bumbu racik tempe,matang angkat 2. Panas kan minyak lalu goreng ayam hingga matang kecoklatan 3. Goreng sebentar semua bahan sambel nya,,uleg jadi satu tambahkan garam gulates rasakalo sudah oke..masukkan beberapa lmbar daun kemangi..giling agak kasar saja 4. Geprek ayam di atas ulek an,,susun di piring lalu letakkan sambel di atas ayam..susun irisan timun,dan juga kemangi. siap di santap dwngan nasi panas"
        ],
        [
         "27",
         "Nugget Ayam Wortel",
         "1. 1. 250 gram daging ayam giling 2. 1 buah wortel ukuran sedang 3. 1/2 buah bawang bombay 4. 2-3 siung bawang putih 5. 3 batang daun bawang 6. 2 butir telur ayam 7. 100 gram tepung terigu (kurang lebih) 8. secukupnya Tepung roti 9. secukupnya Garam 10. secukupnya Lada 11. secukupnya Penyedap rasa ayam 12. Minyak goreng",
         "4",
         "1670.91",
         "1. 1. Potong-potong bawang bombay dan bawang putih. Tumis dengan sedikit minyak hingga harum. Angkat 2. Campurkan tumisan bawang dengan daging ayam giling dengan menggunakan blender atau food processor. Campur hingga bawang halus & tercampur rata. Tuang pada wadah yang telah disediakan untuk dicampur dengan bahan lain 3. Potong wortel jadi bagian yang kecil. Masukkan pada campuran daging giling sebelumnya 4. Potong daun bawang jadi bagian yang kecil. Masukkan pada adonan. Campur hingga rata 5. Masukkan 1 butir telur ayam. Campurkan 6. Masukkan tepung terigu perlahan-lahan dan campur hingga rata. Masukkan garam,lada dan penyedap rasa secukupnya. 7. Panaskan kukusan 8. Letakkan adonan pada cetakan yang telah disediakan. Masukkan pada kukusan yang telah dipanaskan sebelumnya. Tutup kukusan diberi kain agar air tidak menetes diadonan. Kukus kurang lebih 25-30 menit 9. Angkat adonan yang sudah matang dari kukusan. Biarkan agar sedikit dingin. 10. Setelah dingin potong-potong sesuai ukuran yang diinginkan. 11. Kocok lepas 1 butir telur ayam. Celupkan adonan nugget yang telah dipotong tadi kedalam telur. Kemudian gulingkan di tepung roti. 12. Ulangi langkah 11 hingga adonan nugget habis 13. Dinginkan pada freezer kurang lebih 1 jam agar tepung roti menempel dengan sempurna 14. Goreng nugget dengan minyak panas. Nugget ayam wortel siap disajikan. 15. Nugget yang masuk ke dalam freezer dapat bertahan maksimal 3-4 minggu"
        ],
        [
         "28",
         "Ayam goreng pedas gila ala Kfc",
         "1. 1. 1/2 kg ayam 2. 3 bungkus tepung bumbu uk 80 g yang pedas (aku pke sajiku) 3. Secukupnya air es 4. Minyak goreng",
         "2",
         "1335.0",
         "1. 1. Potong\" ayam, lalu cuci sampai bersih. 2. Siapkan 2 mgkok. 1 untuk adonan tepung yang basah yang 1 nya lagi untuk tepung kering. 3. Tuangkan kira\" 2 sdm tepung bumbu lalu tambahkan secukupnya air es kocok pakai garpu sampai adonannya encer. 4. Celupkakan ayam ke dalam adonan basah lalu gulingkan ke dalam tepung kering sambil di remas\" hingga terbentuk kulit tepung yang keriting. Ulangi sampai selesai 5. Panaskan minyak, lalu goreng sampai kecoklatan. Angkat, tiriskan. 6. Ayam goreng siap untuk dinikmati. 7. NB: kalau gk suka terlalu pedas tepung bumbunya bisa di mix sama yang original ya jadi yang pedas bisa pke 1 bungkus aj yang 2 bungkus yang original."
        ],
        [
         "29",
         "Chicken Teriyaki",
         "1. 1. 500 gr Daging ayam iris memanjang 2. 1 bh Bawang bombay, iris memanjang 3. 1/2 sdt Gula 4. 1/4 sdt Garan 5. 150 ml Air 6. Minyak untuk menumis 7. Bumbu perendam : 8. 3 sdm Saus teriyaki 9. 2 sdm Saus tiram 10. 1 sdm Kecap manis 11. 1 sdt Minyak wijen 12. 3 siung bawang putih, haluskan 13. 2 cuma Jahe, haluskan 14. 1/4 sdt Merica 15. 1/2 sdt Kaldu bubuk",
         "1",
         "1215.8125",
         "1. 1. Campur daging ayam dengan bumbu perendam,gula dan garam,diamkan dikulkas 1-2jam agar bumbu meresap. 2. Panaskan minyak tumis daging sampai matang tuangi air,masukan bawang bombay,masak sampai air agak menyusut,kentalkan dengan larutan maizena."
        ],
        [
         "30",
         "Ayam Kecap Pedas Jeruk Limao",
         "1. 1. 1/2 kg ayam potong2 2. 2 lbr daun salam 3. 1 ruas jahe geprek 4. 4 lbr daun jeruk, buang tulangnya 5. 3 buah jeruk limao 6. Secukupnya air perasn jeruk nipis 7. Secukupnya garam, merica, gula pasir, kaldu bubuk 8. Secukupnya kecap manis 9. 250 ml air 10. 1 siung bawang Bombay, iris2 11. Bumbu Halus 12. 3 siung bawang putih 13. 5 siung bawang merah 14. 10 buah cabe keriting merah 15. 5 buah cabe rawit merah",
         "46",
         "3250.0",
         "1. 1. Cuci ayam, lalu lumuri dengan perasan air jeruk nipis & garam, diamkan sebentar -+ 10 mnt, lalu bilas sampai bersih 2. Goreng ayam sebentar, tidak usah sampai garing, sisihkan 3. Panaskan minyak, tumis bumbu halus, daun salam, daun jeruk, jahe, sampai harum 4. Masukkan bawang Bombay, masak sebentar 5. Tambahkan air, beri garam, merica, gula pasir, kecap, & masukkan ayam, aduk rata, koreksi rasa 6. Biarkan air surut & bumbu meresap, setelah matang, matikan api, beri perasan jeruk limao, aduk rata, sajikan 7. Enakk pedes seger"
        ],
        [
         "31",
         "Resep Ayam Kecap Rumahan",
         "1. 1. 1/2 Kg ayam 2. Bumbu yang di haluskan : 3. 3 Bawang Putih 4. 7 Bawang Merah 5. sesuai selera Cabe rawit dan cabe merah besar 6. 2 cuma Jahe 7. secukupnya Lada dan Pala 8. Lengkuas se jempol kaki 9. 4 biji Kemiri",
         "0",
         "697.55",
         "1. 1. Rebus air sampai mendidih lalu masukan ayam dan ungkep sampai empuk 2. Haluskan semua bumbu 3. Panaskan minyak lalu tumis bumbu halus sampai wangi 4. Masukan daun salam 3 lembar dan sereh 2 di geprek 5. Setelah bumbu sudah matang masukkan 1 gelas air 6. Tambahkan garam,micin,royko,asem 7. Setelah di rasa sudah cukup masukan ayam 8. Kecilkan api biar bumbunya meresap. 9. Masak sampai bumbu menyusut (jadi agak kental gitu) 10. Lalu hidangkan"
        ],
        [
         "32",
         "Sop Ayam Garang Asam",
         "1. 1. 1/2 ayam 2. 3 serai 3. 3 cuma jahe 4. 20 cabe rawit merah 5. 8 bawang putih 6. 4 bawang merah 7. 2 tomat hijau 8. 2 jeruk nipis (boleh lebih) 9. 4 daun jeruk 10. secukupnya daun bawang 11. secukupnya garam 12. secukupnya penyedap 13. secukupnya air matang",
         "2",
         "276.1",
         "1. 1. Potong dan bersihkan ayam sesuai selera (kalo aku ku beri perasan jeruk nipis lalu diamkan dulu) 2. Bawang2an diiris kasar, serai dan jahe di geprek, cabe aku hanya iris 6pc sisanya aku biarkan utuh, tomat kupotong memanjang begitu juga daun bawang. 3. Panaskan minyak sedikit saja, masukkan bawang serai daun jeruk dan juga cabe diamkan hingga harum lalu masukkan air dan tunggu hingga mendidih. aetelah mendidih masukkan ayam 4. Tunggu ayam hingga setengah empuk bumbui dengan penyedap garam dan juga gula, masukkan perasan jeruk nipis dan tomat aduk hingga merata 5. Setelah koreksi rasa dan dirasa sudah pas dan ayam matang masukkan daun bawang. setelah itu selesai"
        ],
        [
         "33",
         "Ayam goreng krutuk",
         "1. 1. tepung terigu 2. Air matang 3. ayam (yg sudah direbus sebelumnya) 4. Garam 5. Gula/penyedap 6. Lada bubuk 7. 1 butir telur ayam 8. Minyak goreng",
         "4",
         "1065.3",
         "1. 1. Campur tepung terigu(kurang lebih 1/2 mangkuk kecil) dengan garam,gula/penyedap dan garam secukupnya. Tambahkan air matang sedikit demi sedikit hingga agak mengental. Koreksi rasa 2. Balur ayam yang telah direbus sebelumnya dengan 1 butir telur (yg sudah dikocok lepas), kemudian gulingkan dalam adonan tepung, sisihkan 3. Panaskan minyak goreng dengan api sedang, jika sudah panas masukan ayam yang sudah diberi adonan tepung, kecilkan api lalu masak hingga berwarna kecoklatan dan garing, angkat dan tiriskan. 4. Selamat menikmati"
        ],
        [
         "34",
         "Ayam panggang saos kecap",
         "1. 1. Bumbu ayam panggang ; 2. 1 kg ayam potong sesuai selera 3. 3 siung bawang merah,ulek halus 4. 3 siung bawang putih,ulek halus 5. Sedikit kunyit,dan garam,ulek halus 6. Untuk olesan ayam ; 7. Kecap manis,saus tomat,sedikit minyak,dicampur 8. Saos kecap/cocolan ; 9. sesuai selera Kecap manis 10. 5 siung bawang merah,iris melintang agak tebal 11. 3 siung bawang putih,ulek halus 12. 5 buah cabe rawit,ulek halus 13. 2 buah tomat potong sesuai selera 14. Jeruk nipis (skip) 15. Arang untuk memanggang ayam",
         "0",
         "2327.06",
         "1. 1. Cuci bersih ayam dan tiriskan,campur dibumbu yang sudah dihaluskan,aduk rata,diamkan selama 15 menit,lalu kukus selama 20 menit/ sampai mateng 2. Sementara menunggu ayam dikukus,siapkan pemanggangan arangnya dulu untuk memanggang ayam 3. Keluarkan ayam yang sudah dikukus dan siap dipanggang diatas pemanggangan arang 4. Panggang ayam sambil diolesi dengan olesan, campuran kecap manis,saos tomat dan minyak,bolak balik ayam agar tidak gosong sambil diolesi sampai matang,angkat dan taroh dipiring saji 5. Campurkan semua bahan saos kecap/ cocolan nya diwadah(mangkok),tambahkan kecap manis secukupnya,aduk agar tercampur rata,dan beri perasan jeruk nipis 6. Ayam panggang dan saos kecap sudah siap dihidangkan bersama nasi hangat dan irisan timun sebagai pelengkap"
        ],
        [
         "35",
         "Soto ayam kuah santan",
         "1. 1. 1/5 kg ayam (diungkep dulu,lalu digoreng) 2. 2 bungkus santan kara 3. 2 cuma kunyit 4. 1 cuma jahe 5. secukupnya Lada 6. secukupnya Daun salam,lengkuas,daun jeruk dan sereh 7. 5 siung bawang merah 8. 5 siung bawang putih 9. Penyedap : gula,garam royko ayam 10. Bahan pelengkap: 11. iris Tomat 12. Daun bawang dan seledri 13. Bihun (rebus dulu) 14. Bawang goreng 15. Kol di potong tipis 16. Tahu goreng 17. Kerupuk 18. Bawang goreng 19. Jeruk nipis 20. Sambal (cabe rawit,bawang putih/merah di rebus dulu, diulek)",
         "3",
         "988.7",
         "1. 1. Panaskan air rebus ayam hingga matang lalu tiriskan (air rebusan ayam bisa untuk kuah soto),lalu goreng ayam hingga matang 2. Haluskan bumbu bawang merah,putih,kunyit,jahe,lada,lengkuas sereh cukup digeprek dan tumis hingga matang 3. Masukan tumisan bumbu kedalam rebusan air,masukan daun salam,sereh dan daun jeruk 4. Berikan bumbu garam,gula penyedap rasa, daun bawang dan santan kara masak hingga matang 5. Sajikan soto selagi hangat bersama bihun dan pelengkap lainya"
        ],
        [
         "36",
         "Ayam Goreng Bumbu Kuning",
         "1. 1. 5 potong ayam 2. Secukupnya air 3. Secukupnya minyak goreng 4. Bumbu Halus 5. 1 siung bawang putih 6. 1 ruas jari kunyit 7. 1/2 ruas jari jahe 8. 1/2 sdt ketumbar 9. Secukupnya garam",
         "15",
         "590.0",
         "1. 1. Cuci bersih ayam,masukkan dalam panci,tambahkan bumbu halus dan air. Masak hingga empuk,matang dan bumbu meresap,tiriskan. 2. Goreng dalam minyak panas dan api sedang hingga kuning keemasan,angkat,tiriskan 3. Sajikan"
        ],
        [
         "37",
         "Mie Geprek (Mie + ayam geprek)",
         "1. 1. 1 bungkus mie burung dara 2. 1 ons dada ayam 3. tepung terigu 4. kubis 5. bawang putih 6. kecap 7. royco sapi 8. secukupnya garam 9. ebi 10. minyak wijen 11. saus tiram 12. lada bubuk 13. minyak goreng 14. air 15. cabe rawit 16. bawang merah",
         "2",
         "868.8",
         "1. 1. Rebus mie burung dara, tiriskan 2. Geprek bawang putih 2 siung, tumis sampai harum 3. Masukkan minyak wijen 1 sendok teh. Tumis tumis sebentar bersama bawang 4. Masukkan air 1 gelas belimbing 5. Tambahkan kecap, ebi, garam, saus tiram, royco sapi, lada bubuk sesuai selera. Didihkan 6. Masukkan mie yang telah direbus. Masak sampai air menyusut 7. Tambahkan irisan kubis/kol. Aduk-aduk sebentar sampai air habis. Angkat 8. Cuci bersih ayam, potong jadi 2 bagian atau iris sesuai selera 9. Siapkan tepung kering. Caranya tambahkan garam dan royco sapi pada tepung. Takarannya sesuaikan dengan jumlah tepung 10. Siapkan celupan tepung basah. Caranya campurkan tepung dengan air sampai teksturnya cair tapi cukup kental 11. Masukkan ayam pada tepung kering. Lalu celupkan pada tepung basah. Masukkan ke tepung kering lagi. Remas-remas sampai tepung yang menempel ditangan terlepas dan menempel pada ayam 12. Goreng ayam pada minyak panas dengan api besar, agar teksturnya crispy. Masak sampai kecoklatan lalu angkat. 13. Sekarang membuat sambel bawang. Caranya bawang putih setengah siung + bawang merah 2 siung + cabe rawit sesuai selera diulek bersama garam dan gula. Tambahkan 1 sendok minyak lalu campur rata 14. Geprek ayam crispy tadi kedalam sambel bawang 15. Sajikan mie goreng dengan topping ayam geprek dan lalapan mentimun 16. Selamat mencoba"
        ],
        [
         "38",
         "Seblak Mie Tulang Ayam",
         "1. 1. 1 bungkus mie burung dara 2. 1/4 tulang ayam sisa filet (jadi masih ada daging2ny) 3. Sawi hijau 4. Sawi putih 5. Garam 6. Gula 7. Bahan halus : 8. 5 siung bawang merah 9. 3 siung bawang putih 10. 3 buah cabe keritinh 11. 15 buah cabe rawit (sesuai selera) 12. 1 ruas jari kencur",
         "0",
         "592.2",
         "1. 1. Haluskan seluruh bumbu halus (saya pakai blender) 2. Tumis bumbu halus sampai wangi, masukan tulang ayam, tambahkan air, tunggu smpai ayam matang 3. Setelah ayam matang masukan mie, gula, dan garam kemudian koreksi rasa.. 4. Setelah rasa pas masukan sayur2n sampai agak layu, jangan terlalu lama.. 5. Seblak mie siap dinikmati"
        ],
        [
         "39",
         "Sweet Buffalo Chicken",
         "1. 1. Bahan Utama: 2. 1 kg Paha ayam (10 potong) 3. Bumbu Pelapis Ayam : 4. Secukupnya Garam 5. 1 sdt Lada hitam bubuk 6. 1 sdt Paprika bubuk 7. 2 sdm Tepung terigu 8. Bumbu Saus: 9. 6 sdm Margarin unsalted 10. 2 sdt Bawang putih bubuk 11. 4 sdm Gula merah bubuk 12. 4 sdm Saus tomat 13. 4 sdm Saus sambal 14. secukupnya Garam 15. Secukupnya Wijen",
         "0",
         "2440.1",
         "1. 1. Cuci dan keringkan ayam (sampai kering). 2. Lumuri ayam dengan garam, lada hitam, dan paprika bubuk. 3. Baluri dengan tepung terigu. Diamkan 30 menit (saya 60 menit) 4. Goreng ayam dengan minyak cukup banyak sampai matang +- 10 menit. Kemudian angkat dan tiriskan. 5. Panaskan margarin, tambahkan bawang putih bubuk, gula merah bubuk, saus tomat, saus sambal dengan api sedang. 6. Aduk rata dan biarkan sampai mengental. Pastikan api tidakterlalu besar karena ada gula merah yang rawan gosong. 7. Masukan ayam dan baluri dengan bumbu sampai rata. Diamkan 5 menit sampai bumbu menyatu pada ayam. 8. Angkat. Hidangkan sweet buffalo chicken dan taburi dengan wijen."
        ],
        [
         "40",
         "Ayam Garang Asem",
         "1. 1. 1/2 ekor ayam 2. Secukupnya daun pisang 3. 1 santan kara kecil 4. 1 jeruk nipis 5. bumbu rajang 6. 5 cabai rawit 7. 5 cabai merah 8. 4 tomat hijau kecil 9. 6 bawang merah 10. 4 bawanh putih 11. tambahan 12. 1 ruas laos 13. 2 ruas jahe 14. 4 daun jeruk 15. 2 daun salam 16. 2 batang serai 17. garam gulpas air minyak goreng",
         "3",
         "667.275",
         "1. 1. Potong2 ayam kecil2 lalu cuci dan beri perasan jeruk nipis diamkan sebentar dan cuci lgi. 2. Tumis bumbu rajang beserta laos, daun jeruk, jahe, daun salam dan serai. 3. Masukkan ayam dan air secukupnya. Tanbahkan garam dan gulpas. Masak setengah mateng 4. Lalu masukkan santan kara aduh2 sampai mendidih matikan kompor 5. Bungkus ayam dengan daun pisang lalu kukus kira2 15 menit 6. Siap dihidangkan"
        ],
        [
         "41",
         "Ayam Geprek",
         "1. 1. Fillet dada ayam khas dalam 2. Tepung bumbu kriuk 3. Baham Sambal: 4. 7 buah rawit merah 5. 10 buah cabai merah keriting 6. 5 siung bawang putih 7. secukupnya garam 8. secukupnya kaldu jamur",
         "1",
         "456.3",
         "1. 1. Letakkan sedikit tepung bumbu dalam wadah lalu beri air untuk bumbu rendaman ayam. Buat sedikit kental, lalu diamkan dalam freezer 10 menit 2. Ambil ayam dari bumbu rendaman, lalu baluri dengan tepung kering dan goreng hingga kecoklatan 3. Untuk sambalnya ulek semua bahan jadi 1 lalu tuangkan minyak panas. 4. Setelah itu masukan ayam yang sudah di goreng ke dalam cobek sambal dan ulek bersama."
        ],
        [
         "42",
         "Ayam Asam Manis Rumahan citarasa Resto",
         "1. 1. Bahan 2. 250 gram dada ayam, potong dadu 3. 1 buah paprika merah/hijau 4. Sedikit nanas, potong dadu 5. 1 bawang bombay 6. 2 siung bawang putih, geprek 7. 1 sdm minyak bawang untuk menumis 8. Air dan tepung sagu, perbandingan 2:1 9. Saos asam manis: 10. 4 sdm saos tomat 11. 1 sdm saos sambal 12. 1/2 sdt saos lea perrins 13. 3 sdm gula pasir 14. 1 sdt kaldu ayam 15. secukupnya garam 16. 3 sdm kecap Inggris 17. 1 sdt minyak wijen 18. 1 sdm maggie seasoning 19. 1 sdm saos raja rasa 20. Bumbu marinasi ayam: 21. 1 sdt gula pasir 22. 1 sdt garam 23. 1 sdt kaldu ayam 24. 1/2 sdt merica",
         "6",
         "1104.375",
         "1. 1. Marinasi ayam dengan bumbu marinasi, diamkan selama 10 menit 2. Tumis bawang bombay, bawang putih, paprika 3. Masukkan daging ayam yang telah dimarinasi 4. Masukkan saos asam manis 5. Masukkan campuran air dan tepung sagu 6. Aduk hingga mengental 7. Test rasa, tambahkan garam dan gula sesuai selera"
        ],
        [
         "43",
         "Ayam goreng tepung simple",
         "1. 1. 500 gram ayam dada potong2 2. 6 siung bawang putih haluskan 3. 1/2 sdt lada bubuk 4. secukupnya Kaldu bubuk 5. secukupnya Garam 6. 1 butir telur 7. Tepung pelapis : 8. 100 gram tepung terigu 9. 20 gram tepung meizena",
         "7",
         "1520.2",
         "1. 1. Potong ayam sesuai selera, aku pakai ayam dada utuh karna yang ada stok di kulkas itu hehehhehe 2. Campur ayam dengan bawang putih yang sudah di haluskan, garam, lada, kaldu bubuk, aduk rata. 3. Simpan di kulkas minimal 2 jam. (Semakin lama dibumbui ayamnya semakin enak, aku bumbui malam karna untuk di goreng pagi) 4. Keluarkan ayam dari kulkas masukkan telur ke ayam aduk rata. 5. Siapkan tepung pelapis diaduk rata lalu gulingkan potongan ayam ke dalam tepung remas sedikit. 6. Goreng ayam ke dalam minyak panad sampai kecoklatan. 7. Angkat sajikan, happy cooking moms."
        ],
        [
         "44",
         "Sop Balungan Ayam",
         "1. 1. Tulang dari 1 ekor ayam jowo, rebus dengan api kecil 2. Bumbu ulek : 3. 4 siung bawang putih 4. 1/4 sdt merica bubuk 5. 1/2 sdt pala bubuk 6. 2 cengkeh 7. 1 sdm garam(sesuaikan dengan penggunaan air) 8. 1/2 sdt kaldu jamur 9. 1 sdt gula 10. Bahan sayur : 11. 2 buah wortel, iris tipis 12. 1 kentang ukuran kecil, potong dadu 13. 1 bonggol sawi sendok 14. Secukupnya seledri dan daun bawang 15. Pelengkap : bawang merah goreng",
         "2",
         "385.9825",
         "1. 1. Cuci bersih tulang ayam, rebus dengan api kecil hingga keluar kaldu bening, buang kotoran yang mengapung, setelah itu masukkan bumbu ulek. Biarkan mendidih. 2. Kemudian masukkan wortel, tunggu 3 menit masukkan kentang, tunggu 5 menit lalu cek rasa dan kematangan sayur, setelah pas baru masukkan sawi sendok, seledri, dan daun bawang. Aduk sebentar lalu matikan kompor. 3. Sajikan dengan taburan bawang merah goreng dan sambal kecap."
        ],
        [
         "45",
         "Ayam goreng lepas tulang lembut",
         "1. 1. 1 kg ayam 2. 4 bawang putih 3. 3 ruas laos 4. 1 ruas jahe 5. Daun salam, serai 2 ruas, daun jeruk,",
         "3",
         "1943.65",
         "1. 1. Masukkan ayam dalam magic com. Bawang putih, jahe, laos, jahe blender sampai lembut. Masukkan bumbu yang sudah dihaluskan tadi dalam magic com Tuang air bioglass dalam magic com sampai ayam terendam air bioglass. Cetrek cook. Tunggu kira kira 45 menit. Ambil ayam dari magic com Taburi garam secukupnya Goreng Jadii deh ayam empuk lezatnya. Biar ayamnya dingin juga masih empuk Cara bikin sambel nya Cabe, bawang merah trasi, goreng di sisa minyak ayam goreng tadi. Minyak nya dikit aja."
        ],
        [
         "46",
         "Sayap Goreng Bumbu Ngo Hiang",
         "1. 1. 1 kg sayap ayam bagian drum stick 2. 2 sdm air jeruk nipis / lemon 3. 1 sdt garam 4. 1 sdm bumbu ngo hiang 5. 3 tetes suclarose/stevia drop (boleh skip)",
         "35",
         "1904.1",
         "1. 1. Cuci sayap ayam, lalu dalam satu wadah masukkan sayap ayam beserta seluruh bumbu diatas, remas2 2. Simpan dalam kulkas semalaman hingga bumbu meresap 3. Goreng sayap ayam dengan minyak panas dan banyak hingga matang, sajikan"
        ],
        [
         "47",
         "Semur ayam kampung",
         "1. 1. 1/2 kg ayam kampung 2. 3 siung bawang putih 3. 5 siung bawang merah 4. 3 butir kemiri 5. 1 ruas jahe 6. 4 lembar daun jeruk 7. 1 lembar daun salam 8. 1 batang serai (digeprek) 9. Lengkuas 10. 1/4 sdt kunyit bubuk 11. 1/2 sdt ketumbar bubuk 12. 1/4 sdt merica bubuk 13. 3/4 sdt garam 14. 1/2 sdt gula pasir 15. Sedikit royco 16. Secukupnya kecap manis 17. Secukupnya air kaldu ayam kampung 18. Secukupnya minyak goreng",
         "4",
         "3250.0",
         "1. 1. Potong ayam cuci lalu rebus sampai empuk. Haluskan bawang, kemiri, jahe. 2. Tumis bumbu halus sampai harum masukan serai, daun jeruk, daun salam, lengkuas. Masukan air kaldu, ayam, merica, garam, kunyit, ketumbar, kecap, royco. Masak hingga bumbu meresap dan empuk banget, cek rasa ya bun.. 3. Semur ayam kampung sudah matang 4. Ini aku masaknya sampai empuk banget gak alot ya.. gigitnya gak pakai gigi, pakai bibir saja sudah bisa, hhheee karena sebelum dibumbuin direbus dulu sampai empuk, setelah itu baru dibumbuin. 5. Selamat mencoba.."
        ],
        [
         "48",
         "Ayam Tepung KFC super gurih",
         "1. 1. 4 potong ayam (paha atas atau paha bawah) 2. 1 Sdt air lemon 3. Secukupnya black papper 4. Secukupnya garam 5. Bahan pelapis : 6. 200 gr tepung terigu serba guna 7. 30 gr tepung maizena 8. 1 Sdt oregano 9. 1 Sdt garam 10. 1 Sdt masako ayam 11. 1 Sdt bubuk cabai 12. Bahan pencelup : 13. 2 sdm tepung terigu 14. 1 Sdt bubuk cabai 15. 1 Sdt garam 16. Secukupnya lada putih 17. Air es",
         "0",
         "1248.8",
         "1. 1. Marinade Ayam dengan air lemon, black papper Dan garam, diamkan kurleb 1 jam atau lebih 2. Campur semua bahan pelapis 3. Campur semua bahan pencelup 4. Lumuri Ayam dengan bahan pelapis, celupkan ke dalam bahan pencelup dan lumuri dengan bahan pelapis lagi. Lakukan 2-3 kali. Cubit cubit Bagian Luarnya agar hasilnya keriting 5. Panaskan minyak goreng 6. Goreng Ayam sampai matang, apinya Jangan terlalu besar agar matangnya merata hingga kebagian dalam 7. Sajikan bersama kentang, selada atau asparagus sesuai selera 8. Selamat mencoba"
        ],
        [
         "49",
         "Soto Ayam Surabaya",
         "1. 1. 1/2 Ekor Ayam 2. 6 Siung Bawang Merah 3. 4 Siung Bawang Putih 4. Secukupnya Ketumbar 5. Secukupnya Lada 6. 1 Ruas Kunyit 7. 1 Ruas Lengkuas 8. 1 Ruas Jahe 9. 1 Butir Kemiri 10. Daun Salam 11. Daun Jeruk 12. Gula 13. Garam 14. Penyedap Rasa (boleh pakai boleh tidak) 15. Daun Bawang 16. Kol 17. Tauge 18. Kentang 19. Telur Rebus 20. Sambal Rebus",
         "4",
         "912.0",
         "1. 1. Haluskan semua bumbu kecuali lengkuas & Sereh 2. Tumis bumbu yang dihaluskan tadi hingga harum 3. Rebus ayam hingga terlihat kaldunya kemudian masukkan bumbu yang telah ditumis tadi 4. Icip & sajikan dengan kentang goreng, bihun, tauge & irisan tomat"
        ]
       ],
       "shape": {
        "columns": 5,
        "rows": 15641
       }
      },
      "text/html": [
       "<div>\n",
       "<style scoped>\n",
       "    .dataframe tbody tr th:only-of-type {\n",
       "        vertical-align: middle;\n",
       "    }\n",
       "\n",
       "    .dataframe tbody tr th {\n",
       "        vertical-align: top;\n",
       "    }\n",
       "\n",
       "    .dataframe thead th {\n",
       "        text-align: right;\n",
       "    }\n",
       "</style>\n",
       "<table border=\"1\" class=\"dataframe\">\n",
       "  <thead>\n",
       "    <tr style=\"text-align: right;\">\n",
       "      <th></th>\n",
       "      <th>Title</th>\n",
       "      <th>Ingredients</th>\n",
       "      <th>Loves</th>\n",
       "      <th>Kalori</th>\n",
       "      <th>Steps</th>\n",
       "    </tr>\n",
       "  </thead>\n",
       "  <tbody>\n",
       "    <tr>\n",
       "      <th>0</th>\n",
       "      <td>Ayam Woku Manado</td>\n",
       "      <td>1. 1. 1 Ekor Ayam Kampung (potong 12) 2. 2 Bua...</td>\n",
       "      <td>1</td>\n",
       "      <td>720.650</td>\n",
       "      <td>1. 1. Cuci bersih ayam dan tiriskan. Lalu pera...</td>\n",
       "    </tr>\n",
       "    <tr>\n",
       "      <th>1</th>\n",
       "      <td>Ayam goreng tulang lunak</td>\n",
       "      <td>1. 1. 1 kg ayam (dipotong sesuai selera jangan...</td>\n",
       "      <td>1</td>\n",
       "      <td>3250.000</td>\n",
       "      <td>1. 1. Haluskan bumbu2nya (BaPut, ketumbar, kem...</td>\n",
       "    </tr>\n",
       "    <tr>\n",
       "      <th>2</th>\n",
       "      <td>Ayam cabai kawin</td>\n",
       "      <td>1. 1. 1/4 kg ayam 2. 3 buah cabai hijau besar ...</td>\n",
       "      <td>2</td>\n",
       "      <td>1095.945</td>\n",
       "      <td>1. 1. Panaskan minyak di dalam wajan. Setelah ...</td>\n",
       "    </tr>\n",
       "    <tr>\n",
       "      <th>3</th>\n",
       "      <td>Ayam Geprek</td>\n",
       "      <td>1. 1. 250 gr daging ayam (saya pakai fillet) 2...</td>\n",
       "      <td>10</td>\n",
       "      <td>953.100</td>\n",
       "      <td>1. 1. Goreng ayam seperti ayam krispi 2. Ulek ...</td>\n",
       "    </tr>\n",
       "    <tr>\n",
       "      <th>4</th>\n",
       "      <td>Minyak Ayam</td>\n",
       "      <td>1. 1. 400 gr kulit ayam &amp; lemaknya 2. 8 siung ...</td>\n",
       "      <td>4</td>\n",
       "      <td>3250.000</td>\n",
       "      <td>1. 1. Cuci bersih kulit ayam. Sisihkan 2. Ambi...</td>\n",
       "    </tr>\n",
       "    <tr>\n",
       "      <th>...</th>\n",
       "      <td>...</td>\n",
       "      <td>...</td>\n",
       "      <td>...</td>\n",
       "      <td>...</td>\n",
       "      <td>...</td>\n",
       "    </tr>\n",
       "    <tr>\n",
       "      <th>15636</th>\n",
       "      <td>Udang saus mentega</td>\n",
       "      <td>1. 1. 1 kg udang segar 2. 1 buah bawang bombay...</td>\n",
       "      <td>46</td>\n",
       "      <td>1339.650</td>\n",
       "      <td>1. 1. Bersihkan udang, siapkan bahan bahan 2. ...</td>\n",
       "    </tr>\n",
       "    <tr>\n",
       "      <th>15637</th>\n",
       "      <td>Jipang tumis udang</td>\n",
       "      <td>1. 1. 500 gr jipang(saya pk 6bh jipang muda ya...</td>\n",
       "      <td>6</td>\n",
       "      <td>335.700</td>\n",
       "      <td>1. 1. Tumis bawang merah bawang putih hingga h...</td>\n",
       "    </tr>\n",
       "    <tr>\n",
       "      <th>15638</th>\n",
       "      <td>Tumis Udang Tempe</td>\n",
       "      <td>1. 1. 3 siung bawang merah 2. 3 siung bawang p...</td>\n",
       "      <td>3</td>\n",
       "      <td>501.980</td>\n",
       "      <td>1. 1. Tiriskan bawang putih, bawang merah dan ...</td>\n",
       "    </tr>\n",
       "    <tr>\n",
       "      <th>15639</th>\n",
       "      <td>Tumis kacang panjang terong udang</td>\n",
       "      <td>1. 1. Stgah ikat kacang panjang,ku bli 3ribu d...</td>\n",
       "      <td>12</td>\n",
       "      <td>401.160</td>\n",
       "      <td>1. 1. Potong2 kacang panjang,terong cuci bersi...</td>\n",
       "    </tr>\n",
       "    <tr>\n",
       "      <th>15640</th>\n",
       "      <td>Siomay Udang Ayam</td>\n",
       "      <td>1. 1. 3 bh dada ayam 2. 1/2 kg udang bersih 3....</td>\n",
       "      <td>28</td>\n",
       "      <td>951.600</td>\n",
       "      <td>1. 1. Giling ayam dan udang serta haluskan baw...</td>\n",
       "    </tr>\n",
       "  </tbody>\n",
       "</table>\n",
       "<p>15641 rows × 5 columns</p>\n",
       "</div>"
      ],
      "text/plain": [
       "                                   Title  \\\n",
       "0                       Ayam Woku Manado   \n",
       "1               Ayam goreng tulang lunak   \n",
       "2                       Ayam cabai kawin   \n",
       "3                            Ayam Geprek   \n",
       "4                            Minyak Ayam   \n",
       "...                                  ...   \n",
       "15636                 Udang saus mentega   \n",
       "15637                 Jipang tumis udang   \n",
       "15638                  Tumis Udang Tempe   \n",
       "15639  Tumis kacang panjang terong udang   \n",
       "15640                  Siomay Udang Ayam   \n",
       "\n",
       "                                             Ingredients  Loves    Kalori  \\\n",
       "0      1. 1. 1 Ekor Ayam Kampung (potong 12) 2. 2 Bua...      1   720.650   \n",
       "1      1. 1. 1 kg ayam (dipotong sesuai selera jangan...      1  3250.000   \n",
       "2      1. 1. 1/4 kg ayam 2. 3 buah cabai hijau besar ...      2  1095.945   \n",
       "3      1. 1. 250 gr daging ayam (saya pakai fillet) 2...     10   953.100   \n",
       "4      1. 1. 400 gr kulit ayam & lemaknya 2. 8 siung ...      4  3250.000   \n",
       "...                                                  ...    ...       ...   \n",
       "15636  1. 1. 1 kg udang segar 2. 1 buah bawang bombay...     46  1339.650   \n",
       "15637  1. 1. 500 gr jipang(saya pk 6bh jipang muda ya...      6   335.700   \n",
       "15638  1. 1. 3 siung bawang merah 2. 3 siung bawang p...      3   501.980   \n",
       "15639  1. 1. Stgah ikat kacang panjang,ku bli 3ribu d...     12   401.160   \n",
       "15640  1. 1. 3 bh dada ayam 2. 1/2 kg udang bersih 3....     28   951.600   \n",
       "\n",
       "                                                   Steps  \n",
       "0      1. 1. Cuci bersih ayam dan tiriskan. Lalu pera...  \n",
       "1      1. 1. Haluskan bumbu2nya (BaPut, ketumbar, kem...  \n",
       "2      1. 1. Panaskan minyak di dalam wajan. Setelah ...  \n",
       "3      1. 1. Goreng ayam seperti ayam krispi 2. Ulek ...  \n",
       "4      1. 1. Cuci bersih kulit ayam. Sisihkan 2. Ambi...  \n",
       "...                                                  ...  \n",
       "15636  1. 1. Bersihkan udang, siapkan bahan bahan 2. ...  \n",
       "15637  1. 1. Tumis bawang merah bawang putih hingga h...  \n",
       "15638  1. 1. Tiriskan bawang putih, bawang merah dan ...  \n",
       "15639  1. 1. Potong2 kacang panjang,terong cuci bersi...  \n",
       "15640  1. 1. Giling ayam dan udang serta haluskan baw...  \n",
       "\n",
       "[15641 rows x 5 columns]"
      ]
     },
     "execution_count": 33,
     "metadata": {},
     "output_type": "execute_result"
    }
   ],
   "source": [
    "dfnyot"
   ]
  },
  {
   "cell_type": "code",
   "execution_count": null,
   "id": "9de2f873",
   "metadata": {},
   "outputs": [
    {
     "data": {
      "application/vnd.microsoft.datawrangler.viewer.v0+json": {
       "columns": [
        {
         "name": "index",
         "rawType": "int64",
         "type": "integer"
        },
        {
         "name": "Title",
         "rawType": "object",
         "type": "string"
        },
        {
         "name": "Ingredients",
         "rawType": "object",
         "type": "string"
        },
        {
         "name": "Loves",
         "rawType": "int64",
         "type": "integer"
        },
        {
         "name": "Kalori",
         "rawType": "float64",
         "type": "float"
        },
        {
         "name": "Steps",
         "rawType": "object",
         "type": "string"
        }
       ],
       "ref": "624244f5-61c3-4d35-985a-c24bb3b2d458",
       "rows": [
        [
         "0",
         "Ayam Woku Manado",
         "1 Ekor Ayam Kampung (potong 12)--2 Buah Jeruk Nipis--2 Sdm Garam--3 Ruas Kunyit--7 Bawang Merah--7 Bawang Putih--10 Cabe Merah--10 Cabe Rawit Merah (sesuai selera)--3 Butir Kemiri--2 Batang Sereh--2 Lembar Daun Salam--2 Ikat Daun Kemangi--Penyedap Rasa--1 1/2 Gelas Air--",
         "1",
         "720.65",
         "1. Cuci bersih ayam dan tiriskan. Lalu peras jeruk nipis (kalo gak ada jeruk nipis bisa pake cuka) dan beri garam. Aduk hingga merata dan diamkan selama 5 menit, biar ayam gak bau amis.\n2. Goreng ayam tersebut setengah matang, lalu tiriskan\n3. Haluskan bumbu menggunakan blender. Bawang merah, bawang putih, cabe merah, cabe rawit, kemiri dan kunyit. Oh iya kasih minyak sedikit yaa biar bisa di blender. Untuk sereh nya di geprek aja terus di buat simpul.\n4. Setelah bumbu di haluskan barulah di tumis. Jangan lupa sereh dan daun salamnya juga ikut di tumis. Di tumis sampai berubah warna ya \n5. Masukan ayam yang sudah di goreng setengah matang ke dalam bumbu yang sudah di tumis, dan diamkan 5 menit dulu. Biar bumbu meresap. Lalu tuangkan 1 1/2 Gelas air. Lalu tambahkan penyedap rasa (saya 3 Sdt, tapi sesuai selera ya) koreksi rasa dan Biar kan sampai mendidih\n6. Setelah masakan mendidih, lalu masukan daun kemangi yang sudah di potong potong. Masak lagi sekitar 10 menit. And taraaaaaaaaaaaaaa..... jadi deh Ayam Woku Manadonya.\n7. Oh iyaa kalo mau di tambahkan potongan tomat merah juga bisa ko. Sesuai selera aja yaa buibuuuu"
        ],
        [
         "1",
         "Ayam goreng tulang lunak",
         "1 kg ayam (dipotong sesuai selera jangan kecil2 ya)--2 batang serai (memarkan)--4 lembar daun jeruk--7 butir bawang putih (haluskan)--1 sdm ketumbar (haluskan)--3 ruas jari Laos (haluskan)--3 ruas jari kunyit (haluskan)--2 butir kemiri (haluskan)--secukupnya Garam--Secukupnya Air (tuk ukep ayam)--Secukupnya Minyak goreng--",
         "1",
         "3250.0",
         "1. Haluskan bumbu2nya (BaPut, ketumbar, kemiri, kunyit, Laos, garam) hingga halus, sisihkan\n2. Campur kan bumbu halus tadi dengan ayam yg sudah dicuci bersih dan sudah dipotong didalam panci presto. Uleni sampai tercampur rata.\n3. Tambahkan air hingga ayam tenggelam semua. Masukkan serai dan daun jeruk nya kedalam rendaman ayam. Tutup panci presto rebus/ ukep presto sampai kurleb 45 menit. Dengan api sedang.\n4. Setelah proses ukep presto selesai, tunggu suhu dingin ruang. Lalu goreng ayam dengan minyak goreng api sedang sampai ayam berwarna kecoklatan.\n5. Matang dan sajikan ayam selagi hangat bersama nasi putih, sambal dgn perasan jeruk nipis, lalapan."
        ],
        [
         "2",
         "Ayam cabai kawin",
         "1/4 kg ayam--3 buah cabai hijau besar--7 buah cabai merah rawit--3 siung bawang putih--2 siung bawang merah--secukupnya Gula--secukupnya Garam--1/4 buah tomat merah--secukupnya Air--secukupnya Minyak goreng--",
         "2",
         "1095.945",
         "1. Panaskan minyak di dalam wajan. Setelah minyak panas masukkan ayam yang sudah dipotong dadu. Goreng hingga matang. Lalu tiriskan.\n2. Haluskan bawang putih, bawang merah, cabai hijau dan merah, tomat.\n3. Panaskan minyak didalam wajan. Setelah minyak panas, masukkan bumbu yang sudah halus. Tunggu sampai wangi. Masukkan ayam yang sudah di goreng. Tambahkan air, gula dan garam. Tunggu sampai bumbu meresap di ayam. Sajikan."
        ],
        [
         "3",
         "Ayam Geprek",
         "250 gr daging ayam (saya pakai fillet)--Secukupnya gula dan garam--50-100 gr tepung ayam serbaguna--Secukupnya lalapan (kemangi,kol,timun)--Secukupnya minyak panas--❤sambal korek--Secukupnya cabe rawit merah dan bwg putih--",
         "10",
         "953.1",
         "1. Goreng ayam seperti ayam krispi\n2. Ulek semua bahan sambal kemudian campur dengan minyak panas bekas goreng ayam\n3. Geprek ayam kemudian campur dengan sambal,sajikan dengan lalapan"
        ],
        [
         "4",
         "Minyak Ayam",
         "400 gr kulit ayam & lemaknya--8 siung bawang putih kating, cincang kasar--1 ruas jahe, geprek--350 ml minyak goreng--1 sdm ketumbar bubuk--",
         "4",
         "3250.0",
         "1. Cuci bersih kulit ayam. Sisihkan\n2. Ambil 50 ml minyak goreng satu bahan yg sudah disiapkan tadi. Tumis jahe hingga harum.\n3. Masukkan kulit ayam, ketumbar dan bawang. Biarkan hingga keluar minyak alaminya sambil diaduk-aduk.\n4. Tambahkan sisa minyak goreng. Masak hingga kulit ayam mengering. Angkat dan saring.\n5. Setelah cukup dingin minyak ayam tadi dapat disimpan dalam wadah kering seperti mason jar/botol. Kalo saya, saya masukkan juga sedikit bawang putih goreng.\n6. Kulit ayam yg sudah digoreng kering tadi bisa dinikmati begitu saja sebagai camilan dengan ditaburi sejumput garam lalu aduk rata."
        ]
       ],
       "shape": {
        "columns": 5,
        "rows": 5
       }
      },
      "text/html": [
       "<div>\n",
       "<style scoped>\n",
       "    .dataframe tbody tr th:only-of-type {\n",
       "        vertical-align: middle;\n",
       "    }\n",
       "\n",
       "    .dataframe tbody tr th {\n",
       "        vertical-align: top;\n",
       "    }\n",
       "\n",
       "    .dataframe thead th {\n",
       "        text-align: right;\n",
       "    }\n",
       "</style>\n",
       "<table border=\"1\" class=\"dataframe\">\n",
       "  <thead>\n",
       "    <tr style=\"text-align: right;\">\n",
       "      <th></th>\n",
       "      <th>Title</th>\n",
       "      <th>Ingredients</th>\n",
       "      <th>Loves</th>\n",
       "      <th>Kalori</th>\n",
       "      <th>Steps</th>\n",
       "    </tr>\n",
       "  </thead>\n",
       "  <tbody>\n",
       "    <tr>\n",
       "      <th>0</th>\n",
       "      <td>Ayam Woku Manado</td>\n",
       "      <td>1 Ekor Ayam Kampung (potong 12)--2 Buah Jeruk ...</td>\n",
       "      <td>1</td>\n",
       "      <td>720.650</td>\n",
       "      <td>1. Cuci bersih ayam dan tiriskan. Lalu peras j...</td>\n",
       "    </tr>\n",
       "    <tr>\n",
       "      <th>1</th>\n",
       "      <td>Ayam goreng tulang lunak</td>\n",
       "      <td>1 kg ayam (dipotong sesuai selera jangan kecil...</td>\n",
       "      <td>1</td>\n",
       "      <td>3250.000</td>\n",
       "      <td>1. Haluskan bumbu2nya (BaPut, ketumbar, kemiri...</td>\n",
       "    </tr>\n",
       "    <tr>\n",
       "      <th>2</th>\n",
       "      <td>Ayam cabai kawin</td>\n",
       "      <td>1/4 kg ayam--3 buah cabai hijau besar--7 buah ...</td>\n",
       "      <td>2</td>\n",
       "      <td>1095.945</td>\n",
       "      <td>1. Panaskan minyak di dalam wajan. Setelah min...</td>\n",
       "    </tr>\n",
       "    <tr>\n",
       "      <th>3</th>\n",
       "      <td>Ayam Geprek</td>\n",
       "      <td>250 gr daging ayam (saya pakai fillet)--Secuku...</td>\n",
       "      <td>10</td>\n",
       "      <td>953.100</td>\n",
       "      <td>1. Goreng ayam seperti ayam krispi\\n2. Ulek se...</td>\n",
       "    </tr>\n",
       "    <tr>\n",
       "      <th>4</th>\n",
       "      <td>Minyak Ayam</td>\n",
       "      <td>400 gr kulit ayam &amp; lemaknya--8 siung bawang p...</td>\n",
       "      <td>4</td>\n",
       "      <td>3250.000</td>\n",
       "      <td>1. Cuci bersih kulit ayam. Sisihkan\\n2. Ambil ...</td>\n",
       "    </tr>\n",
       "  </tbody>\n",
       "</table>\n",
       "</div>"
      ],
      "text/plain": [
       "                      Title  \\\n",
       "0          Ayam Woku Manado   \n",
       "1  Ayam goreng tulang lunak   \n",
       "2          Ayam cabai kawin   \n",
       "3               Ayam Geprek   \n",
       "4               Minyak Ayam   \n",
       "\n",
       "                                         Ingredients  Loves    Kalori  \\\n",
       "0  1 Ekor Ayam Kampung (potong 12)--2 Buah Jeruk ...      1   720.650   \n",
       "1  1 kg ayam (dipotong sesuai selera jangan kecil...      1  3250.000   \n",
       "2  1/4 kg ayam--3 buah cabai hijau besar--7 buah ...      2  1095.945   \n",
       "3  250 gr daging ayam (saya pakai fillet)--Secuku...     10   953.100   \n",
       "4  400 gr kulit ayam & lemaknya--8 siung bawang p...      4  3250.000   \n",
       "\n",
       "                                               Steps  \n",
       "0  1. Cuci bersih ayam dan tiriskan. Lalu peras j...  \n",
       "1  1. Haluskan bumbu2nya (BaPut, ketumbar, kemiri...  \n",
       "2  1. Panaskan minyak di dalam wajan. Setelah min...  \n",
       "3  1. Goreng ayam seperti ayam krispi\\n2. Ulek se...  \n",
       "4  1. Cuci bersih kulit ayam. Sisihkan\\n2. Ambil ...  "
      ]
     },
     "execution_count": 34,
     "metadata": {},
     "output_type": "execute_result"
    }
   ],
   "source": [
    "dfyo = pd.read_csv(\"data/dataset_enjoy.csv\")\n",
    "dfyo.head()"
   ]
  },
  {
   "cell_type": "code",
   "execution_count": null,
   "id": "056990bf",
   "metadata": {},
   "outputs": [
    {
     "name": "stdout",
     "output_type": "stream",
     "text": [
      "Kolom 'Title' berhasil dibersihkan dari emotikon dan simbol.\n",
      "Kolom 'Ingredients' berhasil dibersihkan dari emotikon dan simbol.\n",
      "Kolom 'Steps' berhasil dibersihkan dari emotikon dan simbol.\n"
     ]
    }
   ],
   "source": [
    "text_columns = ['Title', 'Ingredients', 'Steps']\n",
    "\n",
    "for col in text_columns:\n",
    "    if col in dfyo.columns:\n",
    "        dfyo[col] = dfyo[col].apply(clean_text_emojis)\n",
    "        print(f\"Kolom '{col}' berhasil dibersihkan dari emotikon dan simbol.\")\n",
    "    else:\n",
    "        print(f\"Peringatan: Kolom '{col}' tidak ditemukan dalam dataset.\")"
   ]
  },
  {
   "cell_type": "code",
   "execution_count": null,
   "id": "c1ae983c",
   "metadata": {},
   "outputs": [
    {
     "name": "stdout",
     "output_type": "stream",
     "text": [
      "\n",
      "--- Memulai pengecekan emotikon pada dataset yang sudah dibersihkan ---\n",
      "\n",
      "Total resep yang MENGANDUNG emotikon SETELAH pembersihan: 0\n",
      "\n",
      "SELAMAT! Tidak ditemukan emotikon di kolom 'Title', 'Ingredients', atau 'Steps' setelah pembersihan.\n",
      "Ini menunjukkan bahwa proses pembersihan emotikon berhasil.\n"
     ]
    }
   ],
   "source": [
    "print(\"\\n--- Memulai pengecekan emotikon pada dataset yang sudah dibersihkan ---\")\n",
    "\n",
    "recipes_with_emojis_after_cleaning = []\n",
    "\n",
    "for index, row in dfyo.iterrows():\n",
    "    found_emojis_in_row = {}\n",
    "    for col in text_columns:\n",
    "        emojis_detected = check_for_emojis(row[col])\n",
    "        if emojis_detected:\n",
    "            found_emojis_in_row[col] = list(set(emojis_detected)) # Gunakan set untuk menghindari duplikasi\n",
    "\n",
    "    if found_emojis_in_row:\n",
    "        recipes_with_emojis_after_cleaning.append({\n",
    "            'Index': index,\n",
    "            'Title': row['Title'],\n",
    "            'Emoticons_Found_After_Cleaning': found_emojis_in_row\n",
    "        })\n",
    "\n",
    "print(f\"\\nTotal resep yang MENGANDUNG emotikon SETELAH pembersihan: {len(recipes_with_emojis_after_cleaning)}\")\n",
    "\n",
    "if recipes_with_emojis_after_cleaning:\n",
    "    print(\"\\nBeberapa contoh resep yang masih mengandung emotikon setelah pembersihan:\")\n",
    "    for i, recipe_info in enumerate(recipes_with_emojis_after_cleaning[:5]): # Tampilkan hingga 5 contoh\n",
    "        print(f\"\\n--- Resep {i+1} (Index: {recipe_info['Index']}) ---\")\n",
    "        print(f\"Judul: {recipe_info['Title']}\")\n",
    "        for col, emojis in recipe_info['Emoticons_Found_After_Cleaning'].items():\n",
    "            print(f\"  Ditemukan di kolom '{col}': {', '.join(emojis)}\")\n",
    "else:\n",
    "    print(\"\\nSELAMAT! Tidak ditemukan emotikon di kolom 'Title', 'Ingredients', atau 'Steps' setelah pembersihan.\")\n",
    "    print(\"Ini menunjukkan bahwa proses pembersihan emotikon berhasil.\")"
   ]
  },
  {
   "cell_type": "code",
   "execution_count": null,
   "id": "7d8d0717",
   "metadata": {},
   "outputs": [
    {
     "name": "stdout",
     "output_type": "stream",
     "text": [
      "Kolom 'Title' telah dinormalisasi dari singkatan.\n",
      "Kolom 'Ingredients' telah dinormalisasi dari singkatan.\n",
      "Kolom 'Steps' telah dinormalisasi dari singkatan.\n"
     ]
    }
   ],
   "source": [
    "text_columns_to_normalize = ['Title', 'Ingredients', 'Steps']\n",
    "\n",
    "for col in text_columns_to_normalize:\n",
    "    if col in dfyo.columns:\n",
    "        dfyo[col] = dfyo[col].apply(normalize_abbreviations)\n",
    "        print(f\"Kolom '{col}' telah dinormalisasi dari singkatan.\")\n",
    "    else:\n",
    "        print(f\"Peringatan: Kolom '{col}' tidak ditemukan dalam dataset.\")"
   ]
  },
  {
   "cell_type": "code",
   "execution_count": null,
   "id": "ba2388ed",
   "metadata": {},
   "outputs": [
    {
     "name": "stdout",
     "output_type": "stream",
     "text": [
      "\n",
      "--- Menerapkan pemformatan dan mengganti kolom 'Ingredients' asli ---\n",
      "Kolom 'Ingredients' sekarang sudah diformat ulang dengan bahan per baris.\n"
     ]
    }
   ],
   "source": [
    "# --- 3. Terapkan Fungsi Pemformatan dan Ganti Kolom Asli ---\n",
    "print(\"\\n--- Menerapkan pemformatan dan mengganti kolom 'Ingredients' asli ---\")\n",
    "dfyo['Ingredients'] = dfyo['Ingredients'].apply(format_ingredients_vertical)\n",
    "print(\"Kolom 'Ingredients' sekarang sudah diformat ulang dengan bahan per baris.\")"
   ]
  },
  {
   "cell_type": "code",
   "execution_count": null,
   "id": "4c0d1425",
   "metadata": {},
   "outputs": [
    {
     "name": "stdout",
     "output_type": "stream",
     "text": [
      "\n",
      "--- 5 baris pertama kolom 'Ingredients' setelah diformat & dinormalisasi ---\n",
      "0    1. 1 Ekor Ayam Kampung (potong 12)\\n2. 2 Buah ...\n",
      "1    1. 1 kg ayam (dipotong sesuai selera jangan ke...\n",
      "2    1. 1/4 kg ayam\\n2. 3 buah cabai hijau besar\\n3...\n",
      "3    1. 250 gr daging ayam (saya pakai fillet)\\n2. ...\n",
      "4    1. 400 gr kulit ayam & lemaknya\\n2. 8 siung ba...\n"
     ]
    }
   ],
   "source": [
    "print(\"\\n--- 5 baris pertama kolom 'Ingredients' setelah diformat & dinormalisasi ---\")\n",
    "print(dfyo['Ingredients'].head().to_string())"
   ]
  },
  {
   "cell_type": "code",
   "execution_count": null,
   "id": "713174e2",
   "metadata": {},
   "outputs": [],
   "source": [
    "dfyo.to_csv(\"dataset_gento.csv\", index=False)"
   ]
  },
  {
   "cell_type": "code",
   "execution_count": 8,
   "id": "0dfd27bf",
   "metadata": {},
   "outputs": [
    {
     "data": {
      "application/vnd.microsoft.datawrangler.viewer.v0+json": {
       "columns": [
        {
         "name": "index",
         "rawType": "int64",
         "type": "integer"
        },
        {
         "name": "Title",
         "rawType": "object",
         "type": "string"
        },
        {
         "name": "Ingredients",
         "rawType": "object",
         "type": "unknown"
        },
        {
         "name": "Loves",
         "rawType": "int64",
         "type": "integer"
        },
        {
         "name": "Kalori",
         "rawType": "float64",
         "type": "float"
        },
        {
         "name": "Steps",
         "rawType": "object",
         "type": "unknown"
        }
       ],
       "ref": "7f7851d0-5b70-4b2a-9718-59cbb66724c1",
       "rows": [
        [
         "0",
         "Ayam Woku Manado",
         "1. 1 Ekor Ayam Kampung (potong 12)\n2. 2 Buah Jeruk Nipis\n3. 2 Sdm Garam\n4. 3 Ruas Kunyit\n5. 7 Bawang Merah\n6. 7 Bawang Putih\n7. 10 Cabe Merah\n8. 10 Cabe Rawit Merah (sesuai selera)\n9. 3 Butir Kemiri\n10. 2 Batang Sereh\n11. 2 Lembar Daun Salam\n12. 2 Ikat Daun Kemangi\n13. Penyedap Rasa\n14. 1 1/2 Gelas Air",
         "1",
         "720.65",
         "1. Cuci bersih ayam dan tiriskan. Lalu peras jeruk nipis (kalo gak ada jeruk nipis bisa pakai cuka) dan beri garam. Aduk hingga merata dan diamkan selama 5 menit, biar ayam gak bau amis. 2. Goreng ayam tersebut setengah matang, lalu tiriskan 3. Haluskan bumbu menggunakan blender. Bawang merah, bawang putih, cabe merah, cabe rawit, kemiri dan kunyit. Oh iya kasih minyak sedikit yaa biar bisa di blender. Untuk sereh nya di geprek saja terus di buat simpul. 4. Setelah bumbu di haluskan barulah di tumis. Jangan lupa sereh dan daun salamnya juga ikut di tumis. Di tumis sampai berubah warna ya 5. Masukan ayam yang sudah di goreng setengah matang ke dalam bumbu yang sudah di tumis, dan diamkan 5 menit dulu. Biar bumbu meresap. Lalu tuangkan 1 1/2 Gelas air. Lalu tambahkan penyedap rasa (saya 3 Sdt, tapi sesuai selera ya) koreksi rasa dan Biar kan sampai mendidih 6. Setelah masakan mendidih, lalu masukan daun kemangi yang sudah di potong potong. Masak lagi sekitar 10 menit. And taraaaaaaaaaaaaaa jadi deh Ayam Woku Manadonya. 7. Oh iyaa kalau mau di tambahkan potongan tomat merah juga bisa ko. Sesuai selera saja yaa buibuuuu"
        ],
        [
         "1",
         "Ayam goreng tulang lunak",
         "1. 1 kg ayam (dipotong sesuai selera jangan kecil2 ya)\n2. 2 batang serai (memarkan)\n3. 4 lembar daun jeruk\n4. 7 butir bawang putih (haluskan)\n5. 1 sdm ketumbar (haluskan)\n6. 3 ruas jari Laos (haluskan)\n7. 3 ruas jari kunyit (haluskan)\n8. 2 butir kemiri (haluskan)\n9. secukupnya Garam\n10. Secukupnya Air (tuk ukep ayam)\n11. Secukupnya Minyak goreng",
         "1",
         "3250.0",
         "1. Haluskan bumbu2nya (BaPut, ketumbar, kemiri, kunyit, Laos, garam) hingga halus, sisihkan 2. Campur kan bumbu halus tadi dengan ayam yang sudah dicuci bersih dan sudah dipotong didalam panci presto. Uleni sampai tercampur rata. 3. Tambahkan air hingga ayam tenggelam semua. Masukkan serai dan daun jeruk nya kedalam rendaman ayam. Tutup panci presto rebus/ ukep presto sampai kurleb 45 menit. Dengan api sedang. 4. Setelah proses ukep presto selesai, tunggu suhu dingin ruang. Lalu goreng ayam dengan minyak goreng api sedang sampai ayam berwarna kecoklatan. 5. Matang dan sajikan ayam selagi hangat bersama nasi putih, sambal dengan perasan jeruk nipis, lalapan."
        ],
        [
         "2",
         "Ayam cabai kawin",
         "1. 1/4 kg ayam\n2. 3 buah cabai hijau besar\n3. 7 buah cabai merah rawit\n4. 3 siung bawang putih\n5. 2 siung bawang merah\n6. secukupnya Gula\n7. secukupnya Garam\n8. 1/4 buah tomat merah\n9. secukupnya Air\n10. secukupnya Minyak goreng",
         "2",
         "1095.945",
         "1. Panaskan minyak di dalam wajan. Setelah minyak panas masukkan ayam yang sudah dipotong dadu. Goreng hingga matang. Lalu tiriskan. 2. Haluskan bawang putih, bawang merah, cabai hijau dan merah, tomat. 3. Panaskan minyak didalam wajan. Setelah minyak panas, masukkan bumbu yang sudah halus. Tunggu sampai wangi. Masukkan ayam yang sudah di goreng. Tambahkan air, gula dan garam. Tunggu sampai bumbu meresap di ayam. Sajikan."
        ],
        [
         "3",
         "Ayam Geprek",
         "1. 250 gr daging ayam (saya pakai fillet)\n2. Secukupnya gula dan garam\n3. 50-100 gr tepung ayam serbaguna\n4. Secukupnya lalapan (kemangi,kol,timun)\n5. Secukupnya minyak panas\n6. sambal korek\n7. Secukupnya cabe rawit merah dan bwg putih",
         "10",
         "953.1",
         "1. Goreng ayam seperti ayam krispi 2. Ulek semua bahan sambal kemudian campur dengan minyak panas bekas goreng ayam 3. Geprek ayam kemudian campur dengan sambal,sajikan dengan lalapan"
        ],
        [
         "4",
         "Minyak Ayam",
         "1. 400 gr kulit ayam & lemaknya\n2. 8 siung bawang putih kating, cincang kasar\n3. 1 ruas jahe, geprek\n4. 350 ml minyak goreng\n5. 1 sdm ketumbar bubuk",
         "4",
         "3250.0",
         "1. Cuci bersih kulit ayam. Sisihkan 2. Ambil 50 ml minyak goreng satu bahan yang sudah disiapkan tadi. Tumis jahe hingga harum. 3. Masukkan kulit ayam, ketumbar dan bawang. Biarkan hingga keluar minyak alaminya sambil diaduk-aduk. 4. Tambahkan sisa minyak goreng. Masak hingga kulit ayam mengering. Angkat dan saring. 5. Setelah cukup dingin minyak ayam tadi dapat disimpan dalam wadah kering seperti mason jar/botol. kalau saya, saya masukkan juga sedikit bawang putih goreng. 6. Kulit ayam yang sudah digoreng kering tadi bisa dinikmati begitu saja sebagai camilan dengan ditaburi sejumput garam lalu aduk rata."
        ],
        [
         "5",
         "Nasi Bakar Ayam",
         "1. 1 piring nasi\n2. / fillet ayam, potong kotak, cuci bersih\n3. Daun pisang yang sudah dibersihkan\n4. Lidi/tusuk gigi untuk mengapit daun\n5. 1 lbr daun salam\n6. 3 cuma serai, memarkan\n7. 1 ikat daun kemangi, opsional\n8. 1 cabe merah besar, iris tipis\n9. 1 sdt kecap manis\n10. Minyak untuk menumis\n11. 100 ml air\n12. Bumbu Halus:\n13. 1 cabe merah besar\n14. 3 cabe kecil\n15. 2 siung bawang merah\n16. 1 siung bawang putih\n17. 1 kemiri\n18. 1 cuma kunyit\n19. / ruas jahe\n20. / tomat\n21. 1 sdt gula pasir\n22. 1 blok kaldu ayam (aku biasa pakai maggy) pakai royco, masako\n23. Merica (dikira2 z takar nya, aku sdkit z sih)",
         "1",
         "3250.0",
         "1. Tumis bumbu halus, masukkan daun salam, serai 2. Masukkan potongan ayam, kecap dan air, masak hingga air menyusut dan koreksi rasa 3. Masukkan irisan cabe merah dan daun kemangi, aduk sebentar dan matikan api 4. Tata daun pisang, tata nasi di atas daun, beri isian ayam atau bisa juga nasi di campur dan diaduk dulu dengan ayam baru di tata di daun Pisang, bunbu ayam akan lebih meresap k nasi 5. Setelah nasi di bungkus, barulah nasi di bakar, aku bakar pakai teflon z br cepet 6. Sajikan selagi hangat endeusss 7. Note: Jangan membakar terlalu lama biar nasi tidak kotor dari daun yang di bakar kering"
        ],
        [
         "6",
         "Ayam Saus Hintalu Jaruk",
         "1. 1/2 Ekor ayam\n2. 2 Butir Hintalu Jaruk\n3. 1 Buah Cabe merah\n4. 1 Buah Cabe hijau\n5. 300 gr Tepung terigu\n6. 1 bks Merica bubuk\n7. 2 Siung Bawang putih\n8. 1 Buah jeruk nipis\n9. secukupnya Minyak goreng untuk menumis dan menggoreng\n10. secukupnya Gula, garam dan penyedap rasa",
         "0",
         "1966.65",
         "1. Potong ayam menjadi kotak-kotak ukuran sedang cuci bersih kemudian lumuri perasan jeruk nipis, garam dan merica 2. Buat adonan tepung untuk melapisi ayam. Adonan A (Tepung terigu, garam, merica, penyedap dan air es) dan adonan B (Tepung terigu, garam, merica dan penyedap) 3. Masukan daging ayam kedalam adonan A kemudian lapisi dengan adonan B, setelah itu goreng daging kedalam minyak panas sampai berwarna kuning keemasan. Angkat tiriskan 4. Cincang bawang putih,iris seron cabe merah dan cabe hijau. Lumatkan kuning hintalu jaruk aka telur asin dengan air dingin sampai berbentuk pasta 5. Tumis bawang putih dan cabe sampai harum, kemudian tuangkan ayam dan pasta kuning telur. 6. Tambahkan gula, garam, penyedap dan merica secukupnya. Tes rasa dan masal hingga mengental 7. Angkat dan sajikan bersama nasi putih panas. Selamat mencoba"
        ],
        [
         "7",
         "Ayam saos teriyaki Lada Hitam",
         "1. Ayam bagian dada dan tulang\n2. 1 buah bawang bombay\n3. 2 siung bawang daun\n4. 4 siung bawang putih\n5. 1 buah cabe merah besar\n6. 1 buah cabe ijo besar\n7. Bahan bumbu :\n8. secukupnya Air\n9. Mentega untuk menumis\n10. 1 bungkus saos teriyaki (2 sdm)\n11. 1 sdm gula pasir\n12. 1 bungkus royco ayam\n13. Larutan meizena",
         "0",
         "712.45",
         "1. Cara Buat : 1. Sediakan teplon or wajan beri sedikit minyak dan masukan bawang putih dan bawang bombay yang sudah di potong potong tumis sampai harum. Bisa juga sebelum dimasak ayamnya dibalurkan ke saos teriyaki dan diamkan selama 15 menit agar meresap 2. 2. Masukan ayam oseng sampai agak mateng, baru masukan cabe ijo dan merah. Beri sedikit air 3. 3. Masukan bumbu royco ayan saos teriyaki, gula, dan bubuk lada hitam. Cicipin 4. 4. Setelah mulai mateng masukan daun bawang jika ingin kental bisa masukan larutan meizena yak. Saya tadi gak pakai karena tiba tiba amnesia kirain punya tepungnya ternyata sudah habis .. Setelah masak siap disajikan dengan nasi angat."
        ],
        [
         "8",
         "Steak ayam",
         "1. 300 gr dada ayam fillet\n2. 1 sdm air jeruk nipis\n3. secukupnya garam\n4. adonan basah\n5. 50 gr terigu\n6. 10 gr maizena\n7. 1/4 sdt merica\n8. garam\n9. secukupnya air\n10. adonan kering\n11. 150 gr terigu\n12. 30 gr maizena\n13. 1/2 sdt merica bubuk\n14. 1/4 sdt kaldu jamur\n15. secukupnya garam\n16. secukupnya minyak goreng\n17. bahan saus jamur\n18. 50 gr jamur tiram blender\n19. 3 bawang putih cincang halus\n20. 20 gr keju parut\n21. 1 sdm maizena cairkan dengan air\n22. 2 sdm saus tiram\n23. 1 sdm kecap manis\n24. 1/2 sdt merica halus\n25. secukupnya garam & kaldu jamur\n26. air\n27. bahan pelengkap\n28. buncis dan wortel di kukus",
         "6",
         "1395.1625",
         "1. Cuci bersih ayam, iris tipis melebar, rendam dengan garam dan air jeruk nipis 10 menit, cuci 2. Campur adonan kering, sisihkan 3. Campur adonan basah, sisihkan 4. Panaskan minyak goreng dengan api sedang, gulingkan ayam pada adonan kering, lalu celup ke adonan basah, gulingkan lg pada adonan kering, jgn di remas2, kibas2 daging ayam pada adonan kering, lalu goreng di minyak yang banyak dan panas, biarkan krispinya terbentuk dl, jgn di balik2 dl, setelah cukup kering br di balik, goreng smpe matang, tiriskan 5. Blender jamur tiram kasih air sedikit. tumis bawang putih yang di cincang halus, masukkan jamur yang di blender, masukkan bumbu2 yang lain sampai meresap, lalu tuang maizena yang sudah di cairkan dengan setengah gelas air, aduk2, masukkan keju parut, aduk sampai meletup2, tes rasa, kalau sudah sesuai, angkat 6. Tata dalam piring, ayam goreng tepung dan sayur kukus, siram dengan saus jamur, taburi daun bawang atau parsley jk ada."
        ],
        [
         "9",
         "Ayam Saos Asam Manis Simple",
         "1. 1/4 kg Ayam bagian dada fillet (Potong dadu)\n2. Secukupnya air jeruk nipis untuk baluran\n3. 1 Bungkus tepung bumbu ayam instan uk besar + campur sedikit tepung terigu\n4. 3 Siung b.putih (iris tipis)\n5. 3 Siung b.merah (Iris tipis)\n6. 1 Buah b.bombay (Iris tipis)\n7. 1 Buah tomat uk besar (Haluskan)\n8. 3 sdm saos sambal\n9. 1 Sdm Saos tiram\n10. Secukupnya Gula & garam\n11. Secukupnya merica bubuk",
         "6",
         "965.85",
         "1. Lumuri ayam yang sudah dipotong dadu dengan garam & perasan jeruk nipis (diamkan sebentar) 2. Baluri ayam dengan tepung basah, lanjutkan ke tepung kering, diamkan sebentar 3. Goreng ayam yang sudah dbaluri tepung sampai kering & matang, angkat tiriskan. 4. Membuat Saos Asam Manis : -Tumis b.merah & putih (sy suka kalau bawang y agak kering) 5. Masukkan bawang bombay, tumis sebentar. 6. Masukkan tomat buah yang sudah dihaluskan tdi, tumis lagi pakai api sedang, tambahkan air secukupnya 7. Masukkan saos sambal, saos tiram, sedikit perasan jeruk nipis, gula, garam & merica (koreksi sampai rasanya terasa asam manis gurih segar) 8. Masukkan ayam yang sudah digoreng tdi kedalam saos asam manis, diamkan sebentar 9. Setelah ayam sudah cukup merasap dengan saos asam manisnya matikan api dan siap disajikan dengan nasi putih hangat"
        ],
        [
         "10",
         "Mie Ayam Homemade by suami",
         "1. Bahan mie ayam :\n2. 1 kg tepung terigu proteiin tinggi\n3. 4 butir telur\n4. 3 sendok minyak goreng\n5. Air\n6. Secukupnyaa garam\n7. Air untuk merebus mie :\n8. secukupnya Air\n9. Minyak goreng\n10. Bumbu halus kuah ayam untuk mie ayam :\n11. 3 Dada ayam(potong kotak2 jngn terlalu besar)\n12. 5 siung bawang merah\n13. 5 siung bawang putih\n14. 4 buah kemiri\n15. secukupnya Lada\n16. Secukupnya ketumbar\n17. Jahe\n18. Lengkuas\n19. 2 lembar sereh\n20. 5 lembar daun jeruk\n21. 2 lembar daun salam\n22. Kecap\n23. Gula merah\n24. Minyak untuk menumis\n25. Bahan pelengkap :\n26. Daun bawang\n27. Sawi hijau\n28. Bawang goreng(me gak pakai lupa)\n29. Bahan sambal :\n30. 20 buah cabai rawit merah\n31. Garam(agar tidak cepat bau asam)\n32. Air untuk merebus",
         "0",
         "3250.0",
         "1. Kocok telur masukan garam n minyak goreng,aduk rata.masukan tepung terigu uleni pakai tangan sampai kalis(tidak menempel di tangan)diamkan 5 menit. 2. Bagi adonan menjadi beberapa untuk memudahkan menggilasnya nanti,pipihkn pakai tangan lalu giling pakai ketebalan 4 setalah itu giling lg pakai ketebalan 1(ketebelan selera ya kalau saya suka yang tipis),sebelum di giling ke cetakan mie beri taburan terigu di atas adonannya agar tidak menempel,lakukan sampai adonan habis. 3. Bagi mie menjadi beberapa porsi jngn lupa di beri taburan terigu ya agar tidak menempel. 4. Haluskan semua bumbu halus kecuali daun jeruk&salam. 5. Siapkan penggorengan beri minyak untuk menumis bumbu halus,masukan daun jeruk(sobek2)&daun salam,sereh geprek aja,tunggu sampai harum,lalu masukan ayam beri air(banyak boleh karna untuk kuahnya nanti)masukan kecap n gula merah,garam&penyedap test rasa. 6. Untuk sambal rebus cabai merah rawit kira2 5menit. 7. Siapkan panci beri air untuk merebus mie, masukan minyak goreng ke dalam air tujuaan untuk tidak menyatu.setelah mendidih masukan mie tunggu sampai mie naik ke atas barubdi angkat. 8. Siapkan mangkok beri garam n kuah ayam aduk2 mie baru di berikan bahan pelengkap. 9. Mie ayam homemade by suami siap di sajikan"
        ],
        [
         "11",
         "Ayam Bakar Pedas Manis Resep :Nila Sari",
         "1. 1 Ekor Ayam Broiler Ukuran Jumbo\n2. Bumbu :\n3. 5 Siung Bawang Merah\n4. 10 Buah Cabe (Optional)\n5. 1 Ruas Jahe\n6. 1 Ruas Kunyit\n7. Secukupnya Lada Bubuk\n8. Secukupnya Ketumbar\n9. 2 Lembar Daun Jeruk\n10. 3 Lembar Daun Salam\n11. 1 Batang Serai\n12. 4 Siung Bawah Putih\n13. Secukupnya Kecap\n14. Secukupnya Gula Merah\n15. Secukupnya Minyak Goreng\n16. Secukupnya Royco\n17. Secukupnya Garam\n18. 1 Bungkus Santan Kara",
         "8",
         "931.85",
         "1. Iris tipis bawang merah dan daun jeruk. 2. Haluskan cabe, bawang putih, lada, ketumbar, jahe dan kunyit. 3. Tumis bawang merah hingga wangi. 4. Masukan bumbu yang telah dihaluskan ke dalam tumisan bawang tumis semua hingga harum. 5. Masukan serai, daun jeruk dan daun salam masak sedikit tuang santan kara dan tambahkan air. 6. Kemudian masukan ayam taburi royco, lada dan garam aduk aduk tutup dan tunggu ayam empuk dan air mulai susut tes rasa. 7. Bakar ayam bisa menggunakan arang, teflon, atau batu bakar (saya memakai grill lebih praktis). 8. Selamat Mencoba."
        ],
        [
         "12",
         "Semur Ayam Kentang Ala Mama Kirana",
         "1. 1/2 Ekor ayam\n2. Kentang\n3. Bumbu Halus :\n4. Bawang putih - bisa di sesuaikan sesuaikan\n5. Bawang merah\n6. Merica\n7. Kemiri\n8. Sedikit biji Pala\n9. Cabai Merah kriting, bila suka pedas\n10. Sedikit jahe\n11. Rempah:\n12. Daun salam\n13. Lengkuas\n14. Sereh\n15. Kapulaga\n16. Kulit manis\n17. Irisan bawang bombay\n18. Irisan tomat\n19. Garam\n20. Kecap manis\n21. Sedikit penyedap rasa\n22. Jeruk nipis untuk ayam",
         "2",
         "953.0",
         "1. Cuci bersih ayam lalu baluri dengan perasan jeruk nipis 2. Cuci lagi ayam dan baluri dengan garam lalu rebus sebentar lalu di goreng 3. Kentang saya goreng bisa di sesuaikan sesuai selera masing 4. Tips goreng ayam agar hasil nya tidak keras : di goreng hanya sebentar 5. Tumis bawang bombay lalu masukan bumbu halus dan masukkan semua rempah + irisan tomat + kecap manis 6. Setelah bumbu harum masukkan air tunggu gingga mendidih 7. Tambahkan garam + penyedap rasa apabila kurang manis bisa ditambahkan kecap lagi 8. Setelah semua sudah sesuai dengan rasa masukkan kentang goreng + ayam goreng 9. Tunggu kuah hingga menyusut dan kiraa 5 mnt angkat. Dan terakhir saya taburin bawang goreng bisa disesuaikan juga dengan selera masing. Selesai"
        ],
        [
         "13",
         "Ayam suwir",
         "1. 300 gram Ayam suwir (sudah direbus/Goreng)\n2. 5 siung bawang merah\n3. 3 siung bawang putih\n4. 1/2 buah tomat\n5. 1/2 sdt merica\n6. 1/2 sdt terasi\n7. 2 buah cabe rawit\n8. 2 buah cabe kriting\n9. Secukupnya gula\n10. Secukupnya garam\n11. Secukupnya air\n12. Secukupnya penyedap rasa (Royco)\n13. 2 lembar daun salam\n14. 1 jari Lengkuas geprek",
         "0",
         "3250.0",
         "1. Haluskan semua bumbu kecuali tomat, lengkuas, Dan daun salam 2. Siapkan wajan untuk menumis Bumbu, kemudian tuang sedikit minyak Goreng Dan tumis Bumbu yang sudah dihaluskan ditambah daun Salam Dan lengkuas 3. Setelah tercium bau Bumbu yang ditumis kemudian masukkan tomat yang sudah dipotong potong 4. Kemudian setelab tomat layu masukkan air secukupnya Dan rasakan kuahnya kalau belum pas bisa ditambahkan penyedap rasa (Royco) 5. Masukkan ayam yang sudah disuwir Dan aduk 6. Tunggu sampai meresap Dan air berkurang 7. Dan sajikan"
        ],
        [
         "14",
         "Ayam goreng tepung",
         "1. 150 gr fillet ayam\n2. 5 sdm tepung bumbu serbaguna\n3. 1 butir telur ayam (kocok lepas)\n4. Garam sck\n5. Minya goreng secukupnya untuk menggoreng",
         "1",
         "652.5",
         "1. Cuci ayam, tiriskan beri perasan jeruk lemon (skip boleh) Potong ayam bentuk dadu. 2. Koco telur beri secukupnya garam. Masukkan ayam yang telah dipotong dadu. 3. Balurkan ke dalam tepung serbaguna. 4. Goreng pada minyak yang panas. 5. Siap disantap"
        ],
        [
         "15",
         "Tulang Ayam Pedas Manis",
         "1. 1/2 kg tulang ayam bersihkan lalu potong\n2. 5 bh cabe merah keriting\n3. 5 bh cabe rawit (tambah jika suka pedas)\n4. 4 butir bawang merah\n5. 2 butir bawang putih\n6. 1 ruas kunyit\n7. 2 lbr daun salam\n8. 1 lbr daun jeruk\n9. 1 btg sereh geprek\n10. 1 ruas jahe geprek\n11. 1 btr jeruk nipis\n12. secukupnya kaldu bubuk\n13. secukupnya gula pasir\n14. secukupnya kecap manis\n15. 500 ml air untuk merebus tulang\n16. minyak untuk menumis",
         "3",
         "3250.0",
         "1. Setelah tulang ayam di bersihkan dan di potong potong lumuri tulang dengan perasan jeruk nipis lalu biarkan 2. Siapkan bumbu yang akan di haluskan bwg merah, bwg putih, cabe, dan kunyit blender hingga halus 3. Siapkan air untuk merebus tulang tambahkan jahe yang sudah di geprek dan daun jeruk ungkep tulang hingga air menyusut 4. Tumis bumbu yang sudah di halus kan tambahkan air secukupnya dan daun salam juga sereh geprek, masukan tulang ayam, beri kaldu bubuk, gula pasir dan kecap manis secukupnya jgn lupa test rasanya dan biarkan tulang ayam hingga meresap 5. Setelah tulang ayam kuahnya agak sedikit meresap angkat lalu sajikan 6. Bisa untuk teman makan mie ayam lohh moms"
        ],
        [
         "16",
         "Ayam penyet rumahan",
         "1. 1 ekr ayam negri cuci bersih ptng beri air jeruk nipis cuci lagi\n2. 1 buah jeruk nipis\n3. Bumbu ayam goreng jd,yg bsah. bisa beli di pasar,aku beli 3rb\n4. 2 lmbr daun salam\n5. 2 lmbr daun jeruk\n6. 1 btng sere geprek\n7. Garam secukupnya dan penyedap\n8. secukupnya Minyak goreng\n9. Sambel penyet:\n10. 20 buah cabe rawit merah\n11. 5 buah cabe merah\n12. 2 siung bawang p kating\n13. 5 buah bawang merah goreng sebentr\n14. Penyedap dan sedikit gula",
         "3",
         "3250.0",
         "1. Ungkep ayam bersama bumbu jadi, daun salam, daun jeruk, sere,dan garam,tambah sedikit penyedap apinya kecil ajah ya. Lalu tutup 2. Apabila sudah empuk dan matang goreng dalam minyak panas dan banyak sampe warna kuning kecoklatan, angkat 3. Sementara lagi goreng ayam, kita siapkan sambel dulu, uleg semua cabe, dan bawang merah garam,sedikit gula dan penyedap, setelah agak halus kumpulin sambalnya di tengah cobek lalu siram dengan minyak panas bekas goreng ayam tadi lalu uleg lagi supaya rata 4. Masukan ayam goreng ke dalam cobek lalu penyet pakai ulegan, siap di hidangkan 5. Selamat mencoba"
        ],
        [
         "17",
         "Sop ayam",
         "1. 1 kg ayam potong kecil kecil\n2. 1/2 kg ceker ayam bersihkan\n3. 1/2 kg kentang iris\n4. 1/2 kg wortel iris\n5. 1 mangkok makaroni (rebus)\n6. 2 batang daun bawang (sesuai selera)\n7. 4 batang daun seledri (sesuai selera)\n8. Bumbu dihaluskan :\n9. 8 siung bawang merah\n10. 5 siung bawang putih\n11. Tambahan :\n12. 1 sendok teh lada halus\n13. secukupnya Garam\n14. Penyedap rasa (bila Sun's saya pakai gula aja)",
         "3",
         "3250.0",
         "1. Tumis bawang merah dan bawang putih hingga harum 2. Masukkan potongan ayam dan ceker ke tumisan bumbu aduk rata 3. Pindahkan ke panci besar tanbahkan air secukupkan 4. Didihkan sampai ayam dan ceker cukup matang 5. Masukkan kentang dan wortel yang diiris tadi, tunggu sampai lembut 6. Masukkan macaroni yang sudah direbus 7. Taburkan lada bubuk dan garam, tes rasa 8. Terakhir masukkan daun bawang dan daun seledri 9. Siap dihidangkan, taburkan bawang goreng biar tambah maknyuss"
        ],
        [
         "18",
         "Ayam suwir",
         "1. 400 grm dada ayam\n2. 3 lembar daun jeruk\n3. 4 siung bawang putih\n4. 6 siung bawang merah\n5. 1 cuma jahe\n6. 1 cuma kunyit\n7. secukupnya Garam dan gula\n8. Minyak untuk menumis",
         "0",
         "3250.0",
         "1. Rebus ayam sampai matang dan di suir suir. 2. Haluskan bawang putih, bawang merah, jahe, dan kunyit. 3. Panaskan minyak tumis bumbu halus, masukkan daun jeruk masak hingga harum tambahkan air secukupnya. 4. Masukkan ayam masak hingga matang."
        ],
        [
         "19",
         "Nugget Ayam Home Made",
         "1. 1/4 kg ayam d fillet ambil dagingnya aja\n2. 1 buah wortel\n3. 1 buah daun bawang prei\n4. 4 siung bawang putih\n5. 8 siung bawang merah\n6. 1 sdt merica\n7. 1/2 kg tepung tapioka\n8. 2 telur ayam\n9. Garam, penyedap rasa\n10. Tepung roti/ tepung panir",
         "6",
         "888.27",
         "1. Cuci bersih ayam. Setelah itu potong kecil2. Masukkan dalam blender. Tambahkan 1 telur ayam, bwg pth, bwg merah, merica. Air sdkt. Lalu blender. 2. Setelah itu parut wortel, ptong kecil2 daun bawang prei 3. Taruh adonan ayam dalam wadah 4. Masukkan wortel, daun prei, tepung tapioka 10 sdm. Kalau pengen lebih padet bisa tambahkan lagi. Sesuai selera 5. Aduk2 ya sampai tercampur rata. Tambah i garam, penyedap. 6. Siapkan wadah. Tuang adonan ke dalam wadah yang sebelumnya d olesi mentega 7. Kukus d panci pengukusan. Kukus 30 - 40 mnt. 8. Setelah matang, keluarkan dari panci. Biarkan dingin. Lalu keluarkan. 9. Siapkan 1 telur (dikocok), tepung panir. Potong2 adonan jadi kecil2, celupkan ke telur, lalu baluri dengan tepung panir. 10. Setelah itu goreng.Nugget siap d hidangkan. Nugget juga bisa d simpan d dalam freezer ya moms . Jadi sewaktu2 bisa langsung goreng."
        ],
        [
         "20",
         "Ayam Koloke",
         "1. 250 gr ayam fillet, potong-potong\n2. 2 sdm tepung bumbu serbaguna (larutkan dengan 75 ml air)\n3. Pelapis:\n4. 4 sdm tepung terigu\n5. 1 sdm maizena\n6. Bahan Saus\n7. 1 sdm butter / margarin\n8. 2 siung bawang putih, cincang halus\n9. 1 siung bawang bombai uk. Kecil (iris halus)\n10. 1/2 bh wortel (potong korek api)\n11. 1/2 bh timun (buang biji dan iris korek api)\n12. 1 btg daun bawang (potong2)\n13. 2 bh cabe merah (iris serong)\n14. 3 bh cabe rawit (iris serong)\n15. 3 sdm saus tomat\n16. 1 sdm saus tiram\n17. 1 sdt minyak wijen\n18. 1 sdt air lemon / jeruk nipis / cuka masak\n19. 250 ml air\n20. Garam, lada, gula\n21. 1 sdt maizena (larutlan dengan 1 sdm air)",
         "3",
         "1095.4",
         "1. Marinade ayam dengan tepung bumbu serbaguna yang sudah dilarutkan, aduk & disisihkan. 2. Siapkan bahan pelapis. Ambil potongan ayam & balur ke dalam bahan pelapis. Goreng dalam minyak panas sampai matang. Lakukan sampai habis. 3. Bahan saus: lelehkan butter, tumis duo bawang sampai harum. Masukkan wortel dan timun, tambahkan air, lalu masak sampai air mendidih. Masukkan duo cabe, saus tomat, saus tiram, minyak wijen, garam, gula, lada, air lemon, aduk rata. Masukkan larutan maizena, aduk sampai mengental. Terakhir masukkan daun bawang, matikan api supaya sayuran tidak over cook."
        ],
        [
         "21",
         "Mie tulang ayam",
         "1. 1/4 kg tulang ayam\n2. 1 bungkus kecil mie burung dara\n3. 5 siung bawang putih\n4. 3 siung bawang merah\n5. 7 cabe rawit\n6. 1 tangkai daun bawang\n7. 2 tangkai seledri\n8. 1 1/2 sdm merica bubuk\n9. 2 sdm saos cabe\n10. 3 sdm kecap manis\n11. secukupnya Gula dan garam\n12. Minyak untuk menumis",
         "1",
         "916.125",
         "1. Cuci bersih lalu rebus tulang ayam kurleb 10 menit. Lalu tiriskan 2. Rebus mie sampai setengah matang. Lalu tiriskan 3. Haluskan bawang merah, bawang putih dan cabe rawit 4. Tumis sampai harum bumbu halus dengan irisan seledri dan daun bawang. Lalu tambahkan merica bubuk, gula dan garam. 5. Masukkan tulang ayam, tunggu sampai bumbu meresap. 6. Masukkan mie, saos dan kecap. Lalu tumis sampai bumbu tercampur. Tambahkan gula dan garam jika diperlukan. 7. Mie tulang ayam siap dihidangkan."
        ],
        [
         "22",
         "Ayam Suir Bali (bemesere bali)",
         "1. 1/2 kg dada ayam (rebus dahulu)\n2. 50 ml minyak goreng\n3. Bumbu :\n4. 1/4 kg cabai merah\n5. 1/2 buah tomat\n6. 5 buah Cabe rawit\n7. secukupnya Garam\n8. secukupnya Gula jawa\n9. 1 sdt terasi bakar\n10. 1/2 perasan jeruk limo\n11. 3 buah daun jeruk purut",
         "0",
         "1649.72",
         "1. Rebus ayam terlebih dahulu. Lalu, di suwir-suwir. (saya rebus karna kalau goreng, ayamny akan terasa keras dan kering) 2. Ulek halus bumbu, lalu icip2 rasa agar pas 3. Siapkan wajan, masukkan minyak goreng. Tunggu sampai panas, tuangkan bumbu 4. Stelah stengah matang, lalu masukan ayam yang sudah disuir. 5. Tunggu sampai agak meresap bumbuny. Masukkan perasan limo dan daun jeruk 6. Makanan siap dihidangkan. Simple dan enak"
        ],
        [
         "23",
         "Pindang ayam jadul",
         "1. 1/2 kg ayam\n2. 5 btr bawang merah iris halus\n3. 10 buah cabe rawit iris halus\n4. 2 cuma jahe iris halus\n5. 1 cuma lengkuas iris halus\n6. 1/2 sdt kunyit halus\n7. 1 sdt asam jawa\n8. 1 sdt terasi bangka panggang\n9. 1 bh tomat potong 4\n10. Secukupnya daun kemangi (me:gak ada)",
         "0",
         "1102.8",
         "1. Tumis semua bumbu kecuali tomat dengan 2 sdm minyak,oseng sampai harum,tambahkan 1 liter air didihkan,kalau sudah mendidih masukkan ayam,tutup, masak sampai ayam matang, setelah ayam matang koreksi rasa,beri taburan tomat dan daun kemangi, sajikan hangat, segerrr abis 2. Selamat mencoba Semoga bermanfaat untuk semua"
        ],
        [
         "24",
         "Ayam Kacang Panjang Saos Hoisin",
         "1. Bahan Daging\n2. 1 lembar paha atas/dada ayam\n3. 1 sdm kecap asin, arak beras, tapioka\n4. Bahan saos\n5. 1 ikat Kacang panjang\n6. 2 siung baput cincang halus\n7. 3 cuma jahe cincang halus\n8. 1 sdm saos hoisin\n9. 1 sdt kecap asin\n10. 0.5 sdt micin\n11. 100 ml air\n12. Larutan tapioka",
         "2",
         "1913.5",
         "1. Marinade daging dengan bahannya 30mnt. 2. Sebelum di tumis beri 1sdm minyak di daging ayam, aduk rata, lalu tumis agar tidak lengket di wajan. Matang, lalu angkat. 3. Tumis jahe 10detik, masukkan baput lalu tumis sampai wangi. 4. Masukkan kacang panjang, tumis sebentar lalu masukkan air, saos hoisin, kecap asin, micin. Tutup wajan, kecil kan api. 5. Tunggu 1-2menit, buka tinder tutup wajan, aduk sebentar lalu tutup lg 1-2menit. 6. Masukkan daging, aduk rata. 7. Masukan larutan tapioka agar saos mengental. Aduk rata lalu sajikan"
        ],
        [
         "25",
         "Tongseng ayam",
         "1. 500 g daging ayam (potong2)\n2. 1250 CC santan dari 1 butir kelapa (pisahkan bagian yang kental)\n3. 3 lembar daun jeruk\n4. 3 lembar daun salam\n5. 1 ruas lengkuas (geprek)\n6. 1 batang serai (geprek)\n7. 20 buah cabe rawit hijau\n8. 1 batang daun bawang (potong serong)\n9. 1 buah tomat (potong2)\n10. 3 sdm kecap manis\n11. 1 buah kentang ukuran sedang (potong2)\n12. Secukupnya kol (iris2 tebal)\n13. Secukupnya garam,kaldu bubuk, gula pasir (sesuai selera masing2)\n14. Bawang goreng untuk taburan\n15. Secukupnya minyak untuk menumis\n16. Bumbu halus ;\n17. 8 siung bawang merah\n18. 4 siung bawang putih\n19. 1 ruas jahe\n20. 1/2 ruas kunyit\n21. 1 sdt ketumbar\n22. 1/2 sdt merica\n23. 3 butir kemiri sangrai\n24. 3 buah cabai merah besar",
         "1",
         "3250.0",
         "1. Siapkan semua bahannya.. panaskan minyak, masukkan bumbu halus.. masak hingga keluar aroma wangi,masukkan daun salam, daun jeruk, serai dan lengkuas.. kemudian masukkan potongan daging ayamnya. 2. Tuangkan santan encer, tunggu hingga daging ayam setengah matang. 3. Masukkan kentang, garam, gula, kaldu bubuk, dan kecap. 4. Masak hingga matang Masukkan potongan kol dan juga cabai hijau.. lalu d susul dengan memasukkan santan kental, aduk2.. jgn sampai pecah santannya, tes rasa.. 5. Setelah mendidih matikan api, masukkan potongan daun bawang dan tomat, lalu beri taburan bawang goreng."
        ],
        [
         "26",
         "Ayam penyet sambel kemangi",
         "1. 400 gr dada ayam\n2. 1 ikat daun kemangi\n3. 1 buah timun uk sedang\n4. 1 bungkus bumbu racik tempe\n5. bahan sambel\n6. 10 buah cabe merah\n7. 10 buah cabe rawit\n8. 3 siung bamer\n9. 2 siung baput\n10. gula\n11. garam\n12. 1/2 buah tomat merah\n13. secukupnya terasi\n14. secukupnya minyak untuk menggoreng\n15. air untuk mengungkep ayam",
         "0",
         "1247.09",
         "1. Potong ayam sesuai selera,cuxi bersih lalu ungkep dengan sesikit air dan campur dengan bumbu racik tempe,matang angkat 2. Panas kan minyak lalu goreng ayam hingga matang kecoklatan 3. Goreng sebentar semua bahan sambel nya,,uleg jadi satu tambahkan garam gulates rasakalo sudah oke..masukkan beberapa lmbar daun kemangi..giling agak kasar saja 4. Geprek ayam di atas ulek an,,susun di piring lalu letakkan sambel di atas ayam..susun irisan timun,dan juga kemangi. siap di santap dwngan nasi panas"
        ],
        [
         "27",
         "Nugget Ayam Wortel",
         "1. 250 gram daging ayam giling\n2. 1 buah wortel ukuran sedang\n3. 1/2 buah bawang bombay\n4. 2-3 siung bawang putih\n5. 3 batang daun bawang\n6. 2 butir telur ayam\n7. 100 gram tepung terigu (kurang lebih)\n8. secukupnya Tepung roti\n9. secukupnya Garam\n10. secukupnya Lada\n11. secukupnya Penyedap rasa ayam\n12. Minyak goreng",
         "4",
         "1670.91",
         "1. Potong-potong bawang bombay dan bawang putih. Tumis dengan sedikit minyak hingga harum. Angkat 2. Campurkan tumisan bawang dengan daging ayam giling dengan menggunakan blender atau food processor. Campur hingga bawang halus & tercampur rata. Tuang pada wadah yang telah disediakan untuk dicampur dengan bahan lain 3. Potong wortel jadi bagian yang kecil. Masukkan pada campuran daging giling sebelumnya 4. Potong daun bawang jadi bagian yang kecil. Masukkan pada adonan. Campur hingga rata 5. Masukkan 1 butir telur ayam. Campurkan 6. Masukkan tepung terigu perlahan-lahan dan campur hingga rata. Masukkan garam,lada dan penyedap rasa secukupnya. 7. Panaskan kukusan 8. Letakkan adonan pada cetakan yang telah disediakan. Masukkan pada kukusan yang telah dipanaskan sebelumnya. Tutup kukusan diberi kain agar air tidak menetes diadonan. Kukus kurang lebih 25-30 menit 9. Angkat adonan yang sudah matang dari kukusan. Biarkan agar sedikit dingin. 10. Setelah dingin potong-potong sesuai ukuran yang diinginkan. 11. Kocok lepas 1 butir telur ayam. Celupkan adonan nugget yang telah dipotong tadi kedalam telur. Kemudian gulingkan di tepung roti. 12. Ulangi langkah 11 hingga adonan nugget habis 13. Dinginkan pada freezer kurang lebih 1 jam agar tepung roti menempel dengan sempurna 14. Goreng nugget dengan minyak panas. Nugget ayam wortel siap disajikan. 15. Nugget yang masuk ke dalam freezer dapat bertahan maksimal 3-4 minggu"
        ],
        [
         "28",
         "Ayam goreng pedas gila ala Kfc",
         "1. 1/2 kg ayam\n2. 3 bungkus tepung bumbu uk 80 g yang pedas (aku pke sajiku)\n3. Secukupnya air es\n4. Minyak goreng",
         "2",
         "1335.0",
         "1. Potong\" ayam, lalu cuci sampai bersih. 2. Siapkan 2 mgkok. 1 untuk adonan tepung yang basah yang 1 nya lagi untuk tepung kering. 3. Tuangkan kira\" 2 sdm tepung bumbu lalu tambahkan secukupnya air es kocok pakai garpu sampai adonannya encer. 4. Celupkakan ayam ke dalam adonan basah lalu gulingkan ke dalam tepung kering sambil di remas\" hingga terbentuk kulit tepung yang keriting. Ulangi sampai selesai 5. Panaskan minyak, lalu goreng sampai kecoklatan. Angkat, tiriskan. 6. Ayam goreng siap untuk dinikmati. 7. NB: kalau gk suka terlalu pedas tepung bumbunya bisa di mix sama yang original ya jadi yang pedas bisa pke 1 bungkus aj yang 2 bungkus yang original."
        ],
        [
         "29",
         "Chicken Teriyaki",
         "1. 500 gr Daging ayam iris memanjang\n2. 1 bh Bawang bombay, iris memanjang\n3. 1/2 sdt Gula\n4. 1/4 sdt Garan\n5. 150 ml Air\n6. Minyak untuk menumis\n7. Bumbu perendam :\n8. 3 sdm Saus teriyaki\n9. 2 sdm Saus tiram\n10. 1 sdm Kecap manis\n11. 1 sdt Minyak wijen\n12. 3 siung bawang putih, haluskan\n13. 2 cuma Jahe, haluskan\n14. 1/4 sdt Merica\n15. 1/2 sdt Kaldu bubuk",
         "1",
         "1215.8125",
         "1. Campur daging ayam dengan bumbu perendam,gula dan garam,diamkan dikulkas 1-2jam agar bumbu meresap. 2. Panaskan minyak tumis daging sampai matang tuangi air,masukan bawang bombay,masak sampai air agak menyusut,kentalkan dengan larutan maizena."
        ],
        [
         "30",
         "Ayam Kecap Pedas Jeruk Limao",
         "1. 1/2 kg ayam potong2\n2. 2 lbr daun salam\n3. 1 ruas jahe geprek\n4. 4 lbr daun jeruk, buang tulangnya\n5. 3 buah jeruk limao\n6. Secukupnya air perasn jeruk nipis\n7. Secukupnya garam, merica, gula pasir, kaldu bubuk\n8. Secukupnya kecap manis\n9. 250 ml air\n10. 1 siung bawang Bombay, iris2\n11. Bumbu Halus\n12. 3 siung bawang putih\n13. 5 siung bawang merah\n14. 10 buah cabe keriting merah\n15. 5 buah cabe rawit merah",
         "46",
         "3250.0",
         "1. Cuci ayam, lalu lumuri dengan perasan air jeruk nipis & garam, diamkan sebentar -+ 10 mnt, lalu bilas sampai bersih 2. Goreng ayam sebentar, tidak usah sampai garing, sisihkan 3. Panaskan minyak, tumis bumbu halus, daun salam, daun jeruk, jahe, sampai harum 4. Masukkan bawang Bombay, masak sebentar 5. Tambahkan air, beri garam, merica, gula pasir, kecap, & masukkan ayam, aduk rata, koreksi rasa 6. Biarkan air surut & bumbu meresap, setelah matang, matikan api, beri perasan jeruk limao, aduk rata, sajikan 7. Enakk pedes seger"
        ],
        [
         "31",
         "Resep Ayam Kecap Rumahan",
         "1. 1/2 Kg ayam\n2. Bumbu yang di haluskan :\n3. 3 Bawang Putih\n4. 7 Bawang Merah\n5. sesuai selera Cabe rawit dan cabe merah besar\n6. 2 cuma Jahe\n7. secukupnya Lada dan Pala\n8. Lengkuas se jempol kaki\n9. 4 biji Kemiri",
         "0",
         "697.55",
         "1. Rebus air sampai mendidih lalu masukan ayam dan ungkep sampai empuk 2. Haluskan semua bumbu 3. Panaskan minyak lalu tumis bumbu halus sampai wangi 4. Masukan daun salam 3 lembar dan sereh 2 di geprek 5. Setelah bumbu sudah matang masukkan 1 gelas air 6. Tambahkan garam,micin,royko,asem 7. Setelah di rasa sudah cukup masukan ayam 8. Kecilkan api biar bumbunya meresap. 9. Masak sampai bumbu menyusut (jadi agak kental gitu) 10. Lalu hidangkan"
        ],
        [
         "32",
         "Sop Ayam Garang Asam",
         "1. 1/2 ayam\n2. 3 serai\n3. 3 cuma jahe\n4. 20 cabe rawit merah\n5. 8 bawang putih\n6. 4 bawang merah\n7. 2 tomat hijau\n8. 2 jeruk nipis (boleh lebih)\n9. 4 daun jeruk\n10. secukupnya daun bawang\n11. secukupnya garam\n12. secukupnya penyedap\n13. secukupnya air matang",
         "2",
         "276.1",
         "1. Potong dan bersihkan ayam sesuai selera (kalo aku ku beri perasan jeruk nipis lalu diamkan dulu) 2. Bawang2an diiris kasar, serai dan jahe di geprek, cabe aku hanya iris 6pc sisanya aku biarkan utuh, tomat kupotong memanjang begitu juga daun bawang. 3. Panaskan minyak sedikit saja, masukkan bawang serai daun jeruk dan juga cabe diamkan hingga harum lalu masukkan air dan tunggu hingga mendidih. aetelah mendidih masukkan ayam 4. Tunggu ayam hingga setengah empuk bumbui dengan penyedap garam dan juga gula, masukkan perasan jeruk nipis dan tomat aduk hingga merata 5. Setelah koreksi rasa dan dirasa sudah pas dan ayam matang masukkan daun bawang. setelah itu selesai"
        ],
        [
         "33",
         "Ayam goreng krutuk",
         "1. tepung terigu\n2. Air matang\n3. ayam (yg sudah direbus sebelumnya)\n4. Garam\n5. Gula/penyedap\n6. Lada bubuk\n7. 1 butir telur ayam\n8. Minyak goreng",
         "4",
         "1065.3",
         "1. Campur tepung terigu(kurang lebih 1/2 mangkuk kecil) dengan garam,gula/penyedap dan garam secukupnya. Tambahkan air matang sedikit demi sedikit hingga agak mengental. Koreksi rasa 2. Balur ayam yang telah direbus sebelumnya dengan 1 butir telur (yg sudah dikocok lepas), kemudian gulingkan dalam adonan tepung, sisihkan 3. Panaskan minyak goreng dengan api sedang, jika sudah panas masukan ayam yang sudah diberi adonan tepung, kecilkan api lalu masak hingga berwarna kecoklatan dan garing, angkat dan tiriskan. 4. Selamat menikmati"
        ],
        [
         "34",
         "Ayam panggang saos kecap",
         "1. Bumbu ayam panggang ;\n2. 1 kg ayam potong sesuai selera\n3. 3 siung bawang merah,ulek halus\n4. 3 siung bawang putih,ulek halus\n5. Sedikit kunyit,dan garam,ulek halus\n6. Untuk olesan ayam ;\n7. Kecap manis,saus tomat,sedikit minyak,dicampur\n8. Saos kecap/cocolan ;\n9. sesuai selera Kecap manis\n10. 5 siung bawang merah,iris melintang agak tebal\n11. 3 siung bawang putih,ulek halus\n12. 5 buah cabe rawit,ulek halus\n13. 2 buah tomat potong sesuai selera\n14. Jeruk nipis (skip)\n15. Arang untuk memanggang ayam",
         "0",
         "2327.06",
         "1. Cuci bersih ayam dan tiriskan,campur dibumbu yang sudah dihaluskan,aduk rata,diamkan selama 15 menit,lalu kukus selama 20 menit/ sampai mateng 2. Sementara menunggu ayam dikukus,siapkan pemanggangan arangnya dulu untuk memanggang ayam 3. Keluarkan ayam yang sudah dikukus dan siap dipanggang diatas pemanggangan arang 4. Panggang ayam sambil diolesi dengan olesan, campuran kecap manis,saos tomat dan minyak,bolak balik ayam agar tidak gosong sambil diolesi sampai matang,angkat dan taroh dipiring saji 5. Campurkan semua bahan saos kecap/ cocolan nya diwadah(mangkok),tambahkan kecap manis secukupnya,aduk agar tercampur rata,dan beri perasan jeruk nipis 6. Ayam panggang dan saos kecap sudah siap dihidangkan bersama nasi hangat dan irisan timun sebagai pelengkap"
        ],
        [
         "35",
         "Soto ayam kuah santan",
         "1. 1/5 kg ayam (diungkep dulu,lalu digoreng)\n2. 2 bungkus santan kara\n3. 2 cuma kunyit\n4. 1 cuma jahe\n5. secukupnya Lada\n6. secukupnya Daun salam,lengkuas,daun jeruk dan sereh\n7. 5 siung bawang merah\n8. 5 siung bawang putih\n9. Penyedap : gula,garam royko ayam\n10. Bahan pelengkap:\n11. iris Tomat\n12. Daun bawang dan seledri\n13. Bihun (rebus dulu)\n14. Bawang goreng\n15. Kol di potong tipis\n16. Tahu goreng\n17. Kerupuk\n18. Bawang goreng\n19. Jeruk nipis\n20. Sambal (cabe rawit,bawang putih/merah di rebus dulu, diulek)",
         "3",
         "988.7",
         "1. Panaskan air rebus ayam hingga matang lalu tiriskan (air rebusan ayam bisa untuk kuah soto),lalu goreng ayam hingga matang 2. Haluskan bumbu bawang merah,putih,kunyit,jahe,lada,lengkuas sereh cukup digeprek dan tumis hingga matang 3. Masukan tumisan bumbu kedalam rebusan air,masukan daun salam,sereh dan daun jeruk 4. Berikan bumbu garam,gula penyedap rasa, daun bawang dan santan kara masak hingga matang 5. Sajikan soto selagi hangat bersama bihun dan pelengkap lainya"
        ],
        [
         "36",
         "Ayam Goreng Bumbu Kuning",
         "1. 5 potong ayam\n2. Secukupnya air\n3. Secukupnya minyak goreng\n4. Bumbu Halus\n5. 1 siung bawang putih\n6. 1 ruas jari kunyit\n7. 1/2 ruas jari jahe\n8. 1/2 sdt ketumbar\n9. Secukupnya garam",
         "15",
         "590.0",
         "1. Cuci bersih ayam,masukkan dalam panci,tambahkan bumbu halus dan air. Masak hingga empuk,matang dan bumbu meresap,tiriskan. 2. Goreng dalam minyak panas dan api sedang hingga kuning keemasan,angkat,tiriskan 3. Sajikan"
        ],
        [
         "37",
         "Mie Geprek (Mie + ayam geprek)",
         "1. 1 bungkus mie burung dara\n2. 1 ons dada ayam\n3. tepung terigu\n4. kubis\n5. bawang putih\n6. kecap\n7. royco sapi\n8. secukupnya garam\n9. ebi\n10. minyak wijen\n11. saus tiram\n12. lada bubuk\n13. minyak goreng\n14. air\n15. cabe rawit\n16. bawang merah",
         "2",
         "868.8",
         "1. Rebus mie burung dara, tiriskan 2. Geprek bawang putih 2 siung, tumis sampai harum 3. Masukkan minyak wijen 1 sendok teh. Tumis tumis sebentar bersama bawang 4. Masukkan air 1 gelas belimbing 5. Tambahkan kecap, ebi, garam, saus tiram, royco sapi, lada bubuk sesuai selera. Didihkan 6. Masukkan mie yang telah direbus. Masak sampai air menyusut 7. Tambahkan irisan kubis/kol. Aduk-aduk sebentar sampai air habis. Angkat 8. Cuci bersih ayam, potong jadi 2 bagian atau iris sesuai selera 9. Siapkan tepung kering. Caranya tambahkan garam dan royco sapi pada tepung. Takarannya sesuaikan dengan jumlah tepung 10. Siapkan celupan tepung basah. Caranya campurkan tepung dengan air sampai teksturnya cair tapi cukup kental 11. Masukkan ayam pada tepung kering. Lalu celupkan pada tepung basah. Masukkan ke tepung kering lagi. Remas-remas sampai tepung yang menempel ditangan terlepas dan menempel pada ayam 12. Goreng ayam pada minyak panas dengan api besar, agar teksturnya crispy. Masak sampai kecoklatan lalu angkat. 13. Sekarang membuat sambel bawang. Caranya bawang putih setengah siung + bawang merah 2 siung + cabe rawit sesuai selera diulek bersama garam dan gula. Tambahkan 1 sendok minyak lalu campur rata 14. Geprek ayam crispy tadi kedalam sambel bawang 15. Sajikan mie goreng dengan topping ayam geprek dan lalapan mentimun 16. Selamat mencoba"
        ],
        [
         "38",
         "Seblak Mie Tulang Ayam",
         "1. 1 bungkus mie burung dara\n2. 1/4 tulang ayam sisa filet (jadi masih ada daging2ny)\n3. Sawi hijau\n4. Sawi putih\n5. Garam\n6. Gula\n7. Bahan halus :\n8. 5 siung bawang merah\n9. 3 siung bawang putih\n10. 3 buah cabe keritinh\n11. 15 buah cabe rawit (sesuai selera)\n12. 1 ruas jari kencur",
         "0",
         "592.2",
         "1. Haluskan seluruh bumbu halus (saya pakai blender) 2. Tumis bumbu halus sampai wangi, masukan tulang ayam, tambahkan air, tunggu smpai ayam matang 3. Setelah ayam matang masukan mie, gula, dan garam kemudian koreksi rasa.. 4. Setelah rasa pas masukan sayur2n sampai agak layu, jangan terlalu lama.. 5. Seblak mie siap dinikmati"
        ],
        [
         "39",
         "Sweet Buffalo Chicken",
         "1. Bahan Utama:\n2. 1 kg Paha ayam (10 potong)\n3. Bumbu Pelapis Ayam :\n4. Secukupnya Garam\n5. 1 sdt Lada hitam bubuk\n6. 1 sdt Paprika bubuk\n7. 2 sdm Tepung terigu\n8. Bumbu Saus:\n9. 6 sdm Margarin unsalted\n10. 2 sdt Bawang putih bubuk\n11. 4 sdm Gula merah bubuk\n12. 4 sdm Saus tomat\n13. 4 sdm Saus sambal\n14. secukupnya Garam\n15. Secukupnya Wijen",
         "0",
         "2440.1",
         "1. Cuci dan keringkan ayam (sampai kering). 2. Lumuri ayam dengan garam, lada hitam, dan paprika bubuk. 3. Baluri dengan tepung terigu. Diamkan 30 menit (saya 60 menit) 4. Goreng ayam dengan minyak cukup banyak sampai matang +- 10 menit. Kemudian angkat dan tiriskan. 5. Panaskan margarin, tambahkan bawang putih bubuk, gula merah bubuk, saus tomat, saus sambal dengan api sedang. 6. Aduk rata dan biarkan sampai mengental. Pastikan api tidakterlalu besar karena ada gula merah yang rawan gosong. 7. Masukan ayam dan baluri dengan bumbu sampai rata. Diamkan 5 menit sampai bumbu menyatu pada ayam. 8. Angkat. Hidangkan sweet buffalo chicken dan taburi dengan wijen."
        ],
        [
         "40",
         "Ayam Garang Asem",
         "1. 1/2 ekor ayam\n2. Secukupnya daun pisang\n3. 1 santan kara kecil\n4. 1 jeruk nipis\n5. bumbu rajang\n6. 5 cabai rawit\n7. 5 cabai merah\n8. 4 tomat hijau kecil\n9. 6 bawang merah\n10. 4 bawanh putih\n11. tambahan\n12. 1 ruas laos\n13. 2 ruas jahe\n14. 4 daun jeruk\n15. 2 daun salam\n16. 2 batang serai\n17. garam gulpas air minyak goreng",
         "3",
         "667.275",
         "1. Potong2 ayam kecil2 lalu cuci dan beri perasan jeruk nipis diamkan sebentar dan cuci lgi. 2. Tumis bumbu rajang beserta laos, daun jeruk, jahe, daun salam dan serai. 3. Masukkan ayam dan air secukupnya. Tanbahkan garam dan gulpas. Masak setengah mateng 4. Lalu masukkan santan kara aduh2 sampai mendidih matikan kompor 5. Bungkus ayam dengan daun pisang lalu kukus kira2 15 menit 6. Siap dihidangkan"
        ],
        [
         "41",
         "Ayam Geprek",
         "1. Fillet dada ayam khas dalam\n2. Tepung bumbu kriuk\n3. Baham Sambal:\n4. 7 buah rawit merah\n5. 10 buah cabai merah keriting\n6. 5 siung bawang putih\n7. secukupnya garam\n8. secukupnya kaldu jamur",
         "1",
         "456.3",
         "1. Letakkan sedikit tepung bumbu dalam wadah lalu beri air untuk bumbu rendaman ayam. Buat sedikit kental, lalu diamkan dalam freezer 10 menit 2. Ambil ayam dari bumbu rendaman, lalu baluri dengan tepung kering dan goreng hingga kecoklatan 3. Untuk sambalnya ulek semua bahan jadi 1 lalu tuangkan minyak panas. 4. Setelah itu masukan ayam yang sudah di goreng ke dalam cobek sambal dan ulek bersama."
        ],
        [
         "42",
         "Ayam Asam Manis Rumahan citarasa Resto",
         "1. Bahan\n2. 250 gram dada ayam, potong dadu\n3. 1 buah paprika merah/hijau\n4. Sedikit nanas, potong dadu\n5. 1 bawang bombay\n6. 2 siung bawang putih, geprek\n7. 1 sdm minyak bawang untuk menumis\n8. Air dan tepung sagu, perbandingan 2:1\n9. Saos asam manis:\n10. 4 sdm saos tomat\n11. 1 sdm saos sambal\n12. 1/2 sdt saos lea perrins\n13. 3 sdm gula pasir\n14. 1 sdt kaldu ayam\n15. secukupnya garam\n16. 3 sdm kecap Inggris\n17. 1 sdt minyak wijen\n18. 1 sdm maggie seasoning\n19. 1 sdm saos raja rasa\n20. Bumbu marinasi ayam:\n21. 1 sdt gula pasir\n22. 1 sdt garam\n23. 1 sdt kaldu ayam\n24. 1/2 sdt merica",
         "6",
         "1104.375",
         "1. Marinasi ayam dengan bumbu marinasi, diamkan selama 10 menit 2. Tumis bawang bombay, bawang putih, paprika 3. Masukkan daging ayam yang telah dimarinasi 4. Masukkan saos asam manis 5. Masukkan campuran air dan tepung sagu 6. Aduk hingga mengental 7. Test rasa, tambahkan garam dan gula sesuai selera"
        ],
        [
         "43",
         "Ayam goreng tepung simple",
         "1. 500 gram ayam dada potong2\n2. 6 siung bawang putih haluskan\n3. 1/2 sdt lada bubuk\n4. secukupnya Kaldu bubuk\n5. secukupnya Garam\n6. 1 butir telur\n7. Tepung pelapis :\n8. 100 gram tepung terigu\n9. 20 gram tepung meizena",
         "7",
         "1520.2",
         "1. Potong ayam sesuai selera, aku pakai ayam dada utuh karna yang ada stok di kulkas itu hehehhehe 2. Campur ayam dengan bawang putih yang sudah di haluskan, garam, lada, kaldu bubuk, aduk rata. 3. Simpan di kulkas minimal 2 jam. (Semakin lama dibumbui ayamnya semakin enak, aku bumbui malam karna untuk di goreng pagi) 4. Keluarkan ayam dari kulkas masukkan telur ke ayam aduk rata. 5. Siapkan tepung pelapis diaduk rata lalu gulingkan potongan ayam ke dalam tepung remas sedikit. 6. Goreng ayam ke dalam minyak panad sampai kecoklatan. 7. Angkat sajikan, happy cooking moms."
        ],
        [
         "44",
         "Sop Balungan Ayam",
         "1. Tulang dari 1 ekor ayam jowo, rebus dengan api kecil\n2. Bumbu ulek :\n3. 4 siung bawang putih\n4. 1/4 sdt merica bubuk\n5. 1/2 sdt pala bubuk\n6. 2 cengkeh\n7. 1 sdm garam(sesuaikan dengan penggunaan air)\n8. 1/2 sdt kaldu jamur\n9. 1 sdt gula\n10. Bahan sayur :\n11. 2 buah wortel, iris tipis\n12. 1 kentang ukuran kecil, potong dadu\n13. 1 bonggol sawi sendok\n14. Secukupnya seledri dan daun bawang\n15. Pelengkap : bawang merah goreng",
         "2",
         "385.9825",
         "1. Cuci bersih tulang ayam, rebus dengan api kecil hingga keluar kaldu bening, buang kotoran yang mengapung, setelah itu masukkan bumbu ulek. Biarkan mendidih. 2. Kemudian masukkan wortel, tunggu 3 menit masukkan kentang, tunggu 5 menit lalu cek rasa dan kematangan sayur, setelah pas baru masukkan sawi sendok, seledri, dan daun bawang. Aduk sebentar lalu matikan kompor. 3. Sajikan dengan taburan bawang merah goreng dan sambal kecap."
        ],
        [
         "45",
         "Ayam goreng lepas tulang lembut",
         "1. 1 kg ayam\n2. 4 bawang putih\n3. 3 ruas laos\n4. 1 ruas jahe\n5. Daun salam, serai 2 ruas, daun jeruk,",
         "3",
         "1943.65",
         "1. Masukkan ayam dalam magic com. Bawang putih, jahe, laos, jahe blender sampai lembut. Masukkan bumbu yang sudah dihaluskan tadi dalam magic com Tuang air bioglass dalam magic com sampai ayam terendam air bioglass. Cetrek cook. Tunggu kira kira 45 menit. Ambil ayam dari magic com Taburi garam secukupnya Goreng Jadii deh ayam empuk lezatnya. Biar ayamnya dingin juga masih empuk Cara bikin sambel nya Cabe, bawang merah trasi, goreng di sisa minyak ayam goreng tadi. Minyak nya dikit aja."
        ],
        [
         "46",
         "Sayap Goreng Bumbu Ngo Hiang",
         "1. 1 kg sayap ayam bagian drum stick\n2. 2 sdm air jeruk nipis / lemon\n3. 1 sdt garam\n4. 1 sdm bumbu ngo hiang\n5. 3 tetes suclarose/stevia drop (boleh skip)",
         "35",
         "1904.1",
         "1. Cuci sayap ayam, lalu dalam satu wadah masukkan sayap ayam beserta seluruh bumbu diatas, remas2 2. Simpan dalam kulkas semalaman hingga bumbu meresap 3. Goreng sayap ayam dengan minyak panas dan banyak hingga matang, sajikan"
        ],
        [
         "47",
         "Semur ayam kampung",
         "1. 1/2 kg ayam kampung\n2. 3 siung bawang putih\n3. 5 siung bawang merah\n4. 3 butir kemiri\n5. 1 ruas jahe\n6. 4 lembar daun jeruk\n7. 1 lembar daun salam\n8. 1 batang serai (digeprek)\n9. Lengkuas\n10. 1/4 sdt kunyit bubuk\n11. 1/2 sdt ketumbar bubuk\n12. 1/4 sdt merica bubuk\n13. 3/4 sdt garam\n14. 1/2 sdt gula pasir\n15. Sedikit royco\n16. Secukupnya kecap manis\n17. Secukupnya air kaldu ayam kampung\n18. Secukupnya minyak goreng",
         "4",
         "3250.0",
         "1. Potong ayam cuci lalu rebus sampai empuk. Haluskan bawang, kemiri, jahe. 2. Tumis bumbu halus sampai harum masukan serai, daun jeruk, daun salam, lengkuas. Masukan air kaldu, ayam, merica, garam, kunyit, ketumbar, kecap, royco. Masak hingga bumbu meresap dan empuk banget, cek rasa ya bun.. 3. Semur ayam kampung sudah matang 4. Ini aku masaknya sampai empuk banget gak alot ya.. gigitnya gak pakai gigi, pakai bibir saja sudah bisa, hhheee karena sebelum dibumbuin direbus dulu sampai empuk, setelah itu baru dibumbuin. 5. Selamat mencoba.."
        ],
        [
         "48",
         "Ayam Tepung KFC super gurih",
         "1. 4 potong ayam (paha atas atau paha bawah)\n2. 1 Sdt air lemon\n3. Secukupnya black papper\n4. Secukupnya garam\n5. Bahan pelapis :\n6. 200 gr tepung terigu serba guna\n7. 30 gr tepung maizena\n8. 1 Sdt oregano\n9. 1 Sdt garam\n10. 1 Sdt masako ayam\n11. 1 Sdt bubuk cabai\n12. Bahan pencelup :\n13. 2 sdm tepung terigu\n14. 1 Sdt bubuk cabai\n15. 1 Sdt garam\n16. Secukupnya lada putih\n17. Air es",
         "0",
         "1248.8",
         "1. Marinade Ayam dengan air lemon, black papper Dan garam, diamkan kurleb 1 jam atau lebih 2. Campur semua bahan pelapis 3. Campur semua bahan pencelup 4. Lumuri Ayam dengan bahan pelapis, celupkan ke dalam bahan pencelup dan lumuri dengan bahan pelapis lagi. Lakukan 2-3 kali. Cubit cubit Bagian Luarnya agar hasilnya keriting 5. Panaskan minyak goreng 6. Goreng Ayam sampai matang, apinya Jangan terlalu besar agar matangnya merata hingga kebagian dalam 7. Sajikan bersama kentang, selada atau asparagus sesuai selera 8. Selamat mencoba"
        ],
        [
         "49",
         "Soto Ayam Surabaya",
         "1. 1/2 Ekor Ayam\n2. 6 Siung Bawang Merah\n3. 4 Siung Bawang Putih\n4. Secukupnya Ketumbar\n5. Secukupnya Lada\n6. 1 Ruas Kunyit\n7. 1 Ruas Lengkuas\n8. 1 Ruas Jahe\n9. 1 Butir Kemiri\n10. Daun Salam\n11. Daun Jeruk\n12. Gula\n13. Garam\n14. Penyedap Rasa (boleh pakai boleh tidak)\n15. Daun Bawang\n16. Kol\n17. Tauge\n18. Kentang\n19. Telur Rebus\n20. Sambal Rebus",
         "4",
         "912.0",
         "1. Haluskan semua bumbu kecuali lengkuas & Sereh 2. Tumis bumbu yang dihaluskan tadi hingga harum 3. Rebus ayam hingga terlihat kaldunya kemudian masukkan bumbu yang telah ditumis tadi 4. Icip & sajikan dengan kentang goreng, bihun, tauge & irisan tomat"
        ]
       ],
       "shape": {
        "columns": 5,
        "rows": 15641
       }
      },
      "text/html": [
       "<div>\n",
       "<style scoped>\n",
       "    .dataframe tbody tr th:only-of-type {\n",
       "        vertical-align: middle;\n",
       "    }\n",
       "\n",
       "    .dataframe tbody tr th {\n",
       "        vertical-align: top;\n",
       "    }\n",
       "\n",
       "    .dataframe thead th {\n",
       "        text-align: right;\n",
       "    }\n",
       "</style>\n",
       "<table border=\"1\" class=\"dataframe\">\n",
       "  <thead>\n",
       "    <tr style=\"text-align: right;\">\n",
       "      <th></th>\n",
       "      <th>Title</th>\n",
       "      <th>Ingredients</th>\n",
       "      <th>Loves</th>\n",
       "      <th>Kalori</th>\n",
       "      <th>Steps</th>\n",
       "    </tr>\n",
       "  </thead>\n",
       "  <tbody>\n",
       "    <tr>\n",
       "      <th>0</th>\n",
       "      <td>Ayam Woku Manado</td>\n",
       "      <td>1. 1 Ekor Ayam Kampung (potong 12)\\n2. 2 Buah ...</td>\n",
       "      <td>1</td>\n",
       "      <td>720.650</td>\n",
       "      <td>1. Cuci bersih ayam dan tiriskan. Lalu peras j...</td>\n",
       "    </tr>\n",
       "    <tr>\n",
       "      <th>1</th>\n",
       "      <td>Ayam goreng tulang lunak</td>\n",
       "      <td>1. 1 kg ayam (dipotong sesuai selera jangan ke...</td>\n",
       "      <td>1</td>\n",
       "      <td>3250.000</td>\n",
       "      <td>1. Haluskan bumbu2nya (BaPut, ketumbar, kemiri...</td>\n",
       "    </tr>\n",
       "    <tr>\n",
       "      <th>2</th>\n",
       "      <td>Ayam cabai kawin</td>\n",
       "      <td>1. 1/4 kg ayam\\n2. 3 buah cabai hijau besar\\n3...</td>\n",
       "      <td>2</td>\n",
       "      <td>1095.945</td>\n",
       "      <td>1. Panaskan minyak di dalam wajan. Setelah min...</td>\n",
       "    </tr>\n",
       "    <tr>\n",
       "      <th>3</th>\n",
       "      <td>Ayam Geprek</td>\n",
       "      <td>1. 250 gr daging ayam (saya pakai fillet)\\n2. ...</td>\n",
       "      <td>10</td>\n",
       "      <td>953.100</td>\n",
       "      <td>1. Goreng ayam seperti ayam krispi 2. Ulek sem...</td>\n",
       "    </tr>\n",
       "    <tr>\n",
       "      <th>4</th>\n",
       "      <td>Minyak Ayam</td>\n",
       "      <td>1. 400 gr kulit ayam &amp; lemaknya\\n2. 8 siung ba...</td>\n",
       "      <td>4</td>\n",
       "      <td>3250.000</td>\n",
       "      <td>1. Cuci bersih kulit ayam. Sisihkan 2. Ambil 5...</td>\n",
       "    </tr>\n",
       "    <tr>\n",
       "      <th>...</th>\n",
       "      <td>...</td>\n",
       "      <td>...</td>\n",
       "      <td>...</td>\n",
       "      <td>...</td>\n",
       "      <td>...</td>\n",
       "    </tr>\n",
       "    <tr>\n",
       "      <th>15636</th>\n",
       "      <td>Udang saus mentega</td>\n",
       "      <td>1. 1 kg udang segar\\n2. 1 buah bawang bombay k...</td>\n",
       "      <td>46</td>\n",
       "      <td>1339.650</td>\n",
       "      <td>1. Bersihkan udang, siapkan bahan bahan 2. Tum...</td>\n",
       "    </tr>\n",
       "    <tr>\n",
       "      <th>15637</th>\n",
       "      <td>Jipang tumis udang</td>\n",
       "      <td>1. 500 gr jipang(saya pk 6bh jipang muda yang ...</td>\n",
       "      <td>6</td>\n",
       "      <td>335.700</td>\n",
       "      <td>1. Tumis bawang merah bawang putih hingga haru...</td>\n",
       "    </tr>\n",
       "    <tr>\n",
       "      <th>15638</th>\n",
       "      <td>Tumis Udang Tempe</td>\n",
       "      <td>1. 3 siung bawang merah\\n2. 3 siung bawang put...</td>\n",
       "      <td>3</td>\n",
       "      <td>501.980</td>\n",
       "      <td>1. Tiriskan bawang putih, bawang merah dan cab...</td>\n",
       "    </tr>\n",
       "    <tr>\n",
       "      <th>15639</th>\n",
       "      <td>Tumis kacang panjang terong udang</td>\n",
       "      <td>1. Stgah ikat kacang panjang,ku bli 3ribu d ps...</td>\n",
       "      <td>12</td>\n",
       "      <td>401.160</td>\n",
       "      <td>1. Potong2 kacang panjang,terong cuci bersih s...</td>\n",
       "    </tr>\n",
       "    <tr>\n",
       "      <th>15640</th>\n",
       "      <td>Siomay Udang Ayam</td>\n",
       "      <td>1. 3 bh dada ayam\\n2. 1/2 kg udang bersih\\n3. ...</td>\n",
       "      <td>28</td>\n",
       "      <td>951.600</td>\n",
       "      <td>1. Giling ayam dan udang serta haluskan bawang...</td>\n",
       "    </tr>\n",
       "  </tbody>\n",
       "</table>\n",
       "<p>15641 rows × 5 columns</p>\n",
       "</div>"
      ],
      "text/plain": [
       "                                   Title  \\\n",
       "0                       Ayam Woku Manado   \n",
       "1               Ayam goreng tulang lunak   \n",
       "2                       Ayam cabai kawin   \n",
       "3                            Ayam Geprek   \n",
       "4                            Minyak Ayam   \n",
       "...                                  ...   \n",
       "15636                 Udang saus mentega   \n",
       "15637                 Jipang tumis udang   \n",
       "15638                  Tumis Udang Tempe   \n",
       "15639  Tumis kacang panjang terong udang   \n",
       "15640                  Siomay Udang Ayam   \n",
       "\n",
       "                                             Ingredients  Loves    Kalori  \\\n",
       "0      1. 1 Ekor Ayam Kampung (potong 12)\\n2. 2 Buah ...      1   720.650   \n",
       "1      1. 1 kg ayam (dipotong sesuai selera jangan ke...      1  3250.000   \n",
       "2      1. 1/4 kg ayam\\n2. 3 buah cabai hijau besar\\n3...      2  1095.945   \n",
       "3      1. 250 gr daging ayam (saya pakai fillet)\\n2. ...     10   953.100   \n",
       "4      1. 400 gr kulit ayam & lemaknya\\n2. 8 siung ba...      4  3250.000   \n",
       "...                                                  ...    ...       ...   \n",
       "15636  1. 1 kg udang segar\\n2. 1 buah bawang bombay k...     46  1339.650   \n",
       "15637  1. 500 gr jipang(saya pk 6bh jipang muda yang ...      6   335.700   \n",
       "15638  1. 3 siung bawang merah\\n2. 3 siung bawang put...      3   501.980   \n",
       "15639  1. Stgah ikat kacang panjang,ku bli 3ribu d ps...     12   401.160   \n",
       "15640  1. 3 bh dada ayam\\n2. 1/2 kg udang bersih\\n3. ...     28   951.600   \n",
       "\n",
       "                                                   Steps  \n",
       "0      1. Cuci bersih ayam dan tiriskan. Lalu peras j...  \n",
       "1      1. Haluskan bumbu2nya (BaPut, ketumbar, kemiri...  \n",
       "2      1. Panaskan minyak di dalam wajan. Setelah min...  \n",
       "3      1. Goreng ayam seperti ayam krispi 2. Ulek sem...  \n",
       "4      1. Cuci bersih kulit ayam. Sisihkan 2. Ambil 5...  \n",
       "...                                                  ...  \n",
       "15636  1. Bersihkan udang, siapkan bahan bahan 2. Tum...  \n",
       "15637  1. Tumis bawang merah bawang putih hingga haru...  \n",
       "15638  1. Tiriskan bawang putih, bawang merah dan cab...  \n",
       "15639  1. Potong2 kacang panjang,terong cuci bersih s...  \n",
       "15640  1. Giling ayam dan udang serta haluskan bawang...  \n",
       "\n",
       "[15641 rows x 5 columns]"
      ]
     },
     "execution_count": 8,
     "metadata": {},
     "output_type": "execute_result"
    }
   ],
   "source": [
    "import re\n",
    "dfleo = pd.read_csv(\"dataset_leonardo.csv\")\n",
    "dfleo"
   ]
  },
  {
   "cell_type": "code",
   "execution_count": 9,
   "id": "29874a8d",
   "metadata": {},
   "outputs": [],
   "source": [
    "abbreviation_map = {\n",
    "    'smp': 'sampai',\n",
    "    'yg': 'yang',\n",
    "    'bh': 'buah',\n",
    "    'gr': 'gram',\n",
    "    'sct': 'sachet',\n",
    "    'btg': 'batang',\n",
    "    'lbr': 'lembar',\n",
    "    'btr': 'butir',\n",
    "    'pcs': 'pieces',\n",
    "    'bks': 'bungkus',\n",
    "    'uk': 'ukuran',\n",
    "    'sdm': 'sendok makan',\n",
    "    'sdt': 'sendok teh',\n",
    "    'bgt': 'banget',\n",
    "    'tdk': 'tidak',\n",
    "    'krn': 'karena',\n",
    "    'dg': 'dengan',\n",
    "    'utk': 'untuk',\n",
    "    'dlm': 'dalam',\n",
    "    'dr': 'dari',\n",
    "    'jg': 'juga',\n",
    "    'bkn': 'bukan',\n",
    "    'gmn': 'bagaimana',\n",
    "    'brp': 'berapa',\n",
    "    'dgn': 'dengan',\n",
    "    'sy': 'saya',\n",
    "    'km': 'kamu',\n",
    "    'ga': 'tidak', # contoh lain yang umum\n",
    "    'udah': 'sudah',\n",
    "    'bbrp': 'beberapa',\n",
    "    'klo': 'kalau',\n",
    "    'kalo': 'kalau',\n",
    "    'cm': 'cuma',\n",
    "    'sm': 'sama',\n",
    "    'sdh': 'sudah',\n",
    "    'yg': 'yang',\n",
    "    'dl': 'dulu',\n",
    "    'duo' : 'dua',\n",
    "    'trus': 'terus',\n",
    "    'bnyk': 'banyak',\n",
    "    'jd': 'jadi',\n",
    "    'aja': 'saja',\n",
    "    'kpn': 'kapan',\n",
    "    'udah': 'sudah',\n",
    "    'skrg': 'sekarang',\n",
    "    'bgtu': 'begitu',\n",
    "    'bsk': 'besok',\n",
    "    'hr': 'hari',\n",
    "    'msh': 'masih',\n",
    "    'mrk': 'mereka',\n",
    "    'kdg': 'kadang',\n",
    "    'ntar': 'nanti',\n",
    "    'pd': 'pada',\n",
    "    'ttp': 'tetap',\n",
    "    'tks': 'terima kasih',\n",
    "    'thn': 'tahun',\n",
    "    'hrg': 'harga',\n",
    "    'kt': 'kita',\n",
    "    'dlu': 'dulu',\n",
    "    'mls': 'malas',\n",
    "    'mkn': 'makan',\n",
    "    'bkin': 'bikin',\n",
    "    'bbrp': 'beberapa',\n",
    "    'kyk': 'kayak',\n",
    "    'gtu': 'gitu',\n",
    "    'bgmn': 'bagaimana',\n",
    "    'brng': 'bareng',\n",
    "    'sbnrnya': 'sebenarnya',\n",
    "    'bnr': 'benar',\n",
    "    'knp': 'kenapa',\n",
    "    'mksih': 'terima kasih',\n",
    "    'lgsg': 'langsung',\n",
    "    'bbrp': 'beberapa',\n",
    "    'btw': 'by the way', # meskipun bukan bahasa Indonesia\n",
    "    'jgk': 'juga',\n",
    "    'tp': 'tapi',\n",
    "    'hrs': 'harus',\n",
    "    'bnyk': 'banyak',\n",
    "    'krn': 'karena',\n",
    "    'msh': 'masih',\n",
    "    'kpn': 'kapan',\n",
    "    'brp': 'berapa',\n",
    "    'drpd': 'daripada',\n",
    "    'lgi': 'lagi',\n",
    "    'skrg': 'sekarang',\n",
    "    'bkin': 'bikin',\n",
    "    'kt': 'kita',\n",
    "    'dlu': 'dulu',\n",
    "    'sm': 'sama',\n",
    "    'ga': 'tidak',\n",
    "    'udah': 'sudah',\n",
    "    'brg': 'barang',\n",
    "    'yg': 'yang',\n",
    "    'dlm': 'dalam',\n",
    "    'utk': 'untuk',\n",
    "    'dgn': 'dengan',\n",
    "    'sll': 'selalu',\n",
    "    'srg': 'sering',\n",
    "    'bs': 'bisa',\n",
    "    'spt': 'seperti',\n",
    "    'dll': 'dan lain-lain',\n",
    "    'pake': 'pakai',\n",
    "    'kalo': 'kalau'\n",
    "}\n",
    "\n",
    "# --- 3. Definisikan Fungsi Normalisasi Singkatan untuk SATU BARIS TEKS ---\n",
    "# Fungsi ini sama persis dengan yang Anda berikan, hanya namanya saya ubah agar jelas\n",
    "def normalize_single_line_abbreviations(line_text):\n",
    "    if pd.isna(line_text):\n",
    "        return \"\"\n",
    "    \n",
    "    line_str = str(line_text)\n",
    "    words = line_str.split() # Pecah baris menjadi kata-kata\n",
    "    normalized_words = []\n",
    "\n",
    "    for word in words:\n",
    "        found_abbreviation = False\n",
    "        for abbr, full_form in abbreviation_map.items():\n",
    "            if re.fullmatch(re.escape(abbr), word, re.IGNORECASE):\n",
    "                normalized_words.append(full_form)\n",
    "                found_abbreviation = True\n",
    "                break\n",
    "        \n",
    "        if not found_abbreviation:\n",
    "            normalized_words.append(word)\n",
    "            \n",
    "    return ' '.join(normalized_words) # Gabungkan kembali kata-kata dalam baris ini dengan spasi\n",
    "\n",
    "# --- 4. Fungsi Pembungkus untuk Menerapkan Normalisasi pada Kolom Multi-Baris ---\n",
    "def normalize_column_preserving_newlines(text_with_newlines):\n",
    "    if pd.isna(text_with_newlines):\n",
    "        return \"\"\n",
    "    \n",
    "    # Pecah seluruh teks menjadi baris-baris individual berdasarkan '\\n'\n",
    "    lines = text_with_newlines.split('\\n')\n",
    "    normalized_lines = []\n",
    "    \n",
    "    for line in lines:\n",
    "        # Terapkan fungsi normalisasi ke SETIAP baris individu\n",
    "        normalized_line = normalize_single_line_abbreviations(line)\n",
    "        normalized_lines.append(normalized_line)\n",
    "        \n",
    "    # Gabungkan kembali baris-baris yang sudah dinormalisasi dengan '\\n'\n",
    "    return '\\n'.join(normalized_lines)"
   ]
  },
  {
   "cell_type": "code",
   "execution_count": null,
   "id": "68367152",
   "metadata": {},
   "outputs": [
    {
     "name": "stdout",
     "output_type": "stream",
     "text": [
      "\n",
      "--- Menerapkan normalisasi singkatan sambil mempertahankan baris baru ---\n",
      "Kolom 'Ingredients' berhasil dinormalisasi (singkatan diganti, baris baru tetap).\n",
      "Kolom 'Steps' berhasil dinormalisasi (singkatan diganti, baris baru tetap).\n",
      "\n",
      "--- 5 baris pertama kolom 'Ingredients' setelah normalisasi ---\n",
      "0    1. 1 Ekor Ayam Kampung (potong 12)\\n2. 2 Buah ...\n",
      "1    1. 1 kg ayam (dipotong sesuai selera jangan ke...\n",
      "2    1. 1/4 kg ayam\\n2. 3 buah cabai hijau besar\\n3...\n",
      "3    1. 250 gram daging ayam (saya pakai fillet)\\n2...\n",
      "4    1. 400 gram kulit ayam & lemaknya\\n2. 8 siung ...\n",
      "\n",
      "--- 5 baris pertama kolom 'Steps' setelah normalisasi ---\n",
      "0    1. Cuci bersih ayam dan tiriskan. Lalu peras j...\n",
      "1    1. Haluskan bumbu2nya (BaPut, ketumbar, kemiri...\n",
      "2    1. Panaskan minyak di dalam wajan. Setelah min...\n",
      "3    1. Goreng ayam seperti ayam krispi 2. Ulek sem...\n",
      "4    1. Cuci bersih kulit ayam. Sisihkan 2. Ambil 5...\n",
      "\n",
      "Verifikasi: Coba cari kata singkatan yang sudah dinormalisasi di output di atas.\n"
     ]
    }
   ],
   "source": [
    "# --- 5. Terapkan Fungsi Normalisasi ke Kolom 'Ingredients' dan 'Steps' ---\n",
    "print(\"\\n--- Menerapkan normalisasi singkatan sambil mempertahankan baris baru ---\")\n",
    "\n",
    "# Terapkan untuk Ingredients\n",
    "if 'Ingredients' in dfleo.columns:\n",
    "    dfleo['Ingredients'] = dfleo['Ingredients'].apply(normalize_column_preserving_newlines)\n",
    "    print(\"Kolom 'Ingredients' berhasil dinormalisasi (singkatan diganti, baris baru tetap).\")\n",
    "else:\n",
    "    print(\"Peringatan: Kolom 'Ingredients' tidak ditemukan.\")\n",
    "\n",
    "# Terapkan untuk Steps\n",
    "if 'Steps' in dfleo.columns:\n",
    "    dfleo['Steps'] = dfleo['Steps'].apply(normalize_column_preserving_newlines)\n",
    "    print(\"Kolom 'Steps' berhasil dinormalisasi (singkatan diganti, baris baru tetap).\")\n",
    "else:\n",
    "    print(\"Peringatan: Kolom 'Steps' tidak ditemukan.\")\n",
    "\n",
    "# --- 6. Tampilkan Hasil Setelah Normalisasi dan Pemformatan ---\n",
    "print(\"\\n--- 5 baris pertama kolom 'Ingredients' setelah normalisasi ---\")\n",
    "print(dfleo['Ingredients'].head().to_string())\n",
    "\n",
    "print(\"\\n--- 5 baris pertama kolom 'Steps' setelah normalisasi ---\")\n",
    "print(dfleo['Steps'].head().to_string())\n",
    "\n",
    "print(\"\\nVerifikasi: Coba cari kata singkatan yang sudah dinormalisasi di output di atas.\")\n"
   ]
  },
  {
   "cell_type": "code",
   "execution_count": 11,
   "id": "606d84a7",
   "metadata": {},
   "outputs": [],
   "source": [
    "dfleo.to_csv(\"dataset_finale.csv\", index=False)"
   ]
  },
  {
   "cell_type": "code",
   "execution_count": null,
   "id": "91eeaeef",
   "metadata": {},
   "outputs": [],
   "source": []
  }
 ],
 "metadata": {
  "kernelspec": {
   "display_name": "Python 3",
   "language": "python",
   "name": "python3"
  },
  "language_info": {
   "codemirror_mode": {
    "name": "ipython",
    "version": 3
   },
   "file_extension": ".py",
   "mimetype": "text/x-python",
   "name": "python",
   "nbconvert_exporter": "python",
   "pygments_lexer": "ipython3",
   "version": "3.10.11"
  }
 },
 "nbformat": 4,
 "nbformat_minor": 5
}
